{
 "cells": [
  {
   "cell_type": "code",
   "execution_count": 3,
   "metadata": {},
   "outputs": [
    {
     "name": "stdout",
     "output_type": "stream",
     "text": [
      "The autoreload extension is already loaded. To reload it, use:\n",
      "  %reload_ext autoreload\n"
     ]
    }
   ],
   "source": [
    "%load_ext autoreload\n",
    "%autoreload 2\n",
    "\n",
    "import numpy as np\n",
    "np.set_printoptions(precision=6, suppress=True, linewidth=280)\n",
    "\n",
    "from tqdm import trange\n",
    "import torch\n",
    "from muzero import Muzero\n",
    "from environments import TicTacToe\n",
    "from mcts import Tree\n",
    "from network import Network\n",
    "import random\n",
    "\n",
    "my_seed = 1954"
   ]
  },
  {
   "cell_type": "code",
   "execution_count": 4,
   "metadata": {},
   "outputs": [],
   "source": [
    "np.random.seed(my_seed)\n",
    "\n",
    "M = Muzero(TicTacToe) #creating the agent\n",
    "M_random = Muzero(TicTacToe) #creating the random adversary\n",
    "\n",
    "game = TicTacToe()\n",
    "\n",
    "nb_opti_steps = 500\n",
    "nb_epochs = 15\n",
    "nb_leaves_per_move = 30\n",
    "nb_episodes = 15\n",
    "nb_games = 100"
   ]
  },
  {
   "cell_type": "code",
   "execution_count": 5,
   "metadata": {},
   "outputs": [
    {
     "name": "stderr",
     "output_type": "stream",
     "text": [
      "100%|██████████| 15/15 [00:04<00:00,  3.55it/s]\n",
      "  0%|          | 0/500 [00:00<?, ?it/s]/home/alex/anaconda3/lib/python3.8/site-packages/torch/autograd/__init__.py:130: UserWarning: CUDA initialization: Found no NVIDIA driver on your system. Please check that you have an NVIDIA GPU and installed a driver from http://www.nvidia.com/Download/index.aspx (Triggered internally at  /opt/conda/conda-bld/pytorch_1603729096996/work/c10/cuda/CUDAFunctions.cpp:100.)\n",
      "  Variable._execution_engine.run_backward(\n",
      "100%|██████████| 500/500 [00:04<00:00, 102.44it/s]\n",
      "100%|██████████| 15/15 [00:03<00:00,  3.86it/s]\n",
      "100%|██████████| 500/500 [00:05<00:00, 99.57it/s] \n",
      "100%|██████████| 15/15 [00:04<00:00,  3.39it/s]\n",
      "100%|██████████| 500/500 [00:05<00:00, 92.70it/s] \n",
      "100%|██████████| 15/15 [00:04<00:00,  3.46it/s]\n",
      "100%|██████████| 500/500 [00:05<00:00, 92.60it/s]\n",
      "100%|██████████| 15/15 [00:04<00:00,  3.74it/s]\n",
      "100%|██████████| 500/500 [00:05<00:00, 92.40it/s] \n",
      "100%|██████████| 15/15 [00:04<00:00,  3.48it/s]\n",
      "100%|██████████| 500/500 [00:05<00:00, 89.94it/s]\n",
      "100%|██████████| 15/15 [00:04<00:00,  3.27it/s]\n",
      "100%|██████████| 500/500 [00:05<00:00, 90.58it/s]\n",
      "100%|██████████| 15/15 [00:04<00:00,  3.17it/s]\n",
      "100%|██████████| 500/500 [00:05<00:00, 92.28it/s]\n",
      "100%|██████████| 15/15 [00:04<00:00,  3.58it/s]\n",
      "100%|██████████| 500/500 [00:05<00:00, 92.38it/s]\n",
      "100%|██████████| 15/15 [00:04<00:00,  3.12it/s]\n",
      "100%|██████████| 500/500 [00:06<00:00, 82.34it/s]\n",
      "100%|██████████| 15/15 [00:05<00:00,  2.72it/s]\n",
      "100%|██████████| 500/500 [00:06<00:00, 81.29it/s]\n",
      "100%|██████████| 15/15 [00:05<00:00,  2.63it/s]\n",
      "100%|██████████| 500/500 [00:05<00:00, 88.75it/s]\n",
      "100%|██████████| 15/15 [00:04<00:00,  3.00it/s]\n",
      "100%|██████████| 500/500 [00:05<00:00, 87.97it/s]\n",
      "100%|██████████| 15/15 [00:04<00:00,  3.21it/s]\n",
      "100%|██████████| 500/500 [00:05<00:00, 89.51it/s]\n",
      "100%|██████████| 15/15 [00:04<00:00,  3.49it/s]\n",
      "100%|██████████| 500/500 [00:05<00:00, 91.19it/s]\n"
     ]
    }
   ],
   "source": [
    "np.random.seed(my_seed)\n",
    "\n",
    "#traininig model\n",
    "for _ in range(nb_epochs):\n",
    "    M.REPLAY_BUFFER = []\n",
    "    \n",
    "    for _ in trange(nb_episodes): #playing\n",
    "        with torch.no_grad():\n",
    "            M.REPLAY_BUFFER.append(M.mcts.full_episode(nb_leaves_per_move))\n",
    "            \n",
    "    for _ in trange(nb_opti_steps): #optimisation \n",
    "        M.optimize_step()\n",
    "    M.network.save('./models/ttt_candidate1.ptc') "
   ]
  },
  {
   "cell_type": "code",
   "execution_count": 10,
   "metadata": {},
   "outputs": [],
   "source": [
    "#Save models\n",
    "np.random.seed(my_seed)\n",
    "\n",
    "M.network.save('./models/m_201125_a.ptc')\n",
    "M_random.network.save('./models/random.ptc')"
   ]
  },
  {
   "cell_type": "code",
   "execution_count": 11,
   "metadata": {},
   "outputs": [],
   "source": [
    "np.random.seed(my_seed)\n",
    "\n",
    "def play_a_game(player1, player2):\n",
    "    \"\"\"\n",
    "    Returns the reward for player 1, since it's + if P1 wins and - if P2 wins\n",
    "    \"\"\"\n",
    "    game = TicTacToe()\n",
    "    player1.environment = game\n",
    "    player2.environment = game\n",
    "    \n",
    "    while True: #while no one wins and it's not a draw\n",
    "        \n",
    "        #print(\"PLAYER 1: \", flush=True)\n",
    "        game.play(player1.move(game.state, leaves_per_move=20)) #P1 does one move\n",
    "        if game.end: #if the game is over i.e. P1 wins or it's a draw\n",
    "            game.show\n",
    "            return game.reward #return the reward associated to the game\n",
    "        #Here the game is not yet over, it's P2's turn\n",
    "        #print(\"PLAYER 2: \", flush=True)\n",
    "        game.play(player2.move(game.state, leaves_per_move=20)) #P2 does one move\n",
    "        if game.end:\n",
    "            game.show #if the game is over i.e. P1 wins or it's a draw\n",
    "            return -game.reward #return the reward associated to the game"
   ]
  },
  {
   "cell_type": "code",
   "execution_count": 8,
   "metadata": {},
   "outputs": [
    {
     "name": "stderr",
     "output_type": "stream",
     "text": [
      "\r",
      "  0%|          | 0/100 [00:00<?, ?it/s]"
     ]
    },
    {
     "name": "stdout",
     "output_type": "stream",
     "text": [
      " ___\n",
      "|xoo|\n",
      "|xox|\n",
      "|xxo|\n",
      " ---\n"
     ]
    },
    {
     "name": "stderr",
     "output_type": "stream",
     "text": [
      "Score as white: 1:   1%|          | 1/100 [00:00<00:19,  5.02it/s]"
     ]
    },
    {
     "name": "stdout",
     "output_type": "stream",
     "text": [
      " ___\n",
      "| ox|\n",
      "|o x|\n",
      "|oxx|\n",
      " ---\n"
     ]
    },
    {
     "name": "stderr",
     "output_type": "stream",
     "text": [
      "Score as white: 2:   2%|▏         | 2/100 [00:00<00:18,  5.29it/s]"
     ]
    },
    {
     "name": "stdout",
     "output_type": "stream",
     "text": [
      " ___\n",
      "|ox |\n",
      "| x |\n",
      "|ox |\n",
      " ---\n"
     ]
    },
    {
     "name": "stderr",
     "output_type": "stream",
     "text": [
      "Score as white: 3:   3%|▎         | 3/100 [00:00<00:16,  5.87it/s]"
     ]
    },
    {
     "name": "stdout",
     "output_type": "stream",
     "text": [
      " ___\n",
      "|x o|\n",
      "|xoo|\n",
      "|oxx|\n",
      " ---\n"
     ]
    },
    {
     "name": "stderr",
     "output_type": "stream",
     "text": [
      "Score as white: 2:   4%|▍         | 4/100 [00:00<00:16,  5.72it/s]"
     ]
    },
    {
     "name": "stdout",
     "output_type": "stream",
     "text": [
      " ___\n",
      "|x o|\n",
      "|oxo|\n",
      "|xxo|\n",
      " ---\n"
     ]
    },
    {
     "name": "stderr",
     "output_type": "stream",
     "text": [
      "Score as white: 1:   5%|▌         | 5/100 [00:00<00:17,  5.49it/s]"
     ]
    },
    {
     "name": "stdout",
     "output_type": "stream",
     "text": [
      " ___\n",
      "|xxx|\n",
      "|o  |\n",
      "|oxo|\n",
      " ---\n"
     ]
    },
    {
     "name": "stderr",
     "output_type": "stream",
     "text": [
      "Score as white: 2:   6%|▌         | 6/100 [00:01<00:16,  5.59it/s]"
     ]
    },
    {
     "name": "stdout",
     "output_type": "stream",
     "text": [
      " ___\n",
      "| ox|\n",
      "|x x|\n",
      "|oox|\n",
      " ---\n"
     ]
    },
    {
     "name": "stderr",
     "output_type": "stream",
     "text": [
      "Score as white: 3:   7%|▋         | 7/100 [00:01<00:16,  5.64it/s]"
     ]
    },
    {
     "name": "stdout",
     "output_type": "stream",
     "text": [
      " ___\n",
      "|ox |\n",
      "|oo |\n",
      "|xxx|\n",
      " ---\n"
     ]
    },
    {
     "name": "stderr",
     "output_type": "stream",
     "text": [
      "Score as white: 4:   8%|▊         | 8/100 [00:01<00:15,  5.78it/s]"
     ]
    },
    {
     "name": "stdout",
     "output_type": "stream",
     "text": [
      " ___\n",
      "|xox|\n",
      "|ooo|\n",
      "|xx |\n",
      " ---\n"
     ]
    },
    {
     "name": "stderr",
     "output_type": "stream",
     "text": [
      "Score as white: 3:   9%|▉         | 9/100 [00:01<00:16,  5.50it/s]"
     ]
    },
    {
     "name": "stdout",
     "output_type": "stream",
     "text": [
      " ___\n",
      "|oxx|\n",
      "|o x|\n",
      "|oxo|\n",
      " ---\n"
     ]
    },
    {
     "name": "stderr",
     "output_type": "stream",
     "text": [
      "Score as white: 2:  10%|█         | 10/100 [00:01<00:16,  5.46it/s]"
     ]
    },
    {
     "name": "stdout",
     "output_type": "stream",
     "text": [
      " ___\n",
      "|xox|\n",
      "|xxo|\n",
      "|oxo|\n",
      " ---\n"
     ]
    },
    {
     "name": "stderr",
     "output_type": "stream",
     "text": [
      "Score as white: 2:  11%|█         | 11/100 [00:01<00:17,  5.09it/s]"
     ]
    },
    {
     "name": "stdout",
     "output_type": "stream",
     "text": [
      " ___\n",
      "|oxo|\n",
      "|oxx|\n",
      "|xxo|\n",
      " ---\n"
     ]
    },
    {
     "name": "stderr",
     "output_type": "stream",
     "text": [
      "Score as white: 3:  12%|█▏        | 12/100 [00:02<00:19,  4.55it/s]"
     ]
    },
    {
     "name": "stdout",
     "output_type": "stream",
     "text": [
      " ___\n",
      "|x  |\n",
      "| xo|\n",
      "| ox|\n",
      " ---\n"
     ]
    },
    {
     "name": "stderr",
     "output_type": "stream",
     "text": [
      "Score as white: 4:  13%|█▎        | 13/100 [00:02<00:16,  5.15it/s]"
     ]
    },
    {
     "name": "stdout",
     "output_type": "stream",
     "text": [
      " ___\n",
      "| o |\n",
      "|xox|\n",
      "|xo |\n",
      " ---\n"
     ]
    },
    {
     "name": "stderr",
     "output_type": "stream",
     "text": [
      "Score as white: 3:  14%|█▍        | 14/100 [00:02<00:15,  5.53it/s]"
     ]
    },
    {
     "name": "stdout",
     "output_type": "stream",
     "text": [
      " ___\n",
      "| xo|\n",
      "| o |\n",
      "|oxx|\n",
      " ---\n"
     ]
    },
    {
     "name": "stderr",
     "output_type": "stream",
     "text": [
      "Score as white: 2:  15%|█▌        | 15/100 [00:02<00:14,  5.70it/s]"
     ]
    },
    {
     "name": "stdout",
     "output_type": "stream",
     "text": [
      " ___\n",
      "|xx |\n",
      "|ooo|\n",
      "|xxo|\n",
      " ---\n"
     ]
    },
    {
     "name": "stderr",
     "output_type": "stream",
     "text": [
      "Score as white: 1:  16%|█▌        | 16/100 [00:02<00:16,  5.15it/s]"
     ]
    },
    {
     "name": "stdout",
     "output_type": "stream",
     "text": [
      " ___\n",
      "|xxo|\n",
      "|xox|\n",
      "|oo |\n",
      " ---\n"
     ]
    },
    {
     "name": "stderr",
     "output_type": "stream",
     "text": [
      "Score as white: 0:  17%|█▋        | 17/100 [00:03<00:16,  5.09it/s]"
     ]
    },
    {
     "name": "stdout",
     "output_type": "stream",
     "text": [
      " ___\n",
      "| x |\n",
      "|ooo|\n",
      "|x x|\n",
      " ---\n"
     ]
    },
    {
     "name": "stderr",
     "output_type": "stream",
     "text": [
      "Score as white: -1:  18%|█▊        | 18/100 [00:03<00:14,  5.52it/s]"
     ]
    },
    {
     "name": "stdout",
     "output_type": "stream",
     "text": [
      " ___\n",
      "|oxx|\n",
      "|o x|\n",
      "|oxo|\n",
      " ---\n"
     ]
    },
    {
     "name": "stderr",
     "output_type": "stream",
     "text": [
      "Score as white: -2:  19%|█▉        | 19/100 [00:03<00:15,  5.33it/s]"
     ]
    },
    {
     "name": "stdout",
     "output_type": "stream",
     "text": [
      " ___\n",
      "|oo |\n",
      "| xo|\n",
      "|xxx|\n",
      " ---\n"
     ]
    },
    {
     "name": "stderr",
     "output_type": "stream",
     "text": [
      "Score as white: -1:  20%|██        | 20/100 [00:03<00:14,  5.43it/s]"
     ]
    },
    {
     "name": "stdout",
     "output_type": "stream",
     "text": [
      " ___\n",
      "|oxo|\n",
      "|xxx|\n",
      "|xoo|\n",
      " ---\n"
     ]
    },
    {
     "name": "stderr",
     "output_type": "stream",
     "text": [
      "Score as white: 0:  21%|██        | 21/100 [00:03<00:15,  5.02it/s] "
     ]
    },
    {
     "name": "stdout",
     "output_type": "stream",
     "text": [
      " ___\n",
      "|x o|\n",
      "|xxx|\n",
      "|o o|\n",
      " ---\n"
     ]
    },
    {
     "name": "stderr",
     "output_type": "stream",
     "text": [
      "Score as white: 1:  22%|██▏       | 22/100 [00:04<00:14,  5.22it/s]"
     ]
    },
    {
     "name": "stdout",
     "output_type": "stream",
     "text": [
      " ___\n",
      "|o o|\n",
      "|   |\n",
      "|xxx|\n",
      " ---\n"
     ]
    },
    {
     "name": "stderr",
     "output_type": "stream",
     "text": [
      "Score as white: 2:  23%|██▎       | 23/100 [00:04<00:13,  5.77it/s]"
     ]
    },
    {
     "name": "stdout",
     "output_type": "stream",
     "text": [
      " ___\n",
      "|xxx|\n",
      "|oox|\n",
      "|oxo|\n",
      " ---\n"
     ]
    },
    {
     "name": "stderr",
     "output_type": "stream",
     "text": [
      "Score as white: 3:  24%|██▍       | 24/100 [00:04<00:14,  5.24it/s]"
     ]
    },
    {
     "name": "stdout",
     "output_type": "stream",
     "text": [
      " ___\n",
      "|x x|\n",
      "| xo|\n",
      "|xoo|\n",
      " ---\n"
     ]
    },
    {
     "name": "stderr",
     "output_type": "stream",
     "text": [
      "Score as white: 4:  25%|██▌       | 25/100 [00:04<00:14,  5.29it/s]"
     ]
    },
    {
     "name": "stdout",
     "output_type": "stream",
     "text": [
      " ___\n",
      "|o x|\n",
      "|ox |\n",
      "|ox |\n",
      " ---\n"
     ]
    },
    {
     "name": "stderr",
     "output_type": "stream",
     "text": [
      "Score as white: 3:  26%|██▌       | 26/100 [00:04<00:13,  5.56it/s]"
     ]
    },
    {
     "name": "stdout",
     "output_type": "stream",
     "text": [
      " ___\n",
      "|xxx|\n",
      "|oox|\n",
      "|oxo|\n",
      " ---\n"
     ]
    },
    {
     "name": "stderr",
     "output_type": "stream",
     "text": [
      "Score as white: 4:  27%|██▋       | 27/100 [00:05<00:13,  5.24it/s]"
     ]
    },
    {
     "name": "stdout",
     "output_type": "stream",
     "text": [
      " ___\n",
      "| xo|\n",
      "|xx |\n",
      "|oxo|\n",
      " ---\n"
     ]
    },
    {
     "name": "stderr",
     "output_type": "stream",
     "text": [
      "Score as white: 5:  28%|██▊       | 28/100 [00:05<00:13,  5.30it/s]"
     ]
    },
    {
     "name": "stdout",
     "output_type": "stream",
     "text": [
      " ___\n",
      "|oxo|\n",
      "|oox|\n",
      "|xxx|\n",
      " ---\n"
     ]
    },
    {
     "name": "stderr",
     "output_type": "stream",
     "text": [
      "Score as white: 6:  29%|██▉       | 29/100 [00:05<00:13,  5.14it/s]"
     ]
    },
    {
     "name": "stdout",
     "output_type": "stream",
     "text": [
      " ___\n",
      "|o  |\n",
      "|  o|\n",
      "|xxx|\n",
      " ---\n"
     ]
    },
    {
     "name": "stderr",
     "output_type": "stream",
     "text": [
      "Score as white: 7:  30%|███       | 30/100 [00:05<00:12,  5.67it/s]"
     ]
    },
    {
     "name": "stdout",
     "output_type": "stream",
     "text": [
      " ___\n",
      "| xx|\n",
      "|ooo|\n",
      "|x  |\n",
      " ---\n"
     ]
    },
    {
     "name": "stderr",
     "output_type": "stream",
     "text": [
      "Score as white: 6:  31%|███       | 31/100 [00:05<00:11,  5.77it/s]"
     ]
    },
    {
     "name": "stdout",
     "output_type": "stream",
     "text": [
      " ___\n",
      "|xxx|\n",
      "| o |\n",
      "|oxo|\n",
      " ---\n"
     ]
    },
    {
     "name": "stderr",
     "output_type": "stream",
     "text": [
      "Score as white: 7:  32%|███▏      | 32/100 [00:05<00:11,  5.75it/s]"
     ]
    },
    {
     "name": "stdout",
     "output_type": "stream",
     "text": [
      " ___\n",
      "|xox|\n",
      "|oxo|\n",
      "|oxx|\n",
      " ---\n"
     ]
    },
    {
     "name": "stderr",
     "output_type": "stream",
     "text": [
      "Score as white: 8:  33%|███▎      | 33/100 [00:06<00:12,  5.38it/s]"
     ]
    },
    {
     "name": "stdout",
     "output_type": "stream",
     "text": [
      " ___\n",
      "|xxx|\n",
      "|o o|\n",
      "| xo|\n",
      " ---\n"
     ]
    },
    {
     "name": "stderr",
     "output_type": "stream",
     "text": [
      "Score as white: 9:  34%|███▍      | 34/100 [00:06<00:12,  5.38it/s]"
     ]
    },
    {
     "name": "stdout",
     "output_type": "stream",
     "text": [
      " ___\n",
      "|xxo|\n",
      "| oo|\n",
      "|xxo|\n",
      " ---\n"
     ]
    },
    {
     "name": "stderr",
     "output_type": "stream",
     "text": [
      "Score as white: 8:  35%|███▌      | 35/100 [00:06<00:12,  5.06it/s]"
     ]
    },
    {
     "name": "stdout",
     "output_type": "stream",
     "text": [
      " ___\n",
      "|o  |\n",
      "| ox|\n",
      "|xxo|\n",
      " ---\n"
     ]
    },
    {
     "name": "stderr",
     "output_type": "stream",
     "text": [
      "Score as white: 7:  36%|███▌      | 36/100 [00:06<00:11,  5.50it/s]"
     ]
    },
    {
     "name": "stdout",
     "output_type": "stream",
     "text": [
      " ___\n",
      "|x  |\n",
      "| xx|\n",
      "|ooo|\n",
      " ---\n"
     ]
    },
    {
     "name": "stderr",
     "output_type": "stream",
     "text": [
      "Score as white: 6:  37%|███▋      | 37/100 [00:06<00:11,  5.63it/s]"
     ]
    },
    {
     "name": "stdout",
     "output_type": "stream",
     "text": [
      " ___\n",
      "|oxx|\n",
      "|xoo|\n",
      "|oxx|\n",
      " ---\n"
     ]
    },
    {
     "name": "stderr",
     "output_type": "stream",
     "text": [
      "Score as white: 6:  38%|███▊      | 38/100 [00:07<00:11,  5.30it/s]"
     ]
    },
    {
     "name": "stdout",
     "output_type": "stream",
     "text": [
      " ___\n",
      "|xxo|\n",
      "|xxo|\n",
      "|oox|\n",
      " ---\n"
     ]
    },
    {
     "name": "stderr",
     "output_type": "stream",
     "text": [
      "Score as white: 7:  39%|███▉      | 39/100 [00:07<00:12,  4.90it/s]"
     ]
    },
    {
     "name": "stdout",
     "output_type": "stream",
     "text": [
      " ___\n",
      "|oox|\n",
      "|xxo|\n",
      "|oxx|\n",
      " ---\n"
     ]
    },
    {
     "name": "stderr",
     "output_type": "stream",
     "text": [
      "Score as white: 7:  40%|████      | 40/100 [00:07<00:12,  4.80it/s]"
     ]
    },
    {
     "name": "stdout",
     "output_type": "stream",
     "text": [
      " ___\n",
      "|oox|\n",
      "|xxx|\n",
      "|oxo|\n",
      " ---\n"
     ]
    },
    {
     "name": "stderr",
     "output_type": "stream",
     "text": [
      "Score as white: 8:  41%|████      | 41/100 [00:07<00:12,  4.78it/s]"
     ]
    },
    {
     "name": "stdout",
     "output_type": "stream",
     "text": [
      " ___\n",
      "|oxo|\n",
      "|xoo|\n",
      "|xxx|\n",
      " ---\n"
     ]
    },
    {
     "name": "stderr",
     "output_type": "stream",
     "text": [
      "Score as white: 9:  42%|████▏     | 42/100 [00:07<00:12,  4.60it/s]"
     ]
    },
    {
     "name": "stdout",
     "output_type": "stream",
     "text": [
      " ___\n",
      "|oxx|\n",
      "| oo|\n",
      "|xxo|\n",
      " ---\n"
     ]
    },
    {
     "name": "stderr",
     "output_type": "stream",
     "text": [
      "Score as white: 8:  43%|████▎     | 43/100 [00:08<00:12,  4.67it/s]"
     ]
    },
    {
     "name": "stdout",
     "output_type": "stream",
     "text": [
      " ___\n",
      "|oxx|\n",
      "|xoo|\n",
      "|oxx|\n",
      " ---\n"
     ]
    },
    {
     "name": "stderr",
     "output_type": "stream",
     "text": [
      "Score as white: 8:  44%|████▍     | 44/100 [00:08<00:12,  4.42it/s]"
     ]
    },
    {
     "name": "stdout",
     "output_type": "stream",
     "text": [
      " ___\n",
      "|oxx|\n",
      "|xx |\n",
      "|ooo|\n",
      " ---\n"
     ]
    },
    {
     "name": "stderr",
     "output_type": "stream",
     "text": [
      "Score as white: 7:  45%|████▌     | 45/100 [00:08<00:12,  4.52it/s]"
     ]
    },
    {
     "name": "stdout",
     "output_type": "stream",
     "text": [
      " ___\n",
      "|xoo|\n",
      "|  o|\n",
      "|xxx|\n",
      " ---\n"
     ]
    },
    {
     "name": "stderr",
     "output_type": "stream",
     "text": [
      "Score as white: 8:  46%|████▌     | 46/100 [00:08<00:11,  4.68it/s]"
     ]
    },
    {
     "name": "stdout",
     "output_type": "stream",
     "text": [
      " ___\n",
      "| xo|\n",
      "|xo |\n",
      "|ox |\n",
      " ---\n"
     ]
    },
    {
     "name": "stderr",
     "output_type": "stream",
     "text": [
      "Score as white: 7:  47%|████▋     | 47/100 [00:08<00:10,  5.12it/s]"
     ]
    },
    {
     "name": "stdout",
     "output_type": "stream",
     "text": [
      " ___\n",
      "|xoo|\n",
      "| xo|\n",
      "|xxo|\n",
      " ---\n"
     ]
    },
    {
     "name": "stderr",
     "output_type": "stream",
     "text": [
      "Score as white: 6:  48%|████▊     | 48/100 [00:09<00:10,  5.16it/s]"
     ]
    },
    {
     "name": "stdout",
     "output_type": "stream",
     "text": [
      " ___\n",
      "|xx |\n",
      "|ooo|\n",
      "|oxx|\n",
      " ---\n"
     ]
    },
    {
     "name": "stderr",
     "output_type": "stream",
     "text": [
      "Score as white: 5:  49%|████▉     | 49/100 [00:09<00:10,  4.95it/s]"
     ]
    },
    {
     "name": "stdout",
     "output_type": "stream",
     "text": [
      " ___\n",
      "|xoo|\n",
      "| xx|\n",
      "| ox|\n",
      " ---\n"
     ]
    },
    {
     "name": "stderr",
     "output_type": "stream",
     "text": [
      "Score as white: 6:  50%|█████     | 50/100 [00:09<00:09,  5.17it/s]"
     ]
    },
    {
     "name": "stdout",
     "output_type": "stream",
     "text": [
      " ___\n",
      "|ooo|\n",
      "|x x|\n",
      "|  x|\n",
      " ---\n"
     ]
    },
    {
     "name": "stderr",
     "output_type": "stream",
     "text": [
      "Score as white: 5:  51%|█████     | 51/100 [00:09<00:08,  5.54it/s]"
     ]
    },
    {
     "name": "stdout",
     "output_type": "stream",
     "text": [
      " ___\n",
      "|xox|\n",
      "|ooo|\n",
      "|xx |\n",
      " ---\n"
     ]
    },
    {
     "name": "stderr",
     "output_type": "stream",
     "text": [
      "Score as white: 4:  52%|█████▏    | 52/100 [00:09<00:09,  5.31it/s]"
     ]
    },
    {
     "name": "stdout",
     "output_type": "stream",
     "text": [
      " ___\n",
      "|oxo|\n",
      "|oxx|\n",
      "|xxo|\n",
      " ---\n"
     ]
    },
    {
     "name": "stderr",
     "output_type": "stream",
     "text": [
      "Score as white: 5:  53%|█████▎    | 53/100 [00:10<00:09,  4.96it/s]"
     ]
    },
    {
     "name": "stdout",
     "output_type": "stream",
     "text": [
      " ___\n",
      "|x  |\n",
      "|xoo|\n",
      "|x  |\n",
      " ---\n"
     ]
    },
    {
     "name": "stderr",
     "output_type": "stream",
     "text": [
      "Score as white: 6:  54%|█████▍    | 54/100 [00:10<00:08,  5.43it/s]"
     ]
    },
    {
     "name": "stdout",
     "output_type": "stream",
     "text": [
      " ___\n",
      "|  x|\n",
      "| x |\n",
      "|xoo|\n",
      " ---\n"
     ]
    },
    {
     "name": "stderr",
     "output_type": "stream",
     "text": [
      "Score as white: 7:  55%|█████▌    | 55/100 [00:10<00:07,  5.93it/s]"
     ]
    },
    {
     "name": "stdout",
     "output_type": "stream",
     "text": [
      " ___\n",
      "|oox|\n",
      "|  o|\n",
      "|xxx|\n",
      " ---\n"
     ]
    },
    {
     "name": "stderr",
     "output_type": "stream",
     "text": [
      "Score as white: 8:  56%|█████▌    | 56/100 [00:10<00:07,  5.73it/s]"
     ]
    },
    {
     "name": "stdout",
     "output_type": "stream",
     "text": [
      " ___\n",
      "|ooo|\n",
      "|xx |\n",
      "|xox|\n",
      " ---\n"
     ]
    },
    {
     "name": "stderr",
     "output_type": "stream",
     "text": [
      "Score as white: 7:  57%|█████▋    | 57/100 [00:10<00:07,  5.45it/s]"
     ]
    },
    {
     "name": "stdout",
     "output_type": "stream",
     "text": [
      " ___\n",
      "|o o|\n",
      "|x o|\n",
      "|xxx|\n",
      " ---\n"
     ]
    },
    {
     "name": "stderr",
     "output_type": "stream",
     "text": [
      "Score as white: 8:  58%|█████▊    | 58/100 [00:10<00:07,  5.50it/s]"
     ]
    },
    {
     "name": "stdout",
     "output_type": "stream",
     "text": [
      " ___\n",
      "|xoo|\n",
      "|oxx|\n",
      "|xxo|\n",
      " ---\n"
     ]
    },
    {
     "name": "stderr",
     "output_type": "stream",
     "text": [
      "Score as white: 8:  59%|█████▉    | 59/100 [00:11<00:08,  5.09it/s]"
     ]
    },
    {
     "name": "stdout",
     "output_type": "stream",
     "text": [
      " ___\n",
      "|oxo|\n",
      "| xo|\n",
      "| xx|\n",
      " ---\n"
     ]
    },
    {
     "name": "stderr",
     "output_type": "stream",
     "text": [
      "Score as white: 9:  60%|██████    | 60/100 [00:11<00:07,  5.10it/s]"
     ]
    },
    {
     "name": "stdout",
     "output_type": "stream",
     "text": [
      " ___\n",
      "|xoo|\n",
      "|x x|\n",
      "|x o|\n",
      " ---\n"
     ]
    },
    {
     "name": "stderr",
     "output_type": "stream",
     "text": [
      "Score as white: 10:  61%|██████    | 61/100 [00:11<00:07,  5.24it/s]"
     ]
    },
    {
     "name": "stdout",
     "output_type": "stream",
     "text": [
      " ___\n",
      "|xoo|\n",
      "|xxx|\n",
      "|oxo|\n",
      " ---\n"
     ]
    },
    {
     "name": "stderr",
     "output_type": "stream",
     "text": [
      "Score as white: 11:  62%|██████▏   | 62/100 [00:11<00:08,  4.74it/s]"
     ]
    },
    {
     "name": "stdout",
     "output_type": "stream",
     "text": [
      " ___\n",
      "|x o|\n",
      "|x o|\n",
      "|x  |\n",
      " ---\n"
     ]
    },
    {
     "name": "stderr",
     "output_type": "stream",
     "text": [
      "Score as white: 12:  63%|██████▎   | 63/100 [00:11<00:06,  5.31it/s]"
     ]
    },
    {
     "name": "stdout",
     "output_type": "stream",
     "text": [
      " ___\n",
      "|xox|\n",
      "|ooo|\n",
      "|xx |\n",
      " ---\n"
     ]
    },
    {
     "name": "stderr",
     "output_type": "stream",
     "text": [
      "Score as white: 11:  64%|██████▍   | 64/100 [00:12<00:07,  5.06it/s]"
     ]
    },
    {
     "name": "stdout",
     "output_type": "stream",
     "text": [
      " ___\n",
      "|xoo|\n",
      "|xxo|\n",
      "|oxx|\n",
      " ---\n"
     ]
    },
    {
     "name": "stderr",
     "output_type": "stream",
     "text": [
      "Score as white: 12:  65%|██████▌   | 65/100 [00:12<00:07,  4.79it/s]"
     ]
    },
    {
     "name": "stdout",
     "output_type": "stream",
     "text": [
      " ___\n",
      "|xox|\n",
      "|oox|\n",
      "|xxo|\n",
      " ---\n"
     ]
    },
    {
     "name": "stderr",
     "output_type": "stream",
     "text": [
      "Score as white: 12:  66%|██████▌   | 66/100 [00:12<00:07,  4.56it/s]"
     ]
    },
    {
     "name": "stdout",
     "output_type": "stream",
     "text": [
      " ___\n",
      "|xxo|\n",
      "| x |\n",
      "|oxo|\n",
      " ---\n"
     ]
    },
    {
     "name": "stderr",
     "output_type": "stream",
     "text": [
      "Score as white: 13:  67%|██████▋   | 67/100 [00:12<00:06,  4.78it/s]"
     ]
    },
    {
     "name": "stdout",
     "output_type": "stream",
     "text": [
      " ___\n",
      "|xx |\n",
      "|ox |\n",
      "|oxo|\n",
      " ---\n"
     ]
    },
    {
     "name": "stderr",
     "output_type": "stream",
     "text": [
      "Score as white: 14:  68%|██████▊   | 68/100 [00:13<00:06,  4.99it/s]"
     ]
    },
    {
     "name": "stdout",
     "output_type": "stream",
     "text": [
      " ___\n",
      "| x |\n",
      "| xo|\n",
      "|ox |\n",
      " ---\n"
     ]
    },
    {
     "name": "stderr",
     "output_type": "stream",
     "text": [
      "Score as white: 15:  69%|██████▉   | 69/100 [00:13<00:05,  5.47it/s]"
     ]
    },
    {
     "name": "stdout",
     "output_type": "stream",
     "text": [
      " ___\n",
      "|ox |\n",
      "| oo|\n",
      "|xxx|\n",
      " ---\n"
     ]
    },
    {
     "name": "stderr",
     "output_type": "stream",
     "text": [
      "Score as white: 16:  70%|███████   | 70/100 [00:13<00:05,  5.44it/s]"
     ]
    },
    {
     "name": "stdout",
     "output_type": "stream",
     "text": [
      " ___\n",
      "|oxo|\n",
      "|xxx|\n",
      "|xoo|\n",
      " ---\n"
     ]
    },
    {
     "name": "stderr",
     "output_type": "stream",
     "text": [
      "Score as white: 17:  71%|███████   | 71/100 [00:13<00:05,  4.98it/s]"
     ]
    },
    {
     "name": "stdout",
     "output_type": "stream",
     "text": [
      " ___\n",
      "|oxo|\n",
      "|xo |\n",
      "|xxo|\n",
      " ---\n"
     ]
    },
    {
     "name": "stderr",
     "output_type": "stream",
     "text": [
      "Score as white: 16:  72%|███████▏  | 72/100 [00:13<00:05,  4.95it/s]"
     ]
    },
    {
     "name": "stdout",
     "output_type": "stream",
     "text": [
      " ___\n",
      "|o  |\n",
      "|xox|\n",
      "| xo|\n",
      " ---\n"
     ]
    },
    {
     "name": "stderr",
     "output_type": "stream",
     "text": [
      "Score as white: 15:  73%|███████▎  | 73/100 [00:13<00:05,  5.32it/s]"
     ]
    },
    {
     "name": "stdout",
     "output_type": "stream",
     "text": [
      " ___\n",
      "|ox |\n",
      "|oox|\n",
      "|xxo|\n",
      " ---\n"
     ]
    },
    {
     "name": "stderr",
     "output_type": "stream",
     "text": [
      "Score as white: 14:  74%|███████▍  | 74/100 [00:14<00:05,  5.08it/s]"
     ]
    },
    {
     "name": "stdout",
     "output_type": "stream",
     "text": [
      " ___\n",
      "|oox|\n",
      "| xo|\n",
      "|xx |\n",
      " ---\n"
     ]
    },
    {
     "name": "stderr",
     "output_type": "stream",
     "text": [
      "Score as white: 15:  75%|███████▌  | 75/100 [00:14<00:04,  5.26it/s]"
     ]
    },
    {
     "name": "stdout",
     "output_type": "stream",
     "text": [
      " ___\n",
      "| oo|\n",
      "|ox |\n",
      "|xxx|\n",
      " ---\n"
     ]
    },
    {
     "name": "stderr",
     "output_type": "stream",
     "text": [
      "Score as white: 16:  76%|███████▌  | 76/100 [00:14<00:04,  5.35it/s]"
     ]
    },
    {
     "name": "stdout",
     "output_type": "stream",
     "text": [
      " ___\n",
      "|xox|\n",
      "|oox|\n",
      "|oxx|\n",
      " ---\n"
     ]
    },
    {
     "name": "stderr",
     "output_type": "stream",
     "text": [
      "Score as white: 17:  77%|███████▋  | 77/100 [00:14<00:04,  4.90it/s]"
     ]
    },
    {
     "name": "stdout",
     "output_type": "stream",
     "text": [
      " ___\n",
      "| x |\n",
      "|ooo|\n",
      "|xx |\n",
      " ---\n"
     ]
    },
    {
     "name": "stderr",
     "output_type": "stream",
     "text": [
      "Score as white: 16:  78%|███████▊  | 78/100 [00:14<00:04,  5.33it/s]"
     ]
    },
    {
     "name": "stdout",
     "output_type": "stream",
     "text": [
      " ___\n",
      "|xxo|\n",
      "|xox|\n",
      "|xoo|\n",
      " ---\n"
     ]
    },
    {
     "name": "stderr",
     "output_type": "stream",
     "text": [
      "Score as white: 17:  79%|███████▉  | 79/100 [00:15<00:04,  5.04it/s]"
     ]
    },
    {
     "name": "stdout",
     "output_type": "stream",
     "text": [
      " ___\n",
      "|xoo|\n",
      "|x o|\n",
      "|x x|\n",
      " ---\n"
     ]
    },
    {
     "name": "stderr",
     "output_type": "stream",
     "text": [
      "Score as white: 18:  80%|████████  | 80/100 [00:15<00:03,  5.31it/s]"
     ]
    },
    {
     "name": "stdout",
     "output_type": "stream",
     "text": [
      " ___\n",
      "|xoo|\n",
      "| xo|\n",
      "| xx|\n",
      " ---\n"
     ]
    },
    {
     "name": "stderr",
     "output_type": "stream",
     "text": [
      "Score as white: 19:  81%|████████  | 81/100 [00:15<00:03,  5.43it/s]"
     ]
    },
    {
     "name": "stdout",
     "output_type": "stream",
     "text": [
      " ___\n",
      "|ooo|\n",
      "|xx |\n",
      "|xxo|\n",
      " ---\n"
     ]
    },
    {
     "name": "stderr",
     "output_type": "stream",
     "text": [
      "Score as white: 18:  82%|████████▏ | 82/100 [00:15<00:03,  5.03it/s]"
     ]
    },
    {
     "name": "stdout",
     "output_type": "stream",
     "text": [
      " ___\n",
      "|oxx|\n",
      "|ooo|\n",
      "|x x|\n",
      " ---\n"
     ]
    },
    {
     "name": "stderr",
     "output_type": "stream",
     "text": [
      "Score as white: 17:  83%|████████▎ | 83/100 [00:15<00:03,  5.12it/s]"
     ]
    },
    {
     "name": "stdout",
     "output_type": "stream",
     "text": [
      " ___\n",
      "|xxo|\n",
      "|xox|\n",
      "|xoo|\n",
      " ---\n"
     ]
    },
    {
     "name": "stderr",
     "output_type": "stream",
     "text": [
      "Score as white: 18:  84%|████████▍ | 84/100 [00:16<00:03,  4.70it/s]"
     ]
    },
    {
     "name": "stdout",
     "output_type": "stream",
     "text": [
      " ___\n",
      "|  o|\n",
      "|  o|\n",
      "|xxx|\n",
      " ---\n"
     ]
    },
    {
     "name": "stderr",
     "output_type": "stream",
     "text": [
      "Score as white: 19:  85%|████████▌ | 85/100 [00:16<00:03,  4.99it/s]"
     ]
    },
    {
     "name": "stdout",
     "output_type": "stream",
     "text": [
      " ___\n",
      "|o o|\n",
      "|xxx|\n",
      "| xo|\n",
      " ---\n"
     ]
    },
    {
     "name": "stderr",
     "output_type": "stream",
     "text": [
      "Score as white: 20:  86%|████████▌ | 86/100 [00:16<00:02,  4.84it/s]"
     ]
    },
    {
     "name": "stdout",
     "output_type": "stream",
     "text": [
      " ___\n",
      "|oox|\n",
      "|xxx|\n",
      "|o  |\n",
      " ---\n"
     ]
    },
    {
     "name": "stderr",
     "output_type": "stream",
     "text": [
      "Score as white: 21:  87%|████████▋ | 87/100 [00:16<00:02,  4.89it/s]"
     ]
    },
    {
     "name": "stdout",
     "output_type": "stream",
     "text": [
      " ___\n",
      "|xox|\n",
      "|x x|\n",
      "|ooo|\n",
      " ---\n"
     ]
    },
    {
     "name": "stderr",
     "output_type": "stream",
     "text": [
      "Score as white: 20:  88%|████████▊ | 88/100 [00:16<00:02,  4.80it/s]"
     ]
    },
    {
     "name": "stdout",
     "output_type": "stream",
     "text": [
      " ___\n",
      "|xoo|\n",
      "|oox|\n",
      "|xxx|\n",
      " ---\n"
     ]
    },
    {
     "name": "stderr",
     "output_type": "stream",
     "text": [
      "Score as white: 21:  89%|████████▉ | 89/100 [00:17<00:02,  4.44it/s]"
     ]
    },
    {
     "name": "stdout",
     "output_type": "stream",
     "text": [
      " ___\n",
      "| xo|\n",
      "|ox |\n",
      "| x |\n",
      " ---\n"
     ]
    },
    {
     "name": "stderr",
     "output_type": "stream",
     "text": [
      "Score as white: 22:  90%|█████████ | 90/100 [00:17<00:01,  5.02it/s]"
     ]
    },
    {
     "name": "stdout",
     "output_type": "stream",
     "text": [
      " ___\n",
      "|xxo|\n",
      "|oox|\n",
      "|xxo|\n",
      " ---\n"
     ]
    },
    {
     "name": "stderr",
     "output_type": "stream",
     "text": [
      "Score as white: 22:  91%|█████████ | 91/100 [00:17<00:01,  4.78it/s]"
     ]
    },
    {
     "name": "stdout",
     "output_type": "stream",
     "text": [
      " ___\n",
      "|oxx|\n",
      "| ox|\n",
      "|oxo|\n",
      " ---\n"
     ]
    },
    {
     "name": "stderr",
     "output_type": "stream",
     "text": [
      "Score as white: 21:  92%|█████████▏| 92/100 [00:17<00:01,  4.53it/s]"
     ]
    },
    {
     "name": "stdout",
     "output_type": "stream",
     "text": [
      " ___\n",
      "|xox|\n",
      "|xxo|\n",
      "|oox|\n",
      " ---\n"
     ]
    },
    {
     "name": "stderr",
     "output_type": "stream",
     "text": [
      "Score as white: 22:  93%|█████████▎| 93/100 [00:18<00:01,  4.20it/s]"
     ]
    },
    {
     "name": "stdout",
     "output_type": "stream",
     "text": [
      " ___\n",
      "|o o|\n",
      "| ox|\n",
      "|xxx|\n",
      " ---\n"
     ]
    },
    {
     "name": "stderr",
     "output_type": "stream",
     "text": [
      "Score as white: 23:  94%|█████████▍| 94/100 [00:18<00:01,  4.43it/s]"
     ]
    },
    {
     "name": "stdout",
     "output_type": "stream",
     "text": [
      " ___\n",
      "|x  |\n",
      "| x |\n",
      "|oox|\n",
      " ---\n"
     ]
    },
    {
     "name": "stderr",
     "output_type": "stream",
     "text": [
      "Score as white: 24:  95%|█████████▌| 95/100 [00:18<00:00,  5.09it/s]"
     ]
    },
    {
     "name": "stdout",
     "output_type": "stream",
     "text": [
      " ___\n",
      "|oxx|\n",
      "|xox|\n",
      "|oox|\n",
      " ---\n"
     ]
    },
    {
     "name": "stderr",
     "output_type": "stream",
     "text": [
      "Score as white: 25:  96%|█████████▌| 96/100 [00:18<00:00,  4.77it/s]"
     ]
    },
    {
     "name": "stdout",
     "output_type": "stream",
     "text": [
      " ___\n",
      "|oo |\n",
      "|   |\n",
      "|xxx|\n",
      " ---\n"
     ]
    },
    {
     "name": "stderr",
     "output_type": "stream",
     "text": [
      "Score as white: 26:  97%|█████████▋| 97/100 [00:18<00:00,  5.13it/s]"
     ]
    },
    {
     "name": "stdout",
     "output_type": "stream",
     "text": [
      " ___\n",
      "| ox|\n",
      "|  x|\n",
      "| ox|\n",
      " ---\n"
     ]
    },
    {
     "name": "stderr",
     "output_type": "stream",
     "text": [
      "Score as white: 27:  98%|█████████▊| 98/100 [00:19<00:00,  5.56it/s]"
     ]
    },
    {
     "name": "stdout",
     "output_type": "stream",
     "text": [
      " ___\n",
      "|oox|\n",
      "|oox|\n",
      "|xxx|\n",
      " ---\n"
     ]
    },
    {
     "name": "stderr",
     "output_type": "stream",
     "text": [
      "Score as white: 28:  99%|█████████▉| 99/100 [00:19<00:00,  4.92it/s]"
     ]
    },
    {
     "name": "stdout",
     "output_type": "stream",
     "text": [
      " ___\n",
      "|oxo|\n",
      "|xxo|\n",
      "|xox|\n",
      " ---\n"
     ]
    },
    {
     "name": "stderr",
     "output_type": "stream",
     "text": [
      "Score as white: 28: 100%|██████████| 100/100 [00:19<00:00,  5.11it/s]\n",
      "  0%|          | 0/100 [00:00<?, ?it/s]"
     ]
    },
    {
     "name": "stdout",
     "output_type": "stream",
     "text": [
      " ___\n",
      "|xoo|\n",
      "|oxx|\n",
      "|xxo|\n",
      " ---\n"
     ]
    },
    {
     "name": "stderr",
     "output_type": "stream",
     "text": [
      "Score as black: 0:   1%|          | 1/100 [00:00<00:24,  3.98it/s]"
     ]
    },
    {
     "name": "stdout",
     "output_type": "stream",
     "text": [
      " ___\n",
      "|oox|\n",
      "|xxx|\n",
      "|oxo|\n",
      " ---\n"
     ]
    },
    {
     "name": "stderr",
     "output_type": "stream",
     "text": [
      "Score as black: -1:   2%|▏         | 2/100 [00:00<00:25,  3.87it/s]"
     ]
    },
    {
     "name": "stdout",
     "output_type": "stream",
     "text": [
      " ___\n",
      "|xo |\n",
      "| o |\n",
      "|xox|\n",
      " ---\n"
     ]
    },
    {
     "name": "stderr",
     "output_type": "stream",
     "text": [
      "Score as black: 0:   3%|▎         | 3/100 [00:00<00:22,  4.26it/s] "
     ]
    },
    {
     "name": "stdout",
     "output_type": "stream",
     "text": [
      " ___\n",
      "|x o|\n",
      "| ox|\n",
      "|o x|\n",
      " ---\n"
     ]
    },
    {
     "name": "stderr",
     "output_type": "stream",
     "text": [
      "Score as black: 1:   4%|▍         | 4/100 [00:00<00:20,  4.65it/s]"
     ]
    },
    {
     "name": "stdout",
     "output_type": "stream",
     "text": [
      " ___\n",
      "|xx |\n",
      "|oxx|\n",
      "|ooo|\n",
      " ---\n"
     ]
    },
    {
     "name": "stderr",
     "output_type": "stream",
     "text": [
      "Score as black: 2:   5%|▌         | 5/100 [00:01<00:20,  4.59it/s]"
     ]
    },
    {
     "name": "stdout",
     "output_type": "stream",
     "text": [
      " ___\n",
      "|xox|\n",
      "|ooo|\n",
      "|xx |\n",
      " ---\n"
     ]
    },
    {
     "name": "stderr",
     "output_type": "stream",
     "text": [
      "Score as black: 3:   6%|▌         | 6/100 [00:01<00:20,  4.58it/s]"
     ]
    },
    {
     "name": "stdout",
     "output_type": "stream",
     "text": [
      " ___\n",
      "|ooo|\n",
      "|  x|\n",
      "|x x|\n",
      " ---\n"
     ]
    },
    {
     "name": "stderr",
     "output_type": "stream",
     "text": [
      "Score as black: 4:   7%|▋         | 7/100 [00:01<00:19,  4.78it/s]"
     ]
    },
    {
     "name": "stdout",
     "output_type": "stream",
     "text": [
      " ___\n",
      "|xxo|\n",
      "|oxo|\n",
      "|xox|\n",
      " ---\n"
     ]
    },
    {
     "name": "stderr",
     "output_type": "stream",
     "text": [
      "Score as black: 3:   8%|▊         | 8/100 [00:01<00:20,  4.51it/s]"
     ]
    },
    {
     "name": "stdout",
     "output_type": "stream",
     "text": [
      " ___\n",
      "| xo|\n",
      "|xo |\n",
      "|ox |\n",
      " ---\n"
     ]
    },
    {
     "name": "stderr",
     "output_type": "stream",
     "text": [
      "Score as black: 4:   9%|▉         | 9/100 [00:01<00:18,  4.90it/s]"
     ]
    },
    {
     "name": "stdout",
     "output_type": "stream",
     "text": [
      " ___\n",
      "|xo |\n",
      "|oox|\n",
      "|xox|\n",
      " ---\n"
     ]
    },
    {
     "name": "stderr",
     "output_type": "stream",
     "text": [
      "Score as black: 5:  10%|█         | 10/100 [00:02<00:18,  4.75it/s]"
     ]
    },
    {
     "name": "stdout",
     "output_type": "stream",
     "text": [
      " ___\n",
      "| xx|\n",
      "|ooo|\n",
      "|xxo|\n",
      " ---\n"
     ]
    },
    {
     "name": "stderr",
     "output_type": "stream",
     "text": [
      "Score as black: 6:  11%|█         | 11/100 [00:02<00:19,  4.58it/s]"
     ]
    },
    {
     "name": "stdout",
     "output_type": "stream",
     "text": [
      " ___\n",
      "|x o|\n",
      "|xxo|\n",
      "|xo |\n",
      " ---\n"
     ]
    },
    {
     "name": "stderr",
     "output_type": "stream",
     "text": [
      "Score as black: 5:  12%|█▏        | 12/100 [00:02<00:18,  4.75it/s]"
     ]
    },
    {
     "name": "stdout",
     "output_type": "stream",
     "text": [
      " ___\n",
      "|xox|\n",
      "|ox |\n",
      "| ox|\n",
      " ---\n"
     ]
    },
    {
     "name": "stderr",
     "output_type": "stream",
     "text": [
      "Score as black: 4:  13%|█▎        | 13/100 [00:02<00:17,  4.84it/s]"
     ]
    },
    {
     "name": "stdout",
     "output_type": "stream",
     "text": [
      " ___\n",
      "|oox|\n",
      "| xx|\n",
      "| ox|\n",
      " ---\n"
     ]
    },
    {
     "name": "stderr",
     "output_type": "stream",
     "text": [
      "Score as black: 3:  14%|█▍        | 14/100 [00:02<00:17,  4.97it/s]"
     ]
    },
    {
     "name": "stdout",
     "output_type": "stream",
     "text": [
      " ___\n",
      "|x x|\n",
      "|oxo|\n",
      "| ox|\n",
      " ---\n"
     ]
    },
    {
     "name": "stderr",
     "output_type": "stream",
     "text": [
      "Score as black: 2:  15%|█▌        | 15/100 [00:03<00:16,  5.05it/s]"
     ]
    },
    {
     "name": "stdout",
     "output_type": "stream",
     "text": [
      " ___\n",
      "|xoo|\n",
      "|oox|\n",
      "|xxx|\n",
      " ---\n"
     ]
    },
    {
     "name": "stderr",
     "output_type": "stream",
     "text": [
      "Score as black: 1:  16%|█▌        | 16/100 [00:03<00:18,  4.64it/s]"
     ]
    },
    {
     "name": "stdout",
     "output_type": "stream",
     "text": [
      " ___\n",
      "|xox|\n",
      "|oxx|\n",
      "|oox|\n",
      " ---\n"
     ]
    },
    {
     "name": "stderr",
     "output_type": "stream",
     "text": [
      "Score as black: 0:  17%|█▋        | 17/100 [00:03<00:19,  4.36it/s]"
     ]
    },
    {
     "name": "stdout",
     "output_type": "stream",
     "text": [
      " ___\n",
      "|xo |\n",
      "|x o|\n",
      "|xox|\n",
      " ---\n"
     ]
    },
    {
     "name": "stderr",
     "output_type": "stream",
     "text": [
      "Score as black: -1:  18%|█▊        | 18/100 [00:03<00:17,  4.56it/s]"
     ]
    },
    {
     "name": "stdout",
     "output_type": "stream",
     "text": [
      " ___\n",
      "|oxx|\n",
      "|oxo|\n",
      "|xox|\n",
      " ---\n"
     ]
    },
    {
     "name": "stderr",
     "output_type": "stream",
     "text": [
      "Score as black: -2:  19%|█▉        | 19/100 [00:04<00:19,  4.15it/s]"
     ]
    },
    {
     "name": "stdout",
     "output_type": "stream",
     "text": [
      " ___\n",
      "|xox|\n",
      "|xo |\n",
      "|oox|\n",
      " ---\n"
     ]
    },
    {
     "name": "stderr",
     "output_type": "stream",
     "text": [
      "Score as black: -1:  20%|██        | 20/100 [00:04<00:19,  4.06it/s]"
     ]
    },
    {
     "name": "stdout",
     "output_type": "stream",
     "text": [
      " ___\n",
      "|xo |\n",
      "|x o|\n",
      "|xxo|\n",
      " ---\n"
     ]
    },
    {
     "name": "stderr",
     "output_type": "stream",
     "text": [
      "Score as black: -2:  21%|██        | 21/100 [00:04<00:19,  4.11it/s]"
     ]
    },
    {
     "name": "stdout",
     "output_type": "stream",
     "text": [
      " ___\n",
      "|xxo|\n",
      "|xxo|\n",
      "|o o|\n",
      " ---\n"
     ]
    },
    {
     "name": "stderr",
     "output_type": "stream",
     "text": [
      "Score as black: -1:  22%|██▏       | 22/100 [00:04<00:18,  4.14it/s]"
     ]
    },
    {
     "name": "stdout",
     "output_type": "stream",
     "text": [
      " ___\n",
      "|xox|\n",
      "|xoo|\n",
      "|oxx|\n",
      " ---\n"
     ]
    },
    {
     "name": "stderr",
     "output_type": "stream",
     "text": [
      "Score as black: -1:  23%|██▎       | 23/100 [00:05<00:19,  3.93it/s]"
     ]
    },
    {
     "name": "stdout",
     "output_type": "stream",
     "text": [
      " ___\n",
      "|xo |\n",
      "|xox|\n",
      "|oox|\n",
      " ---\n"
     ]
    },
    {
     "name": "stderr",
     "output_type": "stream",
     "text": [
      "Score as black: 0:  24%|██▍       | 24/100 [00:05<00:18,  4.02it/s] "
     ]
    },
    {
     "name": "stdout",
     "output_type": "stream",
     "text": [
      " ___\n",
      "|oox|\n",
      "|xxo|\n",
      "|xxo|\n",
      " ---\n"
     ]
    },
    {
     "name": "stderr",
     "output_type": "stream",
     "text": [
      "Score as black: -1:  25%|██▌       | 25/100 [00:05<00:18,  4.03it/s]"
     ]
    },
    {
     "name": "stdout",
     "output_type": "stream",
     "text": [
      " ___\n",
      "|xxo|\n",
      "|oxx|\n",
      "|oxo|\n",
      " ---\n"
     ]
    },
    {
     "name": "stderr",
     "output_type": "stream",
     "text": [
      "Score as black: -2:  26%|██▌       | 26/100 [00:05<00:18,  4.04it/s]"
     ]
    },
    {
     "name": "stdout",
     "output_type": "stream",
     "text": [
      " ___\n",
      "|oxx|\n",
      "| ox|\n",
      "|  o|\n",
      " ---\n"
     ]
    },
    {
     "name": "stderr",
     "output_type": "stream",
     "text": [
      "Score as black: -1:  27%|██▋       | 27/100 [00:06<00:16,  4.53it/s]"
     ]
    },
    {
     "name": "stdout",
     "output_type": "stream",
     "text": [
      " ___\n",
      "|oox|\n",
      "| xx|\n",
      "|xo |\n",
      " ---\n"
     ]
    },
    {
     "name": "stderr",
     "output_type": "stream",
     "text": [
      "Score as black: -2:  28%|██▊       | 28/100 [00:06<00:15,  4.56it/s]"
     ]
    },
    {
     "name": "stdout",
     "output_type": "stream",
     "text": [
      " ___\n",
      "| xx|\n",
      "|ooo|\n",
      "|oxx|\n",
      " ---\n"
     ]
    },
    {
     "name": "stderr",
     "output_type": "stream",
     "text": [
      "Score as black: -1:  29%|██▉       | 29/100 [00:06<00:15,  4.56it/s]"
     ]
    },
    {
     "name": "stdout",
     "output_type": "stream",
     "text": [
      " ___\n",
      "|xxx|\n",
      "| xo|\n",
      "|o o|\n",
      " ---\n"
     ]
    },
    {
     "name": "stderr",
     "output_type": "stream",
     "text": [
      "Score as black: -2:  30%|███       | 30/100 [00:06<00:14,  4.78it/s]"
     ]
    },
    {
     "name": "stdout",
     "output_type": "stream",
     "text": [
      " ___\n",
      "| xo|\n",
      "|oxx|\n",
      "|ox |\n",
      " ---\n"
     ]
    },
    {
     "name": "stderr",
     "output_type": "stream",
     "text": [
      "Score as black: -3:  31%|███       | 31/100 [00:06<00:13,  5.02it/s]"
     ]
    },
    {
     "name": "stdout",
     "output_type": "stream",
     "text": [
      " ___\n",
      "| ox|\n",
      "| ox|\n",
      "|oxx|\n",
      " ---\n"
     ]
    },
    {
     "name": "stderr",
     "output_type": "stream",
     "text": [
      "Score as black: -4:  32%|███▏      | 32/100 [00:07<00:13,  4.92it/s]"
     ]
    },
    {
     "name": "stdout",
     "output_type": "stream",
     "text": [
      " ___\n",
      "|xx |\n",
      "|ooo|\n",
      "|oxx|\n",
      " ---\n"
     ]
    },
    {
     "name": "stderr",
     "output_type": "stream",
     "text": [
      "Score as black: -3:  33%|███▎      | 33/100 [00:07<00:14,  4.64it/s]"
     ]
    },
    {
     "name": "stdout",
     "output_type": "stream",
     "text": [
      " ___\n",
      "|x x|\n",
      "|xox|\n",
      "|ooo|\n",
      " ---\n"
     ]
    },
    {
     "name": "stderr",
     "output_type": "stream",
     "text": [
      "Score as black: -2:  34%|███▍      | 34/100 [00:07<00:14,  4.61it/s]"
     ]
    },
    {
     "name": "stdout",
     "output_type": "stream",
     "text": [
      " ___\n",
      "|oxx|\n",
      "|oox|\n",
      "|xox|\n",
      " ---\n"
     ]
    },
    {
     "name": "stderr",
     "output_type": "stream",
     "text": [
      "Score as black: -3:  35%|███▌      | 35/100 [00:07<00:15,  4.31it/s]"
     ]
    },
    {
     "name": "stdout",
     "output_type": "stream",
     "text": [
      " ___\n",
      "|xxx|\n",
      "|o o|\n",
      "| ox|\n",
      " ---\n"
     ]
    },
    {
     "name": "stderr",
     "output_type": "stream",
     "text": [
      "Score as black: -4:  36%|███▌      | 36/100 [00:08<00:14,  4.50it/s]"
     ]
    },
    {
     "name": "stdout",
     "output_type": "stream",
     "text": [
      " ___\n",
      "|ooo|\n",
      "| xx|\n",
      "|xox|\n",
      " ---\n"
     ]
    },
    {
     "name": "stderr",
     "output_type": "stream",
     "text": [
      "Score as black: -3:  37%|███▋      | 37/100 [00:08<00:14,  4.42it/s]"
     ]
    },
    {
     "name": "stdout",
     "output_type": "stream",
     "text": [
      " ___\n",
      "|xoo|\n",
      "|oxx|\n",
      "|xox|\n",
      " ---\n"
     ]
    },
    {
     "name": "stderr",
     "output_type": "stream",
     "text": [
      "Score as black: -4:  38%|███▊      | 38/100 [00:08<00:14,  4.21it/s]"
     ]
    },
    {
     "name": "stdout",
     "output_type": "stream",
     "text": [
      " ___\n",
      "|xox|\n",
      "|xoo|\n",
      "|x  |\n",
      " ---\n"
     ]
    },
    {
     "name": "stderr",
     "output_type": "stream",
     "text": [
      "Score as black: -5:  39%|███▉      | 39/100 [00:08<00:13,  4.37it/s]"
     ]
    },
    {
     "name": "stdout",
     "output_type": "stream",
     "text": [
      " ___\n",
      "|oxx|\n",
      "|oxo|\n",
      "|xox|\n",
      " ---\n"
     ]
    },
    {
     "name": "stderr",
     "output_type": "stream",
     "text": [
      "Score as black: -6:  40%|████      | 40/100 [00:08<00:14,  4.28it/s]"
     ]
    },
    {
     "name": "stdout",
     "output_type": "stream",
     "text": [
      " ___\n",
      "|x o|\n",
      "| o |\n",
      "|oxx|\n",
      " ---\n"
     ]
    },
    {
     "name": "stderr",
     "output_type": "stream",
     "text": [
      "Score as black: -5:  41%|████      | 41/100 [00:09<00:12,  4.70it/s]"
     ]
    },
    {
     "name": "stdout",
     "output_type": "stream",
     "text": [
      " ___\n",
      "|xxo|\n",
      "|oox|\n",
      "|xox|\n",
      " ---\n"
     ]
    },
    {
     "name": "stderr",
     "output_type": "stream",
     "text": [
      "Score as black: -5:  42%|████▏     | 42/100 [00:09<00:12,  4.56it/s]"
     ]
    },
    {
     "name": "stdout",
     "output_type": "stream",
     "text": [
      " ___\n",
      "|oxo|\n",
      "|oxx|\n",
      "|xox|\n",
      " ---\n"
     ]
    },
    {
     "name": "stderr",
     "output_type": "stream",
     "text": [
      "Score as black: -5:  43%|████▎     | 43/100 [00:09<00:12,  4.46it/s]"
     ]
    },
    {
     "name": "stdout",
     "output_type": "stream",
     "text": [
      " ___\n",
      "|  x|\n",
      "| ox|\n",
      "|o x|\n",
      " ---\n"
     ]
    },
    {
     "name": "stderr",
     "output_type": "stream",
     "text": [
      "Score as black: -6:  44%|████▍     | 44/100 [00:09<00:11,  5.04it/s]"
     ]
    },
    {
     "name": "stdout",
     "output_type": "stream",
     "text": [
      " ___\n",
      "|oxx|\n",
      "|oxx|\n",
      "|xoo|\n",
      " ---\n"
     ]
    },
    {
     "name": "stderr",
     "output_type": "stream",
     "text": [
      "Score as black: -7:  45%|████▌     | 45/100 [00:10<00:12,  4.48it/s]"
     ]
    },
    {
     "name": "stdout",
     "output_type": "stream",
     "text": [
      " ___\n",
      "|xxo|\n",
      "|xoo|\n",
      "|ox |\n",
      " ---\n"
     ]
    },
    {
     "name": "stderr",
     "output_type": "stream",
     "text": [
      "Score as black: -6:  46%|████▌     | 46/100 [00:10<00:11,  4.58it/s]"
     ]
    },
    {
     "name": "stdout",
     "output_type": "stream",
     "text": [
      " ___\n",
      "|xxo|\n",
      "|xx |\n",
      "|ooo|\n",
      " ---\n"
     ]
    },
    {
     "name": "stderr",
     "output_type": "stream",
     "text": [
      "Score as black: -5:  47%|████▋     | 47/100 [00:10<00:11,  4.47it/s]"
     ]
    },
    {
     "name": "stdout",
     "output_type": "stream",
     "text": [
      " ___\n",
      "| oo|\n",
      "|xo |\n",
      "|xxx|\n",
      " ---\n"
     ]
    },
    {
     "name": "stderr",
     "output_type": "stream",
     "text": [
      "Score as black: -6:  48%|████▊     | 48/100 [00:10<00:11,  4.57it/s]"
     ]
    },
    {
     "name": "stdout",
     "output_type": "stream",
     "text": [
      " ___\n",
      "|o  |\n",
      "|xxx|\n",
      "|  o|\n",
      " ---\n"
     ]
    },
    {
     "name": "stderr",
     "output_type": "stream",
     "text": [
      "Score as black: -7:  49%|████▉     | 49/100 [00:10<00:09,  5.14it/s]"
     ]
    },
    {
     "name": "stdout",
     "output_type": "stream",
     "text": [
      " ___\n",
      "|o  |\n",
      "|  o|\n",
      "|xxx|\n",
      " ---\n"
     ]
    },
    {
     "name": "stderr",
     "output_type": "stream",
     "text": [
      "Score as black: -8:  50%|█████     | 50/100 [00:10<00:08,  5.61it/s]"
     ]
    },
    {
     "name": "stdout",
     "output_type": "stream",
     "text": [
      " ___\n",
      "|  o|\n",
      "| ox|\n",
      "|oxx|\n",
      " ---\n"
     ]
    },
    {
     "name": "stderr",
     "output_type": "stream",
     "text": [
      "Score as black: -7:  51%|█████     | 51/100 [00:11<00:08,  5.78it/s]"
     ]
    },
    {
     "name": "stdout",
     "output_type": "stream",
     "text": [
      " ___\n",
      "|oox|\n",
      "|xxx|\n",
      "|oox|\n",
      " ---\n"
     ]
    },
    {
     "name": "stderr",
     "output_type": "stream",
     "text": [
      "Score as black: -8:  52%|█████▏    | 52/100 [00:11<00:09,  5.11it/s]"
     ]
    },
    {
     "name": "stdout",
     "output_type": "stream",
     "text": [
      " ___\n",
      "|xxx|\n",
      "|ox |\n",
      "| oo|\n",
      " ---\n"
     ]
    },
    {
     "name": "stderr",
     "output_type": "stream",
     "text": [
      "Score as black: -9:  53%|█████▎    | 53/100 [00:11<00:09,  5.17it/s]"
     ]
    },
    {
     "name": "stdout",
     "output_type": "stream",
     "text": [
      " ___\n",
      "|oxx|\n",
      "|xoo|\n",
      "|xox|\n",
      " ---\n"
     ]
    },
    {
     "name": "stderr",
     "output_type": "stream",
     "text": [
      "Score as black: -9:  54%|█████▍    | 54/100 [00:11<00:09,  4.82it/s]"
     ]
    },
    {
     "name": "stdout",
     "output_type": "stream",
     "text": [
      " ___\n",
      "| ox|\n",
      "|o x|\n",
      "|oxx|\n",
      " ---\n"
     ]
    },
    {
     "name": "stderr",
     "output_type": "stream",
     "text": [
      "Score as black: -10:  55%|█████▌    | 55/100 [00:11<00:09,  4.94it/s]"
     ]
    },
    {
     "name": "stdout",
     "output_type": "stream",
     "text": [
      " ___\n",
      "|oox|\n",
      "| o |\n",
      "|xxx|\n",
      " ---\n"
     ]
    },
    {
     "name": "stderr",
     "output_type": "stream",
     "text": [
      "Score as black: -11:  56%|█████▌    | 56/100 [00:12<00:08,  4.91it/s]"
     ]
    },
    {
     "name": "stdout",
     "output_type": "stream",
     "text": [
      " ___\n",
      "|xox|\n",
      "| xx|\n",
      "|ooo|\n",
      " ---\n"
     ]
    },
    {
     "name": "stderr",
     "output_type": "stream",
     "text": [
      "Score as black: -10:  57%|█████▋    | 57/100 [00:12<00:08,  4.84it/s]"
     ]
    },
    {
     "name": "stdout",
     "output_type": "stream",
     "text": [
      " ___\n",
      "|oxx|\n",
      "|xoo|\n",
      "|oxx|\n",
      " ---\n"
     ]
    },
    {
     "name": "stderr",
     "output_type": "stream",
     "text": [
      "Score as black: -10:  58%|█████▊    | 58/100 [00:12<00:09,  4.59it/s]"
     ]
    },
    {
     "name": "stdout",
     "output_type": "stream",
     "text": [
      " ___\n",
      "|  o|\n",
      "|xxx|\n",
      "|oox|\n",
      " ---\n"
     ]
    },
    {
     "name": "stderr",
     "output_type": "stream",
     "text": [
      "Score as black: -11:  59%|█████▉    | 59/100 [00:12<00:08,  4.69it/s]"
     ]
    },
    {
     "name": "stdout",
     "output_type": "stream",
     "text": [
      " ___\n",
      "|oox|\n",
      "|xox|\n",
      "|oxx|\n",
      " ---\n"
     ]
    },
    {
     "name": "stderr",
     "output_type": "stream",
     "text": [
      "Score as black: -12:  60%|██████    | 60/100 [00:13<00:09,  4.33it/s]"
     ]
    },
    {
     "name": "stdout",
     "output_type": "stream",
     "text": [
      " ___\n",
      "|xxo|\n",
      "|oox|\n",
      "|xox|\n",
      " ---\n"
     ]
    },
    {
     "name": "stderr",
     "output_type": "stream",
     "text": [
      "Score as black: -12:  61%|██████    | 61/100 [00:13<00:09,  4.17it/s]"
     ]
    },
    {
     "name": "stdout",
     "output_type": "stream",
     "text": [
      " ___\n",
      "|ooo|\n",
      "|x x|\n",
      "|xox|\n",
      " ---\n"
     ]
    },
    {
     "name": "stderr",
     "output_type": "stream",
     "text": [
      "Score as black: -11:  62%|██████▏   | 62/100 [00:13<00:09,  4.21it/s]"
     ]
    },
    {
     "name": "stdout",
     "output_type": "stream",
     "text": [
      " ___\n",
      "|  o|\n",
      "|x o|\n",
      "|xxo|\n",
      " ---\n"
     ]
    },
    {
     "name": "stderr",
     "output_type": "stream",
     "text": [
      "Score as black: -10:  63%|██████▎   | 63/100 [00:13<00:07,  4.63it/s]"
     ]
    },
    {
     "name": "stdout",
     "output_type": "stream",
     "text": [
      " ___\n",
      "|o x|\n",
      "| ox|\n",
      "|oxx|\n",
      " ---\n"
     ]
    },
    {
     "name": "stderr",
     "output_type": "stream",
     "text": [
      "Score as black: -11:  64%|██████▍   | 64/100 [00:13<00:07,  4.85it/s]"
     ]
    },
    {
     "name": "stdout",
     "output_type": "stream",
     "text": [
      " ___\n",
      "|oxx|\n",
      "|xoo|\n",
      "|xox|\n",
      " ---\n"
     ]
    },
    {
     "name": "stderr",
     "output_type": "stream",
     "text": [
      "Score as black: -11:  65%|██████▌   | 65/100 [00:14<00:07,  4.46it/s]"
     ]
    },
    {
     "name": "stdout",
     "output_type": "stream",
     "text": [
      " ___\n",
      "|ooo|\n",
      "|xox|\n",
      "|xx |\n",
      " ---\n"
     ]
    },
    {
     "name": "stderr",
     "output_type": "stream",
     "text": [
      "Score as black: -10:  66%|██████▌   | 66/100 [00:14<00:07,  4.62it/s]"
     ]
    },
    {
     "name": "stdout",
     "output_type": "stream",
     "text": [
      " ___\n",
      "|oxo|\n",
      "| x |\n",
      "|oxx|\n",
      " ---\n"
     ]
    },
    {
     "name": "stderr",
     "output_type": "stream",
     "text": [
      "Score as black: -11:  67%|██████▋   | 67/100 [00:14<00:06,  4.82it/s]"
     ]
    },
    {
     "name": "stdout",
     "output_type": "stream",
     "text": [
      " ___\n",
      "|xox|\n",
      "|xox|\n",
      "|oo |\n",
      " ---\n"
     ]
    },
    {
     "name": "stderr",
     "output_type": "stream",
     "text": [
      "Score as black: -10:  68%|██████▊   | 68/100 [00:14<00:06,  4.76it/s]"
     ]
    },
    {
     "name": "stdout",
     "output_type": "stream",
     "text": [
      " ___\n",
      "|xx |\n",
      "|ox |\n",
      "|oxo|\n",
      " ---\n"
     ]
    },
    {
     "name": "stderr",
     "output_type": "stream",
     "text": [
      "Score as black: -11:  69%|██████▉   | 69/100 [00:15<00:06,  4.90it/s]"
     ]
    },
    {
     "name": "stdout",
     "output_type": "stream",
     "text": [
      " ___\n",
      "|xox|\n",
      "|oxo|\n",
      "|xxo|\n",
      " ---\n"
     ]
    },
    {
     "name": "stderr",
     "output_type": "stream",
     "text": [
      "Score as black: -12:  70%|███████   | 70/100 [00:15<00:06,  4.64it/s]"
     ]
    },
    {
     "name": "stdout",
     "output_type": "stream",
     "text": [
      " ___\n",
      "|oxo|\n",
      "|xx |\n",
      "|ox |\n",
      " ---\n"
     ]
    },
    {
     "name": "stderr",
     "output_type": "stream",
     "text": [
      "Score as black: -13:  71%|███████   | 71/100 [00:15<00:05,  4.91it/s]"
     ]
    },
    {
     "name": "stdout",
     "output_type": "stream",
     "text": [
      " ___\n",
      "|xoo|\n",
      "|xx |\n",
      "|xo |\n",
      " ---\n"
     ]
    },
    {
     "name": "stderr",
     "output_type": "stream",
     "text": [
      "Score as black: -14:  72%|███████▏  | 72/100 [00:15<00:05,  5.03it/s]"
     ]
    },
    {
     "name": "stdout",
     "output_type": "stream",
     "text": [
      " ___\n",
      "|xo |\n",
      "| xo|\n",
      "|  x|\n",
      " ---\n"
     ]
    },
    {
     "name": "stderr",
     "output_type": "stream",
     "text": [
      "Score as black: -15:  73%|███████▎  | 73/100 [00:15<00:04,  5.53it/s]"
     ]
    },
    {
     "name": "stdout",
     "output_type": "stream",
     "text": [
      " ___\n",
      "|oox|\n",
      "|xoo|\n",
      "|xxx|\n",
      " ---\n"
     ]
    },
    {
     "name": "stderr",
     "output_type": "stream",
     "text": [
      "Score as black: -16:  74%|███████▍  | 74/100 [00:16<00:05,  4.77it/s]"
     ]
    },
    {
     "name": "stdout",
     "output_type": "stream",
     "text": [
      " ___\n",
      "|xxo|\n",
      "|xx |\n",
      "|ooo|\n",
      " ---\n"
     ]
    },
    {
     "name": "stderr",
     "output_type": "stream",
     "text": [
      "Score as black: -15:  75%|███████▌  | 75/100 [00:16<00:05,  4.52it/s]"
     ]
    },
    {
     "name": "stdout",
     "output_type": "stream",
     "text": [
      " ___\n",
      "|oxo|\n",
      "|xox|\n",
      "|xox|\n",
      " ---\n"
     ]
    },
    {
     "name": "stderr",
     "output_type": "stream",
     "text": [
      "Score as black: -15:  76%|███████▌  | 76/100 [00:16<00:05,  4.34it/s]"
     ]
    },
    {
     "name": "stdout",
     "output_type": "stream",
     "text": [
      " ___\n",
      "|xoo|\n",
      "|xx |\n",
      "|x o|\n",
      " ---\n"
     ]
    },
    {
     "name": "stderr",
     "output_type": "stream",
     "text": [
      "Score as black: -16:  77%|███████▋  | 77/100 [00:16<00:05,  4.55it/s]"
     ]
    },
    {
     "name": "stdout",
     "output_type": "stream",
     "text": [
      " ___\n",
      "|xoo|\n",
      "|oxo|\n",
      "|xxx|\n",
      " ---\n"
     ]
    },
    {
     "name": "stderr",
     "output_type": "stream",
     "text": [
      "Score as black: -17:  78%|███████▊  | 78/100 [00:16<00:05,  4.38it/s]"
     ]
    },
    {
     "name": "stdout",
     "output_type": "stream",
     "text": [
      " ___\n",
      "|xoo|\n",
      "| xo|\n",
      "|x x|\n",
      " ---\n"
     ]
    },
    {
     "name": "stderr",
     "output_type": "stream",
     "text": [
      "Score as black: -18:  79%|███████▉  | 79/100 [00:17<00:04,  4.68it/s]"
     ]
    },
    {
     "name": "stdout",
     "output_type": "stream",
     "text": [
      " ___\n",
      "| x |\n",
      "|ox |\n",
      "| xo|\n",
      " ---\n"
     ]
    },
    {
     "name": "stderr",
     "output_type": "stream",
     "text": [
      "Score as black: -19:  80%|████████  | 80/100 [00:17<00:03,  5.24it/s]"
     ]
    },
    {
     "name": "stdout",
     "output_type": "stream",
     "text": [
      " ___\n",
      "| x |\n",
      "|ox |\n",
      "| xo|\n",
      " ---\n"
     ]
    },
    {
     "name": "stderr",
     "output_type": "stream",
     "text": [
      "Score as black: -20:  81%|████████  | 81/100 [00:17<00:03,  5.65it/s]"
     ]
    },
    {
     "name": "stdout",
     "output_type": "stream",
     "text": [
      " ___\n",
      "|oox|\n",
      "|xxo|\n",
      "|oxx|\n",
      " ---\n"
     ]
    },
    {
     "name": "stderr",
     "output_type": "stream",
     "text": [
      "Score as black: -20:  82%|████████▏ | 82/100 [00:17<00:03,  5.22it/s]"
     ]
    },
    {
     "name": "stdout",
     "output_type": "stream",
     "text": [
      " ___\n",
      "|xoo|\n",
      "|oox|\n",
      "|xxx|\n",
      " ---\n"
     ]
    },
    {
     "name": "stderr",
     "output_type": "stream",
     "text": [
      "Score as black: -21:  83%|████████▎ | 83/100 [00:17<00:03,  4.98it/s]"
     ]
    },
    {
     "name": "stdout",
     "output_type": "stream",
     "text": [
      " ___\n",
      "|xxo|\n",
      "|oxo|\n",
      "|x o|\n",
      " ---\n"
     ]
    },
    {
     "name": "stderr",
     "output_type": "stream",
     "text": [
      "Score as black: -20:  84%|████████▍ | 84/100 [00:18<00:03,  4.95it/s]"
     ]
    },
    {
     "name": "stdout",
     "output_type": "stream",
     "text": [
      " ___\n",
      "| ox|\n",
      "| ox|\n",
      "|xo |\n",
      " ---\n"
     ]
    },
    {
     "name": "stderr",
     "output_type": "stream",
     "text": [
      "Score as black: -19:  85%|████████▌ | 85/100 [00:18<00:02,  5.35it/s]"
     ]
    },
    {
     "name": "stdout",
     "output_type": "stream",
     "text": [
      " ___\n",
      "|ooo|\n",
      "|xx |\n",
      "|xox|\n",
      " ---\n"
     ]
    },
    {
     "name": "stderr",
     "output_type": "stream",
     "text": [
      "Score as black: -18:  86%|████████▌ | 86/100 [00:18<00:02,  5.22it/s]"
     ]
    },
    {
     "name": "stdout",
     "output_type": "stream",
     "text": [
      " ___\n",
      "|oox|\n",
      "|xxo|\n",
      "|xxo|\n",
      " ---\n"
     ]
    },
    {
     "name": "stderr",
     "output_type": "stream",
     "text": [
      "Score as black: -19:  87%|████████▋ | 87/100 [00:18<00:02,  5.02it/s]"
     ]
    },
    {
     "name": "stdout",
     "output_type": "stream",
     "text": [
      " ___\n",
      "|xxo|\n",
      "|oxx|\n",
      "|oox|\n",
      " ---\n"
     ]
    },
    {
     "name": "stderr",
     "output_type": "stream",
     "text": [
      "Score as black: -20:  88%|████████▊ | 88/100 [00:18<00:02,  4.87it/s]"
     ]
    },
    {
     "name": "stdout",
     "output_type": "stream",
     "text": [
      " ___\n",
      "|oxo|\n",
      "|xxo|\n",
      "|oxx|\n",
      " ---\n"
     ]
    },
    {
     "name": "stderr",
     "output_type": "stream",
     "text": [
      "Score as black: -21:  89%|████████▉ | 89/100 [00:19<00:02,  4.66it/s]"
     ]
    },
    {
     "name": "stdout",
     "output_type": "stream",
     "text": [
      " ___\n",
      "|xox|\n",
      "| ox|\n",
      "|xoo|\n",
      " ---\n"
     ]
    },
    {
     "name": "stderr",
     "output_type": "stream",
     "text": [
      "Score as black: -20:  90%|█████████ | 90/100 [00:19<00:02,  4.67it/s]"
     ]
    },
    {
     "name": "stdout",
     "output_type": "stream",
     "text": [
      " ___\n",
      "| ox|\n",
      "|xxx|\n",
      "| oo|\n",
      " ---\n"
     ]
    },
    {
     "name": "stderr",
     "output_type": "stream",
     "text": [
      "Score as black: -21:  91%|█████████ | 91/100 [00:19<00:01,  4.89it/s]"
     ]
    },
    {
     "name": "stdout",
     "output_type": "stream",
     "text": [
      " ___\n",
      "|oxx|\n",
      "|xox|\n",
      "|oox|\n",
      " ---\n"
     ]
    },
    {
     "name": "stderr",
     "output_type": "stream",
     "text": [
      "Score as black: -22:  92%|█████████▏| 92/100 [00:19<00:01,  4.72it/s]"
     ]
    },
    {
     "name": "stdout",
     "output_type": "stream",
     "text": [
      " ___\n",
      "|xxo|\n",
      "| xx|\n",
      "|ooo|\n",
      " ---\n"
     ]
    },
    {
     "name": "stderr",
     "output_type": "stream",
     "text": [
      "Score as black: -21:  93%|█████████▎| 93/100 [00:19<00:01,  4.71it/s]"
     ]
    },
    {
     "name": "stdout",
     "output_type": "stream",
     "text": [
      " ___\n",
      "|x o|\n",
      "|x o|\n",
      "|x  |\n",
      " ---\n"
     ]
    },
    {
     "name": "stderr",
     "output_type": "stream",
     "text": [
      "Score as black: -22:  94%|█████████▍| 94/100 [00:20<00:01,  5.37it/s]"
     ]
    },
    {
     "name": "stdout",
     "output_type": "stream",
     "text": [
      " ___\n",
      "|oox|\n",
      "|xxo|\n",
      "|oxx|\n",
      " ---\n"
     ]
    },
    {
     "name": "stderr",
     "output_type": "stream",
     "text": [
      "Score as black: -22:  95%|█████████▌| 95/100 [00:20<00:01,  4.95it/s]"
     ]
    },
    {
     "name": "stdout",
     "output_type": "stream",
     "text": [
      " ___\n",
      "|xxo|\n",
      "|xoo|\n",
      "|xox|\n",
      " ---\n"
     ]
    },
    {
     "name": "stderr",
     "output_type": "stream",
     "text": [
      "Score as black: -23:  96%|█████████▌| 96/100 [00:20<00:00,  4.75it/s]"
     ]
    },
    {
     "name": "stdout",
     "output_type": "stream",
     "text": [
      " ___\n",
      "|xox|\n",
      "|xox|\n",
      "|oxo|\n",
      " ---\n"
     ]
    },
    {
     "name": "stderr",
     "output_type": "stream",
     "text": [
      "Score as black: -23:  97%|█████████▋| 97/100 [00:20<00:00,  4.70it/s]"
     ]
    },
    {
     "name": "stdout",
     "output_type": "stream",
     "text": [
      " ___\n",
      "| ox|\n",
      "| o |\n",
      "|xox|\n",
      " ---\n"
     ]
    },
    {
     "name": "stderr",
     "output_type": "stream",
     "text": [
      "Score as black: -22:  98%|█████████▊| 98/100 [00:20<00:00,  5.19it/s]"
     ]
    },
    {
     "name": "stdout",
     "output_type": "stream",
     "text": [
      " ___\n",
      "|xox|\n",
      "|xo |\n",
      "|oox|\n",
      " ---\n"
     ]
    },
    {
     "name": "stderr",
     "output_type": "stream",
     "text": [
      "Score as black: -21:  99%|█████████▉| 99/100 [00:21<00:00,  5.19it/s]"
     ]
    },
    {
     "name": "stdout",
     "output_type": "stream",
     "text": [
      " ___\n",
      "|oxx|\n",
      "|oo |\n",
      "|oxx|\n",
      " ---\n"
     ]
    },
    {
     "name": "stderr",
     "output_type": "stream",
     "text": [
      "Score as black: -20: 100%|██████████| 100/100 [00:21<00:00,  4.69it/s]"
     ]
    },
    {
     "name": "stdout",
     "output_type": "stream",
     "text": [
      "Final Scores = W: 28 / B: -20 over 100 games\n"
     ]
    },
    {
     "name": "stderr",
     "output_type": "stream",
     "text": [
      "\n"
     ]
    }
   ],
   "source": [
    "#MuZero agent vs random\n",
    "np.random.seed(my_seed)\n",
    "\n",
    "net1 = Network(TicTacToe.num_observations)\n",
    "net1.load('models/ttt_candidate1.ptc')\n",
    "\n",
    "net2 = Network(TicTacToe.num_observations)\n",
    "net2.load('models/random.ptc')\n",
    "\n",
    "with torch.no_grad():\n",
    "    player = Tree(net1, game)\n",
    "    random = Tree(net2, game)\n",
    "\n",
    "with torch.no_grad():\n",
    "    score_white_a = 0\n",
    "    for g in (t:=trange(nb_games)):\n",
    "        score_white_a += play_a_game(player, random)\n",
    "        t.set_description(f\"Score as white: {score_white_a}\")\n",
    "\n",
    "with torch.no_grad():\n",
    "    score_black_a = 0\n",
    "    for g in (t:=trange(nb_games)):\n",
    "        score_black_a -= play_a_game(random, player)\n",
    "        t.set_description(f\"Score as black: {score_black_a}\")\n",
    "\n",
    "print(f'Final Scores = W: {score_white_a} / B: {score_black_a} over {nb_games} games')"
   ]
  },
  {
   "cell_type": "code",
   "execution_count": 9,
   "metadata": {},
   "outputs": [
    {
     "name": "stderr",
     "output_type": "stream",
     "text": [
      "\r",
      "  0%|          | 0/100 [00:00<?, ?it/s]"
     ]
    },
    {
     "name": "stdout",
     "output_type": "stream",
     "text": [
      " ___\n",
      "|xoo|\n",
      "|xox|\n",
      "|xxo|\n",
      " ---\n"
     ]
    },
    {
     "name": "stderr",
     "output_type": "stream",
     "text": [
      "Score as white: 1:   1%|          | 1/100 [00:00<00:24,  3.98it/s]"
     ]
    },
    {
     "name": "stdout",
     "output_type": "stream",
     "text": [
      " ___\n",
      "| ox|\n",
      "|o x|\n",
      "|oxx|\n",
      " ---\n"
     ]
    },
    {
     "name": "stderr",
     "output_type": "stream",
     "text": [
      "Score as white: 2:   2%|▏         | 2/100 [00:00<00:22,  4.38it/s]"
     ]
    },
    {
     "name": "stdout",
     "output_type": "stream",
     "text": [
      " ___\n",
      "|o  |\n",
      "|xxx|\n",
      "|oox|\n",
      " ---\n"
     ]
    },
    {
     "name": "stderr",
     "output_type": "stream",
     "text": [
      "Score as white: 3:   3%|▎         | 3/100 [00:00<00:20,  4.73it/s]"
     ]
    },
    {
     "name": "stdout",
     "output_type": "stream",
     "text": [
      " ___\n",
      "| xx|\n",
      "|ooo|\n",
      "|xox|\n",
      " ---\n"
     ]
    },
    {
     "name": "stderr",
     "output_type": "stream",
     "text": [
      "Score as white: 2:   4%|▍         | 4/100 [00:00<00:20,  4.77it/s]"
     ]
    },
    {
     "name": "stdout",
     "output_type": "stream",
     "text": [
      " ___\n",
      "|o x|\n",
      "|xo |\n",
      "| xo|\n",
      " ---\n"
     ]
    },
    {
     "name": "stderr",
     "output_type": "stream",
     "text": [
      "Score as white: 1:   5%|▌         | 5/100 [00:00<00:18,  5.27it/s]"
     ]
    },
    {
     "name": "stdout",
     "output_type": "stream",
     "text": [
      " ___\n",
      "| xo|\n",
      "|xox|\n",
      "|oox|\n",
      " ---\n"
     ]
    },
    {
     "name": "stderr",
     "output_type": "stream",
     "text": [
      "Score as white: 0:   6%|▌         | 6/100 [00:01<00:17,  5.31it/s]"
     ]
    },
    {
     "name": "stdout",
     "output_type": "stream",
     "text": [
      " ___\n",
      "| ox|\n",
      "| xo|\n",
      "|xox|\n",
      " ---\n"
     ]
    },
    {
     "name": "stderr",
     "output_type": "stream",
     "text": [
      "Score as white: 1:   7%|▋         | 7/100 [00:01<00:17,  5.39it/s]"
     ]
    },
    {
     "name": "stdout",
     "output_type": "stream",
     "text": [
      " ___\n",
      "|xxx|\n",
      "|xoo|\n",
      "|xoo|\n",
      " ---\n"
     ]
    },
    {
     "name": "stderr",
     "output_type": "stream",
     "text": [
      "Score as white: 2:   8%|▊         | 8/100 [00:01<00:17,  5.18it/s]"
     ]
    },
    {
     "name": "stdout",
     "output_type": "stream",
     "text": [
      " ___\n",
      "|oox|\n",
      "|xoo|\n",
      "|xxx|\n",
      " ---\n"
     ]
    },
    {
     "name": "stderr",
     "output_type": "stream",
     "text": [
      "Score as white: 3:   9%|▉         | 9/100 [00:01<00:17,  5.12it/s]"
     ]
    },
    {
     "name": "stdout",
     "output_type": "stream",
     "text": [
      " ___\n",
      "|oxx|\n",
      "|xoo|\n",
      "| xo|\n",
      " ---\n"
     ]
    },
    {
     "name": "stderr",
     "output_type": "stream",
     "text": [
      "Score as white: 2:  10%|█         | 10/100 [00:01<00:17,  5.13it/s]"
     ]
    },
    {
     "name": "stdout",
     "output_type": "stream",
     "text": [
      " ___\n",
      "|xox|\n",
      "|xxo|\n",
      "|oxo|\n",
      " ---\n"
     ]
    },
    {
     "name": "stderr",
     "output_type": "stream",
     "text": [
      "Score as white: 2:  11%|█         | 11/100 [00:02<00:17,  4.98it/s]"
     ]
    },
    {
     "name": "stdout",
     "output_type": "stream",
     "text": [
      " ___\n",
      "|oxx|\n",
      "| xo|\n",
      "|x o|\n",
      " ---\n"
     ]
    },
    {
     "name": "stderr",
     "output_type": "stream",
     "text": [
      "Score as white: 3:  12%|█▏        | 12/100 [00:02<00:17,  5.12it/s]"
     ]
    },
    {
     "name": "stdout",
     "output_type": "stream",
     "text": [
      " ___\n",
      "|x  |\n",
      "|xo |\n",
      "|x o|\n",
      " ---\n"
     ]
    },
    {
     "name": "stderr",
     "output_type": "stream",
     "text": [
      "Score as white: 4:  13%|█▎        | 13/100 [00:02<00:15,  5.78it/s]"
     ]
    },
    {
     "name": "stdout",
     "output_type": "stream",
     "text": [
      " ___\n",
      "|xox|\n",
      "|xoo|\n",
      "|xxo|\n",
      " ---\n"
     ]
    },
    {
     "name": "stderr",
     "output_type": "stream",
     "text": [
      "Score as white: 5:  14%|█▍        | 14/100 [00:02<00:15,  5.49it/s]"
     ]
    },
    {
     "name": "stdout",
     "output_type": "stream",
     "text": [
      " ___\n",
      "|xxo|\n",
      "|oox|\n",
      "|xox|\n",
      " ---\n"
     ]
    },
    {
     "name": "stderr",
     "output_type": "stream",
     "text": [
      "Score as white: 5:  15%|█▌        | 15/100 [00:02<00:16,  5.27it/s]"
     ]
    },
    {
     "name": "stdout",
     "output_type": "stream",
     "text": [
      " ___\n",
      "| xo|\n",
      "| xo|\n",
      "|oxx|\n",
      " ---\n"
     ]
    },
    {
     "name": "stderr",
     "output_type": "stream",
     "text": [
      "Score as white: 6:  16%|█▌        | 16/100 [00:03<00:15,  5.50it/s]"
     ]
    },
    {
     "name": "stdout",
     "output_type": "stream",
     "text": [
      " ___\n",
      "|oxo|\n",
      "|oxx|\n",
      "|xxo|\n",
      " ---\n"
     ]
    },
    {
     "name": "stderr",
     "output_type": "stream",
     "text": [
      "Score as white: 7:  17%|█▋        | 17/100 [00:03<00:15,  5.21it/s]"
     ]
    },
    {
     "name": "stdout",
     "output_type": "stream",
     "text": [
      " ___\n",
      "|oo |\n",
      "|oxx|\n",
      "|oxx|\n",
      " ---\n"
     ]
    },
    {
     "name": "stderr",
     "output_type": "stream",
     "text": [
      "Score as white: 6:  18%|█▊        | 18/100 [00:03<00:15,  5.20it/s]"
     ]
    },
    {
     "name": "stdout",
     "output_type": "stream",
     "text": [
      " ___\n",
      "|oxx|\n",
      "|oox|\n",
      "|xox|\n",
      " ---\n"
     ]
    },
    {
     "name": "stderr",
     "output_type": "stream",
     "text": [
      "Score as white: 7:  19%|█▉        | 19/100 [00:03<00:15,  5.09it/s]"
     ]
    },
    {
     "name": "stdout",
     "output_type": "stream",
     "text": [
      " ___\n",
      "|ox |\n",
      "|xxo|\n",
      "|ox |\n",
      " ---\n"
     ]
    },
    {
     "name": "stderr",
     "output_type": "stream",
     "text": [
      "Score as white: 8:  20%|██        | 20/100 [00:03<00:14,  5.49it/s]"
     ]
    },
    {
     "name": "stdout",
     "output_type": "stream",
     "text": [
      " ___\n",
      "|xox|\n",
      "|xoo|\n",
      "|x  |\n",
      " ---\n"
     ]
    },
    {
     "name": "stderr",
     "output_type": "stream",
     "text": [
      "Score as white: 9:  21%|██        | 21/100 [00:03<00:13,  5.84it/s]"
     ]
    },
    {
     "name": "stdout",
     "output_type": "stream",
     "text": [
      " ___\n",
      "|o x|\n",
      "|o x|\n",
      "|ox |\n",
      " ---\n"
     ]
    },
    {
     "name": "stderr",
     "output_type": "stream",
     "text": [
      "Score as white: 8:  22%|██▏       | 22/100 [00:04<00:12,  6.10it/s]"
     ]
    },
    {
     "name": "stdout",
     "output_type": "stream",
     "text": [
      " ___\n",
      "|xxo|\n",
      "|oxx|\n",
      "|xoo|\n",
      " ---\n"
     ]
    },
    {
     "name": "stderr",
     "output_type": "stream",
     "text": [
      "Score as white: 8:  23%|██▎       | 23/100 [00:04<00:13,  5.55it/s]"
     ]
    },
    {
     "name": "stdout",
     "output_type": "stream",
     "text": [
      " ___\n",
      "| xx|\n",
      "|ooo|\n",
      "|oxx|\n",
      " ---\n"
     ]
    },
    {
     "name": "stderr",
     "output_type": "stream",
     "text": [
      "Score as white: 7:  24%|██▍       | 24/100 [00:04<00:13,  5.48it/s]"
     ]
    },
    {
     "name": "stdout",
     "output_type": "stream",
     "text": [
      " ___\n",
      "|xxx|\n",
      "| ox|\n",
      "| oo|\n",
      " ---\n"
     ]
    },
    {
     "name": "stderr",
     "output_type": "stream",
     "text": [
      "Score as white: 8:  25%|██▌       | 25/100 [00:04<00:13,  5.64it/s]"
     ]
    },
    {
     "name": "stdout",
     "output_type": "stream",
     "text": [
      " ___\n",
      "|oxx|\n",
      "|oox|\n",
      "|  x|\n",
      " ---\n"
     ]
    },
    {
     "name": "stderr",
     "output_type": "stream",
     "text": [
      "Score as white: 9:  26%|██▌       | 26/100 [00:04<00:12,  5.82it/s]"
     ]
    },
    {
     "name": "stdout",
     "output_type": "stream",
     "text": [
      " ___\n",
      "|xo |\n",
      "|oo |\n",
      "|xxx|\n",
      " ---\n"
     ]
    },
    {
     "name": "stderr",
     "output_type": "stream",
     "text": [
      "Score as white: 10:  27%|██▋       | 27/100 [00:04<00:12,  5.93it/s]"
     ]
    },
    {
     "name": "stdout",
     "output_type": "stream",
     "text": [
      " ___\n",
      "| xx|\n",
      "|ooo|\n",
      "|xxo|\n",
      " ---\n"
     ]
    },
    {
     "name": "stderr",
     "output_type": "stream",
     "text": [
      "Score as white: 9:  28%|██▊       | 28/100 [00:05<00:12,  5.80it/s] "
     ]
    },
    {
     "name": "stdout",
     "output_type": "stream",
     "text": [
      " ___\n",
      "|xxx|\n",
      "|oox|\n",
      "|oxo|\n",
      " ---\n"
     ]
    },
    {
     "name": "stderr",
     "output_type": "stream",
     "text": [
      "Score as white: 10:  29%|██▉       | 29/100 [00:05<00:12,  5.49it/s]"
     ]
    },
    {
     "name": "stdout",
     "output_type": "stream",
     "text": [
      " ___\n",
      "|xxx|\n",
      "|xoo|\n",
      "|  o|\n",
      " ---\n"
     ]
    },
    {
     "name": "stderr",
     "output_type": "stream",
     "text": [
      "Score as white: 11:  30%|███       | 30/100 [00:05<00:12,  5.67it/s]"
     ]
    },
    {
     "name": "stdout",
     "output_type": "stream",
     "text": [
      " ___\n",
      "|oxx|\n",
      "|xoo|\n",
      "|xox|\n",
      " ---\n"
     ]
    },
    {
     "name": "stderr",
     "output_type": "stream",
     "text": [
      "Score as white: 11:  31%|███       | 31/100 [00:05<00:13,  5.27it/s]"
     ]
    },
    {
     "name": "stdout",
     "output_type": "stream",
     "text": [
      " ___\n",
      "| ox|\n",
      "| xx|\n",
      "|xoo|\n",
      " ---\n"
     ]
    },
    {
     "name": "stderr",
     "output_type": "stream",
     "text": [
      "Score as white: 12:  32%|███▏      | 32/100 [00:05<00:12,  5.41it/s]"
     ]
    },
    {
     "name": "stdout",
     "output_type": "stream",
     "text": [
      " ___\n",
      "|oo |\n",
      "| ox|\n",
      "|xxx|\n",
      " ---\n"
     ]
    },
    {
     "name": "stderr",
     "output_type": "stream",
     "text": [
      "Score as white: 13:  33%|███▎      | 33/100 [00:06<00:11,  5.70it/s]"
     ]
    },
    {
     "name": "stdout",
     "output_type": "stream",
     "text": [
      " ___\n",
      "|xxo|\n",
      "|oox|\n",
      "|xox|\n",
      " ---\n"
     ]
    },
    {
     "name": "stderr",
     "output_type": "stream",
     "text": [
      "Score as white: 13:  34%|███▍      | 34/100 [00:06<00:12,  5.44it/s]"
     ]
    },
    {
     "name": "stdout",
     "output_type": "stream",
     "text": [
      " ___\n",
      "| ox|\n",
      "|xoo|\n",
      "|xox|\n",
      " ---\n"
     ]
    },
    {
     "name": "stderr",
     "output_type": "stream",
     "text": [
      "Score as white: 12:  35%|███▌      | 35/100 [00:06<00:12,  5.22it/s]"
     ]
    },
    {
     "name": "stdout",
     "output_type": "stream",
     "text": [
      " ___\n",
      "|ooo|\n",
      "| xx|\n",
      "|oxx|\n",
      " ---\n"
     ]
    },
    {
     "name": "stderr",
     "output_type": "stream",
     "text": [
      "Score as white: 11:  36%|███▌      | 36/100 [00:06<00:12,  5.07it/s]"
     ]
    },
    {
     "name": "stdout",
     "output_type": "stream",
     "text": [
      " ___\n",
      "|oxx|\n",
      "| xx|\n",
      "|ooo|\n",
      " ---\n"
     ]
    },
    {
     "name": "stderr",
     "output_type": "stream",
     "text": [
      "Score as white: 10:  37%|███▋      | 37/100 [00:06<00:13,  4.56it/s]"
     ]
    },
    {
     "name": "stdout",
     "output_type": "stream",
     "text": [
      " ___\n",
      "|oxx|\n",
      "|xoo|\n",
      "|x o|\n",
      " ---\n"
     ]
    },
    {
     "name": "stderr",
     "output_type": "stream",
     "text": [
      "Score as white: 9:  38%|███▊      | 38/100 [00:07<00:13,  4.72it/s] "
     ]
    },
    {
     "name": "stdout",
     "output_type": "stream",
     "text": [
      " ___\n",
      "|oox|\n",
      "|xxo|\n",
      "|oxx|\n",
      " ---\n"
     ]
    },
    {
     "name": "stderr",
     "output_type": "stream",
     "text": [
      "Score as white: 9:  39%|███▉      | 39/100 [00:07<00:13,  4.46it/s]"
     ]
    },
    {
     "name": "stdout",
     "output_type": "stream",
     "text": [
      " ___\n",
      "|xoo|\n",
      "|xxx|\n",
      "|oxo|\n",
      " ---\n"
     ]
    },
    {
     "name": "stderr",
     "output_type": "stream",
     "text": [
      "Score as white: 10:  40%|████      | 40/100 [00:07<00:12,  4.63it/s]"
     ]
    },
    {
     "name": "stdout",
     "output_type": "stream",
     "text": [
      " ___\n",
      "|oxo|\n",
      "|oox|\n",
      "|xxx|\n",
      " ---\n"
     ]
    },
    {
     "name": "stderr",
     "output_type": "stream",
     "text": [
      "Score as white: 11:  41%|████      | 41/100 [00:07<00:12,  4.68it/s]"
     ]
    },
    {
     "name": "stdout",
     "output_type": "stream",
     "text": [
      " ___\n",
      "|xxo|\n",
      "|xoo|\n",
      "|x  |\n",
      " ---\n"
     ]
    },
    {
     "name": "stderr",
     "output_type": "stream",
     "text": [
      "Score as white: 12:  42%|████▏     | 42/100 [00:07<00:11,  5.01it/s]"
     ]
    },
    {
     "name": "stdout",
     "output_type": "stream",
     "text": [
      " ___\n",
      "|xox|\n",
      "|oxx|\n",
      "|xoo|\n",
      " ---\n"
     ]
    },
    {
     "name": "stderr",
     "output_type": "stream",
     "text": [
      "Score as white: 13:  43%|████▎     | 43/100 [00:08<00:11,  4.92it/s]"
     ]
    },
    {
     "name": "stdout",
     "output_type": "stream",
     "text": [
      " ___\n",
      "|oxx|\n",
      "|xxo|\n",
      "|xoo|\n",
      " ---\n"
     ]
    },
    {
     "name": "stderr",
     "output_type": "stream",
     "text": [
      "Score as white: 14:  44%|████▍     | 44/100 [00:08<00:11,  4.86it/s]"
     ]
    },
    {
     "name": "stdout",
     "output_type": "stream",
     "text": [
      " ___\n",
      "|xox|\n",
      "|oox|\n",
      "|xxo|\n",
      " ---\n"
     ]
    },
    {
     "name": "stderr",
     "output_type": "stream",
     "text": [
      "Score as white: 14:  45%|████▌     | 45/100 [00:08<00:11,  4.66it/s]"
     ]
    },
    {
     "name": "stdout",
     "output_type": "stream",
     "text": [
      " ___\n",
      "| o |\n",
      "|o  |\n",
      "|xxx|\n",
      " ---\n"
     ]
    },
    {
     "name": "stderr",
     "output_type": "stream",
     "text": [
      "Score as white: 15:  46%|████▌     | 46/100 [00:08<00:10,  5.13it/s]"
     ]
    },
    {
     "name": "stdout",
     "output_type": "stream",
     "text": [
      " ___\n",
      "| xx|\n",
      "|ooo|\n",
      "|oxx|\n",
      " ---\n"
     ]
    },
    {
     "name": "stderr",
     "output_type": "stream",
     "text": [
      "Score as white: 14:  47%|████▋     | 47/100 [00:09<00:16,  3.26it/s]"
     ]
    },
    {
     "name": "stdout",
     "output_type": "stream",
     "text": [
      " ___\n",
      "|xoo|\n",
      "|xxx|\n",
      "|oxo|\n",
      " ---\n"
     ]
    },
    {
     "name": "stderr",
     "output_type": "stream",
     "text": [
      "Score as white: 15:  48%|████▊     | 48/100 [00:09<00:15,  3.28it/s]"
     ]
    },
    {
     "name": "stdout",
     "output_type": "stream",
     "text": [
      " ___\n",
      "|xox|\n",
      "| xo|\n",
      "|xo |\n",
      " ---\n"
     ]
    },
    {
     "name": "stderr",
     "output_type": "stream",
     "text": [
      "Score as white: 16:  49%|████▉     | 49/100 [00:09<00:14,  3.50it/s]"
     ]
    },
    {
     "name": "stdout",
     "output_type": "stream",
     "text": [
      " ___\n",
      "|xxx|\n",
      "|oox|\n",
      "|oxo|\n",
      " ---\n"
     ]
    },
    {
     "name": "stderr",
     "output_type": "stream",
     "text": [
      "Score as white: 17:  50%|█████     | 50/100 [00:10<00:14,  3.53it/s]"
     ]
    },
    {
     "name": "stdout",
     "output_type": "stream",
     "text": [
      " ___\n",
      "|xxo|\n",
      "|oox|\n",
      "|xox|\n",
      " ---\n"
     ]
    },
    {
     "name": "stderr",
     "output_type": "stream",
     "text": [
      "Score as white: 17:  51%|█████     | 51/100 [00:10<00:13,  3.58it/s]"
     ]
    },
    {
     "name": "stdout",
     "output_type": "stream",
     "text": [
      " ___\n",
      "|oox|\n",
      "|xox|\n",
      "|oxx|\n",
      " ---\n"
     ]
    },
    {
     "name": "stderr",
     "output_type": "stream",
     "text": [
      "Score as white: 18:  52%|█████▏    | 52/100 [00:10<00:12,  3.72it/s]"
     ]
    },
    {
     "name": "stdout",
     "output_type": "stream",
     "text": [
      " ___\n",
      "|oxx|\n",
      "| ox|\n",
      "|xoo|\n",
      " ---\n"
     ]
    },
    {
     "name": "stderr",
     "output_type": "stream",
     "text": [
      "Score as white: 17:  53%|█████▎    | 53/100 [00:10<00:12,  3.75it/s]"
     ]
    },
    {
     "name": "stdout",
     "output_type": "stream",
     "text": [
      " ___\n",
      "|ox |\n",
      "| xx|\n",
      "|oxo|\n",
      " ---\n"
     ]
    },
    {
     "name": "stderr",
     "output_type": "stream",
     "text": [
      "Score as white: 18:  54%|█████▍    | 54/100 [00:11<00:10,  4.23it/s]"
     ]
    },
    {
     "name": "stdout",
     "output_type": "stream",
     "text": [
      " ___\n",
      "|x o|\n",
      "|x o|\n",
      "|xox|\n",
      " ---\n"
     ]
    },
    {
     "name": "stderr",
     "output_type": "stream",
     "text": [
      "Score as white: 19:  55%|█████▌    | 55/100 [00:11<00:09,  4.58it/s]"
     ]
    },
    {
     "name": "stdout",
     "output_type": "stream",
     "text": [
      " ___\n",
      "|xxo|\n",
      "|oxx|\n",
      "|oxo|\n",
      " ---\n"
     ]
    },
    {
     "name": "stderr",
     "output_type": "stream",
     "text": [
      "Score as white: 20:  56%|█████▌    | 56/100 [00:11<00:09,  4.61it/s]"
     ]
    },
    {
     "name": "stdout",
     "output_type": "stream",
     "text": [
      " ___\n",
      "|xoo|\n",
      "| xo|\n",
      "|xxo|\n",
      " ---\n"
     ]
    },
    {
     "name": "stderr",
     "output_type": "stream",
     "text": [
      "Score as white: 19:  57%|█████▋    | 57/100 [00:11<00:08,  4.78it/s]"
     ]
    },
    {
     "name": "stdout",
     "output_type": "stream",
     "text": [
      " ___\n",
      "|xox|\n",
      "|oxx|\n",
      "|xoo|\n",
      " ---\n"
     ]
    },
    {
     "name": "stderr",
     "output_type": "stream",
     "text": [
      "Score as white: 20:  58%|█████▊    | 58/100 [00:11<00:09,  4.67it/s]"
     ]
    },
    {
     "name": "stdout",
     "output_type": "stream",
     "text": [
      " ___\n",
      "|oxx|\n",
      "| ox|\n",
      "|xoo|\n",
      " ---\n"
     ]
    },
    {
     "name": "stderr",
     "output_type": "stream",
     "text": [
      "Score as white: 19:  59%|█████▉    | 59/100 [00:12<00:08,  4.75it/s]"
     ]
    },
    {
     "name": "stdout",
     "output_type": "stream",
     "text": [
      " ___\n",
      "|oxx|\n",
      "|xoo|\n",
      "|xox|\n",
      " ---\n"
     ]
    },
    {
     "name": "stderr",
     "output_type": "stream",
     "text": [
      "Score as white: 19:  60%|██████    | 60/100 [00:12<00:08,  4.75it/s]"
     ]
    },
    {
     "name": "stdout",
     "output_type": "stream",
     "text": [
      " ___\n",
      "|xox|\n",
      "|oox|\n",
      "|xo |\n",
      " ---\n"
     ]
    },
    {
     "name": "stderr",
     "output_type": "stream",
     "text": [
      "Score as white: 18:  61%|██████    | 61/100 [00:12<00:08,  4.81it/s]"
     ]
    },
    {
     "name": "stdout",
     "output_type": "stream",
     "text": [
      " ___\n",
      "|xox|\n",
      "|oxo|\n",
      "|oxx|\n",
      " ---\n"
     ]
    },
    {
     "name": "stderr",
     "output_type": "stream",
     "text": [
      "Score as white: 19:  62%|██████▏   | 62/100 [00:12<00:08,  4.72it/s]"
     ]
    },
    {
     "name": "stdout",
     "output_type": "stream",
     "text": [
      " ___\n",
      "| xo|\n",
      "| o |\n",
      "|oxx|\n",
      " ---\n"
     ]
    },
    {
     "name": "stderr",
     "output_type": "stream",
     "text": [
      "Score as white: 18:  63%|██████▎   | 63/100 [00:12<00:07,  5.15it/s]"
     ]
    },
    {
     "name": "stdout",
     "output_type": "stream",
     "text": [
      " ___\n",
      "|xoo|\n",
      "|oxx|\n",
      "|xxo|\n",
      " ---\n"
     ]
    },
    {
     "name": "stderr",
     "output_type": "stream",
     "text": [
      "Score as white: 18:  64%|██████▍   | 64/100 [00:13<00:07,  4.95it/s]"
     ]
    },
    {
     "name": "stdout",
     "output_type": "stream",
     "text": [
      " ___\n",
      "| ox|\n",
      "| ox|\n",
      "|  x|\n",
      " ---\n"
     ]
    },
    {
     "name": "stderr",
     "output_type": "stream",
     "text": [
      "Score as white: 19:  65%|██████▌   | 65/100 [00:13<00:06,  5.50it/s]"
     ]
    },
    {
     "name": "stdout",
     "output_type": "stream",
     "text": [
      " ___\n",
      "|xxo|\n",
      "|oxo|\n",
      "|xox|\n",
      " ---\n"
     ]
    },
    {
     "name": "stderr",
     "output_type": "stream",
     "text": [
      "Score as white: 20:  66%|██████▌   | 66/100 [00:13<00:06,  5.13it/s]"
     ]
    },
    {
     "name": "stdout",
     "output_type": "stream",
     "text": [
      " ___\n",
      "|o  |\n",
      "|oox|\n",
      "|xxx|\n",
      " ---\n"
     ]
    },
    {
     "name": "stderr",
     "output_type": "stream",
     "text": [
      "Score as white: 21:  67%|██████▋   | 67/100 [00:13<00:06,  5.28it/s]"
     ]
    },
    {
     "name": "stdout",
     "output_type": "stream",
     "text": [
      " ___\n",
      "|xox|\n",
      "|oo |\n",
      "|xox|\n",
      " ---\n"
     ]
    },
    {
     "name": "stderr",
     "output_type": "stream",
     "text": [
      "Score as white: 20:  68%|██████▊   | 68/100 [00:13<00:06,  5.09it/s]"
     ]
    },
    {
     "name": "stdout",
     "output_type": "stream",
     "text": [
      " ___\n",
      "|xxx|\n",
      "|xoo|\n",
      "|oox|\n",
      " ---\n"
     ]
    },
    {
     "name": "stderr",
     "output_type": "stream",
     "text": [
      "Score as white: 21:  69%|██████▉   | 69/100 [00:14<00:06,  4.96it/s]"
     ]
    },
    {
     "name": "stdout",
     "output_type": "stream",
     "text": [
      " ___\n",
      "|oxx|\n",
      "|xo |\n",
      "|oxo|\n",
      " ---\n"
     ]
    },
    {
     "name": "stderr",
     "output_type": "stream",
     "text": [
      "Score as white: 20:  70%|███████   | 70/100 [00:14<00:06,  4.85it/s]"
     ]
    },
    {
     "name": "stdout",
     "output_type": "stream",
     "text": [
      " ___\n",
      "|oxx|\n",
      "|xoo|\n",
      "|xox|\n",
      " ---\n"
     ]
    },
    {
     "name": "stderr",
     "output_type": "stream",
     "text": [
      "Score as white: 20:  71%|███████   | 71/100 [00:14<00:06,  4.61it/s]"
     ]
    },
    {
     "name": "stdout",
     "output_type": "stream",
     "text": [
      " ___\n",
      "|oox|\n",
      "| xo|\n",
      "|x x|\n",
      " ---\n"
     ]
    },
    {
     "name": "stderr",
     "output_type": "stream",
     "text": [
      "Score as white: 21:  72%|███████▏  | 72/100 [00:14<00:05,  4.89it/s]"
     ]
    },
    {
     "name": "stdout",
     "output_type": "stream",
     "text": [
      " ___\n",
      "| oo|\n",
      "|ox |\n",
      "|xxx|\n",
      " ---\n"
     ]
    },
    {
     "name": "stderr",
     "output_type": "stream",
     "text": [
      "Score as white: 22:  73%|███████▎  | 73/100 [00:14<00:05,  5.05it/s]"
     ]
    },
    {
     "name": "stdout",
     "output_type": "stream",
     "text": [
      " ___\n",
      "|oxx|\n",
      "|oox|\n",
      "|xox|\n",
      " ---\n"
     ]
    },
    {
     "name": "stderr",
     "output_type": "stream",
     "text": [
      "Score as white: 23:  74%|███████▍  | 74/100 [00:15<00:05,  4.86it/s]"
     ]
    },
    {
     "name": "stdout",
     "output_type": "stream",
     "text": [
      " ___\n",
      "|oxx|\n",
      "|xoo|\n",
      "|xox|\n",
      " ---\n"
     ]
    },
    {
     "name": "stderr",
     "output_type": "stream",
     "text": [
      "Score as white: 23:  75%|███████▌  | 75/100 [00:15<00:05,  4.64it/s]"
     ]
    },
    {
     "name": "stdout",
     "output_type": "stream",
     "text": [
      " ___\n",
      "|xxo|\n",
      "|oxx|\n",
      "|oxo|\n",
      " ---\n"
     ]
    },
    {
     "name": "stderr",
     "output_type": "stream",
     "text": [
      "Score as white: 24:  76%|███████▌  | 76/100 [00:15<00:05,  4.55it/s]"
     ]
    },
    {
     "name": "stdout",
     "output_type": "stream",
     "text": [
      " ___\n",
      "|xox|\n",
      "|oox|\n",
      "|xxo|\n",
      " ---\n"
     ]
    },
    {
     "name": "stderr",
     "output_type": "stream",
     "text": [
      "Score as white: 24:  77%|███████▋  | 77/100 [00:15<00:05,  4.45it/s]"
     ]
    },
    {
     "name": "stdout",
     "output_type": "stream",
     "text": [
      " ___\n",
      "|oxx|\n",
      "| xo|\n",
      "| xo|\n",
      " ---\n"
     ]
    },
    {
     "name": "stderr",
     "output_type": "stream",
     "text": [
      "Score as white: 25:  78%|███████▊  | 78/100 [00:16<00:04,  4.76it/s]"
     ]
    },
    {
     "name": "stdout",
     "output_type": "stream",
     "text": [
      " ___\n",
      "|xox|\n",
      "|ox |\n",
      "| ox|\n",
      " ---\n"
     ]
    },
    {
     "name": "stderr",
     "output_type": "stream",
     "text": [
      "Score as white: 26:  79%|███████▉  | 79/100 [00:16<00:04,  5.00it/s]"
     ]
    },
    {
     "name": "stdout",
     "output_type": "stream",
     "text": [
      " ___\n",
      "|x o|\n",
      "|xox|\n",
      "|x o|\n",
      " ---\n"
     ]
    },
    {
     "name": "stderr",
     "output_type": "stream",
     "text": [
      "Score as white: 27:  80%|████████  | 80/100 [00:16<00:03,  5.10it/s]"
     ]
    },
    {
     "name": "stdout",
     "output_type": "stream",
     "text": [
      " ___\n",
      "|xxx|\n",
      "|xoo|\n",
      "|oox|\n",
      " ---\n"
     ]
    },
    {
     "name": "stderr",
     "output_type": "stream",
     "text": [
      "Score as white: 28:  81%|████████  | 81/100 [00:16<00:04,  4.68it/s]"
     ]
    },
    {
     "name": "stdout",
     "output_type": "stream",
     "text": [
      " ___\n",
      "|xox|\n",
      "|ooo|\n",
      "| xx|\n",
      " ---\n"
     ]
    },
    {
     "name": "stderr",
     "output_type": "stream",
     "text": [
      "Score as white: 27:  82%|████████▏ | 82/100 [00:16<00:03,  4.63it/s]"
     ]
    },
    {
     "name": "stdout",
     "output_type": "stream",
     "text": [
      " ___\n",
      "|xox|\n",
      "| xo|\n",
      "|o x|\n",
      " ---\n"
     ]
    },
    {
     "name": "stderr",
     "output_type": "stream",
     "text": [
      "Score as white: 28:  83%|████████▎ | 83/100 [00:17<00:03,  4.76it/s]"
     ]
    },
    {
     "name": "stdout",
     "output_type": "stream",
     "text": [
      " ___\n",
      "|xxo|\n",
      "|oxx|\n",
      "|oxo|\n",
      " ---\n"
     ]
    },
    {
     "name": "stderr",
     "output_type": "stream",
     "text": [
      "Score as white: 29:  84%|████████▍ | 84/100 [00:17<00:03,  4.46it/s]"
     ]
    },
    {
     "name": "stdout",
     "output_type": "stream",
     "text": [
      " ___\n",
      "|oxo|\n",
      "|ox |\n",
      "|xx |\n",
      " ---\n"
     ]
    },
    {
     "name": "stderr",
     "output_type": "stream",
     "text": [
      "Score as white: 30:  85%|████████▌ | 85/100 [00:17<00:03,  4.30it/s]"
     ]
    },
    {
     "name": "stdout",
     "output_type": "stream",
     "text": [
      " ___\n",
      "|xxx|\n",
      "|xoo|\n",
      "|oox|\n",
      " ---\n"
     ]
    },
    {
     "name": "stderr",
     "output_type": "stream",
     "text": [
      "Score as white: 31:  86%|████████▌ | 86/100 [00:17<00:03,  4.10it/s]"
     ]
    },
    {
     "name": "stdout",
     "output_type": "stream",
     "text": [
      " ___\n",
      "| oo|\n",
      "|x o|\n",
      "|xxx|\n",
      " ---\n"
     ]
    },
    {
     "name": "stderr",
     "output_type": "stream",
     "text": [
      "Score as white: 32:  87%|████████▋ | 87/100 [00:18<00:03,  4.23it/s]"
     ]
    },
    {
     "name": "stdout",
     "output_type": "stream",
     "text": [
      " ___\n",
      "| o |\n",
      "|  o|\n",
      "|xxx|\n",
      " ---\n"
     ]
    },
    {
     "name": "stderr",
     "output_type": "stream",
     "text": [
      "Score as white: 33:  88%|████████▊ | 88/100 [00:18<00:02,  4.95it/s]"
     ]
    },
    {
     "name": "stdout",
     "output_type": "stream",
     "text": [
      " ___\n",
      "|xoo|\n",
      "|x x|\n",
      "|x o|\n",
      " ---\n"
     ]
    },
    {
     "name": "stderr",
     "output_type": "stream",
     "text": [
      "Score as white: 34:  89%|████████▉ | 89/100 [00:18<00:02,  4.99it/s]"
     ]
    },
    {
     "name": "stdout",
     "output_type": "stream",
     "text": [
      " ___\n",
      "|xxo|\n",
      "| oo|\n",
      "|oxx|\n",
      " ---\n"
     ]
    },
    {
     "name": "stderr",
     "output_type": "stream",
     "text": [
      "Score as white: 33:  90%|█████████ | 90/100 [00:18<00:02,  4.67it/s]"
     ]
    },
    {
     "name": "stdout",
     "output_type": "stream",
     "text": [
      " ___\n",
      "|oxx|\n",
      "|xxo|\n",
      "|xoo|\n",
      " ---\n"
     ]
    },
    {
     "name": "stderr",
     "output_type": "stream",
     "text": [
      "Score as white: 34:  91%|█████████ | 91/100 [00:18<00:02,  4.44it/s]"
     ]
    },
    {
     "name": "stdout",
     "output_type": "stream",
     "text": [
      " ___\n",
      "|o  |\n",
      "|  o|\n",
      "|xxx|\n",
      " ---\n"
     ]
    },
    {
     "name": "stderr",
     "output_type": "stream",
     "text": [
      "Score as white: 35:  92%|█████████▏| 92/100 [00:18<00:01,  5.01it/s]"
     ]
    },
    {
     "name": "stdout",
     "output_type": "stream",
     "text": [
      " ___\n",
      "|ox |\n",
      "|oxx|\n",
      "|oox|\n",
      " ---\n"
     ]
    },
    {
     "name": "stderr",
     "output_type": "stream",
     "text": [
      "Score as white: 34:  93%|█████████▎| 93/100 [00:19<00:01,  5.08it/s]"
     ]
    },
    {
     "name": "stdout",
     "output_type": "stream",
     "text": [
      " ___\n",
      "|oxo|\n",
      "|oxx|\n",
      "|xox|\n",
      " ---\n"
     ]
    },
    {
     "name": "stderr",
     "output_type": "stream",
     "text": [
      "Score as white: 34:  94%|█████████▍| 94/100 [00:19<00:01,  4.65it/s]"
     ]
    },
    {
     "name": "stdout",
     "output_type": "stream",
     "text": [
      " ___\n",
      "| ox|\n",
      "| ox|\n",
      "|  x|\n",
      " ---\n"
     ]
    },
    {
     "name": "stderr",
     "output_type": "stream",
     "text": [
      "Score as white: 35:  95%|█████████▌| 95/100 [00:19<00:00,  5.18it/s]"
     ]
    },
    {
     "name": "stdout",
     "output_type": "stream",
     "text": [
      " ___\n",
      "|oxx|\n",
      "|oxx|\n",
      "|oo |\n",
      " ---\n"
     ]
    },
    {
     "name": "stderr",
     "output_type": "stream",
     "text": [
      "Score as white: 34:  96%|█████████▌| 96/100 [00:19<00:00,  4.99it/s]"
     ]
    },
    {
     "name": "stdout",
     "output_type": "stream",
     "text": [
      " ___\n",
      "|ooo|\n",
      "|xx |\n",
      "|xox|\n",
      " ---\n"
     ]
    },
    {
     "name": "stderr",
     "output_type": "stream",
     "text": [
      "Score as white: 33:  97%|█████████▋| 97/100 [00:20<00:00,  4.78it/s]"
     ]
    },
    {
     "name": "stdout",
     "output_type": "stream",
     "text": [
      " ___\n",
      "|xxx|\n",
      "|oxo|\n",
      "|xoo|\n",
      " ---\n"
     ]
    },
    {
     "name": "stderr",
     "output_type": "stream",
     "text": [
      "Score as white: 34:  98%|█████████▊| 98/100 [00:20<00:00,  4.36it/s]"
     ]
    },
    {
     "name": "stdout",
     "output_type": "stream",
     "text": [
      " ___\n",
      "|xo |\n",
      "|x o|\n",
      "|xxo|\n",
      " ---\n"
     ]
    },
    {
     "name": "stderr",
     "output_type": "stream",
     "text": [
      "Score as white: 35:  99%|█████████▉| 99/100 [00:20<00:00,  4.61it/s]"
     ]
    },
    {
     "name": "stdout",
     "output_type": "stream",
     "text": [
      " ___\n",
      "| xx|\n",
      "|  x|\n",
      "|ooo|\n",
      " ---\n"
     ]
    },
    {
     "name": "stderr",
     "output_type": "stream",
     "text": [
      "Score as white: 34: 100%|██████████| 100/100 [00:20<00:00,  4.84it/s]\n",
      "  0%|          | 0/100 [00:00<?, ?it/s]"
     ]
    },
    {
     "name": "stdout",
     "output_type": "stream",
     "text": [
      " ___\n",
      "|xxx|\n",
      "|xo |\n",
      "|oo |\n",
      " ---\n"
     ]
    },
    {
     "name": "stderr",
     "output_type": "stream",
     "text": [
      "Score as black: -1:   1%|          | 1/100 [00:00<00:19,  5.13it/s]"
     ]
    },
    {
     "name": "stdout",
     "output_type": "stream",
     "text": [
      " ___\n",
      "|xox|\n",
      "|oxx|\n",
      "|oxo|\n",
      " ---\n"
     ]
    },
    {
     "name": "stderr",
     "output_type": "stream",
     "text": [
      "Score as black: -1:   2%|▏         | 2/100 [00:00<00:20,  4.71it/s]"
     ]
    },
    {
     "name": "stdout",
     "output_type": "stream",
     "text": [
      " ___\n",
      "|xxx|\n",
      "|oxo|\n",
      "|xoo|\n",
      " ---\n"
     ]
    },
    {
     "name": "stderr",
     "output_type": "stream",
     "text": [
      "Score as black: -2:   3%|▎         | 3/100 [00:00<00:22,  4.37it/s]"
     ]
    },
    {
     "name": "stdout",
     "output_type": "stream",
     "text": [
      " ___\n",
      "|o o|\n",
      "|xox|\n",
      "|oxx|\n",
      " ---\n"
     ]
    },
    {
     "name": "stderr",
     "output_type": "stream",
     "text": [
      "Score as black: -1:   4%|▍         | 4/100 [00:00<00:21,  4.40it/s]"
     ]
    },
    {
     "name": "stdout",
     "output_type": "stream",
     "text": [
      " ___\n",
      "|oox|\n",
      "|xxo|\n",
      "|oxx|\n",
      " ---\n"
     ]
    },
    {
     "name": "stderr",
     "output_type": "stream",
     "text": [
      "Score as black: -1:   5%|▌         | 5/100 [00:01<00:21,  4.33it/s]"
     ]
    },
    {
     "name": "stdout",
     "output_type": "stream",
     "text": [
      " ___\n",
      "|oxo|\n",
      "|oox|\n",
      "|xxx|\n",
      " ---\n"
     ]
    },
    {
     "name": "stderr",
     "output_type": "stream",
     "text": [
      "Score as black: -2:   6%|▌         | 6/100 [00:01<00:21,  4.38it/s]"
     ]
    },
    {
     "name": "stdout",
     "output_type": "stream",
     "text": [
      " ___\n",
      "| xx|\n",
      "|oox|\n",
      "|o x|\n",
      " ---\n"
     ]
    },
    {
     "name": "stderr",
     "output_type": "stream",
     "text": [
      "Score as black: -3:   7%|▋         | 7/100 [00:01<00:20,  4.65it/s]"
     ]
    },
    {
     "name": "stdout",
     "output_type": "stream",
     "text": [
      " ___\n",
      "| ox|\n",
      "|xxo|\n",
      "|x o|\n",
      " ---\n"
     ]
    },
    {
     "name": "stderr",
     "output_type": "stream",
     "text": [
      "Score as black: -4:   8%|▊         | 8/100 [00:01<00:18,  5.01it/s]"
     ]
    },
    {
     "name": "stdout",
     "output_type": "stream",
     "text": [
      " ___\n",
      "|oxo|\n",
      "|xxo|\n",
      "|x o|\n",
      " ---\n"
     ]
    },
    {
     "name": "stderr",
     "output_type": "stream",
     "text": [
      "Score as black: -3:   9%|▉         | 9/100 [00:01<00:18,  4.86it/s]"
     ]
    },
    {
     "name": "stdout",
     "output_type": "stream",
     "text": [
      " ___\n",
      "| xx|\n",
      "|ooo|\n",
      "|xox|\n",
      " ---\n"
     ]
    },
    {
     "name": "stderr",
     "output_type": "stream",
     "text": [
      "Score as black: -2:  10%|█         | 10/100 [00:02<00:19,  4.67it/s]"
     ]
    },
    {
     "name": "stdout",
     "output_type": "stream",
     "text": [
      " ___\n",
      "|xo |\n",
      "|xox|\n",
      "|x o|\n",
      " ---\n"
     ]
    },
    {
     "name": "stderr",
     "output_type": "stream",
     "text": [
      "Score as black: -3:  11%|█         | 11/100 [00:02<00:18,  4.78it/s]"
     ]
    },
    {
     "name": "stdout",
     "output_type": "stream",
     "text": [
      " ___\n",
      "| oo|\n",
      "|xxx|\n",
      "|xo |\n",
      " ---\n"
     ]
    },
    {
     "name": "stderr",
     "output_type": "stream",
     "text": [
      "Score as black: -4:  12%|█▏        | 12/100 [00:02<00:18,  4.85it/s]"
     ]
    },
    {
     "name": "stdout",
     "output_type": "stream",
     "text": [
      " ___\n",
      "|oxx|\n",
      "|xox|\n",
      "|oox|\n",
      " ---\n"
     ]
    },
    {
     "name": "stderr",
     "output_type": "stream",
     "text": [
      "Score as black: -5:  13%|█▎        | 13/100 [00:02<00:19,  4.53it/s]"
     ]
    },
    {
     "name": "stdout",
     "output_type": "stream",
     "text": [
      " ___\n",
      "| x |\n",
      "|ooo|\n",
      "|x x|\n",
      " ---\n"
     ]
    },
    {
     "name": "stderr",
     "output_type": "stream",
     "text": [
      "Score as black: -4:  14%|█▍        | 14/100 [00:03<00:17,  4.87it/s]"
     ]
    },
    {
     "name": "stdout",
     "output_type": "stream",
     "text": [
      " ___\n",
      "|o x|\n",
      "|oxx|\n",
      "| ox|\n",
      " ---\n"
     ]
    },
    {
     "name": "stderr",
     "output_type": "stream",
     "text": [
      "Score as black: -5:  15%|█▌        | 15/100 [00:03<00:17,  4.91it/s]"
     ]
    },
    {
     "name": "stdout",
     "output_type": "stream",
     "text": [
      " ___\n",
      "|xxo|\n",
      "|xo |\n",
      "|oox|\n",
      " ---\n"
     ]
    },
    {
     "name": "stderr",
     "output_type": "stream",
     "text": [
      "Score as black: -4:  16%|█▌        | 16/100 [00:03<00:21,  3.92it/s]"
     ]
    },
    {
     "name": "stdout",
     "output_type": "stream",
     "text": [
      " ___\n",
      "|xo |\n",
      "|x x|\n",
      "|xoo|\n",
      " ---\n"
     ]
    },
    {
     "name": "stderr",
     "output_type": "stream",
     "text": [
      "Score as black: -5:  17%|█▋        | 17/100 [00:03<00:19,  4.35it/s]"
     ]
    },
    {
     "name": "stdout",
     "output_type": "stream",
     "text": [
      " ___\n",
      "|xx |\n",
      "| x |\n",
      "|ooo|\n",
      " ---\n"
     ]
    },
    {
     "name": "stderr",
     "output_type": "stream",
     "text": [
      "Score as black: -4:  18%|█▊        | 18/100 [00:03<00:16,  4.92it/s]"
     ]
    },
    {
     "name": "stdout",
     "output_type": "stream",
     "text": [
      " ___\n",
      "|ox |\n",
      "| xx|\n",
      "|oxo|\n",
      " ---\n"
     ]
    },
    {
     "name": "stderr",
     "output_type": "stream",
     "text": [
      "Score as black: -5:  19%|█▉        | 19/100 [00:04<00:16,  4.93it/s]"
     ]
    },
    {
     "name": "stdout",
     "output_type": "stream",
     "text": [
      " ___\n",
      "|xo |\n",
      "|oxx|\n",
      "|o x|\n",
      " ---\n"
     ]
    },
    {
     "name": "stderr",
     "output_type": "stream",
     "text": [
      "Score as black: -6:  20%|██        | 20/100 [00:04<00:16,  4.87it/s]"
     ]
    },
    {
     "name": "stdout",
     "output_type": "stream",
     "text": [
      " ___\n",
      "|xxo|\n",
      "|oxo|\n",
      "|oxx|\n",
      " ---\n"
     ]
    },
    {
     "name": "stderr",
     "output_type": "stream",
     "text": [
      "Score as black: -7:  21%|██        | 21/100 [00:04<00:16,  4.68it/s]"
     ]
    },
    {
     "name": "stdout",
     "output_type": "stream",
     "text": [
      " ___\n",
      "| oo|\n",
      "|xxx|\n",
      "|ox |\n",
      " ---\n"
     ]
    },
    {
     "name": "stderr",
     "output_type": "stream",
     "text": [
      "Score as black: -8:  22%|██▏       | 22/100 [00:04<00:15,  4.89it/s]"
     ]
    },
    {
     "name": "stdout",
     "output_type": "stream",
     "text": [
      " ___\n",
      "|xxx|\n",
      "|o  |\n",
      "| o |\n",
      " ---\n"
     ]
    },
    {
     "name": "stderr",
     "output_type": "stream",
     "text": [
      "Score as black: -9:  23%|██▎       | 23/100 [00:04<00:14,  5.21it/s]"
     ]
    },
    {
     "name": "stdout",
     "output_type": "stream",
     "text": [
      " ___\n",
      "|xoo|\n",
      "|oxx|\n",
      "|xox|\n",
      " ---\n"
     ]
    },
    {
     "name": "stderr",
     "output_type": "stream",
     "text": [
      "Score as black: -10:  24%|██▍       | 24/100 [00:05<00:15,  4.77it/s]"
     ]
    },
    {
     "name": "stdout",
     "output_type": "stream",
     "text": [
      " ___\n",
      "|o o|\n",
      "|xxx|\n",
      "|x o|\n",
      " ---\n"
     ]
    },
    {
     "name": "stderr",
     "output_type": "stream",
     "text": [
      "Score as black: -11:  25%|██▌       | 25/100 [00:05<00:15,  4.95it/s]"
     ]
    },
    {
     "name": "stdout",
     "output_type": "stream",
     "text": [
      " ___\n",
      "| ox|\n",
      "|  x|\n",
      "|o x|\n",
      " ---\n"
     ]
    },
    {
     "name": "stderr",
     "output_type": "stream",
     "text": [
      "Score as black: -12:  26%|██▌       | 26/100 [00:05<00:13,  5.66it/s]"
     ]
    },
    {
     "name": "stdout",
     "output_type": "stream",
     "text": [
      " ___\n",
      "|oo |\n",
      "|xox|\n",
      "|xox|\n",
      " ---\n"
     ]
    },
    {
     "name": "stderr",
     "output_type": "stream",
     "text": [
      "Score as black: -11:  27%|██▋       | 27/100 [00:05<00:13,  5.54it/s]"
     ]
    },
    {
     "name": "stdout",
     "output_type": "stream",
     "text": [
      " ___\n",
      "| xo|\n",
      "|oxx|\n",
      "|ox |\n",
      " ---\n"
     ]
    },
    {
     "name": "stderr",
     "output_type": "stream",
     "text": [
      "Score as black: -12:  28%|██▊       | 28/100 [00:05<00:12,  5.69it/s]"
     ]
    },
    {
     "name": "stdout",
     "output_type": "stream",
     "text": [
      " ___\n",
      "|xox|\n",
      "|oxo|\n",
      "|oxx|\n",
      " ---\n"
     ]
    },
    {
     "name": "stderr",
     "output_type": "stream",
     "text": [
      "Score as black: -13:  29%|██▉       | 29/100 [00:06<00:14,  5.01it/s]"
     ]
    },
    {
     "name": "stdout",
     "output_type": "stream",
     "text": [
      " ___\n",
      "| xo|\n",
      "| xo|\n",
      "|oxx|\n",
      " ---\n"
     ]
    },
    {
     "name": "stderr",
     "output_type": "stream",
     "text": [
      "Score as black: -14:  30%|███       | 30/100 [00:06<00:14,  4.87it/s]"
     ]
    },
    {
     "name": "stdout",
     "output_type": "stream",
     "text": [
      " ___\n",
      "|xox|\n",
      "|oxx|\n",
      "|oxo|\n",
      " ---\n"
     ]
    },
    {
     "name": "stderr",
     "output_type": "stream",
     "text": [
      "Score as black: -14:  31%|███       | 31/100 [00:06<00:15,  4.37it/s]"
     ]
    },
    {
     "name": "stdout",
     "output_type": "stream",
     "text": [
      " ___\n",
      "|oox|\n",
      "|oxx|\n",
      "|xox|\n",
      " ---\n"
     ]
    },
    {
     "name": "stderr",
     "output_type": "stream",
     "text": [
      "Score as black: -15:  32%|███▏      | 32/100 [00:06<00:16,  4.10it/s]"
     ]
    },
    {
     "name": "stdout",
     "output_type": "stream",
     "text": [
      " ___\n",
      "|xxx|\n",
      "| ox|\n",
      "|o o|\n",
      " ---\n"
     ]
    },
    {
     "name": "stderr",
     "output_type": "stream",
     "text": [
      "Score as black: -16:  33%|███▎      | 33/100 [00:07<00:15,  4.31it/s]"
     ]
    },
    {
     "name": "stdout",
     "output_type": "stream",
     "text": [
      " ___\n",
      "|xxo|\n",
      "|xoo|\n",
      "|xox|\n",
      " ---\n"
     ]
    },
    {
     "name": "stderr",
     "output_type": "stream",
     "text": [
      "Score as black: -17:  34%|███▍      | 34/100 [00:07<00:15,  4.23it/s]"
     ]
    },
    {
     "name": "stdout",
     "output_type": "stream",
     "text": [
      " ___\n",
      "|xxx|\n",
      "|oxo|\n",
      "|oox|\n",
      " ---\n"
     ]
    },
    {
     "name": "stderr",
     "output_type": "stream",
     "text": [
      "Score as black: -18:  35%|███▌      | 35/100 [00:07<00:15,  4.14it/s]"
     ]
    },
    {
     "name": "stdout",
     "output_type": "stream",
     "text": [
      " ___\n",
      "|  x|\n",
      "| xo|\n",
      "|x o|\n",
      " ---\n"
     ]
    },
    {
     "name": "stderr",
     "output_type": "stream",
     "text": [
      "Score as black: -19:  36%|███▌      | 36/100 [00:07<00:13,  4.81it/s]"
     ]
    },
    {
     "name": "stdout",
     "output_type": "stream",
     "text": [
      " ___\n",
      "| xx|\n",
      "|oxo|\n",
      "|ox |\n",
      " ---\n"
     ]
    },
    {
     "name": "stderr",
     "output_type": "stream",
     "text": [
      "Score as black: -20:  37%|███▋      | 37/100 [00:07<00:12,  5.05it/s]"
     ]
    },
    {
     "name": "stdout",
     "output_type": "stream",
     "text": [
      " ___\n",
      "|xoo|\n",
      "|x  |\n",
      "|xox|\n",
      " ---\n"
     ]
    },
    {
     "name": "stderr",
     "output_type": "stream",
     "text": [
      "Score as black: -21:  38%|███▊      | 38/100 [00:08<00:11,  5.27it/s]"
     ]
    },
    {
     "name": "stdout",
     "output_type": "stream",
     "text": [
      " ___\n",
      "|oxx|\n",
      "|oox|\n",
      "|xox|\n",
      " ---\n"
     ]
    },
    {
     "name": "stderr",
     "output_type": "stream",
     "text": [
      "Score as black: -22:  39%|███▉      | 39/100 [00:08<00:12,  4.89it/s]"
     ]
    },
    {
     "name": "stdout",
     "output_type": "stream",
     "text": [
      " ___\n",
      "| oo|\n",
      "|xxx|\n",
      "|x o|\n",
      " ---\n"
     ]
    },
    {
     "name": "stderr",
     "output_type": "stream",
     "text": [
      "Score as black: -23:  40%|████      | 40/100 [00:08<00:11,  5.01it/s]"
     ]
    },
    {
     "name": "stdout",
     "output_type": "stream",
     "text": [
      " ___\n",
      "|xoo|\n",
      "|oxx|\n",
      "|oxx|\n",
      " ---\n"
     ]
    },
    {
     "name": "stderr",
     "output_type": "stream",
     "text": [
      "Score as black: -24:  41%|████      | 41/100 [00:08<00:12,  4.75it/s]"
     ]
    },
    {
     "name": "stdout",
     "output_type": "stream",
     "text": [
      " ___\n",
      "|oox|\n",
      "|xoo|\n",
      "|xxx|\n",
      " ---\n"
     ]
    },
    {
     "name": "stderr",
     "output_type": "stream",
     "text": [
      "Score as black: -25:  42%|████▏     | 42/100 [00:08<00:12,  4.63it/s]"
     ]
    },
    {
     "name": "stdout",
     "output_type": "stream",
     "text": [
      " ___\n",
      "|xxo|\n",
      "|xoo|\n",
      "|xox|\n",
      " ---\n"
     ]
    },
    {
     "name": "stderr",
     "output_type": "stream",
     "text": [
      "Score as black: -26:  43%|████▎     | 43/100 [00:09<00:12,  4.55it/s]"
     ]
    },
    {
     "name": "stdout",
     "output_type": "stream",
     "text": [
      " ___\n",
      "|oxx|\n",
      "|oox|\n",
      "| xo|\n",
      " ---\n"
     ]
    },
    {
     "name": "stderr",
     "output_type": "stream",
     "text": [
      "Score as black: -25:  44%|████▍     | 44/100 [00:09<00:11,  4.71it/s]"
     ]
    },
    {
     "name": "stdout",
     "output_type": "stream",
     "text": [
      " ___\n",
      "|xx |\n",
      "|ooo|\n",
      "|xxo|\n",
      " ---\n"
     ]
    },
    {
     "name": "stderr",
     "output_type": "stream",
     "text": [
      "Score as black: -24:  45%|████▌     | 45/100 [00:09<00:11,  4.65it/s]"
     ]
    },
    {
     "name": "stdout",
     "output_type": "stream",
     "text": [
      " ___\n",
      "|o  |\n",
      "|xxx|\n",
      "|  o|\n",
      " ---\n"
     ]
    },
    {
     "name": "stderr",
     "output_type": "stream",
     "text": [
      "Score as black: -25:  46%|████▌     | 46/100 [00:09<00:10,  5.39it/s]"
     ]
    },
    {
     "name": "stdout",
     "output_type": "stream",
     "text": [
      " ___\n",
      "|o  |\n",
      "| ox|\n",
      "|xxo|\n",
      " ---\n"
     ]
    },
    {
     "name": "stderr",
     "output_type": "stream",
     "text": [
      "Score as black: -24:  47%|████▋     | 47/100 [00:09<00:09,  5.72it/s]"
     ]
    },
    {
     "name": "stdout",
     "output_type": "stream",
     "text": [
      " ___\n",
      "| xo|\n",
      "| x |\n",
      "| xo|\n",
      " ---\n"
     ]
    },
    {
     "name": "stderr",
     "output_type": "stream",
     "text": [
      "Score as black: -25:  48%|████▊     | 48/100 [00:09<00:08,  6.32it/s]"
     ]
    },
    {
     "name": "stdout",
     "output_type": "stream",
     "text": [
      " ___\n",
      "|oxx|\n",
      "|o x|\n",
      "|oxo|\n",
      " ---\n"
     ]
    },
    {
     "name": "stderr",
     "output_type": "stream",
     "text": [
      "Score as black: -24:  49%|████▉     | 49/100 [00:10<00:08,  5.84it/s]"
     ]
    },
    {
     "name": "stdout",
     "output_type": "stream",
     "text": [
      " ___\n",
      "|xxx|\n",
      "| xo|\n",
      "| oo|\n",
      " ---\n"
     ]
    },
    {
     "name": "stderr",
     "output_type": "stream",
     "text": [
      "Score as black: -25:  50%|█████     | 50/100 [00:10<00:08,  5.84it/s]"
     ]
    },
    {
     "name": "stdout",
     "output_type": "stream",
     "text": [
      " ___\n",
      "|xxx|\n",
      "| oo|\n",
      "|xo |\n",
      " ---\n"
     ]
    },
    {
     "name": "stderr",
     "output_type": "stream",
     "text": [
      "Score as black: -26:  51%|█████     | 51/100 [00:10<00:08,  5.77it/s]"
     ]
    },
    {
     "name": "stdout",
     "output_type": "stream",
     "text": [
      " ___\n",
      "| oo|\n",
      "|xox|\n",
      "|oxx|\n",
      " ---\n"
     ]
    },
    {
     "name": "stderr",
     "output_type": "stream",
     "text": [
      "Score as black: -25:  52%|█████▏    | 52/100 [00:10<00:09,  5.26it/s]"
     ]
    },
    {
     "name": "stdout",
     "output_type": "stream",
     "text": [
      " ___\n",
      "|o o|\n",
      "|xox|\n",
      "|xxo|\n",
      " ---\n"
     ]
    },
    {
     "name": "stderr",
     "output_type": "stream",
     "text": [
      "Score as black: -24:  53%|█████▎    | 53/100 [00:10<00:08,  5.29it/s]"
     ]
    },
    {
     "name": "stdout",
     "output_type": "stream",
     "text": [
      " ___\n",
      "|xox|\n",
      "| xx|\n",
      "|ooo|\n",
      " ---\n"
     ]
    },
    {
     "name": "stderr",
     "output_type": "stream",
     "text": [
      "Score as black: -23:  54%|█████▍    | 54/100 [00:11<00:08,  5.31it/s]"
     ]
    },
    {
     "name": "stdout",
     "output_type": "stream",
     "text": [
      " ___\n",
      "|oxx|\n",
      "|xoo|\n",
      "|oxx|\n",
      " ---\n"
     ]
    },
    {
     "name": "stderr",
     "output_type": "stream",
     "text": [
      "Score as black: -23:  55%|█████▌    | 55/100 [00:11<00:08,  5.04it/s]"
     ]
    },
    {
     "name": "stdout",
     "output_type": "stream",
     "text": [
      " ___\n",
      "|  x|\n",
      "|xox|\n",
      "|oox|\n",
      " ---\n"
     ]
    },
    {
     "name": "stderr",
     "output_type": "stream",
     "text": [
      "Score as black: -24:  56%|█████▌    | 56/100 [00:11<00:08,  5.02it/s]"
     ]
    },
    {
     "name": "stdout",
     "output_type": "stream",
     "text": [
      " ___\n",
      "|o x|\n",
      "|xox|\n",
      "|xoo|\n",
      " ---\n"
     ]
    },
    {
     "name": "stderr",
     "output_type": "stream",
     "text": [
      "Score as black: -23:  57%|█████▋    | 57/100 [00:11<00:08,  5.00it/s]"
     ]
    },
    {
     "name": "stdout",
     "output_type": "stream",
     "text": [
      " ___\n",
      "|xoo|\n",
      "|oxx|\n",
      "|oxx|\n",
      " ---\n"
     ]
    },
    {
     "name": "stderr",
     "output_type": "stream",
     "text": [
      "Score as black: -24:  58%|█████▊    | 58/100 [00:11<00:08,  4.72it/s]"
     ]
    },
    {
     "name": "stdout",
     "output_type": "stream",
     "text": [
      " ___\n",
      "|ooo|\n",
      "|x x|\n",
      "|xox|\n",
      " ---\n"
     ]
    },
    {
     "name": "stderr",
     "output_type": "stream",
     "text": [
      "Score as black: -23:  59%|█████▉    | 59/100 [00:12<00:08,  4.83it/s]"
     ]
    },
    {
     "name": "stdout",
     "output_type": "stream",
     "text": [
      " ___\n",
      "|  o|\n",
      "|x o|\n",
      "|xxo|\n",
      " ---\n"
     ]
    },
    {
     "name": "stderr",
     "output_type": "stream",
     "text": [
      "Score as black: -22:  60%|██████    | 60/100 [00:12<00:07,  5.19it/s]"
     ]
    },
    {
     "name": "stdout",
     "output_type": "stream",
     "text": [
      " ___\n",
      "|o x|\n",
      "|oo |\n",
      "|xxx|\n",
      " ---\n"
     ]
    },
    {
     "name": "stderr",
     "output_type": "stream",
     "text": [
      "Score as black: -23:  61%|██████    | 61/100 [00:12<00:07,  5.26it/s]"
     ]
    },
    {
     "name": "stdout",
     "output_type": "stream",
     "text": [
      " ___\n",
      "|oxo|\n",
      "|xxo|\n",
      "|oxx|\n",
      " ---\n"
     ]
    },
    {
     "name": "stderr",
     "output_type": "stream",
     "text": [
      "Score as black: -24:  62%|██████▏   | 62/100 [00:12<00:07,  4.93it/s]"
     ]
    },
    {
     "name": "stdout",
     "output_type": "stream",
     "text": [
      " ___\n",
      "|oox|\n",
      "|oox|\n",
      "|xxx|\n",
      " ---\n"
     ]
    },
    {
     "name": "stderr",
     "output_type": "stream",
     "text": [
      "Score as black: -25:  63%|██████▎   | 63/100 [00:12<00:07,  4.83it/s]"
     ]
    },
    {
     "name": "stdout",
     "output_type": "stream",
     "text": [
      " ___\n",
      "|o x|\n",
      "| x |\n",
      "|x o|\n",
      " ---\n"
     ]
    },
    {
     "name": "stderr",
     "output_type": "stream",
     "text": [
      "Score as black: -26:  64%|██████▍   | 64/100 [00:13<00:06,  5.40it/s]"
     ]
    },
    {
     "name": "stdout",
     "output_type": "stream",
     "text": [
      " ___\n",
      "|xxx|\n",
      "| ox|\n",
      "|oo |\n",
      " ---\n"
     ]
    },
    {
     "name": "stderr",
     "output_type": "stream",
     "text": [
      "Score as black: -27:  65%|██████▌   | 65/100 [00:13<00:06,  5.06it/s]"
     ]
    },
    {
     "name": "stdout",
     "output_type": "stream",
     "text": [
      " ___\n",
      "|oxx|\n",
      "|oox|\n",
      "|x o|\n",
      " ---\n"
     ]
    },
    {
     "name": "stderr",
     "output_type": "stream",
     "text": [
      "Score as black: -26:  66%|██████▌   | 66/100 [00:13<00:07,  4.78it/s]"
     ]
    },
    {
     "name": "stdout",
     "output_type": "stream",
     "text": [
      " ___\n",
      "|xox|\n",
      "|x o|\n",
      "|x o|\n",
      " ---\n"
     ]
    },
    {
     "name": "stderr",
     "output_type": "stream",
     "text": [
      "Score as black: -27:  67%|██████▋   | 67/100 [00:13<00:07,  4.59it/s]"
     ]
    },
    {
     "name": "stdout",
     "output_type": "stream",
     "text": [
      " ___\n",
      "|o  |\n",
      "|  o|\n",
      "|xxx|\n",
      " ---\n"
     ]
    },
    {
     "name": "stderr",
     "output_type": "stream",
     "text": [
      "Score as black: -28:  68%|██████▊   | 68/100 [00:13<00:06,  5.09it/s]"
     ]
    },
    {
     "name": "stdout",
     "output_type": "stream",
     "text": [
      " ___\n",
      "|oox|\n",
      "|ox |\n",
      "|x x|\n",
      " ---\n"
     ]
    },
    {
     "name": "stderr",
     "output_type": "stream",
     "text": [
      "Score as black: -29:  69%|██████▉   | 69/100 [00:14<00:05,  5.22it/s]"
     ]
    },
    {
     "name": "stdout",
     "output_type": "stream",
     "text": [
      " ___\n",
      "|oox|\n",
      "|oxx|\n",
      "|ox |\n",
      " ---\n"
     ]
    },
    {
     "name": "stderr",
     "output_type": "stream",
     "text": [
      "Score as black: -28:  70%|███████   | 70/100 [00:14<00:05,  5.16it/s]"
     ]
    },
    {
     "name": "stdout",
     "output_type": "stream",
     "text": [
      " ___\n",
      "|ox |\n",
      "|oxo|\n",
      "| xx|\n",
      " ---\n"
     ]
    },
    {
     "name": "stderr",
     "output_type": "stream",
     "text": [
      "Score as black: -29:  71%|███████   | 71/100 [00:14<00:05,  5.29it/s]"
     ]
    },
    {
     "name": "stdout",
     "output_type": "stream",
     "text": [
      " ___\n",
      "|xxo|\n",
      "|oox|\n",
      "|xox|\n",
      " ---\n"
     ]
    },
    {
     "name": "stderr",
     "output_type": "stream",
     "text": [
      "Score as black: -29:  72%|███████▏  | 72/100 [00:14<00:05,  4.99it/s]"
     ]
    },
    {
     "name": "stdout",
     "output_type": "stream",
     "text": [
      " ___\n",
      "|oox|\n",
      "|xxx|\n",
      "|oxo|\n",
      " ---\n"
     ]
    },
    {
     "name": "stderr",
     "output_type": "stream",
     "text": [
      "Score as black: -30:  73%|███████▎  | 73/100 [00:14<00:05,  4.80it/s]"
     ]
    },
    {
     "name": "stdout",
     "output_type": "stream",
     "text": [
      " ___\n",
      "|oox|\n",
      "|oxx|\n",
      "|x  |\n",
      " ---\n"
     ]
    },
    {
     "name": "stderr",
     "output_type": "stream",
     "text": [
      "Score as black: -31:  74%|███████▍  | 74/100 [00:15<00:05,  5.00it/s]"
     ]
    },
    {
     "name": "stdout",
     "output_type": "stream",
     "text": [
      " ___\n",
      "| xo|\n",
      "|oxo|\n",
      "|xx |\n",
      " ---\n"
     ]
    },
    {
     "name": "stderr",
     "output_type": "stream",
     "text": [
      "Score as black: -32:  75%|███████▌  | 75/100 [00:15<00:04,  5.23it/s]"
     ]
    },
    {
     "name": "stdout",
     "output_type": "stream",
     "text": [
      " ___\n",
      "|xo |\n",
      "| xo|\n",
      "|oxx|\n",
      " ---\n"
     ]
    },
    {
     "name": "stderr",
     "output_type": "stream",
     "text": [
      "Score as black: -33:  76%|███████▌  | 76/100 [00:15<00:04,  5.43it/s]"
     ]
    },
    {
     "name": "stdout",
     "output_type": "stream",
     "text": [
      " ___\n",
      "|o x|\n",
      "|xox|\n",
      "|oxo|\n",
      " ---\n"
     ]
    },
    {
     "name": "stderr",
     "output_type": "stream",
     "text": [
      "Score as black: -32:  77%|███████▋  | 77/100 [00:15<00:04,  5.34it/s]"
     ]
    },
    {
     "name": "stdout",
     "output_type": "stream",
     "text": [
      " ___\n",
      "|xoo|\n",
      "|oox|\n",
      "|xxx|\n",
      " ---\n"
     ]
    },
    {
     "name": "stderr",
     "output_type": "stream",
     "text": [
      "Score as black: -33:  78%|███████▊  | 78/100 [00:15<00:04,  5.00it/s]"
     ]
    },
    {
     "name": "stdout",
     "output_type": "stream",
     "text": [
      " ___\n",
      "|xoo|\n",
      "|x  |\n",
      "|xox|\n",
      " ---\n"
     ]
    },
    {
     "name": "stderr",
     "output_type": "stream",
     "text": [
      "Score as black: -34:  79%|███████▉  | 79/100 [00:16<00:03,  5.25it/s]"
     ]
    },
    {
     "name": "stdout",
     "output_type": "stream",
     "text": [
      " ___\n",
      "|xox|\n",
      "|xox|\n",
      "|oxo|\n",
      " ---\n"
     ]
    },
    {
     "name": "stderr",
     "output_type": "stream",
     "text": [
      "Score as black: -34:  80%|████████  | 80/100 [00:16<00:03,  5.00it/s]"
     ]
    },
    {
     "name": "stdout",
     "output_type": "stream",
     "text": [
      " ___\n",
      "|xoo|\n",
      "| xo|\n",
      "|xxo|\n",
      " ---\n"
     ]
    },
    {
     "name": "stderr",
     "output_type": "stream",
     "text": [
      "Score as black: -33:  81%|████████  | 81/100 [00:16<00:03,  5.04it/s]"
     ]
    },
    {
     "name": "stdout",
     "output_type": "stream",
     "text": [
      " ___\n",
      "|xxx|\n",
      "| xo|\n",
      "|o o|\n",
      " ---\n"
     ]
    },
    {
     "name": "stderr",
     "output_type": "stream",
     "text": [
      "Score as black: -34:  82%|████████▏ | 82/100 [00:16<00:03,  5.25it/s]"
     ]
    },
    {
     "name": "stdout",
     "output_type": "stream",
     "text": [
      " ___\n",
      "|x o|\n",
      "|x o|\n",
      "| xo|\n",
      " ---\n"
     ]
    },
    {
     "name": "stderr",
     "output_type": "stream",
     "text": [
      "Score as black: -33:  83%|████████▎ | 83/100 [00:16<00:03,  5.62it/s]"
     ]
    },
    {
     "name": "stdout",
     "output_type": "stream",
     "text": [
      " ___\n",
      "|xxo|\n",
      "|oxx|\n",
      "|oxo|\n",
      " ---\n"
     ]
    },
    {
     "name": "stderr",
     "output_type": "stream",
     "text": [
      "Score as black: -34:  84%|████████▍ | 84/100 [00:17<00:03,  5.17it/s]"
     ]
    },
    {
     "name": "stdout",
     "output_type": "stream",
     "text": [
      " ___\n",
      "|oxx|\n",
      "|xoo|\n",
      "|oxx|\n",
      " ---\n"
     ]
    },
    {
     "name": "stderr",
     "output_type": "stream",
     "text": [
      "Score as black: -34:  85%|████████▌ | 85/100 [00:17<00:03,  4.89it/s]"
     ]
    },
    {
     "name": "stdout",
     "output_type": "stream",
     "text": [
      " ___\n",
      "|xxo|\n",
      "|oo |\n",
      "|oxx|\n",
      " ---\n"
     ]
    },
    {
     "name": "stderr",
     "output_type": "stream",
     "text": [
      "Score as black: -33:  86%|████████▌ | 86/100 [00:17<00:02,  4.96it/s]"
     ]
    },
    {
     "name": "stdout",
     "output_type": "stream",
     "text": [
      " ___\n",
      "|oxx|\n",
      "|xxo|\n",
      "|oxo|\n",
      " ---\n"
     ]
    },
    {
     "name": "stderr",
     "output_type": "stream",
     "text": [
      "Score as black: -34:  87%|████████▋ | 87/100 [00:17<00:02,  4.76it/s]"
     ]
    },
    {
     "name": "stdout",
     "output_type": "stream",
     "text": [
      " ___\n",
      "|xoo|\n",
      "|oox|\n",
      "|xxx|\n",
      " ---\n"
     ]
    },
    {
     "name": "stderr",
     "output_type": "stream",
     "text": [
      "Score as black: -35:  88%|████████▊ | 88/100 [00:17<00:02,  4.65it/s]"
     ]
    },
    {
     "name": "stdout",
     "output_type": "stream",
     "text": [
      " ___\n",
      "|oxo|\n",
      "|xxo|\n",
      "|oxx|\n",
      " ---\n"
     ]
    },
    {
     "name": "stderr",
     "output_type": "stream",
     "text": [
      "Score as black: -36:  89%|████████▉ | 89/100 [00:18<00:02,  4.63it/s]"
     ]
    },
    {
     "name": "stdout",
     "output_type": "stream",
     "text": [
      " ___\n",
      "|oxx|\n",
      "|oox|\n",
      "|xox|\n",
      " ---\n"
     ]
    },
    {
     "name": "stderr",
     "output_type": "stream",
     "text": [
      "Score as black: -37:  90%|█████████ | 90/100 [00:18<00:02,  4.60it/s]"
     ]
    },
    {
     "name": "stdout",
     "output_type": "stream",
     "text": [
      " ___\n",
      "|xxo|\n",
      "|oox|\n",
      "|xxo|\n",
      " ---\n"
     ]
    },
    {
     "name": "stderr",
     "output_type": "stream",
     "text": [
      "Score as black: -37:  91%|█████████ | 91/100 [00:18<00:02,  4.48it/s]"
     ]
    },
    {
     "name": "stdout",
     "output_type": "stream",
     "text": [
      " ___\n",
      "|oo |\n",
      "|oxx|\n",
      "|oxx|\n",
      " ---\n"
     ]
    },
    {
     "name": "stderr",
     "output_type": "stream",
     "text": [
      "Score as black: -36:  92%|█████████▏| 92/100 [00:18<00:01,  4.75it/s]"
     ]
    },
    {
     "name": "stdout",
     "output_type": "stream",
     "text": [
      " ___\n",
      "|xox|\n",
      "|xox|\n",
      "|oo |\n",
      " ---\n"
     ]
    },
    {
     "name": "stderr",
     "output_type": "stream",
     "text": [
      "Score as black: -35:  93%|█████████▎| 93/100 [00:18<00:01,  4.80it/s]"
     ]
    },
    {
     "name": "stdout",
     "output_type": "stream",
     "text": [
      " ___\n",
      "|xox|\n",
      "| o |\n",
      "|xo |\n",
      " ---\n"
     ]
    },
    {
     "name": "stderr",
     "output_type": "stream",
     "text": [
      "Score as black: -34:  94%|█████████▍| 94/100 [00:19<00:01,  5.17it/s]"
     ]
    },
    {
     "name": "stdout",
     "output_type": "stream",
     "text": [
      " ___\n",
      "|x o|\n",
      "| oo|\n",
      "|xxx|\n",
      " ---\n"
     ]
    },
    {
     "name": "stderr",
     "output_type": "stream",
     "text": [
      "Score as black: -35:  95%|█████████▌| 95/100 [00:19<00:00,  5.38it/s]"
     ]
    },
    {
     "name": "stdout",
     "output_type": "stream",
     "text": [
      " ___\n",
      "|ooo|\n",
      "|xx |\n",
      "|oxx|\n",
      " ---\n"
     ]
    },
    {
     "name": "stderr",
     "output_type": "stream",
     "text": [
      "Score as black: -34:  96%|█████████▌| 96/100 [00:19<00:00,  5.20it/s]"
     ]
    },
    {
     "name": "stdout",
     "output_type": "stream",
     "text": [
      " ___\n",
      "|x o|\n",
      "|  o|\n",
      "|xxo|\n",
      " ---\n"
     ]
    },
    {
     "name": "stderr",
     "output_type": "stream",
     "text": [
      "Score as black: -33:  97%|█████████▋| 97/100 [00:19<00:00,  5.55it/s]"
     ]
    },
    {
     "name": "stdout",
     "output_type": "stream",
     "text": [
      " ___\n",
      "|xxx|\n",
      "|xoo|\n",
      "|oxo|\n",
      " ---\n"
     ]
    },
    {
     "name": "stderr",
     "output_type": "stream",
     "text": [
      "Score as black: -34:  98%|█████████▊| 98/100 [00:19<00:00,  5.23it/s]"
     ]
    },
    {
     "name": "stdout",
     "output_type": "stream",
     "text": [
      " ___\n",
      "|xoo|\n",
      "|oxx|\n",
      "|xox|\n",
      " ---\n"
     ]
    },
    {
     "name": "stderr",
     "output_type": "stream",
     "text": [
      "Score as black: -35:  99%|█████████▉| 99/100 [00:20<00:00,  4.87it/s]"
     ]
    },
    {
     "name": "stdout",
     "output_type": "stream",
     "text": [
      " ___\n",
      "|o x|\n",
      "|oxx|\n",
      "|oxo|\n",
      " ---\n"
     ]
    },
    {
     "name": "stderr",
     "output_type": "stream",
     "text": [
      "Score as black: -34: 100%|██████████| 100/100 [00:20<00:00,  4.93it/s]"
     ]
    },
    {
     "name": "stdout",
     "output_type": "stream",
     "text": [
      "Final Scores = W: 34 / B: -34 over 100 games\n"
     ]
    },
    {
     "name": "stderr",
     "output_type": "stream",
     "text": [
      "\n"
     ]
    }
   ],
   "source": [
    "#random agent vs random\n",
    "np.random.seed(my_seed)\n",
    "\n",
    "net1 = Network(TicTacToe.num_observations)\n",
    "net1.load('models/random.ptc')\n",
    "\n",
    "net2 = Network(TicTacToe.num_observations)\n",
    "net2.load('models/random.ptc')\n",
    "\n",
    "\n",
    "with torch.no_grad():\n",
    "    player = Tree(net1, game)\n",
    "    random = Tree(net2, game)\n",
    "\n",
    "with torch.no_grad():\n",
    "    score_white_b = 0\n",
    "    for g in (t:=trange(nb_games)):\n",
    "        score_white_b += play_a_game(player, random)\n",
    "        t.set_description(f\"Score as white: {score_white_b}\")\n",
    "\n",
    "with torch.no_grad():\n",
    "    score_black_b = 0\n",
    "    for g in (t:=trange(nb_games)):\n",
    "        score_black_b -= play_a_game(random, player)\n",
    "        t.set_description(f\"Score as black: {score_black_b}\")\n",
    "\n",
    "print(f'Final Scores = W: {score_white_b} / B: {score_black_b} over {nb_games} games')"
   ]
  },
  {
   "cell_type": "code",
   "execution_count": 12,
   "metadata": {},
   "outputs": [
    {
     "name": "stderr",
     "output_type": "stream",
     "text": [
      "\r",
      "  0%|          | 0/100 [00:00<?, ?it/s]"
     ]
    },
    {
     "name": "stdout",
     "output_type": "stream",
     "text": [
      " ___\n",
      "|xoo|\n",
      "|xox|\n",
      "|xxo|\n",
      " ---\n"
     ]
    },
    {
     "name": "stderr",
     "output_type": "stream",
     "text": [
      "Score as white: 1:   1%|          | 1/100 [00:00<00:21,  4.71it/s]"
     ]
    },
    {
     "name": "stdout",
     "output_type": "stream",
     "text": [
      " ___\n",
      "|xox|\n",
      "|oox|\n",
      "|xxo|\n",
      " ---\n"
     ]
    },
    {
     "name": "stderr",
     "output_type": "stream",
     "text": [
      "Score as white: 1:   2%|▏         | 2/100 [00:00<00:20,  4.71it/s]"
     ]
    },
    {
     "name": "stdout",
     "output_type": "stream",
     "text": [
      " ___\n",
      "|oxx|\n",
      "|o x|\n",
      "|oxo|\n",
      " ---\n"
     ]
    },
    {
     "name": "stderr",
     "output_type": "stream",
     "text": [
      "Score as white: 0:   3%|▎         | 3/100 [00:00<00:19,  4.96it/s]"
     ]
    },
    {
     "name": "stdout",
     "output_type": "stream",
     "text": [
      " ___\n",
      "|xoo|\n",
      "|xxx|\n",
      "|xoo|\n",
      " ---\n"
     ]
    },
    {
     "name": "stderr",
     "output_type": "stream",
     "text": [
      "Score as white: 1:   4%|▍         | 4/100 [00:00<00:19,  4.82it/s]"
     ]
    },
    {
     "name": "stdout",
     "output_type": "stream",
     "text": [
      " ___\n",
      "|oox|\n",
      "|xxo|\n",
      "|oxx|\n",
      " ---\n"
     ]
    },
    {
     "name": "stderr",
     "output_type": "stream",
     "text": [
      "Score as white: 1:   5%|▌         | 5/100 [00:01<00:19,  4.75it/s]"
     ]
    },
    {
     "name": "stdout",
     "output_type": "stream",
     "text": [
      " ___\n",
      "| xo|\n",
      "|o o|\n",
      "|xxx|\n",
      " ---\n"
     ]
    },
    {
     "name": "stderr",
     "output_type": "stream",
     "text": [
      "Score as white: 2:   6%|▌         | 6/100 [00:01<00:18,  5.11it/s]"
     ]
    },
    {
     "name": "stdout",
     "output_type": "stream",
     "text": [
      " ___\n",
      "|xox|\n",
      "|oxo|\n",
      "|xox|\n",
      " ---\n"
     ]
    },
    {
     "name": "stderr",
     "output_type": "stream",
     "text": [
      "Score as white: 3:   7%|▋         | 7/100 [00:01<00:18,  4.91it/s]"
     ]
    },
    {
     "name": "stdout",
     "output_type": "stream",
     "text": [
      " ___\n",
      "|xoo|\n",
      "|xo |\n",
      "|xx |\n",
      " ---\n"
     ]
    },
    {
     "name": "stderr",
     "output_type": "stream",
     "text": [
      "Score as white: 4:   8%|▊         | 8/100 [00:01<00:17,  5.19it/s]"
     ]
    },
    {
     "name": "stdout",
     "output_type": "stream",
     "text": [
      " ___\n",
      "|xox|\n",
      "|oxx|\n",
      "|oxo|\n",
      " ---\n"
     ]
    },
    {
     "name": "stderr",
     "output_type": "stream",
     "text": [
      "Score as white: 4:   9%|▉         | 9/100 [00:01<00:17,  5.07it/s]"
     ]
    },
    {
     "name": "stdout",
     "output_type": "stream",
     "text": [
      " ___\n",
      "|xx |\n",
      "|x  |\n",
      "|ooo|\n",
      " ---\n"
     ]
    },
    {
     "name": "stderr",
     "output_type": "stream",
     "text": [
      "Score as white: 3:  10%|█         | 10/100 [00:01<00:16,  5.45it/s]"
     ]
    },
    {
     "name": "stdout",
     "output_type": "stream",
     "text": [
      " ___\n",
      "|   |\n",
      "|xxx|\n",
      "| oo|\n",
      " ---\n"
     ]
    },
    {
     "name": "stderr",
     "output_type": "stream",
     "text": [
      "Score as white: 4:  11%|█         | 11/100 [00:02<00:14,  6.10it/s]"
     ]
    },
    {
     "name": "stdout",
     "output_type": "stream",
     "text": [
      " ___\n",
      "|xox|\n",
      "|oox|\n",
      "|xxo|\n",
      " ---\n"
     ]
    },
    {
     "name": "stderr",
     "output_type": "stream",
     "text": [
      "Score as white: 4:  12%|█▏        | 12/100 [00:02<00:15,  5.58it/s]"
     ]
    },
    {
     "name": "stdout",
     "output_type": "stream",
     "text": [
      " ___\n",
      "|oox|\n",
      "|xoo|\n",
      "|xxx|\n",
      " ---\n"
     ]
    },
    {
     "name": "stderr",
     "output_type": "stream",
     "text": [
      "Score as white: 5:  13%|█▎        | 13/100 [00:02<00:16,  5.27it/s]"
     ]
    },
    {
     "name": "stdout",
     "output_type": "stream",
     "text": [
      " ___\n",
      "|x o|\n",
      "|oo |\n",
      "|xxx|\n",
      " ---\n"
     ]
    },
    {
     "name": "stderr",
     "output_type": "stream",
     "text": [
      "Score as white: 6:  14%|█▍        | 14/100 [00:02<00:16,  5.36it/s]"
     ]
    },
    {
     "name": "stdout",
     "output_type": "stream",
     "text": [
      " ___\n",
      "|x x|\n",
      "|ooo|\n",
      "|xxo|\n",
      " ---\n"
     ]
    },
    {
     "name": "stderr",
     "output_type": "stream",
     "text": [
      "Score as white: 5:  15%|█▌        | 15/100 [00:02<00:16,  5.25it/s]"
     ]
    },
    {
     "name": "stdout",
     "output_type": "stream",
     "text": [
      " ___\n",
      "|xxo|\n",
      "|x x|\n",
      "|ooo|\n",
      " ---\n"
     ]
    },
    {
     "name": "stderr",
     "output_type": "stream",
     "text": [
      "Score as white: 4:  16%|█▌        | 16/100 [00:03<00:15,  5.41it/s]"
     ]
    },
    {
     "name": "stdout",
     "output_type": "stream",
     "text": [
      " ___\n",
      "|xo |\n",
      "| o |\n",
      "|xox|\n",
      " ---\n"
     ]
    },
    {
     "name": "stderr",
     "output_type": "stream",
     "text": [
      "Score as white: 3:  17%|█▋        | 17/100 [00:03<00:14,  5.77it/s]"
     ]
    },
    {
     "name": "stdout",
     "output_type": "stream",
     "text": [
      " ___\n",
      "|oox|\n",
      "|xxx|\n",
      "|xoo|\n",
      " ---\n"
     ]
    },
    {
     "name": "stderr",
     "output_type": "stream",
     "text": [
      "Score as white: 4:  18%|█▊        | 18/100 [00:03<00:16,  5.01it/s]"
     ]
    },
    {
     "name": "stdout",
     "output_type": "stream",
     "text": [
      " ___\n",
      "|xox|\n",
      "|xo |\n",
      "| o |\n",
      " ---\n"
     ]
    },
    {
     "name": "stderr",
     "output_type": "stream",
     "text": [
      "Score as white: 3:  19%|█▉        | 19/100 [00:03<00:14,  5.61it/s]"
     ]
    },
    {
     "name": "stdout",
     "output_type": "stream",
     "text": [
      " ___\n",
      "|x o|\n",
      "| xo|\n",
      "|xox|\n",
      " ---\n"
     ]
    },
    {
     "name": "stderr",
     "output_type": "stream",
     "text": [
      "Score as white: 4:  20%|██        | 20/100 [00:03<00:13,  5.82it/s]"
     ]
    },
    {
     "name": "stdout",
     "output_type": "stream",
     "text": [
      " ___\n",
      "| xo|\n",
      "| ox|\n",
      "|ox |\n",
      " ---\n"
     ]
    },
    {
     "name": "stderr",
     "output_type": "stream",
     "text": [
      "Score as white: 3:  21%|██        | 21/100 [00:03<00:12,  6.22it/s]"
     ]
    },
    {
     "name": "stdout",
     "output_type": "stream",
     "text": [
      " ___\n",
      "| xo|\n",
      "|xoo|\n",
      "|xxo|\n",
      " ---\n"
     ]
    },
    {
     "name": "stderr",
     "output_type": "stream",
     "text": [
      "Score as white: 2:  22%|██▏       | 22/100 [00:04<00:12,  6.02it/s]"
     ]
    },
    {
     "name": "stdout",
     "output_type": "stream",
     "text": [
      " ___\n",
      "|xoo|\n",
      "|xxo|\n",
      "|oxx|\n",
      " ---\n"
     ]
    },
    {
     "name": "stderr",
     "output_type": "stream",
     "text": [
      "Score as white: 3:  23%|██▎       | 23/100 [00:04<00:13,  5.81it/s]"
     ]
    },
    {
     "name": "stdout",
     "output_type": "stream",
     "text": [
      " ___\n",
      "|xox|\n",
      "|oxo|\n",
      "|xox|\n",
      " ---\n"
     ]
    },
    {
     "name": "stderr",
     "output_type": "stream",
     "text": [
      "Score as white: 4:  24%|██▍       | 24/100 [00:04<00:13,  5.59it/s]"
     ]
    },
    {
     "name": "stdout",
     "output_type": "stream",
     "text": [
      " ___\n",
      "|oxx|\n",
      "|oox|\n",
      "|ox |\n",
      " ---\n"
     ]
    },
    {
     "name": "stderr",
     "output_type": "stream",
     "text": [
      "Score as white: 3:  25%|██▌       | 25/100 [00:04<00:13,  5.56it/s]"
     ]
    },
    {
     "name": "stdout",
     "output_type": "stream",
     "text": [
      " ___\n",
      "|xox|\n",
      "|xxo|\n",
      "|oox|\n",
      " ---\n"
     ]
    },
    {
     "name": "stderr",
     "output_type": "stream",
     "text": [
      "Score as white: 4:  26%|██▌       | 26/100 [00:04<00:13,  5.37it/s]"
     ]
    },
    {
     "name": "stdout",
     "output_type": "stream",
     "text": [
      " ___\n",
      "|xoo|\n",
      "|oxx|\n",
      "|xxo|\n",
      " ---\n"
     ]
    },
    {
     "name": "stderr",
     "output_type": "stream",
     "text": [
      "Score as white: 4:  27%|██▋       | 27/100 [00:05<00:14,  5.17it/s]"
     ]
    },
    {
     "name": "stdout",
     "output_type": "stream",
     "text": [
      " ___\n",
      "|xxx|\n",
      "|xoo|\n",
      "|oxo|\n",
      " ---\n"
     ]
    },
    {
     "name": "stderr",
     "output_type": "stream",
     "text": [
      "Score as white: 5:  28%|██▊       | 28/100 [00:05<00:14,  5.05it/s]"
     ]
    },
    {
     "name": "stdout",
     "output_type": "stream",
     "text": [
      " ___\n",
      "|xoo|\n",
      "|ox |\n",
      "|x x|\n",
      " ---\n"
     ]
    },
    {
     "name": "stderr",
     "output_type": "stream",
     "text": [
      "Score as white: 6:  29%|██▉       | 29/100 [00:05<00:13,  5.43it/s]"
     ]
    },
    {
     "name": "stdout",
     "output_type": "stream",
     "text": [
      " ___\n",
      "|xo |\n",
      "|x  |\n",
      "|x o|\n",
      " ---\n"
     ]
    },
    {
     "name": "stderr",
     "output_type": "stream",
     "text": [
      "Score as white: 7:  30%|███       | 30/100 [00:05<00:11,  6.07it/s]"
     ]
    },
    {
     "name": "stdout",
     "output_type": "stream",
     "text": [
      " ___\n",
      "|  o|\n",
      "|oxo|\n",
      "|xxx|\n",
      " ---\n"
     ]
    },
    {
     "name": "stderr",
     "output_type": "stream",
     "text": [
      "Score as white: 8:  31%|███       | 31/100 [00:05<00:11,  6.26it/s]"
     ]
    },
    {
     "name": "stdout",
     "output_type": "stream",
     "text": [
      " ___\n",
      "|   |\n",
      "|oo |\n",
      "|xxx|\n",
      " ---\n"
     ]
    },
    {
     "name": "stderr",
     "output_type": "stream",
     "text": [
      "Score as white: 9:  32%|███▏      | 32/100 [00:05<00:09,  6.85it/s]"
     ]
    },
    {
     "name": "stdout",
     "output_type": "stream",
     "text": [
      " ___\n",
      "|xox|\n",
      "|xoo|\n",
      "|xxo|\n",
      " ---\n"
     ]
    },
    {
     "name": "stderr",
     "output_type": "stream",
     "text": [
      "Score as white: 10:  33%|███▎      | 33/100 [00:05<00:10,  6.26it/s]"
     ]
    },
    {
     "name": "stdout",
     "output_type": "stream",
     "text": [
      " ___\n",
      "|xox|\n",
      "|oxo|\n",
      "|xxo|\n",
      " ---\n"
     ]
    },
    {
     "name": "stderr",
     "output_type": "stream",
     "text": [
      "Score as white: 11:  34%|███▍      | 34/100 [00:06<00:11,  5.82it/s]"
     ]
    },
    {
     "name": "stdout",
     "output_type": "stream",
     "text": [
      " ___\n",
      "|x o|\n",
      "|oxx|\n",
      "| ox|\n",
      " ---\n"
     ]
    },
    {
     "name": "stderr",
     "output_type": "stream",
     "text": [
      "Score as white: 12:  35%|███▌      | 35/100 [00:06<00:10,  6.03it/s]"
     ]
    },
    {
     "name": "stdout",
     "output_type": "stream",
     "text": [
      " ___\n",
      "|oxx|\n",
      "|oo |\n",
      "|oxx|\n",
      " ---\n"
     ]
    },
    {
     "name": "stderr",
     "output_type": "stream",
     "text": [
      "Score as white: 11:  36%|███▌      | 36/100 [00:06<00:10,  5.91it/s]"
     ]
    },
    {
     "name": "stdout",
     "output_type": "stream",
     "text": [
      " ___\n",
      "|ooo|\n",
      "|  x|\n",
      "|x x|\n",
      " ---\n"
     ]
    },
    {
     "name": "stderr",
     "output_type": "stream",
     "text": [
      "Score as white: 10:  37%|███▋      | 37/100 [00:06<00:09,  6.37it/s]"
     ]
    },
    {
     "name": "stdout",
     "output_type": "stream",
     "text": [
      " ___\n",
      "|oxx|\n",
      "|xoo|\n",
      "|oxx|\n",
      " ---\n"
     ]
    },
    {
     "name": "stderr",
     "output_type": "stream",
     "text": [
      "Score as white: 10:  38%|███▊      | 38/100 [00:06<00:10,  5.90it/s]"
     ]
    },
    {
     "name": "stdout",
     "output_type": "stream",
     "text": [
      " ___\n",
      "|ox |\n",
      "| x |\n",
      "|ox |\n",
      " ---\n"
     ]
    },
    {
     "name": "stderr",
     "output_type": "stream",
     "text": [
      "Score as white: 11:  39%|███▉      | 39/100 [00:06<00:09,  6.56it/s]"
     ]
    },
    {
     "name": "stdout",
     "output_type": "stream",
     "text": [
      " ___\n",
      "|xxo|\n",
      "| ox|\n",
      "|o  |\n",
      " ---\n"
     ]
    },
    {
     "name": "stderr",
     "output_type": "stream",
     "text": [
      "Score as white: 10:  40%|████      | 40/100 [00:07<00:08,  6.74it/s]"
     ]
    },
    {
     "name": "stdout",
     "output_type": "stream",
     "text": [
      " ___\n",
      "|xoo|\n",
      "|oxx|\n",
      "|xxo|\n",
      " ---\n"
     ]
    },
    {
     "name": "stderr",
     "output_type": "stream",
     "text": [
      "Score as white: 10:  41%|████      | 41/100 [00:07<00:09,  6.08it/s]"
     ]
    },
    {
     "name": "stdout",
     "output_type": "stream",
     "text": [
      " ___\n",
      "|xxo|\n",
      "|oxx|\n",
      "|oxo|\n",
      " ---\n"
     ]
    },
    {
     "name": "stderr",
     "output_type": "stream",
     "text": [
      "Score as white: 11:  42%|████▏     | 42/100 [00:07<00:10,  5.66it/s]"
     ]
    },
    {
     "name": "stdout",
     "output_type": "stream",
     "text": [
      " ___\n",
      "|xox|\n",
      "|oxx|\n",
      "|xoo|\n",
      " ---\n"
     ]
    },
    {
     "name": "stderr",
     "output_type": "stream",
     "text": [
      "Score as white: 12:  43%|████▎     | 43/100 [00:07<00:10,  5.46it/s]"
     ]
    },
    {
     "name": "stdout",
     "output_type": "stream",
     "text": [
      " ___\n",
      "| x |\n",
      "| x |\n",
      "|oxo|\n",
      " ---\n"
     ]
    },
    {
     "name": "stderr",
     "output_type": "stream",
     "text": [
      "Score as white: 13:  44%|████▍     | 44/100 [00:07<00:09,  6.11it/s]"
     ]
    },
    {
     "name": "stdout",
     "output_type": "stream",
     "text": [
      " ___\n",
      "|xxx|\n",
      "| oo|\n",
      "|xo |\n",
      " ---\n"
     ]
    },
    {
     "name": "stderr",
     "output_type": "stream",
     "text": [
      "Score as white: 14:  45%|████▌     | 45/100 [00:07<00:08,  6.15it/s]"
     ]
    },
    {
     "name": "stdout",
     "output_type": "stream",
     "text": [
      " ___\n",
      "|ooo|\n",
      "|xx |\n",
      "|oxx|\n",
      " ---\n"
     ]
    },
    {
     "name": "stderr",
     "output_type": "stream",
     "text": [
      "Score as white: 13:  46%|████▌     | 46/100 [00:08<00:09,  5.96it/s]"
     ]
    },
    {
     "name": "stdout",
     "output_type": "stream",
     "text": [
      " ___\n",
      "|xox|\n",
      "|xoo|\n",
      "|xxo|\n",
      " ---\n"
     ]
    },
    {
     "name": "stderr",
     "output_type": "stream",
     "text": [
      "Score as white: 14:  47%|████▋     | 47/100 [00:08<00:09,  5.37it/s]"
     ]
    },
    {
     "name": "stdout",
     "output_type": "stream",
     "text": [
      " ___\n",
      "|oox|\n",
      "|xxo|\n",
      "|oxx|\n",
      " ---\n"
     ]
    },
    {
     "name": "stderr",
     "output_type": "stream",
     "text": [
      "Score as white: 14:  48%|████▊     | 48/100 [00:08<00:10,  5.20it/s]"
     ]
    },
    {
     "name": "stdout",
     "output_type": "stream",
     "text": [
      " ___\n",
      "|xoo|\n",
      "|ox |\n",
      "| xx|\n",
      " ---\n"
     ]
    },
    {
     "name": "stderr",
     "output_type": "stream",
     "text": [
      "Score as white: 15:  49%|████▉     | 49/100 [00:08<00:09,  5.46it/s]"
     ]
    },
    {
     "name": "stdout",
     "output_type": "stream",
     "text": [
      " ___\n",
      "|xoo|\n",
      "|oxx|\n",
      "|xox|\n",
      " ---\n"
     ]
    },
    {
     "name": "stderr",
     "output_type": "stream",
     "text": [
      "Score as white: 16:  50%|█████     | 50/100 [00:08<00:09,  5.08it/s]"
     ]
    },
    {
     "name": "stdout",
     "output_type": "stream",
     "text": [
      " ___\n",
      "|xox|\n",
      "| xo|\n",
      "|xo |\n",
      " ---\n"
     ]
    },
    {
     "name": "stderr",
     "output_type": "stream",
     "text": [
      "Score as white: 17:  51%|█████     | 51/100 [00:09<00:09,  5.14it/s]"
     ]
    },
    {
     "name": "stdout",
     "output_type": "stream",
     "text": [
      " ___\n",
      "|oxo|\n",
      "|oxx|\n",
      "|xxo|\n",
      " ---\n"
     ]
    },
    {
     "name": "stderr",
     "output_type": "stream",
     "text": [
      "Score as white: 18:  52%|█████▏    | 52/100 [00:09<00:10,  4.77it/s]"
     ]
    },
    {
     "name": "stdout",
     "output_type": "stream",
     "text": [
      " ___\n",
      "|oox|\n",
      "|xox|\n",
      "|xo |\n",
      " ---\n"
     ]
    },
    {
     "name": "stderr",
     "output_type": "stream",
     "text": [
      "Score as white: 17:  53%|█████▎    | 53/100 [00:09<00:10,  4.52it/s]"
     ]
    },
    {
     "name": "stdout",
     "output_type": "stream",
     "text": [
      " ___\n",
      "|oxx|\n",
      "|xoo|\n",
      "|oxx|\n",
      " ---\n"
     ]
    },
    {
     "name": "stderr",
     "output_type": "stream",
     "text": [
      "Score as white: 17:  54%|█████▍    | 54/100 [00:09<00:10,  4.56it/s]"
     ]
    },
    {
     "name": "stdout",
     "output_type": "stream",
     "text": [
      " ___\n",
      "| xo|\n",
      "|oxx|\n",
      "| xo|\n",
      " ---\n"
     ]
    },
    {
     "name": "stderr",
     "output_type": "stream",
     "text": [
      "Score as white: 18:  55%|█████▌    | 55/100 [00:10<00:08,  5.01it/s]"
     ]
    },
    {
     "name": "stdout",
     "output_type": "stream",
     "text": [
      " ___\n",
      "|xoo|\n",
      "|oxx|\n",
      "|xox|\n",
      " ---\n"
     ]
    },
    {
     "name": "stderr",
     "output_type": "stream",
     "text": [
      "Score as white: 19:  56%|█████▌    | 56/100 [00:10<00:08,  5.00it/s]"
     ]
    },
    {
     "name": "stdout",
     "output_type": "stream",
     "text": [
      " ___\n",
      "|xo |\n",
      "|xx |\n",
      "|xoo|\n",
      " ---\n"
     ]
    },
    {
     "name": "stderr",
     "output_type": "stream",
     "text": [
      "Score as white: 20:  57%|█████▋    | 57/100 [00:10<00:07,  5.40it/s]"
     ]
    },
    {
     "name": "stdout",
     "output_type": "stream",
     "text": [
      " ___\n",
      "|xxo|\n",
      "|oox|\n",
      "|xox|\n",
      " ---\n"
     ]
    },
    {
     "name": "stderr",
     "output_type": "stream",
     "text": [
      "Score as white: 20:  58%|█████▊    | 58/100 [00:10<00:08,  4.97it/s]"
     ]
    },
    {
     "name": "stdout",
     "output_type": "stream",
     "text": [
      " ___\n",
      "| ox|\n",
      "|ox |\n",
      "|x  |\n",
      " ---\n"
     ]
    },
    {
     "name": "stderr",
     "output_type": "stream",
     "text": [
      "Score as white: 21:  59%|█████▉    | 59/100 [00:10<00:07,  5.61it/s]"
     ]
    },
    {
     "name": "stdout",
     "output_type": "stream",
     "text": [
      " ___\n",
      "|xoo|\n",
      "|xxx|\n",
      "|oxo|\n",
      " ---\n"
     ]
    },
    {
     "name": "stderr",
     "output_type": "stream",
     "text": [
      "Score as white: 22:  60%|██████    | 60/100 [00:10<00:07,  5.18it/s]"
     ]
    },
    {
     "name": "stdout",
     "output_type": "stream",
     "text": [
      " ___\n",
      "|xox|\n",
      "|ooo|\n",
      "|xx |\n",
      " ---\n"
     ]
    },
    {
     "name": "stderr",
     "output_type": "stream",
     "text": [
      "Score as white: 21:  61%|██████    | 61/100 [00:11<00:07,  5.32it/s]"
     ]
    },
    {
     "name": "stdout",
     "output_type": "stream",
     "text": [
      " ___\n",
      "|xox|\n",
      "|ox |\n",
      "| ox|\n",
      " ---\n"
     ]
    },
    {
     "name": "stderr",
     "output_type": "stream",
     "text": [
      "Score as white: 22:  62%|██████▏   | 62/100 [00:11<00:06,  5.58it/s]"
     ]
    },
    {
     "name": "stdout",
     "output_type": "stream",
     "text": [
      " ___\n",
      "|xoo|\n",
      "|xxo|\n",
      "|oxx|\n",
      " ---\n"
     ]
    },
    {
     "name": "stderr",
     "output_type": "stream",
     "text": [
      "Score as white: 23:  63%|██████▎   | 63/100 [00:11<00:07,  5.19it/s]"
     ]
    },
    {
     "name": "stdout",
     "output_type": "stream",
     "text": [
      " ___\n",
      "|oxo|\n",
      "| x |\n",
      "|xxo|\n",
      " ---\n"
     ]
    },
    {
     "name": "stderr",
     "output_type": "stream",
     "text": [
      "Score as white: 24:  64%|██████▍   | 64/100 [00:11<00:06,  5.53it/s]"
     ]
    },
    {
     "name": "stdout",
     "output_type": "stream",
     "text": [
      " ___\n",
      "|xox|\n",
      "|xxo|\n",
      "|oox|\n",
      " ---\n"
     ]
    },
    {
     "name": "stderr",
     "output_type": "stream",
     "text": [
      "Score as white: 25:  65%|██████▌   | 65/100 [00:11<00:06,  5.20it/s]"
     ]
    },
    {
     "name": "stdout",
     "output_type": "stream",
     "text": [
      " ___\n",
      "|xoo|\n",
      "|x  |\n",
      "|xox|\n",
      " ---\n"
     ]
    },
    {
     "name": "stderr",
     "output_type": "stream",
     "text": [
      "Score as white: 26:  66%|██████▌   | 66/100 [00:12<00:06,  5.35it/s]"
     ]
    },
    {
     "name": "stdout",
     "output_type": "stream",
     "text": [
      " ___\n",
      "|oox|\n",
      "|oxx|\n",
      "|xox|\n",
      " ---\n"
     ]
    },
    {
     "name": "stderr",
     "output_type": "stream",
     "text": [
      "Score as white: 27:  67%|██████▋   | 67/100 [00:12<00:06,  4.84it/s]"
     ]
    },
    {
     "name": "stdout",
     "output_type": "stream",
     "text": [
      " ___\n",
      "|oxo|\n",
      "| ox|\n",
      "|xxo|\n",
      " ---\n"
     ]
    },
    {
     "name": "stderr",
     "output_type": "stream",
     "text": [
      "Score as white: 26:  68%|██████▊   | 68/100 [00:12<00:06,  4.85it/s]"
     ]
    },
    {
     "name": "stdout",
     "output_type": "stream",
     "text": [
      " ___\n",
      "|x x|\n",
      "|oxo|\n",
      "|xo |\n",
      " ---\n"
     ]
    },
    {
     "name": "stderr",
     "output_type": "stream",
     "text": [
      "Score as white: 27:  69%|██████▉   | 69/100 [00:12<00:06,  5.09it/s]"
     ]
    },
    {
     "name": "stdout",
     "output_type": "stream",
     "text": [
      " ___\n",
      "|xxx|\n",
      "|xoo|\n",
      "|oxo|\n",
      " ---\n"
     ]
    },
    {
     "name": "stderr",
     "output_type": "stream",
     "text": [
      "Score as white: 28:  70%|███████   | 70/100 [00:12<00:06,  4.65it/s]"
     ]
    },
    {
     "name": "stdout",
     "output_type": "stream",
     "text": [
      " ___\n",
      "|oxo|\n",
      "|xxx|\n",
      "|xoo|\n",
      " ---\n"
     ]
    },
    {
     "name": "stderr",
     "output_type": "stream",
     "text": [
      "Score as white: 29:  71%|███████   | 71/100 [00:13<00:06,  4.62it/s]"
     ]
    },
    {
     "name": "stdout",
     "output_type": "stream",
     "text": [
      " ___\n",
      "|o x|\n",
      "| x |\n",
      "|xo |\n",
      " ---\n"
     ]
    },
    {
     "name": "stderr",
     "output_type": "stream",
     "text": [
      "Score as white: 30:  72%|███████▏  | 72/100 [00:13<00:05,  5.10it/s]"
     ]
    },
    {
     "name": "stdout",
     "output_type": "stream",
     "text": [
      " ___\n",
      "|xxo|\n",
      "| o |\n",
      "|ox |\n",
      " ---\n"
     ]
    },
    {
     "name": "stderr",
     "output_type": "stream",
     "text": [
      "Score as white: 29:  73%|███████▎  | 73/100 [00:13<00:05,  5.37it/s]"
     ]
    },
    {
     "name": "stdout",
     "output_type": "stream",
     "text": [
      " ___\n",
      "| oo|\n",
      "|ox |\n",
      "|xxx|\n",
      " ---\n"
     ]
    },
    {
     "name": "stderr",
     "output_type": "stream",
     "text": [
      "Score as white: 30:  74%|███████▍  | 74/100 [00:13<00:04,  5.58it/s]"
     ]
    },
    {
     "name": "stdout",
     "output_type": "stream",
     "text": [
      " ___\n",
      "|oox|\n",
      "|xox|\n",
      "|oxx|\n",
      " ---\n"
     ]
    },
    {
     "name": "stderr",
     "output_type": "stream",
     "text": [
      "Score as white: 31:  75%|███████▌  | 75/100 [00:13<00:05,  4.97it/s]"
     ]
    },
    {
     "name": "stdout",
     "output_type": "stream",
     "text": [
      " ___\n",
      "|oox|\n",
      "|xoo|\n",
      "|xxx|\n",
      " ---\n"
     ]
    },
    {
     "name": "stderr",
     "output_type": "stream",
     "text": [
      "Score as white: 32:  76%|███████▌  | 76/100 [00:14<00:05,  4.75it/s]"
     ]
    },
    {
     "name": "stdout",
     "output_type": "stream",
     "text": [
      " ___\n",
      "|xxo|\n",
      "|oxx|\n",
      "|oxo|\n",
      " ---\n"
     ]
    },
    {
     "name": "stderr",
     "output_type": "stream",
     "text": [
      "Score as white: 33:  77%|███████▋  | 77/100 [00:14<00:05,  4.60it/s]"
     ]
    },
    {
     "name": "stdout",
     "output_type": "stream",
     "text": [
      " ___\n",
      "|oox|\n",
      "|  x|\n",
      "|  x|\n",
      " ---\n"
     ]
    },
    {
     "name": "stderr",
     "output_type": "stream",
     "text": [
      "Score as white: 34:  78%|███████▊  | 78/100 [00:14<00:04,  5.29it/s]"
     ]
    },
    {
     "name": "stdout",
     "output_type": "stream",
     "text": [
      " ___\n",
      "|ooo|\n",
      "| x |\n",
      "|xx |\n",
      " ---\n"
     ]
    },
    {
     "name": "stderr",
     "output_type": "stream",
     "text": [
      "Score as white: 33:  79%|███████▉  | 79/100 [00:14<00:03,  5.49it/s]"
     ]
    },
    {
     "name": "stdout",
     "output_type": "stream",
     "text": [
      " ___\n",
      "|oxo|\n",
      "|oxx|\n",
      "|xox|\n",
      " ---\n"
     ]
    },
    {
     "name": "stderr",
     "output_type": "stream",
     "text": [
      "Score as white: 33:  80%|████████  | 80/100 [00:14<00:03,  5.21it/s]"
     ]
    },
    {
     "name": "stdout",
     "output_type": "stream",
     "text": [
      " ___\n",
      "|xxx|\n",
      "|xoo|\n",
      "|oxo|\n",
      " ---\n"
     ]
    },
    {
     "name": "stderr",
     "output_type": "stream",
     "text": [
      "Score as white: 34:  81%|████████  | 81/100 [00:15<00:04,  4.30it/s]"
     ]
    },
    {
     "name": "stdout",
     "output_type": "stream",
     "text": [
      " ___\n",
      "|xox|\n",
      "|xxo|\n",
      "|oox|\n",
      " ---\n"
     ]
    },
    {
     "name": "stderr",
     "output_type": "stream",
     "text": [
      "Score as white: 35:  82%|████████▏ | 82/100 [00:15<00:04,  4.29it/s]"
     ]
    },
    {
     "name": "stdout",
     "output_type": "stream",
     "text": [
      " ___\n",
      "|x o|\n",
      "| o |\n",
      "|oxx|\n",
      " ---\n"
     ]
    },
    {
     "name": "stderr",
     "output_type": "stream",
     "text": [
      "Score as white: 34:  83%|████████▎ | 83/100 [00:15<00:04,  4.18it/s]"
     ]
    },
    {
     "name": "stdout",
     "output_type": "stream",
     "text": [
      " ___\n",
      "|oxo|\n",
      "|xox|\n",
      "|x o|\n",
      " ---\n"
     ]
    },
    {
     "name": "stderr",
     "output_type": "stream",
     "text": [
      "Score as white: 33:  84%|████████▍ | 84/100 [00:15<00:03,  4.47it/s]"
     ]
    },
    {
     "name": "stdout",
     "output_type": "stream",
     "text": [
      " ___\n",
      "| x |\n",
      "| x |\n",
      "|oxo|\n",
      " ---\n"
     ]
    },
    {
     "name": "stderr",
     "output_type": "stream",
     "text": [
      "Score as white: 34:  85%|████████▌ | 85/100 [00:15<00:02,  5.20it/s]"
     ]
    },
    {
     "name": "stdout",
     "output_type": "stream",
     "text": [
      " ___\n",
      "|xxo|\n",
      "|xox|\n",
      "|xoo|\n",
      " ---\n"
     ]
    },
    {
     "name": "stderr",
     "output_type": "stream",
     "text": [
      "Score as white: 35:  86%|████████▌ | 86/100 [00:16<00:02,  4.96it/s]"
     ]
    },
    {
     "name": "stdout",
     "output_type": "stream",
     "text": [
      " ___\n",
      "|xo |\n",
      "| o |\n",
      "|xox|\n",
      " ---\n"
     ]
    },
    {
     "name": "stderr",
     "output_type": "stream",
     "text": [
      "Score as white: 34:  87%|████████▋ | 87/100 [00:16<00:02,  5.30it/s]"
     ]
    },
    {
     "name": "stdout",
     "output_type": "stream",
     "text": [
      " ___\n",
      "|oxo|\n",
      "|oxo|\n",
      "|xxx|\n",
      " ---\n"
     ]
    },
    {
     "name": "stderr",
     "output_type": "stream",
     "text": [
      "Score as white: 35:  88%|████████▊ | 88/100 [00:16<00:02,  4.86it/s]"
     ]
    },
    {
     "name": "stdout",
     "output_type": "stream",
     "text": [
      " ___\n",
      "| xx|\n",
      "|ooo|\n",
      "|oxx|\n",
      " ---\n"
     ]
    },
    {
     "name": "stderr",
     "output_type": "stream",
     "text": [
      "Score as white: 34:  89%|████████▉ | 89/100 [00:16<00:02,  4.87it/s]"
     ]
    },
    {
     "name": "stdout",
     "output_type": "stream",
     "text": [
      " ___\n",
      "|xoo|\n",
      "|x x|\n",
      "|x o|\n",
      " ---\n"
     ]
    },
    {
     "name": "stderr",
     "output_type": "stream",
     "text": [
      "Score as white: 35:  90%|█████████ | 90/100 [00:16<00:01,  5.08it/s]"
     ]
    },
    {
     "name": "stdout",
     "output_type": "stream",
     "text": [
      " ___\n",
      "|xxo|\n",
      "|oxo|\n",
      "|oxx|\n",
      " ---\n"
     ]
    },
    {
     "name": "stderr",
     "output_type": "stream",
     "text": [
      "Score as white: 36:  91%|█████████ | 91/100 [00:17<00:01,  4.80it/s]"
     ]
    },
    {
     "name": "stdout",
     "output_type": "stream",
     "text": [
      " ___\n",
      "|oxo|\n",
      "| ox|\n",
      "|xxo|\n",
      " ---\n"
     ]
    },
    {
     "name": "stderr",
     "output_type": "stream",
     "text": [
      "Score as white: 35:  92%|█████████▏| 92/100 [00:17<00:01,  4.83it/s]"
     ]
    },
    {
     "name": "stdout",
     "output_type": "stream",
     "text": [
      " ___\n",
      "|xo |\n",
      "| ox|\n",
      "|xo |\n",
      " ---\n"
     ]
    },
    {
     "name": "stderr",
     "output_type": "stream",
     "text": [
      "Score as white: 34:  93%|█████████▎| 93/100 [00:17<00:01,  5.18it/s]"
     ]
    },
    {
     "name": "stdout",
     "output_type": "stream",
     "text": [
      " ___\n",
      "|x o|\n",
      "|xo |\n",
      "|ox |\n",
      " ---\n"
     ]
    },
    {
     "name": "stderr",
     "output_type": "stream",
     "text": [
      "Score as white: 33:  94%|█████████▍| 94/100 [00:17<00:01,  5.50it/s]"
     ]
    },
    {
     "name": "stdout",
     "output_type": "stream",
     "text": [
      " ___\n",
      "|oxo|\n",
      "|oxx|\n",
      "|xox|\n",
      " ---\n"
     ]
    },
    {
     "name": "stderr",
     "output_type": "stream",
     "text": [
      "Score as white: 33:  95%|█████████▌| 95/100 [00:17<00:00,  5.09it/s]"
     ]
    },
    {
     "name": "stdout",
     "output_type": "stream",
     "text": [
      " ___\n",
      "|oxx|\n",
      "|oox|\n",
      "|ox |\n",
      " ---\n"
     ]
    },
    {
     "name": "stderr",
     "output_type": "stream",
     "text": [
      "Score as white: 32:  96%|█████████▌| 96/100 [00:18<00:00,  5.04it/s]"
     ]
    },
    {
     "name": "stdout",
     "output_type": "stream",
     "text": [
      " ___\n",
      "|xox|\n",
      "|oxx|\n",
      "|xoo|\n",
      " ---\n"
     ]
    },
    {
     "name": "stderr",
     "output_type": "stream",
     "text": [
      "Score as white: 33:  97%|█████████▋| 97/100 [00:18<00:00,  4.73it/s]"
     ]
    },
    {
     "name": "stdout",
     "output_type": "stream",
     "text": [
      " ___\n",
      "|xxx|\n",
      "|ox |\n",
      "|o o|\n",
      " ---\n"
     ]
    },
    {
     "name": "stderr",
     "output_type": "stream",
     "text": [
      "Score as white: 34:  98%|█████████▊| 98/100 [00:18<00:00,  4.93it/s]"
     ]
    },
    {
     "name": "stdout",
     "output_type": "stream",
     "text": [
      " ___\n",
      "|x o|\n",
      "|xx |\n",
      "|xoo|\n",
      " ---\n"
     ]
    },
    {
     "name": "stderr",
     "output_type": "stream",
     "text": [
      "Score as white: 35:  99%|█████████▉| 99/100 [00:18<00:00,  4.78it/s]"
     ]
    },
    {
     "name": "stdout",
     "output_type": "stream",
     "text": [
      " ___\n",
      "|oox|\n",
      "|xoo|\n",
      "|xxx|\n",
      " ---\n"
     ]
    },
    {
     "name": "stderr",
     "output_type": "stream",
     "text": [
      "Score as white: 36: 100%|██████████| 100/100 [00:19<00:00,  5.21it/s]\n",
      "  0%|          | 0/100 [00:00<?, ?it/s]"
     ]
    },
    {
     "name": "stdout",
     "output_type": "stream",
     "text": [
      " ___\n",
      "|x x|\n",
      "|  x|\n",
      "|ooo|\n",
      " ---\n"
     ]
    },
    {
     "name": "stderr",
     "output_type": "stream",
     "text": [
      "Score as black: 1:   1%|          | 1/100 [00:00<00:31,  3.14it/s]"
     ]
    },
    {
     "name": "stdout",
     "output_type": "stream",
     "text": [
      " ___\n",
      "|xxx|\n",
      "|xoo|\n",
      "|o  |\n",
      " ---\n"
     ]
    },
    {
     "name": "stderr",
     "output_type": "stream",
     "text": [
      "Score as black: 0:   2%|▏         | 2/100 [00:00<00:28,  3.42it/s]"
     ]
    },
    {
     "name": "stdout",
     "output_type": "stream",
     "text": [
      " ___\n",
      "|xox|\n",
      "| ox|\n",
      "|xoo|\n",
      " ---\n"
     ]
    },
    {
     "name": "stderr",
     "output_type": "stream",
     "text": [
      "Score as black: 1:   3%|▎         | 3/100 [00:00<00:27,  3.57it/s]"
     ]
    },
    {
     "name": "stdout",
     "output_type": "stream",
     "text": [
      " ___\n",
      "|xxo|\n",
      "|oox|\n",
      "|xxo|\n",
      " ---\n"
     ]
    },
    {
     "name": "stderr",
     "output_type": "stream",
     "text": [
      "Score as black: 1:   4%|▍         | 4/100 [00:01<00:27,  3.50it/s]"
     ]
    },
    {
     "name": "stdout",
     "output_type": "stream",
     "text": [
      " ___\n",
      "|xxo|\n",
      "|oxx|\n",
      "|oox|\n",
      " ---\n"
     ]
    },
    {
     "name": "stderr",
     "output_type": "stream",
     "text": [
      "Score as black: 0:   5%|▌         | 5/100 [00:01<00:27,  3.49it/s]"
     ]
    },
    {
     "name": "stdout",
     "output_type": "stream",
     "text": [
      " ___\n",
      "|xoo|\n",
      "|xo |\n",
      "|xx |\n",
      " ---\n"
     ]
    },
    {
     "name": "stderr",
     "output_type": "stream",
     "text": [
      "Score as black: -1:   6%|▌         | 6/100 [00:01<00:24,  3.82it/s]"
     ]
    },
    {
     "name": "stdout",
     "output_type": "stream",
     "text": [
      " ___\n",
      "|xxx|\n",
      "|x o|\n",
      "| oo|\n",
      " ---\n"
     ]
    },
    {
     "name": "stderr",
     "output_type": "stream",
     "text": [
      "Score as black: -2:   7%|▋         | 7/100 [00:01<00:24,  3.87it/s]"
     ]
    },
    {
     "name": "stdout",
     "output_type": "stream",
     "text": [
      " ___\n",
      "|x o|\n",
      "|oxo|\n",
      "|x x|\n",
      " ---\n"
     ]
    },
    {
     "name": "stderr",
     "output_type": "stream",
     "text": [
      "Score as black: -3:   8%|▊         | 8/100 [00:02<00:21,  4.28it/s]"
     ]
    },
    {
     "name": "stdout",
     "output_type": "stream",
     "text": [
      " ___\n",
      "|x o|\n",
      "|xxo|\n",
      "|xo |\n",
      " ---\n"
     ]
    },
    {
     "name": "stderr",
     "output_type": "stream",
     "text": [
      "Score as black: -4:   9%|▉         | 9/100 [00:02<00:19,  4.65it/s]"
     ]
    },
    {
     "name": "stdout",
     "output_type": "stream",
     "text": [
      " ___\n",
      "|xox|\n",
      "|ox |\n",
      "| ox|\n",
      " ---\n"
     ]
    },
    {
     "name": "stderr",
     "output_type": "stream",
     "text": [
      "Score as black: -5:  10%|█         | 10/100 [00:02<00:18,  4.89it/s]"
     ]
    },
    {
     "name": "stdout",
     "output_type": "stream",
     "text": [
      " ___\n",
      "|oox|\n",
      "| x |\n",
      "|xox|\n",
      " ---\n"
     ]
    },
    {
     "name": "stderr",
     "output_type": "stream",
     "text": [
      "Score as black: -6:  11%|█         | 11/100 [00:02<00:17,  5.06it/s]"
     ]
    },
    {
     "name": "stdout",
     "output_type": "stream",
     "text": [
      " ___\n",
      "|x x|\n",
      "|oxo|\n",
      "| ox|\n",
      " ---\n"
     ]
    },
    {
     "name": "stderr",
     "output_type": "stream",
     "text": [
      "Score as black: -7:  12%|█▏        | 12/100 [00:02<00:16,  5.19it/s]"
     ]
    },
    {
     "name": "stdout",
     "output_type": "stream",
     "text": [
      " ___\n",
      "| o |\n",
      "|xo |\n",
      "|xox|\n",
      " ---\n"
     ]
    },
    {
     "name": "stderr",
     "output_type": "stream",
     "text": [
      "Score as black: -6:  13%|█▎        | 13/100 [00:02<00:15,  5.60it/s]"
     ]
    },
    {
     "name": "stdout",
     "output_type": "stream",
     "text": [
      " ___\n",
      "| oo|\n",
      "|xxx|\n",
      "|x o|\n",
      " ---\n"
     ]
    },
    {
     "name": "stderr",
     "output_type": "stream",
     "text": [
      "Score as black: -7:  14%|█▍        | 14/100 [00:03<00:15,  5.70it/s]"
     ]
    },
    {
     "name": "stdout",
     "output_type": "stream",
     "text": [
      " ___\n",
      "|oxx|\n",
      "|xoo|\n",
      "|oxx|\n",
      " ---\n"
     ]
    },
    {
     "name": "stderr",
     "output_type": "stream",
     "text": [
      "Score as black: -7:  15%|█▌        | 15/100 [00:03<00:15,  5.38it/s]"
     ]
    },
    {
     "name": "stdout",
     "output_type": "stream",
     "text": [
      " ___\n",
      "| x |\n",
      "|ooo|\n",
      "|x x|\n",
      " ---\n"
     ]
    },
    {
     "name": "stderr",
     "output_type": "stream",
     "text": [
      "Score as black: -6:  16%|█▌        | 16/100 [00:03<00:14,  5.79it/s]"
     ]
    },
    {
     "name": "stdout",
     "output_type": "stream",
     "text": [
      " ___\n",
      "|o o|\n",
      "|xxx|\n",
      "|xo |\n",
      " ---\n"
     ]
    },
    {
     "name": "stderr",
     "output_type": "stream",
     "text": [
      "Score as black: -7:  17%|█▋        | 17/100 [00:03<00:14,  5.74it/s]"
     ]
    },
    {
     "name": "stdout",
     "output_type": "stream",
     "text": [
      " ___\n",
      "|xox|\n",
      "|xo |\n",
      "|oox|\n",
      " ---\n"
     ]
    },
    {
     "name": "stderr",
     "output_type": "stream",
     "text": [
      "Score as black: -6:  18%|█▊        | 18/100 [00:03<00:15,  5.23it/s]"
     ]
    },
    {
     "name": "stdout",
     "output_type": "stream",
     "text": [
      " ___\n",
      "|xo |\n",
      "|x o|\n",
      "|xxo|\n",
      " ---\n"
     ]
    },
    {
     "name": "stderr",
     "output_type": "stream",
     "text": [
      "Score as black: -7:  19%|█▉        | 19/100 [00:03<00:15,  5.30it/s]"
     ]
    },
    {
     "name": "stdout",
     "output_type": "stream",
     "text": [
      " ___\n",
      "|xxo|\n",
      "|xxo|\n",
      "|o o|\n",
      " ---\n"
     ]
    },
    {
     "name": "stderr",
     "output_type": "stream",
     "text": [
      "Score as black: -6:  20%|██        | 20/100 [00:04<00:15,  5.18it/s]"
     ]
    },
    {
     "name": "stdout",
     "output_type": "stream",
     "text": [
      " ___\n",
      "| o |\n",
      "| o |\n",
      "|xxx|\n",
      " ---\n"
     ]
    },
    {
     "name": "stderr",
     "output_type": "stream",
     "text": [
      "Score as black: -7:  21%|██        | 21/100 [00:04<00:13,  5.75it/s]"
     ]
    },
    {
     "name": "stdout",
     "output_type": "stream",
     "text": [
      " ___\n",
      "|oxo|\n",
      "|oxx|\n",
      "|xox|\n",
      " ---\n"
     ]
    },
    {
     "name": "stderr",
     "output_type": "stream",
     "text": [
      "Score as black: -7:  22%|██▏       | 22/100 [00:04<00:15,  4.96it/s]"
     ]
    },
    {
     "name": "stdout",
     "output_type": "stream",
     "text": [
      " ___\n",
      "|oxx|\n",
      "|ox |\n",
      "|oox|\n",
      " ---\n"
     ]
    },
    {
     "name": "stderr",
     "output_type": "stream",
     "text": [
      "Score as black: -6:  23%|██▎       | 23/100 [00:04<00:15,  4.81it/s]"
     ]
    },
    {
     "name": "stdout",
     "output_type": "stream",
     "text": [
      " ___\n",
      "|xxx|\n",
      "|xoo|\n",
      "|xoo|\n",
      " ---\n"
     ]
    },
    {
     "name": "stderr",
     "output_type": "stream",
     "text": [
      "Score as black: -7:  24%|██▍       | 24/100 [00:05<00:16,  4.65it/s]"
     ]
    },
    {
     "name": "stdout",
     "output_type": "stream",
     "text": [
      " ___\n",
      "|xox|\n",
      "|xxo|\n",
      "|xoo|\n",
      " ---\n"
     ]
    },
    {
     "name": "stderr",
     "output_type": "stream",
     "text": [
      "Score as black: -8:  25%|██▌       | 25/100 [00:05<00:16,  4.57it/s]"
     ]
    },
    {
     "name": "stdout",
     "output_type": "stream",
     "text": [
      " ___\n",
      "|oxx|\n",
      "|oxx|\n",
      "|xoo|\n",
      " ---\n"
     ]
    },
    {
     "name": "stderr",
     "output_type": "stream",
     "text": [
      "Score as black: -9:  26%|██▌       | 26/100 [00:05<00:18,  4.10it/s]"
     ]
    },
    {
     "name": "stdout",
     "output_type": "stream",
     "text": [
      " ___\n",
      "|oox|\n",
      "|xoo|\n",
      "|xxx|\n",
      " ---\n"
     ]
    },
    {
     "name": "stderr",
     "output_type": "stream",
     "text": [
      "Score as black: -10:  27%|██▋       | 27/100 [00:05<00:17,  4.08it/s]"
     ]
    },
    {
     "name": "stdout",
     "output_type": "stream",
     "text": [
      " ___\n",
      "|o o|\n",
      "|xox|\n",
      "|xxo|\n",
      " ---\n"
     ]
    },
    {
     "name": "stderr",
     "output_type": "stream",
     "text": [
      "Score as black: -9:  28%|██▊       | 28/100 [00:06<00:16,  4.29it/s] "
     ]
    },
    {
     "name": "stdout",
     "output_type": "stream",
     "text": [
      " ___\n",
      "|xox|\n",
      "|xxo|\n",
      "|oxo|\n",
      " ---\n"
     ]
    },
    {
     "name": "stderr",
     "output_type": "stream",
     "text": [
      "Score as black: -9:  29%|██▉       | 29/100 [00:06<00:16,  4.34it/s]"
     ]
    },
    {
     "name": "stdout",
     "output_type": "stream",
     "text": [
      " ___\n",
      "|xox|\n",
      "|oo |\n",
      "|xox|\n",
      " ---\n"
     ]
    },
    {
     "name": "stderr",
     "output_type": "stream",
     "text": [
      "Score as black: -8:  30%|███       | 30/100 [00:06<00:15,  4.41it/s]"
     ]
    },
    {
     "name": "stdout",
     "output_type": "stream",
     "text": [
      " ___\n",
      "|xo |\n",
      "|xo |\n",
      "|xxo|\n",
      " ---\n"
     ]
    },
    {
     "name": "stderr",
     "output_type": "stream",
     "text": [
      "Score as black: -9:  31%|███       | 31/100 [00:06<00:15,  4.51it/s]"
     ]
    },
    {
     "name": "stdout",
     "output_type": "stream",
     "text": [
      " ___\n",
      "|xox|\n",
      "|oxx|\n",
      "|oxo|\n",
      " ---\n"
     ]
    },
    {
     "name": "stderr",
     "output_type": "stream",
     "text": [
      "Score as black: -9:  32%|███▏      | 32/100 [00:06<00:16,  4.05it/s]"
     ]
    },
    {
     "name": "stdout",
     "output_type": "stream",
     "text": [
      " ___\n",
      "|ooo|\n",
      "| xx|\n",
      "|xox|\n",
      " ---\n"
     ]
    },
    {
     "name": "stderr",
     "output_type": "stream",
     "text": [
      "Score as black: -8:  33%|███▎      | 33/100 [00:07<00:15,  4.35it/s]"
     ]
    },
    {
     "name": "stdout",
     "output_type": "stream",
     "text": [
      " ___\n",
      "|x o|\n",
      "|xox|\n",
      "|oox|\n",
      " ---\n"
     ]
    },
    {
     "name": "stderr",
     "output_type": "stream",
     "text": [
      "Score as black: -7:  34%|███▍      | 34/100 [00:07<00:14,  4.44it/s]"
     ]
    },
    {
     "name": "stdout",
     "output_type": "stream",
     "text": [
      " ___\n",
      "|ox |\n",
      "| x |\n",
      "|ox |\n",
      " ---\n"
     ]
    },
    {
     "name": "stderr",
     "output_type": "stream",
     "text": [
      "Score as black: -8:  35%|███▌      | 35/100 [00:07<00:13,  4.93it/s]"
     ]
    },
    {
     "name": "stdout",
     "output_type": "stream",
     "text": [
      " ___\n",
      "|oox|\n",
      "|xxo|\n",
      "|oxx|\n",
      " ---\n"
     ]
    },
    {
     "name": "stderr",
     "output_type": "stream",
     "text": [
      "Score as black: -8:  36%|███▌      | 36/100 [00:07<00:14,  4.36it/s]"
     ]
    },
    {
     "name": "stdout",
     "output_type": "stream",
     "text": [
      " ___\n",
      "|xxo|\n",
      "|oxo|\n",
      "|xox|\n",
      " ---\n"
     ]
    },
    {
     "name": "stderr",
     "output_type": "stream",
     "text": [
      "Score as black: -9:  37%|███▋      | 37/100 [00:08<00:15,  4.17it/s]"
     ]
    },
    {
     "name": "stdout",
     "output_type": "stream",
     "text": [
      " ___\n",
      "|oxx|\n",
      "|oxo|\n",
      "|xox|\n",
      " ---\n"
     ]
    },
    {
     "name": "stderr",
     "output_type": "stream",
     "text": [
      "Score as black: -10:  38%|███▊      | 38/100 [00:08<00:14,  4.18it/s]"
     ]
    },
    {
     "name": "stdout",
     "output_type": "stream",
     "text": [
      " ___\n",
      "|xoo|\n",
      "|xox|\n",
      "|xxo|\n",
      " ---\n"
     ]
    },
    {
     "name": "stderr",
     "output_type": "stream",
     "text": [
      "Score as black: -11:  39%|███▉      | 39/100 [00:08<00:15,  4.01it/s]"
     ]
    },
    {
     "name": "stdout",
     "output_type": "stream",
     "text": [
      " ___\n",
      "|oxo|\n",
      "| ox|\n",
      "|xxo|\n",
      " ---\n"
     ]
    },
    {
     "name": "stderr",
     "output_type": "stream",
     "text": [
      "Score as black: -10:  40%|████      | 40/100 [00:08<00:15,  3.93it/s]"
     ]
    },
    {
     "name": "stdout",
     "output_type": "stream",
     "text": [
      " ___\n",
      "|xox|\n",
      "|x x|\n",
      "|ooo|\n",
      " ---\n"
     ]
    },
    {
     "name": "stderr",
     "output_type": "stream",
     "text": [
      "Score as black: -9:  41%|████      | 41/100 [00:09<00:15,  3.85it/s] "
     ]
    },
    {
     "name": "stdout",
     "output_type": "stream",
     "text": [
      " ___\n",
      "|xox|\n",
      "|xoo|\n",
      "|oxx|\n",
      " ---\n"
     ]
    },
    {
     "name": "stderr",
     "output_type": "stream",
     "text": [
      "Score as black: -9:  42%|████▏     | 42/100 [00:09<00:16,  3.58it/s]"
     ]
    },
    {
     "name": "stdout",
     "output_type": "stream",
     "text": [
      " ___\n",
      "|xxo|\n",
      "|oxx|\n",
      "|xoo|\n",
      " ---\n"
     ]
    },
    {
     "name": "stderr",
     "output_type": "stream",
     "text": [
      "Score as black: -9:  43%|████▎     | 43/100 [00:09<00:15,  3.69it/s]"
     ]
    },
    {
     "name": "stdout",
     "output_type": "stream",
     "text": [
      " ___\n",
      "|xxx|\n",
      "|oox|\n",
      "|xoo|\n",
      " ---\n"
     ]
    },
    {
     "name": "stderr",
     "output_type": "stream",
     "text": [
      "Score as black: -10:  44%|████▍     | 44/100 [00:09<00:14,  3.76it/s]"
     ]
    },
    {
     "name": "stdout",
     "output_type": "stream",
     "text": [
      " ___\n",
      "|xxo|\n",
      "|o o|\n",
      "|xxo|\n",
      " ---\n"
     ]
    },
    {
     "name": "stderr",
     "output_type": "stream",
     "text": [
      "Score as black: -9:  45%|████▌     | 45/100 [00:10<00:14,  3.93it/s] "
     ]
    },
    {
     "name": "stdout",
     "output_type": "stream",
     "text": [
      " ___\n",
      "| oo|\n",
      "|xox|\n",
      "|oxx|\n",
      " ---\n"
     ]
    },
    {
     "name": "stderr",
     "output_type": "stream",
     "text": [
      "Score as black: -8:  46%|████▌     | 46/100 [00:10<00:13,  4.11it/s]"
     ]
    },
    {
     "name": "stdout",
     "output_type": "stream",
     "text": [
      " ___\n",
      "|xxx|\n",
      "|o  |\n",
      "|oox|\n",
      " ---\n"
     ]
    },
    {
     "name": "stderr",
     "output_type": "stream",
     "text": [
      "Score as black: -9:  47%|████▋     | 47/100 [00:10<00:12,  4.28it/s]"
     ]
    },
    {
     "name": "stdout",
     "output_type": "stream",
     "text": [
      " ___\n",
      "|xoo|\n",
      "|xox|\n",
      "|xxo|\n",
      " ---\n"
     ]
    },
    {
     "name": "stderr",
     "output_type": "stream",
     "text": [
      "Score as black: -10:  48%|████▊     | 48/100 [00:10<00:12,  4.05it/s]"
     ]
    },
    {
     "name": "stdout",
     "output_type": "stream",
     "text": [
      " ___\n",
      "|xxo|\n",
      "| ox|\n",
      "|oxo|\n",
      " ---\n"
     ]
    },
    {
     "name": "stderr",
     "output_type": "stream",
     "text": [
      "Score as black: -9:  49%|████▉     | 49/100 [00:11<00:13,  3.75it/s] "
     ]
    },
    {
     "name": "stdout",
     "output_type": "stream",
     "text": [
      " ___\n",
      "|ox |\n",
      "|xox|\n",
      "|xoo|\n",
      " ---\n"
     ]
    },
    {
     "name": "stderr",
     "output_type": "stream",
     "text": [
      "Score as black: -8:  50%|█████     | 50/100 [00:11<00:12,  3.92it/s]"
     ]
    },
    {
     "name": "stdout",
     "output_type": "stream",
     "text": [
      " ___\n",
      "|oxx|\n",
      "| ox|\n",
      "|xoo|\n",
      " ---\n"
     ]
    },
    {
     "name": "stderr",
     "output_type": "stream",
     "text": [
      "Score as black: -7:  51%|█████     | 51/100 [00:11<00:12,  4.02it/s]"
     ]
    },
    {
     "name": "stdout",
     "output_type": "stream",
     "text": [
      " ___\n",
      "|xox|\n",
      "|oox|\n",
      "|xxo|\n",
      " ---\n"
     ]
    },
    {
     "name": "stderr",
     "output_type": "stream",
     "text": [
      "Score as black: -7:  52%|█████▏    | 52/100 [00:11<00:11,  4.09it/s]"
     ]
    },
    {
     "name": "stdout",
     "output_type": "stream",
     "text": [
      " ___\n",
      "|xxo|\n",
      "| xx|\n",
      "|ooo|\n",
      " ---\n"
     ]
    },
    {
     "name": "stderr",
     "output_type": "stream",
     "text": [
      "Score as black: -6:  53%|█████▎    | 53/100 [00:12<00:11,  4.03it/s]"
     ]
    },
    {
     "name": "stdout",
     "output_type": "stream",
     "text": [
      " ___\n",
      "|oxx|\n",
      "|xoo|\n",
      "|oxx|\n",
      " ---\n"
     ]
    },
    {
     "name": "stderr",
     "output_type": "stream",
     "text": [
      "Score as black: -6:  54%|█████▍    | 54/100 [00:12<00:11,  3.86it/s]"
     ]
    },
    {
     "name": "stdout",
     "output_type": "stream",
     "text": [
      " ___\n",
      "|  o|\n",
      "|xxx|\n",
      "|oox|\n",
      " ---\n"
     ]
    },
    {
     "name": "stderr",
     "output_type": "stream",
     "text": [
      "Score as black: -7:  55%|█████▌    | 55/100 [00:12<00:10,  4.11it/s]"
     ]
    },
    {
     "name": "stdout",
     "output_type": "stream",
     "text": [
      " ___\n",
      "|o x|\n",
      "|xxx|\n",
      "|oo |\n",
      " ---\n"
     ]
    },
    {
     "name": "stderr",
     "output_type": "stream",
     "text": [
      "Score as black: -8:  56%|█████▌    | 56/100 [00:12<00:10,  4.28it/s]"
     ]
    },
    {
     "name": "stdout",
     "output_type": "stream",
     "text": [
      " ___\n",
      "|oox|\n",
      "|xoo|\n",
      "|xxx|\n",
      " ---\n"
     ]
    },
    {
     "name": "stderr",
     "output_type": "stream",
     "text": [
      "Score as black: -9:  57%|█████▋    | 57/100 [00:13<00:10,  3.97it/s]"
     ]
    },
    {
     "name": "stdout",
     "output_type": "stream",
     "text": [
      " ___\n",
      "|xxx|\n",
      "|xoo|\n",
      "|xoo|\n",
      " ---\n"
     ]
    },
    {
     "name": "stderr",
     "output_type": "stream",
     "text": [
      "Score as black: -10:  58%|█████▊    | 58/100 [00:13<00:10,  3.82it/s]"
     ]
    },
    {
     "name": "stdout",
     "output_type": "stream",
     "text": [
      " ___\n",
      "|  o|\n",
      "|x o|\n",
      "|xxo|\n",
      " ---\n"
     ]
    },
    {
     "name": "stderr",
     "output_type": "stream",
     "text": [
      "Score as black: -9:  59%|█████▉    | 59/100 [00:13<00:09,  4.13it/s] "
     ]
    },
    {
     "name": "stdout",
     "output_type": "stream",
     "text": [
      " ___\n",
      "|oxx|\n",
      "|oox|\n",
      "|ox |\n",
      " ---\n"
     ]
    },
    {
     "name": "stderr",
     "output_type": "stream",
     "text": [
      "Score as black: -8:  60%|██████    | 60/100 [00:13<00:09,  4.25it/s]"
     ]
    },
    {
     "name": "stdout",
     "output_type": "stream",
     "text": [
      " ___\n",
      "|xxo|\n",
      "|oox|\n",
      "|xox|\n",
      " ---\n"
     ]
    },
    {
     "name": "stderr",
     "output_type": "stream",
     "text": [
      "Score as black: -8:  61%|██████    | 61/100 [00:14<00:09,  3.98it/s]"
     ]
    },
    {
     "name": "stdout",
     "output_type": "stream",
     "text": [
      " ___\n",
      "|  o|\n",
      "|xxx|\n",
      "|oxo|\n",
      " ---\n"
     ]
    },
    {
     "name": "stderr",
     "output_type": "stream",
     "text": [
      "Score as black: -9:  62%|██████▏   | 62/100 [00:14<00:09,  4.07it/s]"
     ]
    },
    {
     "name": "stdout",
     "output_type": "stream",
     "text": [
      " ___\n",
      "|o x|\n",
      "| x |\n",
      "|x o|\n",
      " ---\n"
     ]
    },
    {
     "name": "stderr",
     "output_type": "stream",
     "text": [
      "Score as black: -10:  63%|██████▎   | 63/100 [00:14<00:08,  4.40it/s]"
     ]
    },
    {
     "name": "stdout",
     "output_type": "stream",
     "text": [
      " ___\n",
      "|oxx|\n",
      "|xoo|\n",
      "|xox|\n",
      " ---\n"
     ]
    },
    {
     "name": "stderr",
     "output_type": "stream",
     "text": [
      "Score as black: -10:  64%|██████▍   | 64/100 [00:14<00:08,  4.24it/s]"
     ]
    },
    {
     "name": "stdout",
     "output_type": "stream",
     "text": [
      " ___\n",
      "|xox|\n",
      "|oxx|\n",
      "|oxo|\n",
      " ---\n"
     ]
    },
    {
     "name": "stderr",
     "output_type": "stream",
     "text": [
      "Score as black: -10:  65%|██████▌   | 65/100 [00:15<00:08,  4.25it/s]"
     ]
    },
    {
     "name": "stdout",
     "output_type": "stream",
     "text": [
      " ___\n",
      "| x |\n",
      "|oxo|\n",
      "|xxo|\n",
      " ---\n"
     ]
    },
    {
     "name": "stderr",
     "output_type": "stream",
     "text": [
      "Score as black: -11:  66%|██████▌   | 66/100 [00:15<00:07,  4.35it/s]"
     ]
    },
    {
     "name": "stdout",
     "output_type": "stream",
     "text": [
      " ___\n",
      "|oxx|\n",
      "| ox|\n",
      "|  o|\n",
      " ---\n"
     ]
    },
    {
     "name": "stderr",
     "output_type": "stream",
     "text": [
      "Score as black: -10:  67%|██████▋   | 67/100 [00:15<00:07,  4.64it/s]"
     ]
    },
    {
     "name": "stdout",
     "output_type": "stream",
     "text": [
      " ___\n",
      "|xxx|\n",
      "|oox|\n",
      "|oox|\n",
      " ---\n"
     ]
    },
    {
     "name": "stderr",
     "output_type": "stream",
     "text": [
      "Score as black: -11:  68%|██████▊   | 68/100 [00:15<00:07,  4.39it/s]"
     ]
    },
    {
     "name": "stdout",
     "output_type": "stream",
     "text": [
      " ___\n",
      "|xoo|\n",
      "| xx|\n",
      "|o x|\n",
      " ---\n"
     ]
    },
    {
     "name": "stderr",
     "output_type": "stream",
     "text": [
      "Score as black: -12:  69%|██████▉   | 69/100 [00:15<00:06,  4.61it/s]"
     ]
    },
    {
     "name": "stdout",
     "output_type": "stream",
     "text": [
      " ___\n",
      "|oox|\n",
      "|xoo|\n",
      "|xxx|\n",
      " ---\n"
     ]
    },
    {
     "name": "stderr",
     "output_type": "stream",
     "text": [
      "Score as black: -13:  70%|███████   | 70/100 [00:16<00:06,  4.33it/s]"
     ]
    },
    {
     "name": "stdout",
     "output_type": "stream",
     "text": [
      " ___\n",
      "|xxo|\n",
      "|xx |\n",
      "|ooo|\n",
      " ---\n"
     ]
    },
    {
     "name": "stderr",
     "output_type": "stream",
     "text": [
      "Score as black: -12:  71%|███████   | 71/100 [00:16<00:06,  4.28it/s]"
     ]
    },
    {
     "name": "stdout",
     "output_type": "stream",
     "text": [
      " ___\n",
      "|oxo|\n",
      "|xox|\n",
      "|xox|\n",
      " ---\n"
     ]
    },
    {
     "name": "stderr",
     "output_type": "stream",
     "text": [
      "Score as black: -12:  72%|███████▏  | 72/100 [00:16<00:06,  4.18it/s]"
     ]
    },
    {
     "name": "stdout",
     "output_type": "stream",
     "text": [
      " ___\n",
      "|xoo|\n",
      "|xx |\n",
      "|x o|\n",
      " ---\n"
     ]
    },
    {
     "name": "stderr",
     "output_type": "stream",
     "text": [
      "Score as black: -13:  73%|███████▎  | 73/100 [00:16<00:06,  4.47it/s]"
     ]
    },
    {
     "name": "stdout",
     "output_type": "stream",
     "text": [
      " ___\n",
      "|xoo|\n",
      "|oxo|\n",
      "|xxx|\n",
      " ---\n"
     ]
    },
    {
     "name": "stderr",
     "output_type": "stream",
     "text": [
      "Score as black: -14:  74%|███████▍  | 74/100 [00:17<00:05,  4.38it/s]"
     ]
    },
    {
     "name": "stdout",
     "output_type": "stream",
     "text": [
      " ___\n",
      "|xoo|\n",
      "| xo|\n",
      "|x x|\n",
      " ---\n"
     ]
    },
    {
     "name": "stderr",
     "output_type": "stream",
     "text": [
      "Score as black: -15:  75%|███████▌  | 75/100 [00:17<00:05,  4.66it/s]"
     ]
    },
    {
     "name": "stdout",
     "output_type": "stream",
     "text": [
      " ___\n",
      "| x |\n",
      "|ox |\n",
      "| xo|\n",
      " ---\n"
     ]
    },
    {
     "name": "stderr",
     "output_type": "stream",
     "text": [
      "Score as black: -16:  76%|███████▌  | 76/100 [00:17<00:04,  5.19it/s]"
     ]
    },
    {
     "name": "stdout",
     "output_type": "stream",
     "text": [
      " ___\n",
      "| x |\n",
      "|ox |\n",
      "| xo|\n",
      " ---\n"
     ]
    },
    {
     "name": "stderr",
     "output_type": "stream",
     "text": [
      "Score as black: -17:  77%|███████▋  | 77/100 [00:17<00:04,  5.75it/s]"
     ]
    },
    {
     "name": "stdout",
     "output_type": "stream",
     "text": [
      " ___\n",
      "|oox|\n",
      "|xxo|\n",
      "|oxx|\n",
      " ---\n"
     ]
    },
    {
     "name": "stderr",
     "output_type": "stream",
     "text": [
      "Score as black: -17:  78%|███████▊  | 78/100 [00:17<00:04,  5.29it/s]"
     ]
    },
    {
     "name": "stdout",
     "output_type": "stream",
     "text": [
      " ___\n",
      "|xoo|\n",
      "|oox|\n",
      "|xxx|\n",
      " ---\n"
     ]
    },
    {
     "name": "stderr",
     "output_type": "stream",
     "text": [
      "Score as black: -18:  79%|███████▉  | 79/100 [00:18<00:04,  4.86it/s]"
     ]
    },
    {
     "name": "stdout",
     "output_type": "stream",
     "text": [
      " ___\n",
      "|xxo|\n",
      "|o o|\n",
      "|xxo|\n",
      " ---\n"
     ]
    },
    {
     "name": "stderr",
     "output_type": "stream",
     "text": [
      "Score as black: -17:  80%|████████  | 80/100 [00:18<00:04,  4.49it/s]"
     ]
    },
    {
     "name": "stdout",
     "output_type": "stream",
     "text": [
      " ___\n",
      "| o |\n",
      "|xox|\n",
      "| ox|\n",
      " ---\n"
     ]
    },
    {
     "name": "stderr",
     "output_type": "stream",
     "text": [
      "Score as black: -16:  81%|████████  | 81/100 [00:18<00:03,  4.92it/s]"
     ]
    },
    {
     "name": "stdout",
     "output_type": "stream",
     "text": [
      " ___\n",
      "|ooo|\n",
      "|xx |\n",
      "|xox|\n",
      " ---\n"
     ]
    },
    {
     "name": "stderr",
     "output_type": "stream",
     "text": [
      "Score as black: -15:  82%|████████▏ | 82/100 [00:18<00:03,  4.98it/s]"
     ]
    },
    {
     "name": "stdout",
     "output_type": "stream",
     "text": [
      " ___\n",
      "|oox|\n",
      "|xxo|\n",
      "|xox|\n",
      " ---\n"
     ]
    },
    {
     "name": "stderr",
     "output_type": "stream",
     "text": [
      "Score as black: -16:  83%|████████▎ | 83/100 [00:18<00:03,  4.90it/s]"
     ]
    },
    {
     "name": "stdout",
     "output_type": "stream",
     "text": [
      " ___\n",
      "|xxo|\n",
      "|oxo|\n",
      "|xox|\n",
      " ---\n"
     ]
    },
    {
     "name": "stderr",
     "output_type": "stream",
     "text": [
      "Score as black: -17:  84%|████████▍ | 84/100 [00:19<00:03,  4.67it/s]"
     ]
    },
    {
     "name": "stdout",
     "output_type": "stream",
     "text": [
      " ___\n",
      "|oxo|\n",
      "|xxo|\n",
      "|oxx|\n",
      " ---\n"
     ]
    },
    {
     "name": "stderr",
     "output_type": "stream",
     "text": [
      "Score as black: -18:  85%|████████▌ | 85/100 [00:19<00:03,  4.53it/s]"
     ]
    },
    {
     "name": "stdout",
     "output_type": "stream",
     "text": [
      " ___\n",
      "|xox|\n",
      "|xox|\n",
      "|oxo|\n",
      " ---\n"
     ]
    },
    {
     "name": "stderr",
     "output_type": "stream",
     "text": [
      "Score as black: -18:  86%|████████▌ | 86/100 [00:19<00:03,  4.23it/s]"
     ]
    },
    {
     "name": "stdout",
     "output_type": "stream",
     "text": [
      " ___\n",
      "|oxx|\n",
      "|x x|\n",
      "|ooo|\n",
      " ---\n"
     ]
    },
    {
     "name": "stderr",
     "output_type": "stream",
     "text": [
      "Score as black: -17:  87%|████████▋ | 87/100 [00:19<00:03,  4.13it/s]"
     ]
    },
    {
     "name": "stdout",
     "output_type": "stream",
     "text": [
      " ___\n",
      "|oxo|\n",
      "|xox|\n",
      "|xox|\n",
      " ---\n"
     ]
    },
    {
     "name": "stderr",
     "output_type": "stream",
     "text": [
      "Score as black: -17:  88%|████████▊ | 88/100 [00:20<00:02,  4.04it/s]"
     ]
    },
    {
     "name": "stdout",
     "output_type": "stream",
     "text": [
      " ___\n",
      "|xx |\n",
      "|oxo|\n",
      "|o x|\n",
      " ---\n"
     ]
    },
    {
     "name": "stderr",
     "output_type": "stream",
     "text": [
      "Score as black: -18:  89%|████████▉ | 89/100 [00:20<00:02,  4.44it/s]"
     ]
    },
    {
     "name": "stdout",
     "output_type": "stream",
     "text": [
      " ___\n",
      "|xoo|\n",
      "|x  |\n",
      "|x  |\n",
      " ---\n"
     ]
    },
    {
     "name": "stderr",
     "output_type": "stream",
     "text": [
      "Score as black: -19:  90%|█████████ | 90/100 [00:20<00:01,  5.07it/s]"
     ]
    },
    {
     "name": "stdout",
     "output_type": "stream",
     "text": [
      " ___\n",
      "|xoo|\n",
      "|x x|\n",
      "|xo |\n",
      " ---\n"
     ]
    },
    {
     "name": "stderr",
     "output_type": "stream",
     "text": [
      "Score as black: -20:  91%|█████████ | 91/100 [00:20<00:01,  5.17it/s]"
     ]
    },
    {
     "name": "stdout",
     "output_type": "stream",
     "text": [
      " ___\n",
      "|oox|\n",
      "|xoo|\n",
      "|xxx|\n",
      " ---\n"
     ]
    },
    {
     "name": "stderr",
     "output_type": "stream",
     "text": [
      "Score as black: -21:  92%|█████████▏| 92/100 [00:20<00:01,  4.90it/s]"
     ]
    },
    {
     "name": "stdout",
     "output_type": "stream",
     "text": [
      " ___\n",
      "|xox|\n",
      "|oxx|\n",
      "|oxo|\n",
      " ---\n"
     ]
    },
    {
     "name": "stderr",
     "output_type": "stream",
     "text": [
      "Score as black: -21:  93%|█████████▎| 93/100 [00:21<00:01,  4.49it/s]"
     ]
    },
    {
     "name": "stdout",
     "output_type": "stream",
     "text": [
      " ___\n",
      "| xo|\n",
      "| o |\n",
      "|oxx|\n",
      " ---\n"
     ]
    },
    {
     "name": "stderr",
     "output_type": "stream",
     "text": [
      "Score as black: -20:  94%|█████████▍| 94/100 [00:21<00:01,  4.67it/s]"
     ]
    },
    {
     "name": "stdout",
     "output_type": "stream",
     "text": [
      " ___\n",
      "|xox|\n",
      "|xo |\n",
      "|oox|\n",
      " ---\n"
     ]
    },
    {
     "name": "stderr",
     "output_type": "stream",
     "text": [
      "Score as black: -19:  95%|█████████▌| 95/100 [00:21<00:01,  4.34it/s]"
     ]
    },
    {
     "name": "stdout",
     "output_type": "stream",
     "text": [
      " ___\n",
      "|oxx|\n",
      "|oo |\n",
      "|oxx|\n",
      " ---\n"
     ]
    },
    {
     "name": "stderr",
     "output_type": "stream",
     "text": [
      "Score as black: -18:  96%|█████████▌| 96/100 [00:21<00:00,  4.20it/s]"
     ]
    },
    {
     "name": "stdout",
     "output_type": "stream",
     "text": [
      " ___\n",
      "|oox|\n",
      "|oxx|\n",
      "|xxo|\n",
      " ---\n"
     ]
    },
    {
     "name": "stderr",
     "output_type": "stream",
     "text": [
      "Score as black: -19:  97%|█████████▋| 97/100 [00:22<00:00,  4.14it/s]"
     ]
    },
    {
     "name": "stdout",
     "output_type": "stream",
     "text": [
      " ___\n",
      "|ox |\n",
      "| x |\n",
      "|ox |\n",
      " ---\n"
     ]
    },
    {
     "name": "stderr",
     "output_type": "stream",
     "text": [
      "Score as black: -20:  98%|█████████▊| 98/100 [00:22<00:00,  4.74it/s]"
     ]
    },
    {
     "name": "stdout",
     "output_type": "stream",
     "text": [
      " ___\n",
      "|ox |\n",
      "|xx |\n",
      "|oxo|\n",
      " ---\n"
     ]
    },
    {
     "name": "stderr",
     "output_type": "stream",
     "text": [
      "Score as black: -21:  99%|█████████▉| 99/100 [00:22<00:00,  4.98it/s]"
     ]
    },
    {
     "name": "stdout",
     "output_type": "stream",
     "text": [
      " ___\n",
      "| xo|\n",
      "| x |\n",
      "|ox |\n",
      " ---\n"
     ]
    },
    {
     "name": "stderr",
     "output_type": "stream",
     "text": [
      "Score as black: -22: 100%|██████████| 100/100 [00:22<00:00,  4.44it/s]"
     ]
    },
    {
     "name": "stdout",
     "output_type": "stream",
     "text": [
      "Final Scores = W: 36 / B: -22 over 100 games\n"
     ]
    },
    {
     "name": "stderr",
     "output_type": "stream",
     "text": [
      "\n"
     ]
    }
   ],
   "source": [
    "#MuZ vs MuZ\n",
    "np.random.seed(my_seed)\n",
    "\n",
    "net1 = Network(TicTacToe.num_observations)\n",
    "net1.load('models/ttt_candidate1.ptc')\n",
    "\n",
    "net2 = Network(TicTacToe.num_observations)\n",
    "net2.load('models/ttt_candidate1.ptc')\n",
    "\n",
    "with torch.no_grad():\n",
    "    player = Tree(net1, game)\n",
    "    random = Tree(net2, game)\n",
    "\n",
    "with torch.no_grad():\n",
    "    score_white_c = 0\n",
    "    for g in (t:=trange(nb_games)):\n",
    "        score_white_c += play_a_game(player, random)\n",
    "        t.set_description(f\"Score as white: {score_white_c}\")\n",
    "\n",
    "with torch.no_grad():\n",
    "    score_black_c = 0\n",
    "    for g in (t:=trange(nb_games)):\n",
    "        score_black_c -= play_a_game(random, player)\n",
    "        t.set_description(f\"Score as black: {score_black_c}\")\n",
    "\n",
    "print(f'Final Scores = W: {score_white_c} / B: {score_black_c} over {nb_games} games')"
   ]
  },
  {
   "cell_type": "code",
   "execution_count": 13,
   "metadata": {},
   "outputs": [
    {
     "name": "stdout",
     "output_type": "stream",
     "text": [
      "Score comparison over 100 games \n",
      " MuZero vs Random = W: 28 & B: -20 \n",
      " Random vs Random = W: 34 & B: -34 \n",
      " MuZero vs MuZero = W: 36 & B: -22\n"
     ]
    }
   ],
   "source": [
    "print(f\"Score comparison over {nb_games} games \\n MuZero vs Random = W: {score_white_a} & B: {score_black_a} \\n Random vs Random = W: {score_white_b} & B: {score_black_b} \\n MuZero vs MuZero = W: {score_white_c} & B: {score_black_c}\")\n",
    "#print(f\"Score comparison over {nb_games} games \\n MuZero vs Random = W: {score_white_a} & B: {score_black_a} \\n Random vs Random = W: {score_white_b} & B: {score_black_b} \\n MuZero vs MuZero = W: {score_white_c} & B: {score_black_c}\")"
   ]
  },
  {
   "cell_type": "code",
   "execution_count": null,
   "metadata": {},
   "outputs": [],
   "source": []
  }
 ],
 "metadata": {
  "kernelspec": {
   "display_name": "Python 3",
   "language": "python",
   "name": "python3"
  },
  "language_info": {
   "codemirror_mode": {
    "name": "ipython",
    "version": 3
   },
   "file_extension": ".py",
   "mimetype": "text/x-python",
   "name": "python",
   "nbconvert_exporter": "python",
   "pygments_lexer": "ipython3",
   "version": "3.8.3"
  }
 },
 "nbformat": 4,
 "nbformat_minor": 4
}
