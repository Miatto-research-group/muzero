{
 "cells": [
  {
   "cell_type": "code",
   "execution_count": 1,
   "metadata": {},
   "outputs": [],
   "source": [
    "%load_ext autoreload\n",
    "%autoreload 2\n",
    "\n",
    "import numpy as np\n",
    "np.set_printoptions(suppress=True, linewidth=280)\n",
    "\n",
    "from tqdm import trange\n",
    "import torch\n",
    "from muzero import Muzero\n",
    "from environments import TicTacToe\n",
    "from mcts import Tree\n",
    "from network import Network"
   ]
  },
  {
   "cell_type": "code",
   "execution_count": 2,
   "metadata": {},
   "outputs": [],
   "source": [
    "M = Muzero(TicTacToe) #creating the model\n",
    "\n",
    "nb_opti_steps = 1000\n",
    "nb_cycles = 10 #I'm open to changing names, wasn't sure how to call it otherwise\n",
    "nb_leaves_per_move = 50\n",
    "nb_episodes = 20"
   ]
  },
  {
   "cell_type": "code",
   "execution_count": 4,
   "metadata": {},
   "outputs": [
    {
     "name": "stderr",
     "output_type": "stream",
     "text": [
      "100%|██████████| 20/20 [00:06<00:00,  3.33it/s]\n",
      "  0%|          | 0/1000 [00:00<?, ?it/s]/home/alex/anaconda3/lib/python3.8/site-packages/torch/autograd/__init__.py:130: UserWarning: CUDA initialization: Found no NVIDIA driver on your system. Please check that you have an NVIDIA GPU and installed a driver from http://www.nvidia.com/Download/index.aspx (Triggered internally at  /opt/conda/conda-bld/pytorch_1603729096996/work/c10/cuda/CUDAFunctions.cpp:100.)\n",
      "  Variable._execution_engine.run_backward(\n",
      "100%|██████████| 1000/1000 [00:06<00:00, 152.64it/s]\n",
      "100%|██████████| 20/20 [00:06<00:00,  2.90it/s]\n",
      "100%|██████████| 1000/1000 [00:08<00:00, 112.67it/s]\n",
      "100%|██████████| 20/20 [00:10<00:00,  1.83it/s]\n",
      "100%|██████████| 1000/1000 [00:11<00:00, 88.85it/s]\n",
      "100%|██████████| 20/20 [00:07<00:00,  2.55it/s]\n",
      "100%|██████████| 1000/1000 [00:07<00:00, 125.15it/s]\n",
      "100%|██████████| 20/20 [00:08<00:00,  2.46it/s]\n",
      "100%|██████████| 1000/1000 [00:10<00:00, 93.21it/s]\n",
      "100%|██████████| 20/20 [00:07<00:00,  2.59it/s]\n",
      "100%|██████████| 1000/1000 [00:08<00:00, 119.31it/s]\n",
      "100%|██████████| 20/20 [00:10<00:00,  1.83it/s]\n",
      "100%|██████████| 1000/1000 [00:08<00:00, 115.41it/s]\n",
      "100%|██████████| 20/20 [00:09<00:00,  2.01it/s]\n",
      "100%|██████████| 1000/1000 [00:09<00:00, 110.64it/s]\n",
      "100%|██████████| 20/20 [00:07<00:00,  2.51it/s]\n",
      "100%|██████████| 1000/1000 [00:08<00:00, 115.07it/s]\n",
      "100%|██████████| 20/20 [00:10<00:00,  1.87it/s]\n",
      "100%|██████████| 1000/1000 [00:08<00:00, 112.46it/s]\n"
     ]
    }
   ],
   "source": [
    "#traininig model\n",
    "for _ in range(nb_cycles):\n",
    "    M.REPLAY_BUFFER = []\n",
    "    \n",
    "    for _ in trange(nb_episodes): #playing\n",
    "        with torch.no_grad():\n",
    "            M.REPLAY_BUFFER.append(M.mcts.full_episode(nb_leaves_per_move))\n",
    "            \n",
    "    for _ in trange(nb_opti_steps): #optimisation \n",
    "        M.optimize_step()\n",
    "    #M.network.save('./models/ttt_candidate1.ptc') "
   ]
  },
  {
   "cell_type": "code",
   "execution_count": 8,
   "metadata": {},
   "outputs": [],
   "source": [
    "M.network.save('./models/m_201125_a.ptc')\n",
    "#M.network.load('./models/mymodel')"
   ]
  },
  {
   "cell_type": "code",
   "execution_count": 10,
   "metadata": {},
   "outputs": [
    {
     "name": "stdout",
     "output_type": "stream",
     "text": [
      "Error: mkl-service + Intel(R) MKL: MKL_THREADING_LAYER=INTEL is incompatible with libgomp.so.1 library.\r\n",
      "\tTry to import numpy first or set the threading layer accordingly. Set MKL_SERVICE_FORCE_INTEL to force it.\r\n"
     ]
    }
   ],
   "source": [
    "! python3 play.py"
   ]
  },
  {
   "cell_type": "code",
   "execution_count": null,
   "metadata": {},
   "outputs": [],
   "source": []
  }
 ],
 "metadata": {
  "kernelspec": {
   "display_name": "Python 3",
   "language": "python",
   "name": "python3"
  },
  "language_info": {
   "codemirror_mode": {
    "name": "ipython",
    "version": 3
   },
   "file_extension": ".py",
   "mimetype": "text/x-python",
   "name": "python",
   "nbconvert_exporter": "python",
   "pygments_lexer": "ipython3",
   "version": "3.8.3"
  }
 },
 "nbformat": 4,
 "nbformat_minor": 4
}
