{
 "cells": [
  {
   "cell_type": "code",
   "execution_count": 1,
   "metadata": {},
   "outputs": [],
   "source": [
    "%load_ext autoreload\n",
    "%autoreload 2\n",
    "\n",
    "import numpy as np\n",
    "np.set_printoptions(precision=6, suppress=True, linewidth=280)\n",
    "\n",
    "from tqdm import trange\n",
    "import torch\n",
    "from muzero import Muzero\n",
    "from environments import TicTacToe\n",
    "from mcts import Tree\n",
    "from network import Network\n",
    "import random\n",
    "\n",
    "my_seed = 1954"
   ]
  },
  {
   "cell_type": "code",
   "execution_count": 2,
   "metadata": {},
   "outputs": [],
   "source": [
    "np.random.seed(my_seed)\n",
    "\n",
    "M = Muzero(TicTacToe) #creating the agent\n",
    "M_random = Muzero(TicTacToe) #creating the random adversary\n",
    "\n",
    "game = TicTacToe()\n",
    "\n",
    "nb_opti_steps = 1000\n",
    "nb_cycles = 30 #I'm open to changing names, wasn't sure how to call it otherwise\n",
    "nb_leaves_per_move = 30\n",
    "nb_episodes = 50\n",
    "nb_games = 100"
   ]
  },
  {
   "cell_type": "code",
   "execution_count": 3,
   "metadata": {},
   "outputs": [
    {
     "name": "stderr",
     "output_type": "stream",
     "text": [
      "100%|██████████| 50/50 [00:09<00:00,  5.01it/s]\n",
      "  0%|          | 0/1000 [00:00<?, ?it/s]/home/alex/anaconda3/lib/python3.8/site-packages/torch/autograd/__init__.py:130: UserWarning: CUDA initialization: Found no NVIDIA driver on your system. Please check that you have an NVIDIA GPU and installed a driver from http://www.nvidia.com/Download/index.aspx (Triggered internally at  /opt/conda/conda-bld/pytorch_1603729096996/work/c10/cuda/CUDAFunctions.cpp:100.)\n",
      "  Variable._execution_engine.run_backward(\n",
      "100%|██████████| 1000/1000 [00:07<00:00, 133.93it/s]\n",
      "100%|██████████| 50/50 [00:10<00:00,  4.62it/s]\n",
      "100%|██████████| 1000/1000 [00:09<00:00, 106.02it/s]\n",
      "100%|██████████| 50/50 [00:15<00:00,  3.28it/s]\n",
      "100%|██████████| 1000/1000 [00:09<00:00, 108.97it/s]\n",
      "100%|██████████| 50/50 [00:11<00:00,  4.21it/s]\n",
      "100%|██████████| 1000/1000 [00:08<00:00, 114.59it/s]\n",
      "100%|██████████| 50/50 [00:12<00:00,  3.96it/s]\n",
      "100%|██████████| 1000/1000 [00:10<00:00, 98.36it/s]\n",
      "100%|██████████| 50/50 [00:12<00:00,  4.01it/s]\n",
      "100%|██████████| 1000/1000 [00:10<00:00, 99.05it/s]\n",
      "100%|██████████| 50/50 [00:13<00:00,  3.69it/s]\n",
      "100%|██████████| 1000/1000 [00:10<00:00, 94.62it/s]\n",
      "100%|██████████| 50/50 [00:14<00:00,  3.48it/s]\n",
      "100%|██████████| 1000/1000 [00:11<00:00, 87.57it/s]\n",
      "100%|██████████| 50/50 [00:15<00:00,  3.19it/s]\n",
      "100%|██████████| 1000/1000 [00:12<00:00, 82.26it/s]\n",
      "100%|██████████| 50/50 [00:16<00:00,  3.08it/s]\n",
      "100%|██████████| 1000/1000 [00:11<00:00, 90.51it/s]\n",
      "100%|██████████| 50/50 [00:15<00:00,  3.19it/s]\n",
      "100%|██████████| 1000/1000 [00:10<00:00, 95.05it/s]\n",
      "100%|██████████| 50/50 [00:15<00:00,  3.26it/s]\n",
      "100%|██████████| 1000/1000 [00:09<00:00, 101.44it/s]\n",
      "100%|██████████| 50/50 [00:13<00:00,  3.78it/s]\n",
      "100%|██████████| 1000/1000 [00:08<00:00, 113.83it/s]\n",
      "100%|██████████| 50/50 [00:11<00:00,  4.43it/s]\n",
      "100%|██████████| 1000/1000 [00:08<00:00, 119.44it/s]\n",
      "100%|██████████| 50/50 [00:13<00:00,  3.59it/s]\n",
      "100%|██████████| 1000/1000 [00:08<00:00, 119.66it/s]\n",
      "100%|██████████| 50/50 [00:11<00:00,  4.33it/s]\n",
      "100%|██████████| 1000/1000 [00:09<00:00, 110.49it/s]\n",
      "100%|██████████| 50/50 [00:11<00:00,  4.36it/s]\n",
      "100%|██████████| 1000/1000 [00:08<00:00, 116.12it/s]\n",
      "100%|██████████| 50/50 [00:14<00:00,  3.41it/s]\n",
      "100%|██████████| 1000/1000 [00:09<00:00, 100.27it/s]\n",
      "100%|██████████| 50/50 [00:15<00:00,  3.26it/s]\n",
      "100%|██████████| 1000/1000 [00:08<00:00, 111.33it/s]\n",
      "100%|██████████| 50/50 [00:16<00:00,  3.08it/s]\n",
      "100%|██████████| 1000/1000 [00:10<00:00, 95.36it/s]\n",
      "100%|██████████| 50/50 [00:12<00:00,  3.87it/s]\n",
      "100%|██████████| 1000/1000 [00:09<00:00, 104.84it/s]\n",
      "100%|██████████| 50/50 [00:16<00:00,  3.11it/s]\n",
      "100%|██████████| 1000/1000 [00:08<00:00, 114.44it/s]\n",
      "100%|██████████| 50/50 [00:12<00:00,  4.12it/s]\n",
      "100%|██████████| 1000/1000 [00:09<00:00, 108.09it/s]\n",
      "100%|██████████| 50/50 [00:18<00:00,  2.76it/s]\n",
      "100%|██████████| 1000/1000 [00:10<00:00, 93.50it/s]\n",
      "100%|██████████| 50/50 [00:16<00:00,  3.02it/s]\n",
      "100%|██████████| 1000/1000 [00:09<00:00, 104.17it/s]\n",
      "100%|██████████| 50/50 [00:20<00:00,  2.40it/s]\n",
      "100%|██████████| 1000/1000 [00:11<00:00, 86.87it/s]\n",
      "100%|██████████| 50/50 [00:17<00:00,  2.78it/s]\n",
      "100%|██████████| 1000/1000 [00:11<00:00, 84.95it/s]\n",
      "100%|██████████| 50/50 [00:19<00:00,  2.55it/s]\n",
      "100%|██████████| 1000/1000 [00:11<00:00, 87.10it/s]\n",
      "100%|██████████| 50/50 [00:12<00:00,  3.87it/s]\n",
      "100%|██████████| 1000/1000 [00:09<00:00, 100.77it/s]\n",
      "100%|██████████| 50/50 [00:15<00:00,  3.26it/s]\n",
      "100%|██████████| 1000/1000 [00:09<00:00, 101.15it/s]\n"
     ]
    }
   ],
   "source": [
    "np.random.seed(my_seed)\n",
    "\n",
    "#traininig model\n",
    "for _ in range(nb_cycles):\n",
    "    M.REPLAY_BUFFER = []\n",
    "    \n",
    "    for _ in trange(nb_episodes): #playing\n",
    "        with torch.no_grad():\n",
    "            M.REPLAY_BUFFER.append(M.mcts.full_episode(nb_leaves_per_move))\n",
    "            \n",
    "    for _ in trange(nb_opti_steps): #optimisation \n",
    "        M.optimize_step()\n",
    "    M.network.save('./models/ttt_candidate1.ptc') "
   ]
  },
  {
   "cell_type": "code",
   "execution_count": 5,
   "metadata": {},
   "outputs": [],
   "source": [
    "#Save models\n",
    "np.random.seed(my_seed)\n",
    "\n",
    "M.network.save('./models/m_201125_a.ptc')\n",
    "M_random.network.save('./models/random.ptc')"
   ]
  },
  {
   "cell_type": "code",
   "execution_count": 6,
   "metadata": {},
   "outputs": [],
   "source": [
    "np.random.seed(my_seed)\n",
    "\n",
    "def play_a_game(player1, player2):\n",
    "    \"\"\"\n",
    "    Returns the reward for player 1, since it's + if P1 wins and - if P2 wins\n",
    "    \"\"\"\n",
    "    game = TicTacToe()\n",
    "    player1.environment = game\n",
    "    player2.environment = game\n",
    "    \n",
    "    while True: #while no one wins and it's not a draw\n",
    "        \n",
    "        print(\"PLAYER 1: \", flush=True)\n",
    "        game.play(player1.move(game.state, leaves_per_move=20)) #P1 does one move\n",
    "        if game.end: #if the game is over i.e. P1 wins or it's a draw\n",
    "            game.show\n",
    "            return game.reward #return the reward associated to the game\n",
    "        #Here the game is not yet over, it's P2's turn\n",
    "        print(\"PLAYER 2: \", flush=True)\n",
    "        game.play(player2.move(game.state, leaves_per_move=20)) #P2 does one move\n",
    "        if game.end:\n",
    "            game.show #if the game is over i.e. P1 wins or it's a draw\n",
    "            return -game.reward #return the reward associated to the game"
   ]
  },
  {
   "cell_type": "code",
   "execution_count": 7,
   "metadata": {},
   "outputs": [
    {
     "name": "stderr",
     "output_type": "stream",
     "text": [
      "\r",
      "  0%|          | 0/100 [00:00<?, ?it/s]"
     ]
    },
    {
     "name": "stdout",
     "output_type": "stream",
     "text": [
      "PLAYER 1: \n",
      "PLAYER 2: \n",
      "PLAYER 1: \n",
      "PLAYER 2: \n",
      "PLAYER 1: \n",
      "PLAYER 2: \n",
      "PLAYER 1: \n",
      " ___\n",
      "| xo|\n",
      "|xxx|\n",
      "| oo|\n",
      " ---\n"
     ]
    },
    {
     "name": "stderr",
     "output_type": "stream",
     "text": [
      "Score as white: 1:   1%|          | 1/100 [00:00<00:16,  6.14it/s]"
     ]
    },
    {
     "name": "stdout",
     "output_type": "stream",
     "text": [
      "PLAYER 1: \n",
      "PLAYER 2: \n",
      "PLAYER 1: \n",
      "PLAYER 2: \n",
      "PLAYER 1: \n",
      "PLAYER 2: \n",
      "PLAYER 1: \n",
      "PLAYER 2: \n",
      " ___\n",
      "| xx|\n",
      "|xox|\n",
      "|ooo|\n",
      " ---\n"
     ]
    },
    {
     "name": "stderr",
     "output_type": "stream",
     "text": [
      "Score as white: 0:   2%|▏         | 2/100 [00:00<00:15,  6.18it/s]"
     ]
    },
    {
     "name": "stdout",
     "output_type": "stream",
     "text": [
      "PLAYER 1: \n",
      "PLAYER 2: \n",
      "PLAYER 1: \n",
      "PLAYER 2: \n",
      "PLAYER 1: \n",
      "PLAYER 2: \n",
      "PLAYER 1: \n",
      " ___\n",
      "|xxx|\n",
      "|o x|\n",
      "| oo|\n",
      " ---\n"
     ]
    },
    {
     "name": "stderr",
     "output_type": "stream",
     "text": [
      "Score as white: 1:   3%|▎         | 3/100 [00:00<00:15,  6.36it/s]"
     ]
    },
    {
     "name": "stdout",
     "output_type": "stream",
     "text": [
      "PLAYER 1: \n",
      "PLAYER 2: \n",
      "PLAYER 1: \n",
      "PLAYER 2: \n",
      "PLAYER 1: \n",
      "PLAYER 2: \n",
      "PLAYER 1: \n",
      "PLAYER 2: \n",
      "PLAYER 1: \n",
      " ___\n",
      "|oox|\n",
      "|xxx|\n",
      "|xoo|\n",
      " ---\n"
     ]
    },
    {
     "name": "stderr",
     "output_type": "stream",
     "text": [
      "Score as white: 2:   4%|▍         | 4/100 [00:00<00:15,  6.09it/s]"
     ]
    },
    {
     "name": "stdout",
     "output_type": "stream",
     "text": [
      "PLAYER 1: \n",
      "PLAYER 2: \n",
      "PLAYER 1: \n",
      "PLAYER 2: \n",
      "PLAYER 1: \n",
      "PLAYER 2: \n",
      " ___\n",
      "| ox|\n",
      "|xox|\n",
      "| o |\n",
      " ---\n"
     ]
    },
    {
     "name": "stderr",
     "output_type": "stream",
     "text": [
      "Score as white: 1:   5%|▌         | 5/100 [00:00<00:14,  6.36it/s]"
     ]
    },
    {
     "name": "stdout",
     "output_type": "stream",
     "text": [
      "PLAYER 1: \n",
      "PLAYER 2: \n",
      "PLAYER 1: \n",
      "PLAYER 2: \n",
      "PLAYER 1: \n",
      "PLAYER 2: \n",
      "PLAYER 1: \n",
      "PLAYER 2: \n",
      "PLAYER 1: \n",
      " ___\n",
      "|xxx|\n",
      "|oox|\n",
      "|oxo|\n",
      " ---\n"
     ]
    },
    {
     "name": "stderr",
     "output_type": "stream",
     "text": [
      "Score as white: 2:   6%|▌         | 6/100 [00:00<00:15,  6.03it/s]"
     ]
    },
    {
     "name": "stdout",
     "output_type": "stream",
     "text": [
      "PLAYER 1: \n",
      "PLAYER 2: \n",
      "PLAYER 1: \n",
      "PLAYER 2: \n",
      "PLAYER 1: \n",
      "PLAYER 2: \n",
      "PLAYER 1: \n",
      "PLAYER 2: \n",
      "PLAYER 1: \n",
      " ___\n",
      "|oxx|\n",
      "|xox|\n",
      "|oox|\n",
      " ---\n"
     ]
    },
    {
     "name": "stderr",
     "output_type": "stream",
     "text": [
      "Score as white: 3:   7%|▋         | 7/100 [00:01<00:16,  5.62it/s]"
     ]
    },
    {
     "name": "stdout",
     "output_type": "stream",
     "text": [
      "PLAYER 1: \n",
      "PLAYER 2: \n",
      "PLAYER 1: \n",
      "PLAYER 2: \n",
      "PLAYER 1: \n",
      "PLAYER 2: \n",
      "PLAYER 1: \n",
      "PLAYER 2: \n",
      " ___\n",
      "|ooo|\n",
      "|oxx|\n",
      "|xx |\n",
      " ---\n"
     ]
    },
    {
     "name": "stderr",
     "output_type": "stream",
     "text": [
      "Score as white: 2:   8%|▊         | 8/100 [00:01<00:16,  5.73it/s]"
     ]
    },
    {
     "name": "stdout",
     "output_type": "stream",
     "text": [
      "PLAYER 1: \n",
      "PLAYER 2: \n",
      "PLAYER 1: \n",
      "PLAYER 2: \n",
      "PLAYER 1: \n",
      "PLAYER 2: \n",
      "PLAYER 1: \n",
      "PLAYER 2: \n",
      " ___\n",
      "|ooo|\n",
      "|xox|\n",
      "|xx |\n",
      " ---\n"
     ]
    },
    {
     "name": "stderr",
     "output_type": "stream",
     "text": [
      "Score as white: 1:   9%|▉         | 9/100 [00:01<00:15,  5.97it/s]"
     ]
    },
    {
     "name": "stdout",
     "output_type": "stream",
     "text": [
      "PLAYER 1: \n",
      "PLAYER 2: \n",
      "PLAYER 1: \n",
      "PLAYER 2: \n",
      "PLAYER 1: \n",
      " ___\n",
      "| ox|\n",
      "| xo|\n",
      "|x  |\n",
      " ---\n"
     ]
    },
    {
     "name": "stderr",
     "output_type": "stream",
     "text": [
      "\r",
      "Score as white: 2:   9%|▉         | 9/100 [00:01<00:15,  5.97it/s]"
     ]
    },
    {
     "name": "stdout",
     "output_type": "stream",
     "text": [
      "PLAYER 1: \n",
      "PLAYER 2: \n",
      "PLAYER 1: \n",
      "PLAYER 2: \n",
      "PLAYER 1: \n",
      "PLAYER 2: \n",
      "PLAYER 1: \n",
      "PLAYER 2: \n",
      " ___\n",
      "|ox |\n",
      "|oox|\n",
      "|xxo|\n",
      " ---\n"
     ]
    },
    {
     "name": "stderr",
     "output_type": "stream",
     "text": [
      "Score as white: 1:  11%|█         | 11/100 [00:01<00:13,  6.43it/s]"
     ]
    },
    {
     "name": "stdout",
     "output_type": "stream",
     "text": [
      "PLAYER 1: \n",
      "PLAYER 2: \n",
      "PLAYER 1: \n",
      "PLAYER 2: \n",
      "PLAYER 1: \n",
      "PLAYER 2: \n",
      "PLAYER 1: \n",
      "PLAYER 2: \n",
      "PLAYER 1: \n",
      " ___\n",
      "|oox|\n",
      "|xxx|\n",
      "|xoo|\n",
      " ---\n"
     ]
    },
    {
     "name": "stderr",
     "output_type": "stream",
     "text": [
      "Score as white: 2:  12%|█▏        | 12/100 [00:01<00:14,  6.12it/s]"
     ]
    },
    {
     "name": "stdout",
     "output_type": "stream",
     "text": [
      "PLAYER 1: \n",
      "PLAYER 2: \n",
      "PLAYER 1: \n",
      "PLAYER 2: \n",
      "PLAYER 1: \n",
      "PLAYER 2: \n",
      "PLAYER 1: \n",
      "PLAYER 2: \n",
      "PLAYER 1: \n",
      " ___\n",
      "|xox|\n",
      "|oxx|\n",
      "|oxo|\n",
      " ---\n"
     ]
    },
    {
     "name": "stderr",
     "output_type": "stream",
     "text": [
      "Score as white: 2:  13%|█▎        | 13/100 [00:02<00:14,  5.87it/s]"
     ]
    },
    {
     "name": "stdout",
     "output_type": "stream",
     "text": [
      "PLAYER 1: \n",
      "PLAYER 2: \n",
      "PLAYER 1: \n",
      "PLAYER 2: \n",
      "PLAYER 1: \n",
      " ___\n",
      "|oox|\n",
      "|  x|\n",
      "|  x|\n",
      " ---\n"
     ]
    },
    {
     "name": "stderr",
     "output_type": "stream",
     "text": [
      "Score as white: 3:  14%|█▍        | 14/100 [00:02<00:13,  6.55it/s]"
     ]
    },
    {
     "name": "stdout",
     "output_type": "stream",
     "text": [
      "PLAYER 1: \n",
      "PLAYER 2: \n",
      "PLAYER 1: \n",
      "PLAYER 2: \n",
      "PLAYER 1: \n",
      "PLAYER 2: \n",
      "PLAYER 1: \n",
      "PLAYER 2: \n",
      " ___\n",
      "|xxo|\n",
      "|xox|\n",
      "|o o|\n",
      " ---\n"
     ]
    },
    {
     "name": "stderr",
     "output_type": "stream",
     "text": [
      "Score as white: 2:  15%|█▌        | 15/100 [00:02<00:13,  6.49it/s]"
     ]
    },
    {
     "name": "stdout",
     "output_type": "stream",
     "text": [
      "PLAYER 1: \n",
      "PLAYER 2: \n",
      "PLAYER 1: \n",
      "PLAYER 2: \n",
      "PLAYER 1: \n",
      "PLAYER 2: \n",
      "PLAYER 1: \n",
      " ___\n",
      "|oxx|\n",
      "|o x|\n",
      "| ox|\n",
      " ---\n"
     ]
    },
    {
     "name": "stderr",
     "output_type": "stream",
     "text": [
      "Score as white: 3:  16%|█▌        | 16/100 [00:02<00:12,  6.68it/s]"
     ]
    },
    {
     "name": "stdout",
     "output_type": "stream",
     "text": [
      "PLAYER 1: \n",
      "PLAYER 2: \n",
      "PLAYER 1: \n",
      "PLAYER 2: \n",
      "PLAYER 1: \n",
      "PLAYER 2: \n",
      "PLAYER 1: \n",
      "PLAYER 2: \n",
      "PLAYER 1: \n",
      " ___\n",
      "|xxo|\n",
      "|oox|\n",
      "|xxo|\n",
      " ---\n"
     ]
    },
    {
     "name": "stderr",
     "output_type": "stream",
     "text": [
      "Score as white: 3:  17%|█▋        | 17/100 [00:02<00:13,  6.22it/s]"
     ]
    },
    {
     "name": "stdout",
     "output_type": "stream",
     "text": [
      "PLAYER 1: \n",
      "PLAYER 2: \n",
      "PLAYER 1: \n",
      "PLAYER 2: \n",
      "PLAYER 1: \n",
      "PLAYER 2: \n",
      "PLAYER 1: \n",
      "PLAYER 2: \n",
      "PLAYER 1: \n",
      " ___\n",
      "|oox|\n",
      "|xxx|\n",
      "|xoo|\n",
      " ---\n"
     ]
    },
    {
     "name": "stderr",
     "output_type": "stream",
     "text": [
      "Score as white: 4:  18%|█▊        | 18/100 [00:02<00:13,  5.92it/s]"
     ]
    },
    {
     "name": "stdout",
     "output_type": "stream",
     "text": [
      "PLAYER 1: \n",
      "PLAYER 2: \n",
      "PLAYER 1: \n",
      "PLAYER 2: \n",
      "PLAYER 1: \n",
      "PLAYER 2: \n",
      "PLAYER 1: \n",
      "PLAYER 2: \n",
      "PLAYER 1: \n",
      " ___\n",
      "|xox|\n",
      "|xox|\n",
      "|oxo|\n",
      " ---\n"
     ]
    },
    {
     "name": "stderr",
     "output_type": "stream",
     "text": [
      "Score as white: 4:  19%|█▉        | 19/100 [00:03<00:13,  5.79it/s]"
     ]
    },
    {
     "name": "stdout",
     "output_type": "stream",
     "text": [
      "PLAYER 1: \n",
      "PLAYER 2: \n",
      "PLAYER 1: \n",
      "PLAYER 2: \n",
      "PLAYER 1: \n",
      "PLAYER 2: \n",
      "PLAYER 1: \n",
      " ___\n",
      "|o x|\n",
      "|xox|\n",
      "|o x|\n",
      " ---\n"
     ]
    },
    {
     "name": "stderr",
     "output_type": "stream",
     "text": [
      "Score as white: 5:  20%|██        | 20/100 [00:03<00:12,  6.26it/s]"
     ]
    },
    {
     "name": "stdout",
     "output_type": "stream",
     "text": [
      "PLAYER 1: \n",
      "PLAYER 2: \n",
      "PLAYER 1: \n",
      "PLAYER 2: \n",
      "PLAYER 1: \n",
      "PLAYER 2: \n",
      "PLAYER 1: \n",
      "PLAYER 2: \n",
      "PLAYER 1: \n",
      " ___\n",
      "|oxo|\n",
      "|oox|\n",
      "|xxx|\n",
      " ---\n"
     ]
    },
    {
     "name": "stderr",
     "output_type": "stream",
     "text": [
      "Score as white: 6:  21%|██        | 21/100 [00:03<00:13,  5.85it/s]"
     ]
    },
    {
     "name": "stdout",
     "output_type": "stream",
     "text": [
      "PLAYER 1: \n",
      "PLAYER 2: \n",
      "PLAYER 1: \n",
      "PLAYER 2: \n",
      "PLAYER 1: \n",
      "PLAYER 2: \n",
      "PLAYER 1: \n",
      "PLAYER 2: \n",
      "PLAYER 1: \n",
      " ___\n",
      "|xox|\n",
      "|xox|\n",
      "|oxo|\n",
      " ---\n"
     ]
    },
    {
     "name": "stderr",
     "output_type": "stream",
     "text": [
      "Score as white: 6:  22%|██▏       | 22/100 [00:03<00:13,  5.67it/s]"
     ]
    },
    {
     "name": "stdout",
     "output_type": "stream",
     "text": [
      "PLAYER 1: \n",
      "PLAYER 2: \n",
      "PLAYER 1: \n",
      "PLAYER 2: \n",
      "PLAYER 1: \n",
      "PLAYER 2: \n",
      "PLAYER 1: \n",
      "PLAYER 2: \n",
      "PLAYER 1: \n",
      " ___\n",
      "|oxo|\n",
      "|oxx|\n",
      "|xox|\n",
      " ---\n"
     ]
    },
    {
     "name": "stderr",
     "output_type": "stream",
     "text": [
      "Score as white: 6:  23%|██▎       | 23/100 [00:03<00:13,  5.53it/s]"
     ]
    },
    {
     "name": "stdout",
     "output_type": "stream",
     "text": [
      "PLAYER 1: \n",
      "PLAYER 2: \n",
      "PLAYER 1: \n",
      "PLAYER 2: \n",
      "PLAYER 1: \n",
      "PLAYER 2: \n",
      "PLAYER 1: \n",
      "PLAYER 2: \n",
      " ___\n",
      "|oxx|\n",
      "|oox|\n",
      "|x o|\n",
      " ---\n"
     ]
    },
    {
     "name": "stderr",
     "output_type": "stream",
     "text": [
      "Score as white: 5:  24%|██▍       | 24/100 [00:03<00:13,  5.52it/s]"
     ]
    },
    {
     "name": "stdout",
     "output_type": "stream",
     "text": [
      "PLAYER 1: \n",
      "PLAYER 2: \n",
      "PLAYER 1: \n",
      "PLAYER 2: \n",
      "PLAYER 1: \n",
      "PLAYER 2: \n",
      " ___\n",
      "|x  |\n",
      "|x x|\n",
      "|ooo|\n",
      " ---\n"
     ]
    },
    {
     "name": "stderr",
     "output_type": "stream",
     "text": [
      "Score as white: 4:  25%|██▌       | 25/100 [00:04<00:12,  6.12it/s]"
     ]
    },
    {
     "name": "stdout",
     "output_type": "stream",
     "text": [
      "PLAYER 1: \n",
      "PLAYER 2: \n",
      "PLAYER 1: \n",
      "PLAYER 2: \n",
      "PLAYER 1: \n",
      "PLAYER 2: \n",
      "PLAYER 1: \n",
      "PLAYER 2: \n",
      "PLAYER 1: \n",
      " ___\n",
      "|oxo|\n",
      "|oox|\n",
      "|xxx|\n",
      " ---\n"
     ]
    },
    {
     "name": "stderr",
     "output_type": "stream",
     "text": [
      "Score as white: 5:  26%|██▌       | 26/100 [00:04<00:12,  6.08it/s]"
     ]
    },
    {
     "name": "stdout",
     "output_type": "stream",
     "text": [
      "PLAYER 1: \n",
      "PLAYER 2: \n",
      "PLAYER 1: \n",
      "PLAYER 2: \n",
      "PLAYER 1: \n",
      "PLAYER 2: \n",
      "PLAYER 1: \n",
      "PLAYER 2: \n",
      "PLAYER 1: \n",
      " ___\n",
      "|oox|\n",
      "|oxx|\n",
      "|xxo|\n",
      " ---\n"
     ]
    },
    {
     "name": "stderr",
     "output_type": "stream",
     "text": [
      "Score as white: 6:  27%|██▋       | 27/100 [00:04<00:12,  5.83it/s]"
     ]
    },
    {
     "name": "stdout",
     "output_type": "stream",
     "text": [
      "PLAYER 1: \n",
      "PLAYER 2: \n",
      "PLAYER 1: \n",
      "PLAYER 2: \n",
      "PLAYER 1: \n",
      "PLAYER 2: \n",
      "PLAYER 1: \n",
      " ___\n",
      "| xx|\n",
      "|o x|\n",
      "|oox|\n",
      " ---\n"
     ]
    },
    {
     "name": "stderr",
     "output_type": "stream",
     "text": [
      "Score as white: 7:  28%|██▊       | 28/100 [00:04<00:12,  5.88it/s]"
     ]
    },
    {
     "name": "stdout",
     "output_type": "stream",
     "text": [
      "PLAYER 1: \n",
      "PLAYER 2: \n",
      "PLAYER 1: \n",
      "PLAYER 2: \n",
      "PLAYER 1: \n",
      "PLAYER 2: \n",
      "PLAYER 1: \n",
      "PLAYER 2: \n",
      "PLAYER 1: \n",
      " ___\n",
      "|oxx|\n",
      "|xox|\n",
      "|oox|\n",
      " ---\n"
     ]
    },
    {
     "name": "stderr",
     "output_type": "stream",
     "text": [
      "Score as white: 8:  29%|██▉       | 29/100 [00:04<00:12,  5.77it/s]"
     ]
    },
    {
     "name": "stdout",
     "output_type": "stream",
     "text": [
      "PLAYER 1: \n",
      "PLAYER 2: \n",
      "PLAYER 1: \n",
      "PLAYER 2: \n",
      "PLAYER 1: \n",
      "PLAYER 2: \n",
      "PLAYER 1: \n",
      "PLAYER 2: \n",
      "PLAYER 1: \n",
      " ___\n",
      "|xxo|\n",
      "|oxx|\n",
      "|xoo|\n",
      " ---\n"
     ]
    },
    {
     "name": "stderr",
     "output_type": "stream",
     "text": [
      "Score as white: 8:  30%|███       | 30/100 [00:04<00:12,  5.55it/s]"
     ]
    },
    {
     "name": "stdout",
     "output_type": "stream",
     "text": [
      "PLAYER 1: \n",
      "PLAYER 2: \n",
      "PLAYER 1: \n",
      "PLAYER 2: \n",
      "PLAYER 1: \n",
      "PLAYER 2: \n",
      "PLAYER 1: \n",
      " ___\n",
      "|x o|\n",
      "|xxx|\n",
      "|oo |\n",
      " ---\n"
     ]
    },
    {
     "name": "stderr",
     "output_type": "stream",
     "text": [
      "Score as white: 9:  31%|███       | 31/100 [00:05<00:12,  5.66it/s]"
     ]
    },
    {
     "name": "stdout",
     "output_type": "stream",
     "text": [
      "PLAYER 1: \n",
      "PLAYER 2: \n",
      "PLAYER 1: \n",
      "PLAYER 2: \n",
      "PLAYER 1: \n",
      "PLAYER 2: \n",
      "PLAYER 1: \n",
      " ___\n",
      "|  x|\n",
      "|oxx|\n",
      "|oox|\n",
      " ---\n"
     ]
    },
    {
     "name": "stderr",
     "output_type": "stream",
     "text": [
      "Score as white: 10:  32%|███▏      | 32/100 [00:05<00:11,  5.78it/s]"
     ]
    },
    {
     "name": "stdout",
     "output_type": "stream",
     "text": [
      "PLAYER 1: \n",
      "PLAYER 2: \n",
      "PLAYER 1: \n",
      "PLAYER 2: \n",
      "PLAYER 1: \n",
      "PLAYER 2: \n",
      "PLAYER 1: \n",
      " ___\n",
      "|ox |\n",
      "|xxx|\n",
      "|oo |\n",
      " ---\n"
     ]
    },
    {
     "name": "stderr",
     "output_type": "stream",
     "text": [
      "Score as white: 11:  33%|███▎      | 33/100 [00:05<00:11,  5.89it/s]"
     ]
    },
    {
     "name": "stdout",
     "output_type": "stream",
     "text": [
      "PLAYER 1: \n",
      "PLAYER 2: \n",
      "PLAYER 1: \n",
      "PLAYER 2: \n",
      "PLAYER 1: \n",
      "PLAYER 2: \n",
      " ___\n",
      "|  o|\n",
      "|xox|\n",
      "|ox |\n",
      " ---\n"
     ]
    },
    {
     "name": "stderr",
     "output_type": "stream",
     "text": [
      "Score as white: 10:  34%|███▍      | 34/100 [00:05<00:10,  6.13it/s]"
     ]
    },
    {
     "name": "stdout",
     "output_type": "stream",
     "text": [
      "PLAYER 1: \n",
      "PLAYER 2: \n",
      "PLAYER 1: \n",
      "PLAYER 2: \n",
      "PLAYER 1: \n",
      "PLAYER 2: \n",
      "PLAYER 1: \n",
      "PLAYER 2: \n",
      " ___\n",
      "|x o|\n",
      "|xox|\n",
      "|oxo|\n",
      " ---\n"
     ]
    },
    {
     "name": "stderr",
     "output_type": "stream",
     "text": [
      "Score as white: 9:  35%|███▌      | 35/100 [00:05<00:10,  5.99it/s] "
     ]
    },
    {
     "name": "stdout",
     "output_type": "stream",
     "text": [
      "PLAYER 1: \n",
      "PLAYER 2: \n",
      "PLAYER 1: \n",
      "PLAYER 2: \n",
      "PLAYER 1: \n",
      "PLAYER 2: \n",
      "PLAYER 1: \n",
      "PLAYER 2: \n",
      "PLAYER 1: \n",
      " ___\n",
      "|xox|\n",
      "|oox|\n",
      "|xxo|\n",
      " ---\n"
     ]
    },
    {
     "name": "stderr",
     "output_type": "stream",
     "text": [
      "Score as white: 9:  36%|███▌      | 36/100 [00:06<00:11,  5.71it/s]"
     ]
    },
    {
     "name": "stdout",
     "output_type": "stream",
     "text": [
      "PLAYER 1: \n",
      "PLAYER 2: \n",
      "PLAYER 1: \n",
      "PLAYER 2: \n",
      "PLAYER 1: \n",
      "PLAYER 2: \n",
      "PLAYER 1: \n",
      "PLAYER 2: \n",
      " ___\n",
      "|xxo|\n",
      "|xxo|\n",
      "| oo|\n",
      " ---\n"
     ]
    },
    {
     "name": "stderr",
     "output_type": "stream",
     "text": [
      "Score as white: 8:  37%|███▋      | 37/100 [00:06<00:11,  5.71it/s]"
     ]
    },
    {
     "name": "stdout",
     "output_type": "stream",
     "text": [
      "PLAYER 1: \n",
      "PLAYER 2: \n",
      "PLAYER 1: \n",
      "PLAYER 2: \n",
      "PLAYER 1: \n",
      "PLAYER 2: \n",
      "PLAYER 1: \n",
      "PLAYER 2: \n",
      " ___\n",
      "|ox |\n",
      "|oxx|\n",
      "|oox|\n",
      " ---\n"
     ]
    },
    {
     "name": "stderr",
     "output_type": "stream",
     "text": [
      "Score as white: 7:  38%|███▊      | 38/100 [00:06<00:10,  5.80it/s]"
     ]
    },
    {
     "name": "stdout",
     "output_type": "stream",
     "text": [
      "PLAYER 1: \n",
      "PLAYER 2: \n",
      "PLAYER 1: \n",
      "PLAYER 2: \n",
      "PLAYER 1: \n",
      " ___\n",
      "|  x|\n",
      "|oox|\n",
      "|  x|\n",
      " ---\n"
     ]
    },
    {
     "name": "stderr",
     "output_type": "stream",
     "text": [
      "Score as white: 8:  39%|███▉      | 39/100 [00:06<00:09,  6.54it/s]"
     ]
    },
    {
     "name": "stdout",
     "output_type": "stream",
     "text": [
      "PLAYER 1: \n",
      "PLAYER 2: \n",
      "PLAYER 1: \n",
      "PLAYER 2: \n",
      "PLAYER 1: \n",
      "PLAYER 2: \n",
      " ___\n",
      "|o  |\n",
      "| ox|\n",
      "|xxo|\n",
      " ---\n"
     ]
    },
    {
     "name": "stderr",
     "output_type": "stream",
     "text": [
      "Score as white: 7:  40%|████      | 40/100 [00:06<00:08,  6.80it/s]"
     ]
    },
    {
     "name": "stdout",
     "output_type": "stream",
     "text": [
      "PLAYER 1: \n",
      "PLAYER 2: \n",
      "PLAYER 1: \n",
      "PLAYER 2: \n",
      "PLAYER 1: \n",
      "PLAYER 2: \n",
      "PLAYER 1: \n",
      "PLAYER 2: \n",
      " ___\n",
      "|oxx|\n",
      "|xox|\n",
      "| oo|\n",
      " ---\n"
     ]
    },
    {
     "name": "stderr",
     "output_type": "stream",
     "text": [
      "Score as white: 6:  41%|████      | 41/100 [00:06<00:09,  6.47it/s]"
     ]
    },
    {
     "name": "stdout",
     "output_type": "stream",
     "text": [
      "PLAYER 1: \n",
      "PLAYER 2: \n",
      "PLAYER 1: \n",
      "PLAYER 2: \n",
      "PLAYER 1: \n",
      "PLAYER 2: \n",
      "PLAYER 1: \n",
      " ___\n",
      "|xxx|\n",
      "| ox|\n",
      "|o o|\n",
      " ---\n"
     ]
    },
    {
     "name": "stderr",
     "output_type": "stream",
     "text": [
      "Score as white: 7:  42%|████▏     | 42/100 [00:06<00:08,  6.64it/s]"
     ]
    },
    {
     "name": "stdout",
     "output_type": "stream",
     "text": [
      "PLAYER 1: \n",
      "PLAYER 2: \n",
      "PLAYER 1: \n",
      "PLAYER 2: \n",
      "PLAYER 1: \n",
      "PLAYER 2: \n",
      "PLAYER 1: \n",
      " ___\n",
      "|oxx|\n",
      "| ox|\n",
      "| ox|\n",
      " ---\n"
     ]
    },
    {
     "name": "stderr",
     "output_type": "stream",
     "text": [
      "Score as white: 8:  43%|████▎     | 43/100 [00:07<00:08,  6.42it/s]"
     ]
    },
    {
     "name": "stdout",
     "output_type": "stream",
     "text": [
      "PLAYER 1: \n",
      "PLAYER 2: \n",
      "PLAYER 1: \n",
      "PLAYER 2: \n",
      "PLAYER 1: \n",
      "PLAYER 2: \n",
      "PLAYER 1: \n",
      "PLAYER 2: \n",
      " ___\n",
      "|xo |\n",
      "|oox|\n",
      "|xox|\n",
      " ---\n"
     ]
    },
    {
     "name": "stderr",
     "output_type": "stream",
     "text": [
      "Score as white: 7:  44%|████▍     | 44/100 [00:07<00:09,  5.86it/s]"
     ]
    },
    {
     "name": "stdout",
     "output_type": "stream",
     "text": [
      "PLAYER 1: \n",
      "PLAYER 2: \n",
      "PLAYER 1: \n",
      "PLAYER 2: \n",
      "PLAYER 1: \n",
      "PLAYER 2: \n",
      "PLAYER 1: \n",
      "PLAYER 2: \n",
      " ___\n",
      "|ox |\n",
      "|xox|\n",
      "|oxo|\n",
      " ---\n"
     ]
    },
    {
     "name": "stderr",
     "output_type": "stream",
     "text": [
      "Score as white: 6:  45%|████▌     | 45/100 [00:07<00:09,  5.73it/s]"
     ]
    },
    {
     "name": "stdout",
     "output_type": "stream",
     "text": [
      "PLAYER 1: \n",
      "PLAYER 2: \n",
      "PLAYER 1: \n",
      "PLAYER 2: \n",
      "PLAYER 1: \n",
      "PLAYER 2: \n",
      " ___\n",
      "|xxo|\n",
      "| ox|\n",
      "|o  |\n",
      " ---\n"
     ]
    },
    {
     "name": "stderr",
     "output_type": "stream",
     "text": [
      "Score as white: 5:  46%|████▌     | 46/100 [00:07<00:08,  6.11it/s]"
     ]
    },
    {
     "name": "stdout",
     "output_type": "stream",
     "text": [
      "PLAYER 1: \n",
      "PLAYER 2: \n",
      "PLAYER 1: \n",
      "PLAYER 2: \n",
      "PLAYER 1: \n",
      "PLAYER 2: \n",
      " ___\n",
      "|x  |\n",
      "| xx|\n",
      "|ooo|\n",
      " ---\n"
     ]
    },
    {
     "name": "stderr",
     "output_type": "stream",
     "text": [
      "Score as white: 4:  47%|████▋     | 47/100 [00:07<00:08,  6.59it/s]"
     ]
    },
    {
     "name": "stdout",
     "output_type": "stream",
     "text": [
      "PLAYER 1: \n",
      "PLAYER 2: \n",
      "PLAYER 1: \n",
      "PLAYER 2: \n",
      "PLAYER 1: \n",
      "PLAYER 2: \n",
      "PLAYER 1: \n",
      "PLAYER 2: \n",
      "PLAYER 1: \n",
      " ___\n",
      "|oxx|\n",
      "|oox|\n",
      "|xox|\n",
      " ---\n"
     ]
    },
    {
     "name": "stderr",
     "output_type": "stream",
     "text": [
      "Score as white: 5:  48%|████▊     | 48/100 [00:07<00:08,  6.09it/s]"
     ]
    },
    {
     "name": "stdout",
     "output_type": "stream",
     "text": [
      "PLAYER 1: \n",
      "PLAYER 2: \n",
      "PLAYER 1: \n",
      "PLAYER 2: \n",
      "PLAYER 1: \n",
      "PLAYER 2: \n",
      "PLAYER 1: \n",
      " ___\n",
      "|  o|\n",
      "|oox|\n",
      "|xxx|\n",
      " ---\n"
     ]
    },
    {
     "name": "stderr",
     "output_type": "stream",
     "text": [
      "Score as white: 6:  49%|████▉     | 49/100 [00:08<00:08,  6.17it/s]"
     ]
    },
    {
     "name": "stdout",
     "output_type": "stream",
     "text": [
      "PLAYER 1: \n",
      "PLAYER 2: \n",
      "PLAYER 1: \n",
      "PLAYER 2: \n",
      "PLAYER 1: \n",
      "PLAYER 2: \n",
      " ___\n",
      "|o x|\n",
      "|o x|\n",
      "|ox |\n",
      " ---\n"
     ]
    },
    {
     "name": "stderr",
     "output_type": "stream",
     "text": [
      "Score as white: 5:  50%|█████     | 50/100 [00:08<00:07,  6.29it/s]"
     ]
    },
    {
     "name": "stdout",
     "output_type": "stream",
     "text": [
      "PLAYER 1: \n",
      "PLAYER 2: \n",
      "PLAYER 1: \n",
      "PLAYER 2: \n",
      "PLAYER 1: \n",
      "PLAYER 2: \n",
      "PLAYER 1: \n",
      "PLAYER 2: \n",
      "PLAYER 1: \n",
      " ___\n",
      "|xoo|\n",
      "|xox|\n",
      "|xxo|\n",
      " ---\n"
     ]
    },
    {
     "name": "stderr",
     "output_type": "stream",
     "text": [
      "Score as white: 6:  51%|█████     | 51/100 [00:08<00:08,  5.68it/s]"
     ]
    },
    {
     "name": "stdout",
     "output_type": "stream",
     "text": [
      "PLAYER 1: \n",
      "PLAYER 2: \n",
      "PLAYER 1: \n",
      "PLAYER 2: \n",
      "PLAYER 1: \n",
      " ___\n",
      "|x  |\n",
      "|x  |\n",
      "|xoo|\n",
      " ---\n"
     ]
    },
    {
     "name": "stderr",
     "output_type": "stream",
     "text": [
      "Score as white: 7:  52%|█████▏    | 52/100 [00:08<00:07,  6.39it/s]"
     ]
    },
    {
     "name": "stdout",
     "output_type": "stream",
     "text": [
      "PLAYER 1: \n",
      "PLAYER 2: \n",
      "PLAYER 1: \n",
      "PLAYER 2: \n",
      "PLAYER 1: \n",
      "PLAYER 2: \n",
      "PLAYER 1: \n",
      "PLAYER 2: \n",
      "PLAYER 1: \n",
      " ___\n",
      "|xoo|\n",
      "|oxx|\n",
      "|oxx|\n",
      " ---\n"
     ]
    },
    {
     "name": "stderr",
     "output_type": "stream",
     "text": [
      "Score as white: 8:  53%|█████▎    | 53/100 [00:08<00:07,  5.88it/s]"
     ]
    },
    {
     "name": "stdout",
     "output_type": "stream",
     "text": [
      "PLAYER 1: \n",
      "PLAYER 2: \n",
      "PLAYER 1: \n",
      "PLAYER 2: \n",
      "PLAYER 1: \n",
      "PLAYER 2: \n",
      "PLAYER 1: \n",
      "PLAYER 2: \n",
      "PLAYER 1: \n",
      " ___\n",
      "|xox|\n",
      "|xox|\n",
      "|oxo|\n",
      " ---\n"
     ]
    },
    {
     "name": "stderr",
     "output_type": "stream",
     "text": [
      "Score as white: 8:  54%|█████▍    | 54/100 [00:08<00:08,  5.57it/s]"
     ]
    },
    {
     "name": "stdout",
     "output_type": "stream",
     "text": [
      "PLAYER 1: \n",
      "PLAYER 2: \n",
      "PLAYER 1: \n",
      "PLAYER 2: \n",
      "PLAYER 1: \n",
      "PLAYER 2: \n",
      "PLAYER 1: \n",
      "PLAYER 2: \n",
      " ___\n",
      "|oxx|\n",
      "|oxx|\n",
      "|oo |\n",
      " ---\n"
     ]
    },
    {
     "name": "stderr",
     "output_type": "stream",
     "text": [
      "Score as white: 7:  55%|█████▌    | 55/100 [00:09<00:08,  5.60it/s]"
     ]
    },
    {
     "name": "stdout",
     "output_type": "stream",
     "text": [
      "PLAYER 1: \n",
      "PLAYER 2: \n",
      "PLAYER 1: \n",
      "PLAYER 2: \n",
      "PLAYER 1: \n",
      "PLAYER 2: \n",
      "PLAYER 1: \n",
      " ___\n",
      "| x |\n",
      "|oxx|\n",
      "|oxo|\n",
      " ---\n"
     ]
    },
    {
     "name": "stderr",
     "output_type": "stream",
     "text": [
      "Score as white: 8:  56%|█████▌    | 56/100 [00:09<00:07,  5.71it/s]"
     ]
    },
    {
     "name": "stdout",
     "output_type": "stream",
     "text": [
      "PLAYER 1: \n",
      "PLAYER 2: \n",
      "PLAYER 1: \n",
      "PLAYER 2: \n",
      "PLAYER 1: \n",
      "PLAYER 2: \n",
      "PLAYER 1: \n",
      " ___\n",
      "|o o|\n",
      "| ox|\n",
      "|xxx|\n",
      " ---\n"
     ]
    },
    {
     "name": "stderr",
     "output_type": "stream",
     "text": [
      "Score as white: 9:  57%|█████▋    | 57/100 [00:09<00:07,  5.74it/s]"
     ]
    },
    {
     "name": "stdout",
     "output_type": "stream",
     "text": [
      "PLAYER 1: \n",
      "PLAYER 2: \n",
      "PLAYER 1: \n",
      "PLAYER 2: \n",
      "PLAYER 1: \n",
      "PLAYER 2: \n",
      " ___\n",
      "|o  |\n",
      "|oxx|\n",
      "|ox |\n",
      " ---\n"
     ]
    },
    {
     "name": "stderr",
     "output_type": "stream",
     "text": [
      "Score as white: 8:  58%|█████▊    | 58/100 [00:09<00:06,  6.04it/s]"
     ]
    },
    {
     "name": "stdout",
     "output_type": "stream",
     "text": [
      "PLAYER 1: \n",
      "PLAYER 2: \n",
      "PLAYER 1: \n",
      "PLAYER 2: \n",
      "PLAYER 1: \n",
      "PLAYER 2: \n",
      "PLAYER 1: \n",
      "PLAYER 2: \n",
      "PLAYER 1: \n",
      " ___\n",
      "|xox|\n",
      "|oxx|\n",
      "|xoo|\n",
      " ---\n"
     ]
    },
    {
     "name": "stderr",
     "output_type": "stream",
     "text": [
      "Score as white: 9:  59%|█████▉    | 59/100 [00:09<00:07,  5.59it/s]"
     ]
    },
    {
     "name": "stdout",
     "output_type": "stream",
     "text": [
      "PLAYER 1: \n",
      "PLAYER 2: \n",
      "PLAYER 1: \n",
      "PLAYER 2: \n",
      "PLAYER 1: \n",
      "PLAYER 2: \n",
      "PLAYER 1: \n",
      " ___\n",
      "|xoo|\n",
      "|xxo|\n",
      "|  x|\n",
      " ---\n"
     ]
    },
    {
     "name": "stderr",
     "output_type": "stream",
     "text": [
      "Score as white: 10:  60%|██████    | 60/100 [00:09<00:06,  5.83it/s]"
     ]
    },
    {
     "name": "stdout",
     "output_type": "stream",
     "text": [
      "PLAYER 1: \n",
      "PLAYER 2: \n",
      "PLAYER 1: \n",
      "PLAYER 2: \n",
      "PLAYER 1: \n",
      "PLAYER 2: \n",
      "PLAYER 1: \n",
      "PLAYER 2: \n",
      "PLAYER 1: \n",
      " ___\n",
      "|xoo|\n",
      "|oxx|\n",
      "|oxx|\n",
      " ---\n"
     ]
    },
    {
     "name": "stderr",
     "output_type": "stream",
     "text": [
      "Score as white: 11:  61%|██████    | 61/100 [00:10<00:06,  5.60it/s]"
     ]
    },
    {
     "name": "stdout",
     "output_type": "stream",
     "text": [
      "PLAYER 1: \n",
      "PLAYER 2: \n",
      "PLAYER 1: \n",
      "PLAYER 2: \n",
      "PLAYER 1: \n",
      "PLAYER 2: \n",
      "PLAYER 1: \n",
      "PLAYER 2: \n",
      " ___\n",
      "|xxo|\n",
      "|ooo|\n",
      "|x x|\n",
      " ---\n"
     ]
    },
    {
     "name": "stderr",
     "output_type": "stream",
     "text": [
      "Score as white: 10:  62%|██████▏   | 62/100 [00:10<00:07,  5.36it/s]"
     ]
    },
    {
     "name": "stdout",
     "output_type": "stream",
     "text": [
      "PLAYER 1: \n",
      "PLAYER 2: \n",
      "PLAYER 1: \n",
      "PLAYER 2: \n",
      "PLAYER 1: \n",
      "PLAYER 2: \n",
      "PLAYER 1: \n",
      "PLAYER 2: \n",
      "PLAYER 1: \n",
      " ___\n",
      "|oxo|\n",
      "|xxx|\n",
      "|xoo|\n",
      " ---\n"
     ]
    },
    {
     "name": "stderr",
     "output_type": "stream",
     "text": [
      "Score as white: 11:  63%|██████▎   | 63/100 [00:10<00:07,  5.05it/s]"
     ]
    },
    {
     "name": "stdout",
     "output_type": "stream",
     "text": [
      "PLAYER 1: \n",
      "PLAYER 2: \n",
      "PLAYER 1: \n",
      "PLAYER 2: \n",
      "PLAYER 1: \n",
      "PLAYER 2: \n",
      "PLAYER 1: \n",
      "PLAYER 2: \n",
      "PLAYER 1: \n",
      " ___\n",
      "|oxx|\n",
      "|xox|\n",
      "|oox|\n",
      " ---\n"
     ]
    },
    {
     "name": "stderr",
     "output_type": "stream",
     "text": [
      "Score as white: 12:  64%|██████▍   | 64/100 [00:10<00:07,  4.89it/s]"
     ]
    },
    {
     "name": "stdout",
     "output_type": "stream",
     "text": [
      "PLAYER 1: \n",
      "PLAYER 2: \n",
      "PLAYER 1: \n",
      "PLAYER 2: \n",
      "PLAYER 1: \n",
      "PLAYER 2: \n",
      "PLAYER 1: \n",
      " ___\n",
      "|  x|\n",
      "|xox|\n",
      "|oox|\n",
      " ---\n"
     ]
    },
    {
     "name": "stderr",
     "output_type": "stream",
     "text": [
      "Score as white: 13:  65%|██████▌   | 65/100 [00:11<00:06,  5.06it/s]"
     ]
    },
    {
     "name": "stdout",
     "output_type": "stream",
     "text": [
      "PLAYER 1: \n",
      "PLAYER 2: \n",
      "PLAYER 1: \n",
      "PLAYER 2: \n",
      "PLAYER 1: \n",
      "PLAYER 2: \n",
      "PLAYER 1: \n",
      "PLAYER 2: \n",
      " ___\n",
      "|xx |\n",
      "|xox|\n",
      "|ooo|\n",
      " ---\n"
     ]
    },
    {
     "name": "stderr",
     "output_type": "stream",
     "text": [
      "Score as white: 12:  66%|██████▌   | 66/100 [00:11<00:06,  5.18it/s]"
     ]
    },
    {
     "name": "stdout",
     "output_type": "stream",
     "text": [
      "PLAYER 1: \n",
      "PLAYER 2: \n",
      "PLAYER 1: \n",
      "PLAYER 2: \n",
      "PLAYER 1: \n",
      "PLAYER 2: \n",
      "PLAYER 1: \n",
      "PLAYER 2: \n",
      " ___\n",
      "|oox|\n",
      "| ox|\n",
      "|xxo|\n",
      " ---\n"
     ]
    },
    {
     "name": "stderr",
     "output_type": "stream",
     "text": [
      "Score as white: 11:  67%|██████▋   | 67/100 [00:11<00:06,  5.32it/s]"
     ]
    },
    {
     "name": "stdout",
     "output_type": "stream",
     "text": [
      "PLAYER 1: \n",
      "PLAYER 2: \n",
      "PLAYER 1: \n",
      "PLAYER 2: \n",
      "PLAYER 1: \n",
      "PLAYER 2: \n",
      " ___\n",
      "| xo|\n",
      "|xox|\n",
      "|o  |\n",
      " ---\n"
     ]
    },
    {
     "name": "stderr",
     "output_type": "stream",
     "text": [
      "Score as white: 10:  68%|██████▊   | 68/100 [00:11<00:05,  5.85it/s]"
     ]
    },
    {
     "name": "stdout",
     "output_type": "stream",
     "text": [
      "PLAYER 1: \n",
      "PLAYER 2: \n",
      "PLAYER 1: \n",
      "PLAYER 2: \n",
      "PLAYER 1: \n",
      "PLAYER 2: \n",
      "PLAYER 1: \n",
      " ___\n",
      "|o x|\n",
      "|oxx|\n",
      "|x o|\n",
      " ---\n"
     ]
    },
    {
     "name": "stderr",
     "output_type": "stream",
     "text": [
      "Score as white: 11:  69%|██████▉   | 69/100 [00:11<00:05,  6.01it/s]"
     ]
    },
    {
     "name": "stdout",
     "output_type": "stream",
     "text": [
      "PLAYER 1: \n",
      "PLAYER 2: \n",
      "PLAYER 1: \n",
      "PLAYER 2: \n",
      "PLAYER 1: \n",
      "PLAYER 2: \n",
      "PLAYER 1: \n",
      "PLAYER 2: \n",
      "PLAYER 1: \n",
      " ___\n",
      "|oxo|\n",
      "|oxx|\n",
      "|xox|\n",
      " ---\n"
     ]
    },
    {
     "name": "stderr",
     "output_type": "stream",
     "text": [
      "Score as white: 11:  70%|███████   | 70/100 [00:11<00:05,  5.67it/s]"
     ]
    },
    {
     "name": "stdout",
     "output_type": "stream",
     "text": [
      "PLAYER 1: \n",
      "PLAYER 2: \n",
      "PLAYER 1: \n",
      "PLAYER 2: \n",
      "PLAYER 1: \n",
      "PLAYER 2: \n",
      " ___\n",
      "|x x|\n",
      "|ooo|\n",
      "|  x|\n",
      " ---\n"
     ]
    },
    {
     "name": "stderr",
     "output_type": "stream",
     "text": [
      "Score as white: 10:  71%|███████   | 71/100 [00:11<00:04,  6.14it/s]"
     ]
    },
    {
     "name": "stdout",
     "output_type": "stream",
     "text": [
      "PLAYER 1: \n",
      "PLAYER 2: \n",
      "PLAYER 1: \n",
      "PLAYER 2: \n",
      "PLAYER 1: \n",
      " ___\n",
      "|  o|\n",
      "|xxx|\n",
      "| o |\n",
      " ---\n"
     ]
    },
    {
     "name": "stderr",
     "output_type": "stream",
     "text": [
      "Score as white: 11:  72%|███████▏  | 72/100 [00:12<00:04,  6.77it/s]"
     ]
    },
    {
     "name": "stdout",
     "output_type": "stream",
     "text": [
      "PLAYER 1: \n",
      "PLAYER 2: \n",
      "PLAYER 1: \n",
      "PLAYER 2: \n",
      "PLAYER 1: \n",
      "PLAYER 2: \n",
      " ___\n",
      "|ox |\n",
      "|o x|\n",
      "|o x|\n",
      " ---\n"
     ]
    },
    {
     "name": "stderr",
     "output_type": "stream",
     "text": [
      "Score as white: 10:  73%|███████▎  | 73/100 [00:12<00:03,  6.80it/s]"
     ]
    },
    {
     "name": "stdout",
     "output_type": "stream",
     "text": [
      "PLAYER 1: \n",
      "PLAYER 2: \n",
      "PLAYER 1: \n",
      "PLAYER 2: \n",
      "PLAYER 1: \n",
      "PLAYER 2: \n",
      "PLAYER 1: \n",
      "PLAYER 2: \n",
      " ___\n",
      "|ooo|\n",
      "|oxx|\n",
      "|x x|\n",
      " ---\n"
     ]
    },
    {
     "name": "stderr",
     "output_type": "stream",
     "text": [
      "Score as white: 9:  74%|███████▍  | 74/100 [00:12<00:04,  6.32it/s] "
     ]
    },
    {
     "name": "stdout",
     "output_type": "stream",
     "text": [
      "PLAYER 1: \n",
      "PLAYER 2: \n",
      "PLAYER 1: \n",
      "PLAYER 2: \n",
      "PLAYER 1: \n",
      " ___\n",
      "|  x|\n",
      "| ox|\n",
      "|o x|\n",
      " ---\n"
     ]
    },
    {
     "name": "stderr",
     "output_type": "stream",
     "text": [
      "Score as white: 10:  75%|███████▌  | 75/100 [00:12<00:03,  7.00it/s]"
     ]
    },
    {
     "name": "stdout",
     "output_type": "stream",
     "text": [
      "PLAYER 1: \n",
      "PLAYER 2: \n",
      "PLAYER 1: \n",
      "PLAYER 2: \n",
      "PLAYER 1: \n",
      "PLAYER 2: \n",
      " ___\n",
      "|o x|\n",
      "|o x|\n",
      "|ox |\n",
      " ---\n"
     ]
    },
    {
     "name": "stderr",
     "output_type": "stream",
     "text": [
      "Score as white: 9:  76%|███████▌  | 76/100 [00:12<00:03,  7.23it/s] "
     ]
    },
    {
     "name": "stdout",
     "output_type": "stream",
     "text": [
      "PLAYER 1: \n",
      "PLAYER 2: \n",
      "PLAYER 1: \n",
      "PLAYER 2: \n",
      "PLAYER 1: \n",
      "PLAYER 2: \n",
      "PLAYER 1: \n",
      " ___\n",
      "|xxx|\n",
      "| ox|\n",
      "|o o|\n",
      " ---\n"
     ]
    },
    {
     "name": "stderr",
     "output_type": "stream",
     "text": [
      "Score as white: 10:  77%|███████▋  | 77/100 [00:12<00:03,  6.88it/s]"
     ]
    },
    {
     "name": "stdout",
     "output_type": "stream",
     "text": [
      "PLAYER 1: \n",
      "PLAYER 2: \n",
      "PLAYER 1: \n",
      "PLAYER 2: \n",
      "PLAYER 1: \n",
      "PLAYER 2: \n",
      "PLAYER 1: \n",
      "PLAYER 2: \n",
      "PLAYER 1: \n",
      " ___\n",
      "|xox|\n",
      "|xox|\n",
      "|oxo|\n",
      " ---\n"
     ]
    },
    {
     "name": "stderr",
     "output_type": "stream",
     "text": [
      "Score as white: 10:  78%|███████▊  | 78/100 [00:13<00:03,  5.98it/s]"
     ]
    },
    {
     "name": "stdout",
     "output_type": "stream",
     "text": [
      "PLAYER 1: \n",
      "PLAYER 2: \n",
      "PLAYER 1: \n",
      "PLAYER 2: \n",
      "PLAYER 1: \n",
      "PLAYER 2: \n",
      "PLAYER 1: \n",
      "PLAYER 2: \n",
      " ___\n",
      "|oxx|\n",
      "|xox|\n",
      "| oo|\n",
      " ---\n"
     ]
    },
    {
     "name": "stderr",
     "output_type": "stream",
     "text": [
      "Score as white: 9:  79%|███████▉  | 79/100 [00:13<00:03,  5.83it/s] "
     ]
    },
    {
     "name": "stdout",
     "output_type": "stream",
     "text": [
      "PLAYER 1: \n",
      "PLAYER 2: \n",
      "PLAYER 1: \n",
      "PLAYER 2: \n",
      "PLAYER 1: \n",
      "PLAYER 2: \n",
      "PLAYER 1: \n",
      "PLAYER 2: \n",
      "PLAYER 1: \n",
      " ___\n",
      "|xox|\n",
      "|oxx|\n",
      "|oxo|\n",
      " ---\n"
     ]
    },
    {
     "name": "stderr",
     "output_type": "stream",
     "text": [
      "Score as white: 9:  80%|████████  | 80/100 [00:13<00:03,  5.66it/s]"
     ]
    },
    {
     "name": "stdout",
     "output_type": "stream",
     "text": [
      "PLAYER 1: \n",
      "PLAYER 2: \n",
      "PLAYER 1: \n",
      "PLAYER 2: \n",
      "PLAYER 1: \n",
      "PLAYER 2: \n",
      "PLAYER 1: \n",
      "PLAYER 2: \n",
      "PLAYER 1: \n",
      " ___\n",
      "|xox|\n",
      "|oox|\n",
      "|xxo|\n",
      " ---\n"
     ]
    },
    {
     "name": "stderr",
     "output_type": "stream",
     "text": [
      "Score as white: 9:  81%|████████  | 81/100 [00:13<00:03,  5.58it/s]"
     ]
    },
    {
     "name": "stdout",
     "output_type": "stream",
     "text": [
      "PLAYER 1: \n",
      "PLAYER 2: \n",
      "PLAYER 1: \n",
      "PLAYER 2: \n",
      "PLAYER 1: \n",
      "PLAYER 2: \n",
      "PLAYER 1: \n",
      "PLAYER 2: \n",
      "PLAYER 1: \n",
      " ___\n",
      "|xox|\n",
      "|xox|\n",
      "|oxo|\n",
      " ---\n"
     ]
    },
    {
     "name": "stderr",
     "output_type": "stream",
     "text": [
      "Score as white: 9:  82%|████████▏ | 82/100 [00:13<00:03,  5.41it/s]"
     ]
    },
    {
     "name": "stdout",
     "output_type": "stream",
     "text": [
      "PLAYER 1: \n",
      "PLAYER 2: \n",
      "PLAYER 1: \n",
      "PLAYER 2: \n",
      "PLAYER 1: \n",
      "PLAYER 2: \n",
      " ___\n",
      "|o  |\n",
      "|oxx|\n",
      "|ox |\n",
      " ---\n"
     ]
    },
    {
     "name": "stderr",
     "output_type": "stream",
     "text": [
      "Score as white: 8:  83%|████████▎ | 83/100 [00:13<00:02,  5.75it/s]"
     ]
    },
    {
     "name": "stdout",
     "output_type": "stream",
     "text": [
      "PLAYER 1: \n",
      "PLAYER 2: \n",
      "PLAYER 1: \n",
      "PLAYER 2: \n",
      "PLAYER 1: \n",
      "PLAYER 2: \n",
      "PLAYER 1: \n",
      "PLAYER 2: \n",
      "PLAYER 1: \n",
      " ___\n",
      "|xxo|\n",
      "|oxx|\n",
      "|oxo|\n",
      " ---\n"
     ]
    },
    {
     "name": "stderr",
     "output_type": "stream",
     "text": [
      "Score as white: 9:  84%|████████▍ | 84/100 [00:14<00:02,  5.42it/s]"
     ]
    },
    {
     "name": "stdout",
     "output_type": "stream",
     "text": [
      "PLAYER 1: \n",
      "PLAYER 2: \n",
      "PLAYER 1: \n",
      "PLAYER 2: \n",
      "PLAYER 1: \n",
      "PLAYER 2: \n",
      "PLAYER 1: \n",
      " ___\n",
      "|xxx|\n",
      "|o x|\n",
      "| oo|\n",
      " ---\n"
     ]
    },
    {
     "name": "stderr",
     "output_type": "stream",
     "text": [
      "Score as white: 10:  85%|████████▌ | 85/100 [00:14<00:02,  5.75it/s]"
     ]
    },
    {
     "name": "stdout",
     "output_type": "stream",
     "text": [
      "PLAYER 1: \n",
      "PLAYER 2: \n",
      "PLAYER 1: \n",
      "PLAYER 2: \n",
      "PLAYER 1: \n",
      " ___\n",
      "|o x|\n",
      "|  x|\n",
      "|o x|\n",
      " ---\n"
     ]
    },
    {
     "name": "stderr",
     "output_type": "stream",
     "text": [
      "Score as white: 11:  86%|████████▌ | 86/100 [00:14<00:02,  6.39it/s]"
     ]
    },
    {
     "name": "stdout",
     "output_type": "stream",
     "text": [
      "PLAYER 1: \n",
      "PLAYER 2: \n",
      "PLAYER 1: \n",
      "PLAYER 2: \n",
      "PLAYER 1: \n",
      "PLAYER 2: \n",
      "PLAYER 1: \n",
      "PLAYER 2: \n",
      " ___\n",
      "|oxx|\n",
      "|oox|\n",
      "|x o|\n",
      " ---\n"
     ]
    },
    {
     "name": "stderr",
     "output_type": "stream",
     "text": [
      "Score as white: 10:  87%|████████▋ | 87/100 [00:14<00:02,  5.81it/s]"
     ]
    },
    {
     "name": "stdout",
     "output_type": "stream",
     "text": [
      "PLAYER 1: \n",
      "PLAYER 2: \n",
      "PLAYER 1: \n",
      "PLAYER 2: \n",
      "PLAYER 1: \n",
      "PLAYER 2: \n",
      "PLAYER 1: \n",
      " ___\n",
      "|x o|\n",
      "|xxx|\n",
      "| oo|\n",
      " ---\n"
     ]
    },
    {
     "name": "stderr",
     "output_type": "stream",
     "text": [
      "Score as white: 11:  88%|████████▊ | 88/100 [00:14<00:02,  5.88it/s]"
     ]
    },
    {
     "name": "stdout",
     "output_type": "stream",
     "text": [
      "PLAYER 1: \n",
      "PLAYER 2: \n",
      "PLAYER 1: \n",
      "PLAYER 2: \n",
      "PLAYER 1: \n",
      " ___\n",
      "|   |\n",
      "|xxx|\n",
      "|oo |\n",
      " ---\n"
     ]
    },
    {
     "name": "stderr",
     "output_type": "stream",
     "text": [
      "Score as white: 12:  89%|████████▉ | 89/100 [00:14<00:01,  6.50it/s]"
     ]
    },
    {
     "name": "stdout",
     "output_type": "stream",
     "text": [
      "PLAYER 1: \n",
      "PLAYER 2: \n",
      "PLAYER 1: \n",
      "PLAYER 2: \n",
      "PLAYER 1: \n",
      "PLAYER 2: \n",
      "PLAYER 1: \n",
      "PLAYER 2: \n",
      "PLAYER 1: \n",
      " ___\n",
      "|xoo|\n",
      "|oxx|\n",
      "|xox|\n",
      " ---\n"
     ]
    },
    {
     "name": "stderr",
     "output_type": "stream",
     "text": [
      "Score as white: 13:  90%|█████████ | 90/100 [00:15<00:01,  6.02it/s]"
     ]
    },
    {
     "name": "stdout",
     "output_type": "stream",
     "text": [
      "PLAYER 1: \n",
      "PLAYER 2: \n",
      "PLAYER 1: \n",
      "PLAYER 2: \n",
      "PLAYER 1: \n",
      "PLAYER 2: \n",
      " ___\n",
      "|x o|\n",
      "|xox|\n",
      "|o  |\n",
      " ---\n"
     ]
    },
    {
     "name": "stderr",
     "output_type": "stream",
     "text": [
      "Score as white: 12:  91%|█████████ | 91/100 [00:15<00:01,  6.26it/s]"
     ]
    },
    {
     "name": "stdout",
     "output_type": "stream",
     "text": [
      "PLAYER 1: \n",
      "PLAYER 2: \n",
      "PLAYER 1: \n",
      "PLAYER 2: \n",
      "PLAYER 1: \n",
      "PLAYER 2: \n",
      "PLAYER 1: \n",
      "PLAYER 2: \n",
      " ___\n",
      "|xo |\n",
      "|oox|\n",
      "|xox|\n",
      " ---\n"
     ]
    },
    {
     "name": "stderr",
     "output_type": "stream",
     "text": [
      "Score as white: 11:  92%|█████████▏| 92/100 [00:15<00:01,  5.84it/s]"
     ]
    },
    {
     "name": "stdout",
     "output_type": "stream",
     "text": [
      "PLAYER 1: \n",
      "PLAYER 2: \n",
      "PLAYER 1: \n",
      "PLAYER 2: \n",
      "PLAYER 1: \n",
      "PLAYER 2: \n",
      "PLAYER 1: \n",
      " ___\n",
      "|ox |\n",
      "| oo|\n",
      "|xxx|\n",
      " ---\n"
     ]
    },
    {
     "name": "stderr",
     "output_type": "stream",
     "text": [
      "Score as white: 12:  93%|█████████▎| 93/100 [00:15<00:01,  5.85it/s]"
     ]
    },
    {
     "name": "stdout",
     "output_type": "stream",
     "text": [
      "PLAYER 1: \n",
      "PLAYER 2: \n",
      "PLAYER 1: \n",
      "PLAYER 2: \n",
      "PLAYER 1: \n",
      "PLAYER 2: \n",
      "PLAYER 1: \n",
      " ___\n",
      "| oo|\n",
      "|xxx|\n",
      "|o x|\n",
      " ---\n"
     ]
    },
    {
     "name": "stderr",
     "output_type": "stream",
     "text": [
      "Score as white: 13:  94%|█████████▍| 94/100 [00:15<00:01,  5.71it/s]"
     ]
    },
    {
     "name": "stdout",
     "output_type": "stream",
     "text": [
      "PLAYER 1: \n",
      "PLAYER 2: \n",
      "PLAYER 1: \n",
      "PLAYER 2: \n",
      "PLAYER 1: \n",
      "PLAYER 2: \n",
      "PLAYER 1: \n",
      " ___\n",
      "| oo|\n",
      "|xxx|\n",
      "|xo |\n",
      " ---\n"
     ]
    },
    {
     "name": "stderr",
     "output_type": "stream",
     "text": [
      "Score as white: 14:  95%|█████████▌| 95/100 [00:15<00:00,  5.72it/s]"
     ]
    },
    {
     "name": "stdout",
     "output_type": "stream",
     "text": [
      "PLAYER 1: \n",
      "PLAYER 2: \n",
      "PLAYER 1: \n",
      "PLAYER 2: \n",
      "PLAYER 1: \n",
      "PLAYER 2: \n",
      "PLAYER 1: \n",
      "PLAYER 2: \n",
      "PLAYER 1: \n",
      " ___\n",
      "|xxx|\n",
      "|oox|\n",
      "|oxo|\n",
      " ---\n"
     ]
    },
    {
     "name": "stderr",
     "output_type": "stream",
     "text": [
      "Score as white: 15:  96%|█████████▌| 96/100 [00:16<00:00,  5.32it/s]"
     ]
    },
    {
     "name": "stdout",
     "output_type": "stream",
     "text": [
      "PLAYER 1: \n",
      "PLAYER 2: \n",
      "PLAYER 1: \n",
      "PLAYER 2: \n",
      "PLAYER 1: \n",
      " ___\n",
      "|oox|\n",
      "|  x|\n",
      "|  x|\n",
      " ---\n"
     ]
    },
    {
     "name": "stderr",
     "output_type": "stream",
     "text": [
      "Score as white: 16:  97%|█████████▋| 97/100 [00:16<00:00,  5.84it/s]"
     ]
    },
    {
     "name": "stdout",
     "output_type": "stream",
     "text": [
      "PLAYER 1: \n",
      "PLAYER 2: \n",
      "PLAYER 1: \n",
      "PLAYER 2: \n",
      "PLAYER 1: \n",
      "PLAYER 2: \n",
      "PLAYER 1: \n",
      "PLAYER 2: \n",
      " ___\n",
      "| xo|\n",
      "|xox|\n",
      "|oox|\n",
      " ---\n"
     ]
    },
    {
     "name": "stderr",
     "output_type": "stream",
     "text": [
      "Score as white: 15:  98%|█████████▊| 98/100 [00:16<00:00,  5.54it/s]"
     ]
    },
    {
     "name": "stdout",
     "output_type": "stream",
     "text": [
      "PLAYER 1: \n",
      "PLAYER 2: \n",
      "PLAYER 1: \n",
      "PLAYER 2: \n",
      "PLAYER 1: \n",
      "PLAYER 2: \n",
      "PLAYER 1: \n",
      "PLAYER 2: \n",
      "PLAYER 1: \n",
      " ___\n",
      "|xox|\n",
      "|oox|\n",
      "|oxx|\n",
      " ---\n"
     ]
    },
    {
     "name": "stderr",
     "output_type": "stream",
     "text": [
      "Score as white: 16:  99%|█████████▉| 99/100 [00:16<00:00,  5.05it/s]"
     ]
    },
    {
     "name": "stdout",
     "output_type": "stream",
     "text": [
      "PLAYER 1: \n",
      "PLAYER 2: \n",
      "PLAYER 1: \n",
      "PLAYER 2: \n",
      "PLAYER 1: \n",
      "PLAYER 2: \n",
      "PLAYER 1: \n",
      "PLAYER 2: \n",
      "PLAYER 1: \n",
      " ___\n",
      "|oxx|\n",
      "|oxx|\n",
      "|xoo|\n",
      " ---\n"
     ]
    },
    {
     "name": "stderr",
     "output_type": "stream",
     "text": [
      "Score as white: 17: 100%|██████████| 100/100 [00:16<00:00,  5.89it/s]\n",
      "  0%|          | 0/100 [00:00<?, ?it/s]"
     ]
    },
    {
     "name": "stdout",
     "output_type": "stream",
     "text": [
      "PLAYER 1: \n",
      "PLAYER 2: \n",
      "PLAYER 1: \n",
      "PLAYER 2: \n",
      "PLAYER 1: \n",
      "PLAYER 2: \n",
      "PLAYER 1: \n",
      "PLAYER 2: \n",
      "PLAYER 1: \n",
      " ___\n",
      "|oxo|\n",
      "|oxx|\n",
      "|xox|\n",
      " ---\n"
     ]
    },
    {
     "name": "stderr",
     "output_type": "stream",
     "text": [
      "Score as black: 0:   1%|          | 1/100 [00:00<00:22,  4.48it/s]"
     ]
    },
    {
     "name": "stdout",
     "output_type": "stream",
     "text": [
      "PLAYER 1: \n",
      "PLAYER 2: \n",
      "PLAYER 1: \n",
      "PLAYER 2: \n",
      "PLAYER 1: \n",
      "PLAYER 2: \n",
      "PLAYER 1: \n",
      " ___\n",
      "|xxx|\n",
      "| oo|\n",
      "| ox|\n",
      " ---\n"
     ]
    },
    {
     "name": "stderr",
     "output_type": "stream",
     "text": [
      "Score as black: -1:   2%|▏         | 2/100 [00:00<00:20,  4.78it/s]"
     ]
    },
    {
     "name": "stdout",
     "output_type": "stream",
     "text": [
      "PLAYER 1: \n",
      "PLAYER 2: \n",
      "PLAYER 1: \n",
      "PLAYER 2: \n",
      "PLAYER 1: \n",
      "PLAYER 2: \n",
      " ___\n",
      "| xo|\n",
      "| ox|\n",
      "|ox |\n",
      " ---\n"
     ]
    },
    {
     "name": "stderr",
     "output_type": "stream",
     "text": [
      "Score as black: 0:   3%|▎         | 3/100 [00:00<00:18,  5.26it/s] "
     ]
    },
    {
     "name": "stdout",
     "output_type": "stream",
     "text": [
      "PLAYER 1: \n",
      "PLAYER 2: \n",
      "PLAYER 1: \n",
      "PLAYER 2: \n",
      "PLAYER 1: \n",
      "PLAYER 2: \n",
      " ___\n",
      "|x  |\n",
      "|ooo|\n",
      "|x x|\n",
      " ---\n"
     ]
    },
    {
     "name": "stderr",
     "output_type": "stream",
     "text": [
      "Score as black: 1:   4%|▍         | 4/100 [00:00<00:17,  5.62it/s]"
     ]
    },
    {
     "name": "stdout",
     "output_type": "stream",
     "text": [
      "PLAYER 1: \n",
      "PLAYER 2: \n",
      "PLAYER 1: \n",
      "PLAYER 2: \n",
      "PLAYER 1: \n",
      " ___\n",
      "|   |\n",
      "|o o|\n",
      "|xxx|\n",
      " ---\n"
     ]
    },
    {
     "name": "stderr",
     "output_type": "stream",
     "text": [
      "Score as black: 0:   5%|▌         | 5/100 [00:00<00:15,  6.24it/s]"
     ]
    },
    {
     "name": "stdout",
     "output_type": "stream",
     "text": [
      "PLAYER 1: \n",
      "PLAYER 2: \n",
      "PLAYER 1: \n",
      "PLAYER 2: \n",
      "PLAYER 1: \n",
      "PLAYER 2: \n",
      "PLAYER 1: \n",
      " ___\n",
      "|xo |\n",
      "|xoo|\n",
      "|x x|\n",
      " ---\n"
     ]
    },
    {
     "name": "stderr",
     "output_type": "stream",
     "text": [
      "Score as black: -1:   6%|▌         | 6/100 [00:00<00:15,  6.23it/s]"
     ]
    },
    {
     "name": "stdout",
     "output_type": "stream",
     "text": [
      "PLAYER 1: \n",
      "PLAYER 2: \n",
      "PLAYER 1: \n",
      "PLAYER 2: \n",
      "PLAYER 1: \n",
      "PLAYER 2: \n",
      "PLAYER 1: \n",
      "PLAYER 2: \n",
      "PLAYER 1: \n",
      " ___\n",
      "|xxo|\n",
      "|xoo|\n",
      "|xox|\n",
      " ---\n"
     ]
    },
    {
     "name": "stderr",
     "output_type": "stream",
     "text": [
      "Score as black: -2:   7%|▋         | 7/100 [00:01<00:16,  5.49it/s]"
     ]
    },
    {
     "name": "stdout",
     "output_type": "stream",
     "text": [
      "PLAYER 1: \n",
      "PLAYER 2: \n",
      "PLAYER 1: \n",
      "PLAYER 2: \n",
      "PLAYER 1: \n",
      "PLAYER 2: \n",
      "PLAYER 1: \n",
      "PLAYER 2: \n",
      " ___\n",
      "| xo|\n",
      "|xxo|\n",
      "|xoo|\n",
      " ---\n"
     ]
    },
    {
     "name": "stderr",
     "output_type": "stream",
     "text": [
      "Score as black: -1:   8%|▊         | 8/100 [00:01<00:17,  5.40it/s]"
     ]
    },
    {
     "name": "stdout",
     "output_type": "stream",
     "text": [
      "PLAYER 1: \n",
      "PLAYER 2: \n",
      "PLAYER 1: \n",
      "PLAYER 2: \n",
      "PLAYER 1: \n",
      "PLAYER 2: \n",
      "PLAYER 1: \n",
      "PLAYER 2: \n",
      "PLAYER 1: \n",
      " ___\n",
      "|xox|\n",
      "|oxo|\n",
      "|xxo|\n",
      " ---\n"
     ]
    },
    {
     "name": "stderr",
     "output_type": "stream",
     "text": [
      "Score as black: -2:   9%|▉         | 9/100 [00:01<00:17,  5.12it/s]"
     ]
    },
    {
     "name": "stdout",
     "output_type": "stream",
     "text": [
      "PLAYER 1: \n",
      "PLAYER 2: \n",
      "PLAYER 1: \n",
      "PLAYER 2: \n",
      "PLAYER 1: \n",
      "PLAYER 2: \n",
      "PLAYER 1: \n",
      "PLAYER 2: \n",
      "PLAYER 1: \n",
      " ___\n",
      "|oox|\n",
      "|xxo|\n",
      "|oxx|\n",
      " ---\n"
     ]
    },
    {
     "name": "stderr",
     "output_type": "stream",
     "text": [
      "Score as black: -2:  10%|█         | 10/100 [00:01<00:18,  4.85it/s]"
     ]
    },
    {
     "name": "stdout",
     "output_type": "stream",
     "text": [
      "PLAYER 1: \n",
      "PLAYER 2: \n",
      "PLAYER 1: \n",
      "PLAYER 2: \n",
      "PLAYER 1: \n",
      "PLAYER 2: \n",
      " ___\n",
      "|  x|\n",
      "|ooo|\n",
      "|xx |\n",
      " ---\n"
     ]
    },
    {
     "name": "stderr",
     "output_type": "stream",
     "text": [
      "Score as black: -1:  11%|█         | 11/100 [00:01<00:16,  5.32it/s]"
     ]
    },
    {
     "name": "stdout",
     "output_type": "stream",
     "text": [
      "PLAYER 1: \n",
      "PLAYER 2: \n",
      "PLAYER 1: \n",
      "PLAYER 2: \n",
      "PLAYER 1: \n",
      " ___\n",
      "| x |\n",
      "|oxo|\n",
      "| x |\n",
      " ---\n"
     ]
    },
    {
     "name": "stderr",
     "output_type": "stream",
     "text": [
      "Score as black: -2:  12%|█▏        | 12/100 [00:02<00:14,  5.94it/s]"
     ]
    },
    {
     "name": "stdout",
     "output_type": "stream",
     "text": [
      "PLAYER 1: \n",
      "PLAYER 2: \n",
      "PLAYER 1: \n",
      "PLAYER 2: \n",
      "PLAYER 1: \n",
      "PLAYER 2: \n",
      "PLAYER 1: \n",
      " ___\n",
      "|oxx|\n",
      "|oxo|\n",
      "| x |\n",
      " ---\n"
     ]
    },
    {
     "name": "stderr",
     "output_type": "stream",
     "text": [
      "Score as black: -3:  13%|█▎        | 13/100 [00:02<00:14,  5.88it/s]"
     ]
    },
    {
     "name": "stdout",
     "output_type": "stream",
     "text": [
      "PLAYER 1: \n",
      "PLAYER 2: \n",
      "PLAYER 1: \n",
      "PLAYER 2: \n",
      "PLAYER 1: \n",
      "PLAYER 2: \n",
      "PLAYER 1: \n",
      "PLAYER 2: \n",
      " ___\n",
      "| xo|\n",
      "|xxo|\n",
      "|xoo|\n",
      " ---\n"
     ]
    },
    {
     "name": "stderr",
     "output_type": "stream",
     "text": [
      "Score as black: -2:  14%|█▍        | 14/100 [00:02<00:15,  5.70it/s]"
     ]
    },
    {
     "name": "stdout",
     "output_type": "stream",
     "text": [
      "PLAYER 1: \n",
      "PLAYER 2: \n",
      "PLAYER 1: \n",
      "PLAYER 2: \n",
      "PLAYER 1: \n",
      "PLAYER 2: \n",
      "PLAYER 1: \n",
      "PLAYER 2: \n",
      "PLAYER 1: \n",
      " ___\n",
      "|xxo|\n",
      "|oxx|\n",
      "|xoo|\n",
      " ---\n"
     ]
    },
    {
     "name": "stderr",
     "output_type": "stream",
     "text": [
      "Score as black: -2:  15%|█▌        | 15/100 [00:02<00:16,  5.23it/s]"
     ]
    },
    {
     "name": "stdout",
     "output_type": "stream",
     "text": [
      "PLAYER 1: \n",
      "PLAYER 2: \n",
      "PLAYER 1: \n",
      "PLAYER 2: \n",
      "PLAYER 1: \n",
      "PLAYER 2: \n",
      " ___\n",
      "|x o|\n",
      "|x o|\n",
      "| xo|\n",
      " ---\n"
     ]
    },
    {
     "name": "stderr",
     "output_type": "stream",
     "text": [
      "Score as black: -1:  16%|█▌        | 16/100 [00:02<00:15,  5.52it/s]"
     ]
    },
    {
     "name": "stdout",
     "output_type": "stream",
     "text": [
      "PLAYER 1: \n",
      "PLAYER 2: \n",
      "PLAYER 1: \n",
      "PLAYER 2: \n",
      "PLAYER 1: \n",
      "PLAYER 2: \n",
      "PLAYER 1: \n",
      " ___\n",
      "|x  |\n",
      "|xxo|\n",
      "|xoo|\n",
      " ---\n"
     ]
    },
    {
     "name": "stderr",
     "output_type": "stream",
     "text": [
      "Score as black: -2:  17%|█▋        | 17/100 [00:03<00:14,  5.61it/s]"
     ]
    },
    {
     "name": "stdout",
     "output_type": "stream",
     "text": [
      "PLAYER 1: \n",
      "PLAYER 2: \n",
      "PLAYER 1: \n",
      "PLAYER 2: \n",
      "PLAYER 1: \n",
      "PLAYER 2: \n",
      "PLAYER 1: \n",
      " ___\n",
      "| ox|\n",
      "|xxo|\n",
      "|x o|\n",
      " ---\n"
     ]
    },
    {
     "name": "stderr",
     "output_type": "stream",
     "text": [
      "Score as black: -3:  18%|█▊        | 18/100 [00:03<00:15,  5.45it/s]"
     ]
    },
    {
     "name": "stdout",
     "output_type": "stream",
     "text": [
      "PLAYER 1: \n",
      "PLAYER 2: \n",
      "PLAYER 1: \n",
      "PLAYER 2: \n",
      "PLAYER 1: \n",
      "PLAYER 2: \n",
      "PLAYER 1: \n",
      "PLAYER 2: \n",
      " ___\n",
      "| oo|\n",
      "|xxo|\n",
      "|xxo|\n",
      " ---\n"
     ]
    },
    {
     "name": "stderr",
     "output_type": "stream",
     "text": [
      "Score as black: -2:  19%|█▉        | 19/100 [00:03<00:15,  5.18it/s]"
     ]
    },
    {
     "name": "stdout",
     "output_type": "stream",
     "text": [
      "PLAYER 1: \n",
      "PLAYER 2: \n",
      "PLAYER 1: \n",
      "PLAYER 2: \n",
      "PLAYER 1: \n",
      "PLAYER 2: \n",
      "PLAYER 1: \n",
      " ___\n",
      "|oo |\n",
      "|xxx|\n",
      "|x o|\n",
      " ---\n"
     ]
    },
    {
     "name": "stderr",
     "output_type": "stream",
     "text": [
      "Score as black: -3:  20%|██        | 20/100 [00:03<00:14,  5.44it/s]"
     ]
    },
    {
     "name": "stdout",
     "output_type": "stream",
     "text": [
      "PLAYER 1: \n",
      "PLAYER 2: \n",
      "PLAYER 1: \n",
      "PLAYER 2: \n",
      "PLAYER 1: \n",
      "PLAYER 2: \n",
      "PLAYER 1: \n",
      " ___\n",
      "|xxx|\n",
      "|  o|\n",
      "|oxo|\n",
      " ---\n"
     ]
    },
    {
     "name": "stderr",
     "output_type": "stream",
     "text": [
      "Score as black: -4:  21%|██        | 21/100 [00:03<00:14,  5.61it/s]"
     ]
    },
    {
     "name": "stdout",
     "output_type": "stream",
     "text": [
      "PLAYER 1: \n",
      "PLAYER 2: \n",
      "PLAYER 1: \n",
      "PLAYER 2: \n",
      "PLAYER 1: \n",
      "PLAYER 2: \n",
      "PLAYER 1: \n",
      "PLAYER 2: \n",
      "PLAYER 1: \n",
      " ___\n",
      "|xoo|\n",
      "|oxx|\n",
      "|xxo|\n",
      " ---\n"
     ]
    },
    {
     "name": "stderr",
     "output_type": "stream",
     "text": [
      "Score as black: -4:  22%|██▏       | 22/100 [00:03<00:14,  5.39it/s]"
     ]
    },
    {
     "name": "stdout",
     "output_type": "stream",
     "text": [
      "PLAYER 1: \n",
      "PLAYER 2: \n",
      "PLAYER 1: \n",
      "PLAYER 2: \n",
      "PLAYER 1: \n",
      "PLAYER 2: \n",
      "PLAYER 1: \n",
      "PLAYER 2: \n",
      " ___\n",
      "|ox |\n",
      "|xoo|\n",
      "|xxo|\n",
      " ---\n"
     ]
    },
    {
     "name": "stderr",
     "output_type": "stream",
     "text": [
      "Score as black: -3:  23%|██▎       | 23/100 [00:04<00:14,  5.30it/s]"
     ]
    },
    {
     "name": "stdout",
     "output_type": "stream",
     "text": [
      "PLAYER 1: \n",
      "PLAYER 2: \n",
      "PLAYER 1: \n",
      "PLAYER 2: \n",
      "PLAYER 1: \n",
      "PLAYER 2: \n",
      "PLAYER 1: \n",
      " ___\n",
      "|ox |\n",
      "| oo|\n",
      "|xxx|\n",
      " ---\n"
     ]
    },
    {
     "name": "stderr",
     "output_type": "stream",
     "text": [
      "Score as black: -4:  24%|██▍       | 24/100 [00:04<00:13,  5.44it/s]"
     ]
    },
    {
     "name": "stdout",
     "output_type": "stream",
     "text": [
      "PLAYER 1: \n",
      "PLAYER 2: \n",
      "PLAYER 1: \n",
      "PLAYER 2: \n",
      "PLAYER 1: \n",
      "PLAYER 2: \n",
      "PLAYER 1: \n",
      "PLAYER 2: \n",
      "PLAYER 1: \n",
      " ___\n",
      "|xox|\n",
      "|oxo|\n",
      "|xox|\n",
      " ---\n"
     ]
    },
    {
     "name": "stderr",
     "output_type": "stream",
     "text": [
      "Score as black: -5:  25%|██▌       | 25/100 [00:04<00:14,  5.27it/s]"
     ]
    },
    {
     "name": "stdout",
     "output_type": "stream",
     "text": [
      "PLAYER 1: \n",
      "PLAYER 2: \n",
      "PLAYER 1: \n",
      "PLAYER 2: \n",
      "PLAYER 1: \n",
      "PLAYER 2: \n",
      "PLAYER 1: \n",
      " ___\n",
      "|xxx|\n",
      "|  o|\n",
      "|oxo|\n",
      " ---\n"
     ]
    },
    {
     "name": "stderr",
     "output_type": "stream",
     "text": [
      "Score as black: -6:  26%|██▌       | 26/100 [00:04<00:13,  5.40it/s]"
     ]
    },
    {
     "name": "stdout",
     "output_type": "stream",
     "text": [
      "PLAYER 1: \n",
      "PLAYER 2: \n",
      "PLAYER 1: \n",
      "PLAYER 2: \n",
      "PLAYER 1: \n",
      "PLAYER 2: \n",
      "PLAYER 1: \n",
      "PLAYER 2: \n",
      " ___\n",
      "|ox |\n",
      "|oox|\n",
      "|xxo|\n",
      " ---\n"
     ]
    },
    {
     "name": "stderr",
     "output_type": "stream",
     "text": [
      "Score as black: -5:  27%|██▋       | 27/100 [00:04<00:14,  5.12it/s]"
     ]
    },
    {
     "name": "stdout",
     "output_type": "stream",
     "text": [
      "PLAYER 1: \n",
      "PLAYER 2: \n",
      "PLAYER 1: \n",
      "PLAYER 2: \n",
      "PLAYER 1: \n",
      "PLAYER 2: \n",
      "PLAYER 1: \n",
      "PLAYER 2: \n",
      "PLAYER 1: \n",
      " ___\n",
      "|oxx|\n",
      "|xxo|\n",
      "|xoo|\n",
      " ---\n"
     ]
    },
    {
     "name": "stderr",
     "output_type": "stream",
     "text": [
      "Score as black: -6:  28%|██▊       | 28/100 [00:05<00:15,  4.79it/s]"
     ]
    },
    {
     "name": "stdout",
     "output_type": "stream",
     "text": [
      "PLAYER 1: \n",
      "PLAYER 2: \n",
      "PLAYER 1: \n",
      "PLAYER 2: \n",
      "PLAYER 1: \n",
      "PLAYER 2: \n",
      "PLAYER 1: \n",
      "PLAYER 2: \n",
      "PLAYER 1: \n",
      " ___\n",
      "|xox|\n",
      "|xoo|\n",
      "|oxx|\n",
      " ---\n"
     ]
    },
    {
     "name": "stderr",
     "output_type": "stream",
     "text": [
      "Score as black: -6:  29%|██▉       | 29/100 [00:05<00:14,  4.75it/s]"
     ]
    },
    {
     "name": "stdout",
     "output_type": "stream",
     "text": [
      "PLAYER 1: \n",
      "PLAYER 2: \n",
      "PLAYER 1: \n",
      "PLAYER 2: \n",
      "PLAYER 1: \n",
      "PLAYER 2: \n",
      "PLAYER 1: \n",
      " ___\n",
      "|xo |\n",
      "|xoo|\n",
      "|x x|\n",
      " ---\n"
     ]
    },
    {
     "name": "stderr",
     "output_type": "stream",
     "text": [
      "Score as black: -7:  30%|███       | 30/100 [00:05<00:13,  5.09it/s]"
     ]
    },
    {
     "name": "stdout",
     "output_type": "stream",
     "text": [
      "PLAYER 1: \n",
      "PLAYER 2: \n",
      "PLAYER 1: \n",
      "PLAYER 2: \n",
      "PLAYER 1: \n",
      "PLAYER 2: \n",
      "PLAYER 1: \n",
      " ___\n",
      "| xo|\n",
      "|xxo|\n",
      "|ox |\n",
      " ---\n"
     ]
    },
    {
     "name": "stderr",
     "output_type": "stream",
     "text": [
      "Score as black: -8:  31%|███       | 31/100 [00:05<00:13,  5.22it/s]"
     ]
    },
    {
     "name": "stdout",
     "output_type": "stream",
     "text": [
      "PLAYER 1: \n",
      "PLAYER 2: \n",
      "PLAYER 1: \n",
      "PLAYER 2: \n",
      "PLAYER 1: \n",
      "PLAYER 2: \n",
      "PLAYER 1: \n",
      " ___\n",
      "|x x|\n",
      "|oxo|\n",
      "|xo |\n",
      " ---\n"
     ]
    },
    {
     "name": "stderr",
     "output_type": "stream",
     "text": [
      "Score as black: -9:  32%|███▏      | 32/100 [00:05<00:12,  5.30it/s]"
     ]
    },
    {
     "name": "stdout",
     "output_type": "stream",
     "text": [
      "PLAYER 1: \n",
      "PLAYER 2: \n",
      "PLAYER 1: \n",
      "PLAYER 2: \n",
      "PLAYER 1: \n",
      "PLAYER 2: \n",
      "PLAYER 1: \n",
      "PLAYER 2: \n",
      "PLAYER 1: \n",
      " ___\n",
      "|xxo|\n",
      "|xoo|\n",
      "|xox|\n",
      " ---\n"
     ]
    },
    {
     "name": "stderr",
     "output_type": "stream",
     "text": [
      "Score as black: -10:  33%|███▎      | 33/100 [00:06<00:13,  5.00it/s]"
     ]
    },
    {
     "name": "stdout",
     "output_type": "stream",
     "text": [
      "PLAYER 1: \n",
      "PLAYER 2: \n",
      "PLAYER 1: \n",
      "PLAYER 2: \n",
      "PLAYER 1: \n",
      "PLAYER 2: \n",
      "PLAYER 1: \n",
      "PLAYER 2: \n",
      "PLAYER 1: \n",
      " ___\n",
      "|xxx|\n",
      "|xoo|\n",
      "|oxo|\n",
      " ---\n"
     ]
    },
    {
     "name": "stderr",
     "output_type": "stream",
     "text": [
      "Score as black: -11:  34%|███▍      | 34/100 [00:06<00:13,  4.77it/s]"
     ]
    },
    {
     "name": "stdout",
     "output_type": "stream",
     "text": [
      "PLAYER 1: \n",
      "PLAYER 2: \n",
      "PLAYER 1: \n",
      "PLAYER 2: \n",
      "PLAYER 1: \n",
      "PLAYER 2: \n",
      "PLAYER 1: \n",
      "PLAYER 2: \n",
      "PLAYER 1: \n",
      " ___\n",
      "|xxo|\n",
      "|xxo|\n",
      "|oox|\n",
      " ---\n"
     ]
    },
    {
     "name": "stderr",
     "output_type": "stream",
     "text": [
      "Score as black: -12:  35%|███▌      | 35/100 [00:06<00:14,  4.56it/s]"
     ]
    },
    {
     "name": "stdout",
     "output_type": "stream",
     "text": [
      "PLAYER 1: \n",
      "PLAYER 2: \n",
      "PLAYER 1: \n",
      "PLAYER 2: \n",
      "PLAYER 1: \n",
      " ___\n",
      "|x  |\n",
      "|oxo|\n",
      "|  x|\n",
      " ---\n"
     ]
    },
    {
     "name": "stderr",
     "output_type": "stream",
     "text": [
      "Score as black: -13:  36%|███▌      | 36/100 [00:06<00:12,  5.24it/s]"
     ]
    },
    {
     "name": "stdout",
     "output_type": "stream",
     "text": [
      "PLAYER 1: \n",
      "PLAYER 2: \n",
      "PLAYER 1: \n",
      "PLAYER 2: \n",
      "PLAYER 1: \n",
      "PLAYER 2: \n",
      "PLAYER 1: \n",
      "PLAYER 2: \n",
      "PLAYER 1: \n",
      " ___\n",
      "|xxo|\n",
      "|oxx|\n",
      "|xoo|\n",
      " ---\n"
     ]
    },
    {
     "name": "stderr",
     "output_type": "stream",
     "text": [
      "Score as black: -13:  37%|███▋      | 37/100 [00:07<00:13,  4.75it/s]"
     ]
    },
    {
     "name": "stdout",
     "output_type": "stream",
     "text": [
      "PLAYER 1: \n",
      "PLAYER 2: \n",
      "PLAYER 1: \n",
      "PLAYER 2: \n",
      "PLAYER 1: \n",
      "PLAYER 2: \n",
      "PLAYER 1: \n",
      " ___\n",
      "|o x|\n",
      "|oxo|\n",
      "|x x|\n",
      " ---\n"
     ]
    },
    {
     "name": "stderr",
     "output_type": "stream",
     "text": [
      "Score as black: -14:  38%|███▊      | 38/100 [00:07<00:12,  4.97it/s]"
     ]
    },
    {
     "name": "stdout",
     "output_type": "stream",
     "text": [
      "PLAYER 1: \n",
      "PLAYER 2: \n",
      "PLAYER 1: \n",
      "PLAYER 2: \n",
      "PLAYER 1: \n",
      "PLAYER 2: \n",
      "PLAYER 1: \n",
      " ___\n",
      "|ox |\n",
      "|o o|\n",
      "|xxx|\n",
      " ---\n"
     ]
    },
    {
     "name": "stderr",
     "output_type": "stream",
     "text": [
      "Score as black: -15:  39%|███▉      | 39/100 [00:07<00:11,  5.25it/s]"
     ]
    },
    {
     "name": "stdout",
     "output_type": "stream",
     "text": [
      "PLAYER 1: \n",
      "PLAYER 2: \n",
      "PLAYER 1: \n",
      "PLAYER 2: \n",
      "PLAYER 1: \n",
      " ___\n",
      "|x  |\n",
      "| xo|\n",
      "| ox|\n",
      " ---\n"
     ]
    },
    {
     "name": "stderr",
     "output_type": "stream",
     "text": [
      "Score as black: -16:  40%|████      | 40/100 [00:07<00:10,  5.81it/s]"
     ]
    },
    {
     "name": "stdout",
     "output_type": "stream",
     "text": [
      "PLAYER 1: \n",
      "PLAYER 2: \n",
      "PLAYER 1: \n",
      "PLAYER 2: \n",
      "PLAYER 1: \n",
      "PLAYER 2: \n",
      "PLAYER 1: \n",
      " ___\n",
      "|oxx|\n",
      "|oxo|\n",
      "| x |\n",
      " ---\n"
     ]
    },
    {
     "name": "stderr",
     "output_type": "stream",
     "text": [
      "Score as black: -17:  41%|████      | 41/100 [00:07<00:10,  5.79it/s]"
     ]
    },
    {
     "name": "stdout",
     "output_type": "stream",
     "text": [
      "PLAYER 1: \n",
      "PLAYER 2: \n",
      "PLAYER 1: \n",
      "PLAYER 2: \n",
      "PLAYER 1: \n",
      "PLAYER 2: \n",
      "PLAYER 1: \n",
      "PLAYER 2: \n",
      "PLAYER 1: \n",
      " ___\n",
      "|oxx|\n",
      "|xxo|\n",
      "|oxo|\n",
      " ---\n"
     ]
    },
    {
     "name": "stderr",
     "output_type": "stream",
     "text": [
      "Score as black: -18:  42%|████▏     | 42/100 [00:07<00:11,  5.27it/s]"
     ]
    },
    {
     "name": "stdout",
     "output_type": "stream",
     "text": [
      "PLAYER 1: \n",
      "PLAYER 2: \n",
      "PLAYER 1: \n",
      "PLAYER 2: \n",
      "PLAYER 1: \n",
      "PLAYER 2: \n",
      "PLAYER 1: \n",
      "PLAYER 2: \n",
      "PLAYER 1: \n",
      " ___\n",
      "|oox|\n",
      "|oox|\n",
      "|xxx|\n",
      " ---\n"
     ]
    },
    {
     "name": "stderr",
     "output_type": "stream",
     "text": [
      "Score as black: -19:  43%|████▎     | 43/100 [00:08<00:11,  4.94it/s]"
     ]
    },
    {
     "name": "stdout",
     "output_type": "stream",
     "text": [
      "PLAYER 1: \n",
      "PLAYER 2: \n",
      "PLAYER 1: \n",
      "PLAYER 2: \n",
      "PLAYER 1: \n",
      "PLAYER 2: \n",
      " ___\n",
      "| x |\n",
      "|ooo|\n",
      "| xx|\n",
      " ---\n"
     ]
    },
    {
     "name": "stderr",
     "output_type": "stream",
     "text": [
      "Score as black: -18:  44%|████▍     | 44/100 [00:08<00:10,  5.34it/s]"
     ]
    },
    {
     "name": "stdout",
     "output_type": "stream",
     "text": [
      "PLAYER 1: \n",
      "PLAYER 2: \n",
      "PLAYER 1: \n",
      "PLAYER 2: \n",
      "PLAYER 1: \n",
      "PLAYER 2: \n",
      "PLAYER 1: \n",
      "PLAYER 2: \n",
      "PLAYER 1: \n",
      " ___\n",
      "|xox|\n",
      "|xoo|\n",
      "|xxo|\n",
      " ---\n"
     ]
    },
    {
     "name": "stderr",
     "output_type": "stream",
     "text": [
      "Score as black: -19:  45%|████▌     | 45/100 [00:08<00:10,  5.03it/s]"
     ]
    },
    {
     "name": "stdout",
     "output_type": "stream",
     "text": [
      "PLAYER 1: \n",
      "PLAYER 2: \n",
      "PLAYER 1: \n",
      "PLAYER 2: \n",
      "PLAYER 1: \n",
      "PLAYER 2: \n",
      "PLAYER 1: \n",
      " ___\n",
      "|ox |\n",
      "|xxo|\n",
      "|ox |\n",
      " ---\n"
     ]
    },
    {
     "name": "stderr",
     "output_type": "stream",
     "text": [
      "Score as black: -20:  46%|████▌     | 46/100 [00:08<00:10,  5.18it/s]"
     ]
    },
    {
     "name": "stdout",
     "output_type": "stream",
     "text": [
      "PLAYER 1: \n",
      "PLAYER 2: \n",
      "PLAYER 1: \n",
      "PLAYER 2: \n",
      "PLAYER 1: \n",
      "PLAYER 2: \n",
      "PLAYER 1: \n",
      "PLAYER 2: \n",
      " ___\n",
      "|oox|\n",
      "|xox|\n",
      "|xo |\n",
      " ---\n"
     ]
    },
    {
     "name": "stderr",
     "output_type": "stream",
     "text": [
      "Score as black: -19:  47%|████▋     | 47/100 [00:08<00:10,  5.05it/s]"
     ]
    },
    {
     "name": "stdout",
     "output_type": "stream",
     "text": [
      "PLAYER 1: \n",
      "PLAYER 2: \n",
      "PLAYER 1: \n",
      "PLAYER 2: \n",
      "PLAYER 1: \n",
      "PLAYER 2: \n",
      "PLAYER 1: \n",
      "PLAYER 2: \n",
      "PLAYER 1: \n",
      " ___\n",
      "|oxx|\n",
      "|xoo|\n",
      "|xox|\n",
      " ---\n"
     ]
    },
    {
     "name": "stderr",
     "output_type": "stream",
     "text": [
      "Score as black: -19:  48%|████▊     | 48/100 [00:09<00:10,  4.83it/s]"
     ]
    },
    {
     "name": "stdout",
     "output_type": "stream",
     "text": [
      "PLAYER 1: \n",
      "PLAYER 2: \n",
      "PLAYER 1: \n",
      "PLAYER 2: \n",
      "PLAYER 1: \n",
      "PLAYER 2: \n",
      "PLAYER 1: \n",
      " ___\n",
      "|xoo|\n",
      "|x o|\n",
      "|x x|\n",
      " ---\n"
     ]
    },
    {
     "name": "stderr",
     "output_type": "stream",
     "text": [
      "Score as black: -20:  49%|████▉     | 49/100 [00:09<00:10,  4.99it/s]"
     ]
    },
    {
     "name": "stdout",
     "output_type": "stream",
     "text": [
      "PLAYER 1: \n",
      "PLAYER 2: \n",
      "PLAYER 1: \n",
      "PLAYER 2: \n",
      "PLAYER 1: \n",
      "PLAYER 2: \n",
      "PLAYER 1: \n",
      "PLAYER 2: \n",
      "PLAYER 1: \n",
      " ___\n",
      "|oox|\n",
      "|xxo|\n",
      "|xox|\n",
      " ---\n"
     ]
    },
    {
     "name": "stderr",
     "output_type": "stream",
     "text": [
      "Score as black: -21:  50%|█████     | 50/100 [00:09<00:10,  4.81it/s]"
     ]
    },
    {
     "name": "stdout",
     "output_type": "stream",
     "text": [
      "PLAYER 1: \n",
      "PLAYER 2: \n",
      "PLAYER 1: \n",
      "PLAYER 2: \n",
      "PLAYER 1: \n",
      "PLAYER 2: \n",
      "PLAYER 1: \n",
      "PLAYER 2: \n",
      "PLAYER 1: \n",
      " ___\n",
      "|oxx|\n",
      "|oxo|\n",
      "|xxo|\n",
      " ---\n"
     ]
    },
    {
     "name": "stderr",
     "output_type": "stream",
     "text": [
      "Score as black: -22:  51%|█████     | 51/100 [00:09<00:10,  4.68it/s]"
     ]
    },
    {
     "name": "stdout",
     "output_type": "stream",
     "text": [
      "PLAYER 1: \n",
      "PLAYER 2: \n",
      "PLAYER 1: \n",
      "PLAYER 2: \n",
      "PLAYER 1: \n",
      "PLAYER 2: \n",
      "PLAYER 1: \n",
      "PLAYER 2: \n",
      "PLAYER 1: \n",
      " ___\n",
      "|oox|\n",
      "|xoo|\n",
      "|xxx|\n",
      " ---\n"
     ]
    },
    {
     "name": "stderr",
     "output_type": "stream",
     "text": [
      "Score as black: -23:  52%|█████▏    | 52/100 [00:09<00:10,  4.55it/s]"
     ]
    },
    {
     "name": "stdout",
     "output_type": "stream",
     "text": [
      "PLAYER 1: \n",
      "PLAYER 2: \n",
      "PLAYER 1: \n",
      "PLAYER 2: \n",
      "PLAYER 1: \n",
      "PLAYER 2: \n",
      "PLAYER 1: \n",
      "PLAYER 2: \n",
      "PLAYER 1: \n",
      " ___\n",
      "|oxo|\n",
      "|xxo|\n",
      "|xox|\n",
      " ---\n"
     ]
    },
    {
     "name": "stderr",
     "output_type": "stream",
     "text": [
      "Score as black: -23:  53%|█████▎    | 53/100 [00:10<00:10,  4.54it/s]"
     ]
    },
    {
     "name": "stdout",
     "output_type": "stream",
     "text": [
      "PLAYER 1: \n",
      "PLAYER 2: \n",
      "PLAYER 1: \n",
      "PLAYER 2: \n",
      "PLAYER 1: \n",
      "PLAYER 2: \n",
      "PLAYER 1: \n",
      "PLAYER 2: \n",
      " ___\n",
      "|xox|\n",
      "| oo|\n",
      "|xox|\n",
      " ---\n"
     ]
    },
    {
     "name": "stderr",
     "output_type": "stream",
     "text": [
      "Score as black: -22:  54%|█████▍    | 54/100 [00:10<00:09,  4.63it/s]"
     ]
    },
    {
     "name": "stdout",
     "output_type": "stream",
     "text": [
      "PLAYER 1: \n",
      "PLAYER 2: \n",
      "PLAYER 1: \n",
      "PLAYER 2: \n",
      "PLAYER 1: \n",
      "PLAYER 2: \n",
      "PLAYER 1: \n",
      " ___\n",
      "|xox|\n",
      "| xo|\n",
      "|o x|\n",
      " ---\n"
     ]
    },
    {
     "name": "stderr",
     "output_type": "stream",
     "text": [
      "Score as black: -23:  55%|█████▌    | 55/100 [00:10<00:09,  4.95it/s]"
     ]
    },
    {
     "name": "stdout",
     "output_type": "stream",
     "text": [
      "PLAYER 1: \n",
      "PLAYER 2: \n",
      "PLAYER 1: \n",
      "PLAYER 2: \n",
      "PLAYER 1: \n",
      "PLAYER 2: \n",
      "PLAYER 1: \n",
      "PLAYER 2: \n",
      "PLAYER 1: \n",
      " ___\n",
      "|xxo|\n",
      "|oxo|\n",
      "|xox|\n",
      " ---\n"
     ]
    },
    {
     "name": "stderr",
     "output_type": "stream",
     "text": [
      "Score as black: -24:  56%|█████▌    | 56/100 [00:10<00:09,  4.73it/s]"
     ]
    },
    {
     "name": "stdout",
     "output_type": "stream",
     "text": [
      "PLAYER 1: \n",
      "PLAYER 2: \n",
      "PLAYER 1: \n",
      "PLAYER 2: \n",
      "PLAYER 1: \n",
      "PLAYER 2: \n",
      "PLAYER 1: \n",
      "PLAYER 2: \n",
      "PLAYER 1: \n",
      " ___\n",
      "|oox|\n",
      "|xxo|\n",
      "|xox|\n",
      " ---\n"
     ]
    },
    {
     "name": "stderr",
     "output_type": "stream",
     "text": [
      "Score as black: -25:  57%|█████▋    | 57/100 [00:11<00:09,  4.63it/s]"
     ]
    },
    {
     "name": "stdout",
     "output_type": "stream",
     "text": [
      "PLAYER 1: \n",
      "PLAYER 2: \n",
      "PLAYER 1: \n",
      "PLAYER 2: \n",
      "PLAYER 1: \n",
      "PLAYER 2: \n",
      " ___\n",
      "| xx|\n",
      "|ooo|\n",
      "|  x|\n",
      " ---\n"
     ]
    },
    {
     "name": "stderr",
     "output_type": "stream",
     "text": [
      "Score as black: -24:  58%|█████▊    | 58/100 [00:11<00:08,  5.11it/s]"
     ]
    },
    {
     "name": "stdout",
     "output_type": "stream",
     "text": [
      "PLAYER 1: \n",
      "PLAYER 2: \n",
      "PLAYER 1: \n",
      "PLAYER 2: \n",
      "PLAYER 1: \n",
      "PLAYER 2: \n",
      "PLAYER 1: \n",
      "PLAYER 2: \n",
      "PLAYER 1: \n",
      " ___\n",
      "|oox|\n",
      "|xxo|\n",
      "|oxx|\n",
      " ---\n"
     ]
    },
    {
     "name": "stderr",
     "output_type": "stream",
     "text": [
      "Score as black: -24:  59%|█████▉    | 59/100 [00:11<00:08,  4.94it/s]"
     ]
    },
    {
     "name": "stdout",
     "output_type": "stream",
     "text": [
      "PLAYER 1: \n",
      "PLAYER 2: \n",
      "PLAYER 1: \n",
      "PLAYER 2: \n",
      "PLAYER 1: \n",
      "PLAYER 2: \n",
      "PLAYER 1: \n",
      " ___\n",
      "|x  |\n",
      "|xxo|\n",
      "|xoo|\n",
      " ---\n"
     ]
    },
    {
     "name": "stderr",
     "output_type": "stream",
     "text": [
      "Score as black: -25:  60%|██████    | 60/100 [00:11<00:07,  5.19it/s]"
     ]
    },
    {
     "name": "stdout",
     "output_type": "stream",
     "text": [
      "PLAYER 1: \n",
      "PLAYER 2: \n",
      "PLAYER 1: \n",
      "PLAYER 2: \n",
      "PLAYER 1: \n",
      "PLAYER 2: \n",
      "PLAYER 1: \n",
      "PLAYER 2: \n",
      "PLAYER 1: \n",
      " ___\n",
      "|xox|\n",
      "|xxo|\n",
      "|oox|\n",
      " ---\n"
     ]
    },
    {
     "name": "stderr",
     "output_type": "stream",
     "text": [
      "Score as black: -26:  61%|██████    | 61/100 [00:11<00:07,  5.01it/s]"
     ]
    },
    {
     "name": "stdout",
     "output_type": "stream",
     "text": [
      "PLAYER 1: \n",
      "PLAYER 2: \n",
      "PLAYER 1: \n",
      "PLAYER 2: \n",
      "PLAYER 1: \n",
      "PLAYER 2: \n",
      "PLAYER 1: \n",
      "PLAYER 2: \n",
      "PLAYER 1: \n",
      " ___\n",
      "|oxx|\n",
      "|xxo|\n",
      "|oxo|\n",
      " ---\n"
     ]
    },
    {
     "name": "stderr",
     "output_type": "stream",
     "text": [
      "Score as black: -27:  62%|██████▏   | 62/100 [00:12<00:07,  4.93it/s]"
     ]
    },
    {
     "name": "stdout",
     "output_type": "stream",
     "text": [
      "PLAYER 1: \n",
      "PLAYER 2: \n",
      "PLAYER 1: \n",
      "PLAYER 2: \n",
      "PLAYER 1: \n",
      "PLAYER 2: \n",
      "PLAYER 1: \n",
      "PLAYER 2: \n",
      "PLAYER 1: \n",
      " ___\n",
      "|oxx|\n",
      "|xxo|\n",
      "|oox|\n",
      " ---\n"
     ]
    },
    {
     "name": "stderr",
     "output_type": "stream",
     "text": [
      "Score as black: -27:  63%|██████▎   | 63/100 [00:12<00:07,  4.76it/s]"
     ]
    },
    {
     "name": "stdout",
     "output_type": "stream",
     "text": [
      "PLAYER 1: \n",
      "PLAYER 2: \n",
      "PLAYER 1: \n",
      "PLAYER 2: \n",
      "PLAYER 1: \n",
      "PLAYER 2: \n",
      "PLAYER 1: \n",
      " ___\n",
      "|o  |\n",
      "|xoo|\n",
      "|xxx|\n",
      " ---\n"
     ]
    },
    {
     "name": "stderr",
     "output_type": "stream",
     "text": [
      "Score as black: -28:  64%|██████▍   | 64/100 [00:12<00:07,  5.05it/s]"
     ]
    },
    {
     "name": "stdout",
     "output_type": "stream",
     "text": [
      "PLAYER 1: \n",
      "PLAYER 2: \n",
      "PLAYER 1: \n",
      "PLAYER 2: \n",
      "PLAYER 1: \n",
      "PLAYER 2: \n",
      "PLAYER 1: \n",
      "PLAYER 2: \n",
      " ___\n",
      "| ox|\n",
      "|xox|\n",
      "|xoo|\n",
      " ---\n"
     ]
    },
    {
     "name": "stderr",
     "output_type": "stream",
     "text": [
      "Score as black: -27:  65%|██████▌   | 65/100 [00:12<00:06,  5.07it/s]"
     ]
    },
    {
     "name": "stdout",
     "output_type": "stream",
     "text": [
      "PLAYER 1: \n",
      "PLAYER 2: \n",
      "PLAYER 1: \n",
      "PLAYER 2: \n",
      "PLAYER 1: \n",
      "PLAYER 2: \n",
      "PLAYER 1: \n",
      "PLAYER 2: \n",
      "PLAYER 1: \n",
      " ___\n",
      "|xxx|\n",
      "|xoo|\n",
      "|oxo|\n",
      " ---\n"
     ]
    },
    {
     "name": "stderr",
     "output_type": "stream",
     "text": [
      "Score as black: -28:  66%|██████▌   | 66/100 [00:12<00:06,  4.91it/s]"
     ]
    },
    {
     "name": "stdout",
     "output_type": "stream",
     "text": [
      "PLAYER 1: \n",
      "PLAYER 2: \n",
      "PLAYER 1: \n",
      "PLAYER 2: \n",
      "PLAYER 1: \n",
      "PLAYER 2: \n",
      "PLAYER 1: \n",
      " ___\n",
      "|  o|\n",
      "|xxx|\n",
      "|oxo|\n",
      " ---\n"
     ]
    },
    {
     "name": "stderr",
     "output_type": "stream",
     "text": [
      "Score as black: -29:  67%|██████▋   | 67/100 [00:12<00:06,  5.22it/s]"
     ]
    },
    {
     "name": "stdout",
     "output_type": "stream",
     "text": [
      "PLAYER 1: \n",
      "PLAYER 2: \n",
      "PLAYER 1: \n",
      "PLAYER 2: \n",
      "PLAYER 1: \n",
      " ___\n",
      "|x o|\n",
      "|x o|\n",
      "|x  |\n",
      " ---\n"
     ]
    },
    {
     "name": "stderr",
     "output_type": "stream",
     "text": [
      "Score as black: -30:  68%|██████▊   | 68/100 [00:13<00:05,  5.88it/s]"
     ]
    },
    {
     "name": "stdout",
     "output_type": "stream",
     "text": [
      "PLAYER 1: \n",
      "PLAYER 2: \n",
      "PLAYER 1: \n",
      "PLAYER 2: \n",
      "PLAYER 1: \n",
      "PLAYER 2: \n",
      "PLAYER 1: \n",
      "PLAYER 2: \n",
      " ___\n",
      "|xxo|\n",
      "|xoo|\n",
      "|o x|\n",
      " ---\n"
     ]
    },
    {
     "name": "stderr",
     "output_type": "stream",
     "text": [
      "Score as black: -29:  69%|██████▉   | 69/100 [00:13<00:05,  5.65it/s]"
     ]
    },
    {
     "name": "stdout",
     "output_type": "stream",
     "text": [
      "PLAYER 1: \n",
      "PLAYER 2: \n",
      "PLAYER 1: \n",
      "PLAYER 2: \n",
      "PLAYER 1: \n",
      "PLAYER 2: \n",
      "PLAYER 1: \n",
      " ___\n",
      "|xox|\n",
      "| xo|\n",
      "| ox|\n",
      " ---\n"
     ]
    },
    {
     "name": "stderr",
     "output_type": "stream",
     "text": [
      "Score as black: -30:  70%|███████   | 70/100 [00:13<00:05,  5.83it/s]"
     ]
    },
    {
     "name": "stdout",
     "output_type": "stream",
     "text": [
      "PLAYER 1: \n",
      "PLAYER 2: \n",
      "PLAYER 1: \n",
      "PLAYER 2: \n",
      "PLAYER 1: \n",
      "PLAYER 2: \n",
      "PLAYER 1: \n",
      " ___\n",
      "|oxo|\n",
      "| xo|\n",
      "| xx|\n",
      " ---\n"
     ]
    },
    {
     "name": "stderr",
     "output_type": "stream",
     "text": [
      "Score as black: -31:  71%|███████   | 71/100 [00:13<00:04,  5.87it/s]"
     ]
    },
    {
     "name": "stdout",
     "output_type": "stream",
     "text": [
      "PLAYER 1: \n",
      "PLAYER 2: \n",
      "PLAYER 1: \n",
      "PLAYER 2: \n",
      "PLAYER 1: \n",
      "PLAYER 2: \n",
      "PLAYER 1: \n",
      " ___\n",
      "|xxx|\n",
      "|  o|\n",
      "|xoo|\n",
      " ---\n"
     ]
    },
    {
     "name": "stderr",
     "output_type": "stream",
     "text": [
      "Score as black: -32:  72%|███████▏  | 72/100 [00:13<00:04,  5.92it/s]"
     ]
    },
    {
     "name": "stdout",
     "output_type": "stream",
     "text": [
      "PLAYER 1: \n",
      "PLAYER 2: \n",
      "PLAYER 1: \n",
      "PLAYER 2: \n",
      "PLAYER 1: \n",
      "PLAYER 2: \n",
      "PLAYER 1: \n",
      "PLAYER 2: \n",
      "PLAYER 1: \n",
      " ___\n",
      "|xox|\n",
      "|xoo|\n",
      "|oxx|\n",
      " ---\n"
     ]
    },
    {
     "name": "stderr",
     "output_type": "stream",
     "text": [
      "Score as black: -32:  73%|███████▎  | 73/100 [00:13<00:04,  5.47it/s]"
     ]
    },
    {
     "name": "stdout",
     "output_type": "stream",
     "text": [
      "PLAYER 1: \n",
      "PLAYER 2: \n",
      "PLAYER 1: \n",
      "PLAYER 2: \n",
      "PLAYER 1: \n",
      "PLAYER 2: \n",
      "PLAYER 1: \n",
      " ___\n",
      "|x x|\n",
      "|oxo|\n",
      "|o x|\n",
      " ---\n"
     ]
    },
    {
     "name": "stderr",
     "output_type": "stream",
     "text": [
      "Score as black: -33:  74%|███████▍  | 74/100 [00:14<00:04,  5.61it/s]"
     ]
    },
    {
     "name": "stdout",
     "output_type": "stream",
     "text": [
      "PLAYER 1: \n",
      "PLAYER 2: \n",
      "PLAYER 1: \n",
      "PLAYER 2: \n",
      "PLAYER 1: \n",
      " ___\n",
      "|  x|\n",
      "| ox|\n",
      "| ox|\n",
      " ---\n"
     ]
    },
    {
     "name": "stderr",
     "output_type": "stream",
     "text": [
      "Score as black: -34:  75%|███████▌  | 75/100 [00:14<00:04,  6.11it/s]"
     ]
    },
    {
     "name": "stdout",
     "output_type": "stream",
     "text": [
      "PLAYER 1: \n",
      "PLAYER 2: \n",
      "PLAYER 1: \n",
      "PLAYER 2: \n",
      "PLAYER 1: \n",
      "PLAYER 2: \n",
      "PLAYER 1: \n",
      "PLAYER 2: \n",
      " ___\n",
      "|xxo|\n",
      "|xxo|\n",
      "| oo|\n",
      " ---\n"
     ]
    },
    {
     "name": "stderr",
     "output_type": "stream",
     "text": [
      "Score as black: -33:  76%|███████▌  | 76/100 [00:14<00:04,  5.75it/s]"
     ]
    },
    {
     "name": "stdout",
     "output_type": "stream",
     "text": [
      "PLAYER 1: \n",
      "PLAYER 2: \n",
      "PLAYER 1: \n",
      "PLAYER 2: \n",
      "PLAYER 1: \n",
      "PLAYER 2: \n",
      "PLAYER 1: \n",
      "PLAYER 2: \n",
      " ___\n",
      "|o x|\n",
      "|xoo|\n",
      "|xxo|\n",
      " ---\n"
     ]
    },
    {
     "name": "stderr",
     "output_type": "stream",
     "text": [
      "Score as black: -32:  77%|███████▋  | 77/100 [00:14<00:04,  5.53it/s]"
     ]
    },
    {
     "name": "stdout",
     "output_type": "stream",
     "text": [
      "PLAYER 1: \n",
      "PLAYER 2: \n",
      "PLAYER 1: \n",
      "PLAYER 2: \n",
      "PLAYER 1: \n",
      "PLAYER 2: \n",
      "PLAYER 1: \n",
      "PLAYER 2: \n",
      "PLAYER 1: \n",
      " ___\n",
      "|oxx|\n",
      "|xoo|\n",
      "|oxx|\n",
      " ---\n"
     ]
    },
    {
     "name": "stderr",
     "output_type": "stream",
     "text": [
      "Score as black: -32:  78%|███████▊  | 78/100 [00:14<00:04,  5.30it/s]"
     ]
    },
    {
     "name": "stdout",
     "output_type": "stream",
     "text": [
      "PLAYER 1: \n",
      "PLAYER 2: \n",
      "PLAYER 1: \n",
      "PLAYER 2: \n",
      "PLAYER 1: \n",
      " ___\n",
      "| xo|\n",
      "| xo|\n",
      "| x |\n",
      " ---\n"
     ]
    },
    {
     "name": "stderr",
     "output_type": "stream",
     "text": [
      "Score as black: -33:  79%|███████▉  | 79/100 [00:15<00:03,  6.01it/s]"
     ]
    },
    {
     "name": "stdout",
     "output_type": "stream",
     "text": [
      "PLAYER 1: \n",
      "PLAYER 2: \n",
      "PLAYER 1: \n",
      "PLAYER 2: \n",
      "PLAYER 1: \n",
      "PLAYER 2: \n",
      "PLAYER 1: \n",
      " ___\n",
      "|xo |\n",
      "|oxo|\n",
      "|x x|\n",
      " ---\n"
     ]
    },
    {
     "name": "stderr",
     "output_type": "stream",
     "text": [
      "Score as black: -34:  80%|████████  | 80/100 [00:15<00:03,  5.96it/s]"
     ]
    },
    {
     "name": "stdout",
     "output_type": "stream",
     "text": [
      "PLAYER 1: \n",
      "PLAYER 2: \n",
      "PLAYER 1: \n",
      "PLAYER 2: \n",
      "PLAYER 1: \n",
      "PLAYER 2: \n",
      "PLAYER 1: \n",
      "PLAYER 2: \n",
      "PLAYER 1: \n",
      " ___\n",
      "|xox|\n",
      "|xox|\n",
      "|oxo|\n",
      " ---\n"
     ]
    },
    {
     "name": "stderr",
     "output_type": "stream",
     "text": [
      "Score as black: -34:  81%|████████  | 81/100 [00:15<00:03,  5.13it/s]"
     ]
    },
    {
     "name": "stdout",
     "output_type": "stream",
     "text": [
      "PLAYER 1: \n",
      "PLAYER 2: \n",
      "PLAYER 1: \n",
      "PLAYER 2: \n",
      "PLAYER 1: \n",
      "PLAYER 2: \n",
      "PLAYER 1: \n",
      "PLAYER 2: \n",
      " ___\n",
      "|xxo|\n",
      "|oxo|\n",
      "|x o|\n",
      " ---\n"
     ]
    },
    {
     "name": "stderr",
     "output_type": "stream",
     "text": [
      "Score as black: -33:  82%|████████▏ | 82/100 [00:15<00:03,  5.07it/s]"
     ]
    },
    {
     "name": "stdout",
     "output_type": "stream",
     "text": [
      "PLAYER 1: \n",
      "PLAYER 2: \n",
      "PLAYER 1: \n",
      "PLAYER 2: \n",
      "PLAYER 1: \n",
      "PLAYER 2: \n",
      " ___\n",
      "|x  |\n",
      "|ooo|\n",
      "|x x|\n",
      " ---\n"
     ]
    },
    {
     "name": "stderr",
     "output_type": "stream",
     "text": [
      "Score as black: -32:  83%|████████▎ | 83/100 [00:15<00:03,  5.42it/s]"
     ]
    },
    {
     "name": "stdout",
     "output_type": "stream",
     "text": [
      "PLAYER 1: \n",
      "PLAYER 2: \n",
      "PLAYER 1: \n",
      "PLAYER 2: \n",
      "PLAYER 1: \n",
      "PLAYER 2: \n",
      " ___\n",
      "|xxo|\n",
      "|  o|\n",
      "| xo|\n",
      " ---\n"
     ]
    },
    {
     "name": "stderr",
     "output_type": "stream",
     "text": [
      "Score as black: -31:  84%|████████▍ | 84/100 [00:15<00:02,  5.78it/s]"
     ]
    },
    {
     "name": "stdout",
     "output_type": "stream",
     "text": [
      "PLAYER 1: \n",
      "PLAYER 2: \n",
      "PLAYER 1: \n",
      "PLAYER 2: \n",
      "PLAYER 1: \n",
      "PLAYER 2: \n",
      "PLAYER 1: \n",
      " ___\n",
      "|xoo|\n",
      "|x o|\n",
      "|x x|\n",
      " ---\n"
     ]
    },
    {
     "name": "stderr",
     "output_type": "stream",
     "text": [
      "Score as black: -32:  85%|████████▌ | 85/100 [00:16<00:02,  5.84it/s]"
     ]
    },
    {
     "name": "stdout",
     "output_type": "stream",
     "text": [
      "PLAYER 1: \n",
      "PLAYER 2: \n",
      "PLAYER 1: \n",
      "PLAYER 2: \n",
      "PLAYER 1: \n",
      "PLAYER 2: \n",
      "PLAYER 1: \n",
      "PLAYER 2: \n",
      " ___\n",
      "|oxx|\n",
      "|ooo|\n",
      "| xx|\n",
      " ---\n"
     ]
    },
    {
     "name": "stderr",
     "output_type": "stream",
     "text": [
      "Score as black: -31:  86%|████████▌ | 86/100 [00:16<00:02,  5.61it/s]"
     ]
    },
    {
     "name": "stdout",
     "output_type": "stream",
     "text": [
      "PLAYER 1: \n",
      "PLAYER 2: \n",
      "PLAYER 1: \n",
      "PLAYER 2: \n",
      "PLAYER 1: \n",
      " ___\n",
      "| o |\n",
      "|  o|\n",
      "|xxx|\n",
      " ---\n"
     ]
    },
    {
     "name": "stderr",
     "output_type": "stream",
     "text": [
      "Score as black: -32:  87%|████████▋ | 87/100 [00:16<00:02,  6.19it/s]"
     ]
    },
    {
     "name": "stdout",
     "output_type": "stream",
     "text": [
      "PLAYER 1: \n",
      "PLAYER 2: \n",
      "PLAYER 1: \n",
      "PLAYER 2: \n",
      "PLAYER 1: \n",
      " ___\n",
      "| xo|\n",
      "| xo|\n",
      "| x |\n",
      " ---\n"
     ]
    },
    {
     "name": "stderr",
     "output_type": "stream",
     "text": [
      "Score as black: -33:  88%|████████▊ | 88/100 [00:16<00:01,  6.69it/s]"
     ]
    },
    {
     "name": "stdout",
     "output_type": "stream",
     "text": [
      "PLAYER 1: \n",
      "PLAYER 2: \n",
      "PLAYER 1: \n",
      "PLAYER 2: \n",
      "PLAYER 1: \n",
      "PLAYER 2: \n",
      "PLAYER 1: \n",
      "PLAYER 2: \n",
      "PLAYER 1: \n",
      " ___\n",
      "|xoo|\n",
      "|oxo|\n",
      "|xxx|\n",
      " ---\n"
     ]
    },
    {
     "name": "stderr",
     "output_type": "stream",
     "text": [
      "Score as black: -34:  89%|████████▉ | 89/100 [00:16<00:01,  5.99it/s]"
     ]
    },
    {
     "name": "stdout",
     "output_type": "stream",
     "text": [
      "PLAYER 1: \n",
      "PLAYER 2: \n",
      "PLAYER 1: \n",
      "PLAYER 2: \n",
      "PLAYER 1: \n",
      "PLAYER 2: \n",
      "PLAYER 1: \n",
      " ___\n",
      "|xxx|\n",
      "|  o|\n",
      "|xoo|\n",
      " ---\n"
     ]
    },
    {
     "name": "stderr",
     "output_type": "stream",
     "text": [
      "Score as black: -35:  90%|█████████ | 90/100 [00:16<00:01,  6.00it/s]"
     ]
    },
    {
     "name": "stdout",
     "output_type": "stream",
     "text": [
      "PLAYER 1: \n",
      "PLAYER 2: \n",
      "PLAYER 1: \n",
      "PLAYER 2: \n",
      "PLAYER 1: \n",
      "PLAYER 2: \n",
      "PLAYER 1: \n",
      "PLAYER 2: \n",
      "PLAYER 1: \n",
      " ___\n",
      "|xox|\n",
      "|xxo|\n",
      "|oox|\n",
      " ---\n"
     ]
    },
    {
     "name": "stderr",
     "output_type": "stream",
     "text": [
      "Score as black: -36:  91%|█████████ | 91/100 [00:17<00:01,  5.46it/s]"
     ]
    },
    {
     "name": "stdout",
     "output_type": "stream",
     "text": [
      "PLAYER 1: \n",
      "PLAYER 2: \n",
      "PLAYER 1: \n",
      "PLAYER 2: \n",
      "PLAYER 1: \n",
      "PLAYER 2: \n",
      "PLAYER 1: \n",
      " ___\n",
      "|xo |\n",
      "|xoo|\n",
      "|x x|\n",
      " ---\n"
     ]
    },
    {
     "name": "stderr",
     "output_type": "stream",
     "text": [
      "Score as black: -37:  92%|█████████▏| 92/100 [00:17<00:01,  5.55it/s]"
     ]
    },
    {
     "name": "stdout",
     "output_type": "stream",
     "text": [
      "PLAYER 1: \n",
      "PLAYER 2: \n",
      "PLAYER 1: \n",
      "PLAYER 2: \n",
      "PLAYER 1: \n",
      "PLAYER 2: \n",
      "PLAYER 1: \n",
      "PLAYER 2: \n",
      " ___\n",
      "|xox|\n",
      "|xoo|\n",
      "| ox|\n",
      " ---\n"
     ]
    },
    {
     "name": "stderr",
     "output_type": "stream",
     "text": [
      "Score as black: -36:  93%|█████████▎| 93/100 [00:17<00:01,  5.46it/s]"
     ]
    },
    {
     "name": "stdout",
     "output_type": "stream",
     "text": [
      "PLAYER 1: \n",
      "PLAYER 2: \n",
      "PLAYER 1: \n",
      "PLAYER 2: \n",
      "PLAYER 1: \n",
      "PLAYER 2: \n",
      "PLAYER 1: \n",
      "PLAYER 2: \n",
      "PLAYER 1: \n",
      " ___\n",
      "|oxx|\n",
      "|xxo|\n",
      "|oox|\n",
      " ---\n"
     ]
    },
    {
     "name": "stderr",
     "output_type": "stream",
     "text": [
      "Score as black: -36:  94%|█████████▍| 94/100 [00:17<00:01,  5.13it/s]"
     ]
    },
    {
     "name": "stdout",
     "output_type": "stream",
     "text": [
      "PLAYER 1: \n",
      "PLAYER 2: \n",
      "PLAYER 1: \n",
      "PLAYER 2: \n",
      "PLAYER 1: \n",
      "PLAYER 2: \n",
      " ___\n",
      "|ooo|\n",
      "|  x|\n",
      "|xx |\n",
      " ---\n"
     ]
    },
    {
     "name": "stderr",
     "output_type": "stream",
     "text": [
      "Score as black: -35:  95%|█████████▌| 95/100 [00:17<00:00,  5.64it/s]"
     ]
    },
    {
     "name": "stdout",
     "output_type": "stream",
     "text": [
      "PLAYER 1: \n",
      "PLAYER 2: \n",
      "PLAYER 1: \n",
      "PLAYER 2: \n",
      "PLAYER 1: \n",
      "PLAYER 2: \n",
      "PLAYER 1: \n",
      " ___\n",
      "|xo |\n",
      "|xoo|\n",
      "|xx |\n",
      " ---\n"
     ]
    },
    {
     "name": "stderr",
     "output_type": "stream",
     "text": [
      "Score as black: -36:  96%|█████████▌| 96/100 [00:18<00:00,  5.78it/s]"
     ]
    },
    {
     "name": "stdout",
     "output_type": "stream",
     "text": [
      "PLAYER 1: \n",
      "PLAYER 2: \n",
      "PLAYER 1: \n",
      "PLAYER 2: \n",
      "PLAYER 1: \n",
      "PLAYER 2: \n",
      "PLAYER 1: \n",
      " ___\n",
      "|xo |\n",
      "|oxo|\n",
      "|x x|\n",
      " ---\n"
     ]
    },
    {
     "name": "stderr",
     "output_type": "stream",
     "text": [
      "Score as black: -37:  97%|█████████▋| 97/100 [00:18<00:00,  5.93it/s]"
     ]
    },
    {
     "name": "stdout",
     "output_type": "stream",
     "text": [
      "PLAYER 1: \n",
      "PLAYER 2: \n",
      "PLAYER 1: \n",
      "PLAYER 2: \n",
      "PLAYER 1: \n",
      "PLAYER 2: \n",
      "PLAYER 1: \n",
      "PLAYER 2: \n",
      " ___\n",
      "| xo|\n",
      "|xoo|\n",
      "|oxx|\n",
      " ---\n"
     ]
    },
    {
     "name": "stderr",
     "output_type": "stream",
     "text": [
      "Score as black: -36:  98%|█████████▊| 98/100 [00:18<00:00,  5.72it/s]"
     ]
    },
    {
     "name": "stdout",
     "output_type": "stream",
     "text": [
      "PLAYER 1: \n",
      "PLAYER 2: \n",
      "PLAYER 1: \n",
      "PLAYER 2: \n",
      "PLAYER 1: \n",
      "PLAYER 2: \n",
      "PLAYER 1: \n",
      " ___\n",
      "|oox|\n",
      "|xxx|\n",
      "|  o|\n",
      " ---\n"
     ]
    },
    {
     "name": "stderr",
     "output_type": "stream",
     "text": [
      "Score as black: -37:  99%|█████████▉| 99/100 [00:18<00:00,  5.88it/s]"
     ]
    },
    {
     "name": "stdout",
     "output_type": "stream",
     "text": [
      "PLAYER 1: \n",
      "PLAYER 2: \n",
      "PLAYER 1: \n",
      "PLAYER 2: \n",
      "PLAYER 1: \n",
      "PLAYER 2: \n",
      "PLAYER 1: \n",
      "PLAYER 2: \n",
      "PLAYER 1: \n",
      " ___\n",
      "|oxo|\n",
      "|xoo|\n",
      "|xxx|\n",
      " ---\n"
     ]
    },
    {
     "name": "stderr",
     "output_type": "stream",
     "text": [
      "Score as black: -38: 100%|██████████| 100/100 [00:18<00:00,  5.33it/s]"
     ]
    },
    {
     "name": "stdout",
     "output_type": "stream",
     "text": [
      "Final Scores = W: 17 / B: -38 over 100 games\n"
     ]
    },
    {
     "name": "stderr",
     "output_type": "stream",
     "text": [
      "\n"
     ]
    }
   ],
   "source": [
    "#MuZero agent vs random\n",
    "np.random.seed(my_seed)\n",
    "\n",
    "net1 = Network(TicTacToe.num_observations)\n",
    "net1.load('models/ttt_candidate1.ptc')\n",
    "\n",
    "net2 = Network(TicTacToe.num_observations)\n",
    "net2.load('models/random.ptc')\n",
    "\n",
    "with torch.no_grad():\n",
    "    player = Tree(net1, game)\n",
    "    random = Tree(net2, game)\n",
    "\n",
    "with torch.no_grad():\n",
    "    score_white_a = 0\n",
    "    for g in (t:=trange(nb_games)):\n",
    "        score_white_a += play_a_game(player, random)\n",
    "        t.set_description(f\"Score as white: {score_white_a}\")\n",
    "\n",
    "with torch.no_grad():\n",
    "    score_black_a = 0\n",
    "    for g in (t:=trange(nb_games)):\n",
    "        score_black_a -= play_a_game(random, player)\n",
    "        t.set_description(f\"Score as black: {score_black_a}\")\n",
    "\n",
    "print(f'Final Scores = W: {score_white_a} / B: {score_black_a} over {nb_games} games')"
   ]
  },
  {
   "cell_type": "code",
   "execution_count": 8,
   "metadata": {},
   "outputs": [
    {
     "name": "stderr",
     "output_type": "stream",
     "text": [
      "\r",
      "  0%|          | 0/100 [00:00<?, ?it/s]"
     ]
    },
    {
     "name": "stdout",
     "output_type": "stream",
     "text": [
      "PLAYER 1: \n",
      "PLAYER 2: \n",
      "PLAYER 1: \n",
      "PLAYER 2: \n",
      "PLAYER 1: \n",
      "PLAYER 2: \n",
      "PLAYER 1: \n",
      "PLAYER 2: \n",
      "PLAYER 1: \n",
      " ___\n",
      "|xoo|\n",
      "|xox|\n",
      "|xxo|\n",
      " ---\n"
     ]
    },
    {
     "name": "stderr",
     "output_type": "stream",
     "text": [
      "Score as white: 1:   1%|          | 1/100 [00:00<00:16,  6.03it/s]"
     ]
    },
    {
     "name": "stdout",
     "output_type": "stream",
     "text": [
      "PLAYER 1: \n",
      "PLAYER 2: \n",
      "PLAYER 1: \n",
      "PLAYER 2: \n",
      "PLAYER 1: \n",
      "PLAYER 2: \n",
      "PLAYER 1: \n",
      " ___\n",
      "| ox|\n",
      "|o x|\n",
      "|oxx|\n",
      " ---\n"
     ]
    },
    {
     "name": "stderr",
     "output_type": "stream",
     "text": [
      "Score as white: 2:   2%|▏         | 2/100 [00:00<00:14,  6.56it/s]"
     ]
    },
    {
     "name": "stdout",
     "output_type": "stream",
     "text": [
      "PLAYER 1: \n",
      "PLAYER 2: \n",
      "PLAYER 1: \n",
      "PLAYER 2: \n",
      "PLAYER 1: \n",
      "PLAYER 2: \n",
      "PLAYER 1: \n",
      " ___\n",
      "|o  |\n",
      "|xxx|\n",
      "|oox|\n",
      " ---\n"
     ]
    },
    {
     "name": "stderr",
     "output_type": "stream",
     "text": [
      "Score as white: 3:   3%|▎         | 3/100 [00:00<00:14,  6.92it/s]"
     ]
    },
    {
     "name": "stdout",
     "output_type": "stream",
     "text": [
      "PLAYER 1: \n",
      "PLAYER 2: \n",
      "PLAYER 1: \n",
      "PLAYER 2: \n",
      "PLAYER 1: \n",
      "PLAYER 2: \n",
      "PLAYER 1: \n",
      "PLAYER 2: \n",
      " ___\n",
      "| xx|\n",
      "|ooo|\n",
      "|xox|\n",
      " ---\n"
     ]
    },
    {
     "name": "stderr",
     "output_type": "stream",
     "text": [
      "Score as white: 2:   4%|▍         | 4/100 [00:00<00:14,  6.84it/s]"
     ]
    },
    {
     "name": "stdout",
     "output_type": "stream",
     "text": [
      "PLAYER 1: \n",
      "PLAYER 2: \n",
      "PLAYER 1: \n",
      "PLAYER 2: \n",
      "PLAYER 1: \n",
      "PLAYER 2: \n",
      " ___\n",
      "|o x|\n",
      "|xo |\n",
      "| xo|\n",
      " ---\n"
     ]
    },
    {
     "name": "stderr",
     "output_type": "stream",
     "text": [
      "Score as white: 1:   5%|▌         | 5/100 [00:00<00:12,  7.39it/s]"
     ]
    },
    {
     "name": "stdout",
     "output_type": "stream",
     "text": [
      "PLAYER 1: \n",
      "PLAYER 2: \n",
      "PLAYER 1: \n",
      "PLAYER 2: \n",
      "PLAYER 1: \n",
      "PLAYER 2: \n",
      "PLAYER 1: \n",
      "PLAYER 2: \n",
      "PLAYER 1: \n",
      " ___\n",
      "|xxo|\n",
      "|xoo|\n",
      "|xox|\n",
      " ---\n"
     ]
    },
    {
     "name": "stderr",
     "output_type": "stream",
     "text": [
      "Score as white: 2:   6%|▌         | 6/100 [00:00<00:13,  7.05it/s]"
     ]
    },
    {
     "name": "stdout",
     "output_type": "stream",
     "text": [
      "PLAYER 1: \n",
      "PLAYER 2: \n",
      "PLAYER 1: \n",
      "PLAYER 2: \n",
      "PLAYER 1: \n",
      "PLAYER 2: \n",
      "PLAYER 1: \n",
      " ___\n",
      "| ox|\n",
      "|x x|\n",
      "|oox|\n",
      " ---\n"
     ]
    },
    {
     "name": "stderr",
     "output_type": "stream",
     "text": [
      "Score as white: 3:   7%|▋         | 7/100 [00:00<00:12,  7.24it/s]"
     ]
    },
    {
     "name": "stdout",
     "output_type": "stream",
     "text": [
      "PLAYER 1: \n",
      "PLAYER 2: \n",
      "PLAYER 1: \n",
      "PLAYER 2: \n",
      "PLAYER 1: \n",
      "PLAYER 2: \n",
      "PLAYER 1: \n",
      "PLAYER 2: \n",
      "PLAYER 1: \n",
      " ___\n",
      "|oxx|\n",
      "|oox|\n",
      "|xox|\n",
      " ---\n"
     ]
    },
    {
     "name": "stderr",
     "output_type": "stream",
     "text": [
      "Score as white: 4:   8%|▊         | 8/100 [00:01<00:13,  6.71it/s]"
     ]
    },
    {
     "name": "stdout",
     "output_type": "stream",
     "text": [
      "PLAYER 1: \n",
      "PLAYER 2: \n",
      "PLAYER 1: \n",
      "PLAYER 2: \n",
      "PLAYER 1: \n",
      "PLAYER 2: \n",
      "PLAYER 1: \n",
      "PLAYER 2: \n",
      " ___\n",
      "|ox |\n",
      "|xox|\n",
      "|oxo|\n",
      " ---\n"
     ]
    },
    {
     "name": "stderr",
     "output_type": "stream",
     "text": [
      "Score as white: 3:   9%|▉         | 9/100 [00:01<00:13,  6.86it/s]"
     ]
    },
    {
     "name": "stdout",
     "output_type": "stream",
     "text": [
      "PLAYER 1: \n",
      "PLAYER 2: \n",
      "PLAYER 1: \n",
      "PLAYER 2: \n",
      "PLAYER 1: \n",
      "PLAYER 2: \n",
      "PLAYER 1: \n",
      "PLAYER 2: \n",
      "PLAYER 1: \n",
      " ___\n",
      "|oox|\n",
      "|oxx|\n",
      "|xxo|\n",
      " ---\n"
     ]
    },
    {
     "name": "stderr",
     "output_type": "stream",
     "text": [
      "Score as white: 4:  10%|█         | 10/100 [00:01<00:13,  6.46it/s]"
     ]
    },
    {
     "name": "stdout",
     "output_type": "stream",
     "text": [
      "PLAYER 1: \n",
      "PLAYER 2: \n",
      "PLAYER 1: \n",
      "PLAYER 2: \n",
      "PLAYER 1: \n",
      "PLAYER 2: \n",
      "PLAYER 1: \n",
      " ___\n",
      "|x x|\n",
      "| ox|\n",
      "|oox|\n",
      " ---\n"
     ]
    },
    {
     "name": "stderr",
     "output_type": "stream",
     "text": [
      "Score as white: 5:  11%|█         | 11/100 [00:01<00:12,  6.95it/s]"
     ]
    },
    {
     "name": "stdout",
     "output_type": "stream",
     "text": [
      "PLAYER 1: \n",
      "PLAYER 2: \n",
      "PLAYER 1: \n",
      "PLAYER 2: \n",
      "PLAYER 1: \n",
      "PLAYER 2: \n",
      "PLAYER 1: \n",
      " ___\n",
      "|oxx|\n",
      "| xo|\n",
      "|x o|\n",
      " ---\n"
     ]
    },
    {
     "name": "stderr",
     "output_type": "stream",
     "text": [
      "Score as white: 6:  12%|█▏        | 12/100 [00:01<00:12,  6.78it/s]"
     ]
    },
    {
     "name": "stdout",
     "output_type": "stream",
     "text": [
      "PLAYER 1: \n",
      "PLAYER 2: \n",
      "PLAYER 1: \n",
      "PLAYER 2: \n",
      "PLAYER 1: \n",
      "PLAYER 2: \n",
      "PLAYER 1: \n",
      "PLAYER 2: \n",
      "PLAYER 1: \n",
      " ___\n",
      "|xxo|\n",
      "|oxx|\n",
      "|xoo|\n",
      " ---\n"
     ]
    },
    {
     "name": "stderr",
     "output_type": "stream",
     "text": [
      "Score as white: 6:  13%|█▎        | 13/100 [00:01<00:13,  6.65it/s]"
     ]
    },
    {
     "name": "stdout",
     "output_type": "stream",
     "text": [
      "PLAYER 1: \n",
      "PLAYER 2: \n",
      "PLAYER 1: \n",
      "PLAYER 2: \n",
      "PLAYER 1: \n",
      "PLAYER 2: \n",
      "PLAYER 1: \n",
      " ___\n",
      "| oo|\n",
      "|xxx|\n",
      "| xo|\n",
      " ---\n"
     ]
    },
    {
     "name": "stderr",
     "output_type": "stream",
     "text": [
      "Score as white: 7:  14%|█▍        | 14/100 [00:02<00:12,  6.98it/s]"
     ]
    },
    {
     "name": "stdout",
     "output_type": "stream",
     "text": [
      "PLAYER 1: \n",
      "PLAYER 2: \n",
      "PLAYER 1: \n",
      "PLAYER 2: \n",
      "PLAYER 1: \n",
      "PLAYER 2: \n",
      "PLAYER 1: \n",
      "PLAYER 2: \n",
      "PLAYER 1: \n",
      " ___\n",
      "|xxx|\n",
      "|oox|\n",
      "|xoo|\n",
      " ---\n"
     ]
    },
    {
     "name": "stderr",
     "output_type": "stream",
     "text": [
      "Score as white: 8:  15%|█▌        | 15/100 [00:02<00:12,  6.54it/s]"
     ]
    },
    {
     "name": "stdout",
     "output_type": "stream",
     "text": [
      "PLAYER 1: \n",
      "PLAYER 2: \n",
      "PLAYER 1: \n",
      "PLAYER 2: \n",
      "PLAYER 1: \n",
      "PLAYER 2: \n",
      "PLAYER 1: \n",
      "PLAYER 2: \n",
      "PLAYER 1: \n",
      " ___\n",
      "|oxx|\n",
      "|xoo|\n",
      "|oxx|\n",
      " ---\n"
     ]
    },
    {
     "name": "stderr",
     "output_type": "stream",
     "text": [
      "Score as white: 8:  16%|█▌        | 16/100 [00:02<00:13,  6.43it/s]"
     ]
    },
    {
     "name": "stdout",
     "output_type": "stream",
     "text": [
      "PLAYER 1: \n",
      "PLAYER 2: \n",
      "PLAYER 1: \n",
      "PLAYER 2: \n",
      "PLAYER 1: \n",
      "PLAYER 2: \n",
      "PLAYER 1: \n",
      "PLAYER 2: \n",
      " ___\n",
      "|x x|\n",
      "|xox|\n",
      "|ooo|\n",
      " ---\n"
     ]
    },
    {
     "name": "stderr",
     "output_type": "stream",
     "text": [
      "Score as white: 7:  17%|█▋        | 17/100 [00:02<00:12,  6.49it/s]"
     ]
    },
    {
     "name": "stdout",
     "output_type": "stream",
     "text": [
      "PLAYER 1: \n",
      "PLAYER 2: \n",
      "PLAYER 1: \n",
      "PLAYER 2: \n",
      "PLAYER 1: \n",
      "PLAYER 2: \n",
      "PLAYER 1: \n",
      "PLAYER 2: \n",
      " ___\n",
      "|oxx|\n",
      "|o x|\n",
      "|oxo|\n",
      " ---\n"
     ]
    },
    {
     "name": "stderr",
     "output_type": "stream",
     "text": [
      "Score as white: 6:  18%|█▊        | 18/100 [00:02<00:12,  6.47it/s]"
     ]
    },
    {
     "name": "stdout",
     "output_type": "stream",
     "text": [
      "PLAYER 1: \n",
      "PLAYER 2: \n",
      "PLAYER 1: \n",
      "PLAYER 2: \n",
      "PLAYER 1: \n",
      "PLAYER 2: \n",
      "PLAYER 1: \n",
      " ___\n",
      "|oox|\n",
      "| ox|\n",
      "| xx|\n",
      " ---\n"
     ]
    },
    {
     "name": "stderr",
     "output_type": "stream",
     "text": [
      "Score as white: 7:  19%|█▉        | 19/100 [00:02<00:11,  6.87it/s]"
     ]
    },
    {
     "name": "stdout",
     "output_type": "stream",
     "text": [
      "PLAYER 1: \n",
      "PLAYER 2: \n",
      "PLAYER 1: \n",
      "PLAYER 2: \n",
      "PLAYER 1: \n",
      "PLAYER 2: \n",
      "PLAYER 1: \n",
      "PLAYER 2: \n",
      "PLAYER 1: \n",
      " ___\n",
      "|xoo|\n",
      "|xxx|\n",
      "|xoo|\n",
      " ---\n"
     ]
    },
    {
     "name": "stderr",
     "output_type": "stream",
     "text": [
      "Score as white: 8:  20%|██        | 20/100 [00:02<00:11,  6.75it/s]"
     ]
    },
    {
     "name": "stdout",
     "output_type": "stream",
     "text": [
      "PLAYER 1: \n",
      "PLAYER 2: \n",
      "PLAYER 1: \n",
      "PLAYER 2: \n",
      "PLAYER 1: \n",
      "PLAYER 2: \n",
      "PLAYER 1: \n",
      " ___\n",
      "|x o|\n",
      "|xxx|\n",
      "|o o|\n",
      " ---\n"
     ]
    },
    {
     "name": "stderr",
     "output_type": "stream",
     "text": [
      "Score as white: 9:  21%|██        | 21/100 [00:03<00:11,  7.14it/s]"
     ]
    },
    {
     "name": "stdout",
     "output_type": "stream",
     "text": [
      "PLAYER 1: \n",
      "PLAYER 2: \n",
      "PLAYER 1: \n",
      "PLAYER 2: \n",
      "PLAYER 1: \n",
      "PLAYER 2: \n",
      " ___\n",
      "|ooo|\n",
      "|x  |\n",
      "| xx|\n",
      " ---\n"
     ]
    },
    {
     "name": "stderr",
     "output_type": "stream",
     "text": [
      "Score as white: 8:  22%|██▏       | 22/100 [00:03<00:10,  7.70it/s]"
     ]
    },
    {
     "name": "stdout",
     "output_type": "stream",
     "text": [
      "PLAYER 1: \n",
      "PLAYER 2: \n",
      "PLAYER 1: \n",
      "PLAYER 2: \n",
      "PLAYER 1: \n",
      "PLAYER 2: \n",
      "PLAYER 1: \n",
      " ___\n",
      "|xxx|\n",
      "|oxo|\n",
      "|  o|\n",
      " ---\n"
     ]
    },
    {
     "name": "stderr",
     "output_type": "stream",
     "text": [
      "Score as white: 9:  23%|██▎       | 23/100 [00:03<00:09,  7.76it/s]"
     ]
    },
    {
     "name": "stdout",
     "output_type": "stream",
     "text": [
      "PLAYER 1: \n",
      "PLAYER 2: \n",
      "PLAYER 1: \n",
      "PLAYER 2: \n",
      "PLAYER 1: \n",
      "PLAYER 2: \n",
      "PLAYER 1: \n",
      " ___\n",
      "|xx |\n",
      "| xo|\n",
      "|oox|\n",
      " ---\n"
     ]
    },
    {
     "name": "stderr",
     "output_type": "stream",
     "text": [
      "Score as white: 10:  24%|██▍       | 24/100 [00:03<00:09,  7.79it/s]"
     ]
    },
    {
     "name": "stdout",
     "output_type": "stream",
     "text": [
      "PLAYER 1: \n",
      "PLAYER 2: \n",
      "PLAYER 1: \n",
      "PLAYER 2: \n",
      "PLAYER 1: \n",
      "PLAYER 2: \n",
      "PLAYER 1: \n",
      " ___\n",
      "|xxx|\n",
      "| ox|\n",
      "| oo|\n",
      " ---\n"
     ]
    },
    {
     "name": "stderr",
     "output_type": "stream",
     "text": [
      "Score as white: 11:  25%|██▌       | 25/100 [00:03<00:09,  7.71it/s]"
     ]
    },
    {
     "name": "stdout",
     "output_type": "stream",
     "text": [
      "PLAYER 1: \n",
      "PLAYER 2: \n",
      "PLAYER 1: \n",
      "PLAYER 2: \n",
      "PLAYER 1: \n",
      "PLAYER 2: \n",
      "PLAYER 1: \n",
      " ___\n",
      "|xox|\n",
      "|oox|\n",
      "|  x|\n",
      " ---\n"
     ]
    },
    {
     "name": "stderr",
     "output_type": "stream",
     "text": [
      "Score as white: 12:  26%|██▌       | 26/100 [00:03<00:09,  7.79it/s]"
     ]
    },
    {
     "name": "stdout",
     "output_type": "stream",
     "text": [
      "PLAYER 1: \n",
      "PLAYER 2: \n",
      "PLAYER 1: \n",
      "PLAYER 2: \n",
      "PLAYER 1: \n",
      "PLAYER 2: \n",
      "PLAYER 1: \n",
      " ___\n",
      "|ox |\n",
      "|oo |\n",
      "|xxx|\n",
      " ---\n"
     ]
    },
    {
     "name": "stderr",
     "output_type": "stream",
     "text": [
      "Score as white: 13:  27%|██▋       | 27/100 [00:03<00:09,  7.75it/s]"
     ]
    },
    {
     "name": "stdout",
     "output_type": "stream",
     "text": [
      "PLAYER 1: \n",
      "PLAYER 2: \n",
      "PLAYER 1: \n",
      "PLAYER 2: \n",
      "PLAYER 1: \n",
      "PLAYER 2: \n",
      "PLAYER 1: \n",
      "PLAYER 2: \n",
      " ___\n",
      "| xx|\n",
      "|ooo|\n",
      "|xxo|\n",
      " ---\n"
     ]
    },
    {
     "name": "stderr",
     "output_type": "stream",
     "text": [
      "Score as white: 12:  28%|██▊       | 28/100 [00:03<00:09,  7.35it/s]"
     ]
    },
    {
     "name": "stdout",
     "output_type": "stream",
     "text": [
      "PLAYER 1: \n",
      "PLAYER 2: \n",
      "PLAYER 1: \n",
      "PLAYER 2: \n",
      "PLAYER 1: \n",
      "PLAYER 2: \n",
      "PLAYER 1: \n",
      "PLAYER 2: \n",
      "PLAYER 1: \n",
      " ___\n",
      "|xxx|\n",
      "|oox|\n",
      "|oxo|\n",
      " ---\n"
     ]
    },
    {
     "name": "stderr",
     "output_type": "stream",
     "text": [
      "Score as white: 13:  29%|██▉       | 29/100 [00:04<00:10,  6.92it/s]"
     ]
    },
    {
     "name": "stdout",
     "output_type": "stream",
     "text": [
      "PLAYER 1: \n",
      "PLAYER 2: \n",
      "PLAYER 1: \n",
      "PLAYER 2: \n",
      "PLAYER 1: \n",
      "PLAYER 2: \n",
      "PLAYER 1: \n",
      " ___\n",
      "|xxx|\n",
      "|xoo|\n",
      "|  o|\n",
      " ---\n"
     ]
    },
    {
     "name": "stderr",
     "output_type": "stream",
     "text": [
      "Score as white: 14:  30%|███       | 30/100 [00:04<00:10,  6.98it/s]"
     ]
    },
    {
     "name": "stdout",
     "output_type": "stream",
     "text": [
      "PLAYER 1: \n",
      "PLAYER 2: \n",
      "PLAYER 1: \n",
      "PLAYER 2: \n",
      "PLAYER 1: \n",
      "PLAYER 2: \n",
      "PLAYER 1: \n",
      "PLAYER 2: \n",
      "PLAYER 1: \n",
      " ___\n",
      "|oxx|\n",
      "|xoo|\n",
      "|xox|\n",
      " ---\n"
     ]
    },
    {
     "name": "stderr",
     "output_type": "stream",
     "text": [
      "Score as white: 14:  31%|███       | 31/100 [00:04<00:10,  6.39it/s]"
     ]
    },
    {
     "name": "stdout",
     "output_type": "stream",
     "text": [
      "PLAYER 1: \n",
      "PLAYER 2: \n",
      "PLAYER 1: \n",
      "PLAYER 2: \n",
      "PLAYER 1: \n",
      "PLAYER 2: \n",
      "PLAYER 1: \n",
      " ___\n",
      "| ox|\n",
      "| xx|\n",
      "|xoo|\n",
      " ---\n"
     ]
    },
    {
     "name": "stderr",
     "output_type": "stream",
     "text": [
      "Score as white: 15:  32%|███▏      | 32/100 [00:04<00:10,  6.79it/s]"
     ]
    },
    {
     "name": "stdout",
     "output_type": "stream",
     "text": [
      "PLAYER 1: \n",
      "PLAYER 2: \n",
      "PLAYER 1: \n",
      "PLAYER 2: \n",
      "PLAYER 1: \n",
      "PLAYER 2: \n",
      "PLAYER 1: \n",
      " ___\n",
      "|oo |\n",
      "|o x|\n",
      "|xxx|\n",
      " ---\n"
     ]
    },
    {
     "name": "stderr",
     "output_type": "stream",
     "text": [
      "Score as white: 16:  33%|███▎      | 33/100 [00:04<00:09,  7.02it/s]"
     ]
    },
    {
     "name": "stdout",
     "output_type": "stream",
     "text": [
      "PLAYER 1: \n",
      "PLAYER 2: \n",
      "PLAYER 1: \n",
      "PLAYER 2: \n",
      "PLAYER 1: \n",
      "PLAYER 2: \n",
      "PLAYER 1: \n",
      " ___\n",
      "|xox|\n",
      "|o x|\n",
      "| ox|\n",
      " ---\n"
     ]
    },
    {
     "name": "stderr",
     "output_type": "stream",
     "text": [
      "Score as white: 17:  34%|███▍      | 34/100 [00:04<00:09,  7.11it/s]"
     ]
    },
    {
     "name": "stdout",
     "output_type": "stream",
     "text": [
      "PLAYER 1: \n",
      "PLAYER 2: \n",
      "PLAYER 1: \n",
      "PLAYER 2: \n",
      "PLAYER 1: \n",
      "PLAYER 2: \n",
      "PLAYER 1: \n",
      "PLAYER 2: \n",
      "PLAYER 1: \n",
      " ___\n",
      "|xox|\n",
      "|oxo|\n",
      "|xxo|\n",
      " ---\n"
     ]
    },
    {
     "name": "stderr",
     "output_type": "stream",
     "text": [
      "Score as white: 18:  35%|███▌      | 35/100 [00:05<00:09,  6.62it/s]"
     ]
    },
    {
     "name": "stdout",
     "output_type": "stream",
     "text": [
      "PLAYER 1: \n",
      "PLAYER 2: \n",
      "PLAYER 1: \n",
      "PLAYER 2: \n",
      "PLAYER 1: \n",
      "PLAYER 2: \n",
      " ___\n",
      "|xx |\n",
      "|  x|\n",
      "|ooo|\n",
      " ---\n"
     ]
    },
    {
     "name": "stderr",
     "output_type": "stream",
     "text": [
      "Score as white: 17:  36%|███▌      | 36/100 [00:05<00:08,  7.23it/s]"
     ]
    },
    {
     "name": "stdout",
     "output_type": "stream",
     "text": [
      "PLAYER 1: \n",
      "PLAYER 2: \n",
      "PLAYER 1: \n",
      "PLAYER 2: \n",
      "PLAYER 1: \n",
      "PLAYER 2: \n",
      " ___\n",
      "|oxx|\n",
      "|o  |\n",
      "|o x|\n",
      " ---\n"
     ]
    },
    {
     "name": "stderr",
     "output_type": "stream",
     "text": [
      "Score as white: 16:  37%|███▋      | 37/100 [00:05<00:08,  7.58it/s]"
     ]
    },
    {
     "name": "stdout",
     "output_type": "stream",
     "text": [
      "PLAYER 1: \n",
      "PLAYER 2: \n",
      "PLAYER 1: \n",
      "PLAYER 2: \n",
      "PLAYER 1: \n",
      "PLAYER 2: \n",
      "PLAYER 1: \n",
      " ___\n",
      "|oxx|\n",
      "| xo|\n",
      "| xo|\n",
      " ---\n"
     ]
    },
    {
     "name": "stderr",
     "output_type": "stream",
     "text": [
      "Score as white: 17:  38%|███▊      | 38/100 [00:05<00:08,  7.38it/s]"
     ]
    },
    {
     "name": "stdout",
     "output_type": "stream",
     "text": [
      "PLAYER 1: \n",
      "PLAYER 2: \n",
      "PLAYER 1: \n",
      "PLAYER 2: \n",
      "PLAYER 1: \n",
      "PLAYER 2: \n",
      "PLAYER 1: \n",
      "PLAYER 2: \n",
      "PLAYER 1: \n",
      " ___\n",
      "|oxo|\n",
      "|xxx|\n",
      "|xoo|\n",
      " ---\n"
     ]
    },
    {
     "name": "stderr",
     "output_type": "stream",
     "text": [
      "Score as white: 18:  39%|███▉      | 39/100 [00:05<00:08,  6.98it/s]"
     ]
    },
    {
     "name": "stdout",
     "output_type": "stream",
     "text": [
      "PLAYER 1: \n",
      "PLAYER 2: \n",
      "PLAYER 1: \n",
      "PLAYER 2: \n",
      "PLAYER 1: \n",
      "PLAYER 2: \n",
      "PLAYER 1: \n",
      "PLAYER 2: \n",
      " ___\n",
      "|xxo|\n",
      "|xo |\n",
      "|oxo|\n",
      " ---\n"
     ]
    },
    {
     "name": "stderr",
     "output_type": "stream",
     "text": [
      "Score as white: 17:  40%|████      | 40/100 [00:05<00:08,  6.94it/s]"
     ]
    },
    {
     "name": "stdout",
     "output_type": "stream",
     "text": [
      "PLAYER 1: \n",
      "PLAYER 2: \n",
      "PLAYER 1: \n",
      "PLAYER 2: \n",
      "PLAYER 1: \n",
      "PLAYER 2: \n",
      "PLAYER 1: \n",
      " ___\n",
      "|xo |\n",
      "|xoo|\n",
      "|xx |\n",
      " ---\n"
     ]
    },
    {
     "name": "stderr",
     "output_type": "stream",
     "text": [
      "Score as white: 18:  41%|████      | 41/100 [00:05<00:08,  7.20it/s]"
     ]
    },
    {
     "name": "stdout",
     "output_type": "stream",
     "text": [
      "PLAYER 1: \n",
      "PLAYER 2: \n",
      "PLAYER 1: \n",
      "PLAYER 2: \n",
      "PLAYER 1: \n",
      "PLAYER 2: \n",
      "PLAYER 1: \n",
      " ___\n",
      "|xox|\n",
      "|oox|\n",
      "|  x|\n",
      " ---\n"
     ]
    },
    {
     "name": "stderr",
     "output_type": "stream",
     "text": [
      "Score as white: 19:  42%|████▏     | 42/100 [00:05<00:07,  7.29it/s]"
     ]
    },
    {
     "name": "stdout",
     "output_type": "stream",
     "text": [
      "PLAYER 1: \n",
      "PLAYER 2: \n",
      "PLAYER 1: \n",
      "PLAYER 2: \n",
      "PLAYER 1: \n",
      "PLAYER 2: \n",
      "PLAYER 1: \n",
      "PLAYER 2: \n",
      "PLAYER 1: \n",
      " ___\n",
      "|xoo|\n",
      "|xox|\n",
      "|xxo|\n",
      " ---\n"
     ]
    },
    {
     "name": "stderr",
     "output_type": "stream",
     "text": [
      "Score as white: 20:  43%|████▎     | 43/100 [00:06<00:08,  6.84it/s]"
     ]
    },
    {
     "name": "stdout",
     "output_type": "stream",
     "text": [
      "PLAYER 1: \n",
      "PLAYER 2: \n",
      "PLAYER 1: \n",
      "PLAYER 2: \n",
      "PLAYER 1: \n",
      "PLAYER 2: \n",
      "PLAYER 1: \n",
      "PLAYER 2: \n",
      " ___\n",
      "|x o|\n",
      "|xxo|\n",
      "|oxo|\n",
      " ---\n"
     ]
    },
    {
     "name": "stderr",
     "output_type": "stream",
     "text": [
      "Score as white: 19:  44%|████▍     | 44/100 [00:06<00:08,  6.80it/s]"
     ]
    },
    {
     "name": "stdout",
     "output_type": "stream",
     "text": [
      "PLAYER 1: \n",
      "PLAYER 2: \n",
      "PLAYER 1: \n",
      "PLAYER 2: \n",
      "PLAYER 1: \n",
      "PLAYER 2: \n",
      "PLAYER 1: \n",
      "PLAYER 2: \n",
      " ___\n",
      "|oxx|\n",
      "|xx |\n",
      "|ooo|\n",
      " ---\n"
     ]
    },
    {
     "name": "stderr",
     "output_type": "stream",
     "text": [
      "Score as white: 18:  45%|████▌     | 45/100 [00:06<00:08,  6.75it/s]"
     ]
    },
    {
     "name": "stdout",
     "output_type": "stream",
     "text": [
      "PLAYER 1: \n",
      "PLAYER 2: \n",
      "PLAYER 1: \n",
      "PLAYER 2: \n",
      "PLAYER 1: \n",
      "PLAYER 2: \n",
      "PLAYER 1: \n",
      "PLAYER 2: \n",
      "PLAYER 1: \n",
      " ___\n",
      "|xoo|\n",
      "|oxx|\n",
      "|oxx|\n",
      " ---\n"
     ]
    },
    {
     "name": "stderr",
     "output_type": "stream",
     "text": [
      "Score as white: 19:  46%|████▌     | 46/100 [00:06<00:08,  6.33it/s]"
     ]
    },
    {
     "name": "stdout",
     "output_type": "stream",
     "text": [
      "PLAYER 1: \n",
      "PLAYER 2: \n",
      "PLAYER 1: \n",
      "PLAYER 2: \n",
      "PLAYER 1: \n",
      "PLAYER 2: \n",
      "PLAYER 1: \n",
      " ___\n",
      "|xxx|\n",
      "| oo|\n",
      "| xo|\n",
      " ---\n"
     ]
    },
    {
     "name": "stderr",
     "output_type": "stream",
     "text": [
      "Score as white: 20:  47%|████▋     | 47/100 [00:06<00:07,  6.73it/s]"
     ]
    },
    {
     "name": "stdout",
     "output_type": "stream",
     "text": [
      "PLAYER 1: \n",
      "PLAYER 2: \n",
      "PLAYER 1: \n",
      "PLAYER 2: \n",
      "PLAYER 1: \n",
      "PLAYER 2: \n",
      "PLAYER 1: \n",
      "PLAYER 2: \n",
      " ___\n",
      "|ooo|\n",
      "|xx |\n",
      "|xxo|\n",
      " ---\n"
     ]
    },
    {
     "name": "stderr",
     "output_type": "stream",
     "text": [
      "Score as white: 19:  48%|████▊     | 48/100 [00:06<00:07,  6.68it/s]"
     ]
    },
    {
     "name": "stdout",
     "output_type": "stream",
     "text": [
      "PLAYER 1: \n",
      "PLAYER 2: \n",
      "PLAYER 1: \n",
      "PLAYER 2: \n",
      "PLAYER 1: \n",
      "PLAYER 2: \n",
      "PLAYER 1: \n",
      " ___\n",
      "|xox|\n",
      "|  x|\n",
      "|oox|\n",
      " ---\n"
     ]
    },
    {
     "name": "stderr",
     "output_type": "stream",
     "text": [
      "Score as white: 20:  49%|████▉     | 49/100 [00:07<00:07,  6.99it/s]"
     ]
    },
    {
     "name": "stdout",
     "output_type": "stream",
     "text": [
      "PLAYER 1: \n",
      "PLAYER 2: \n",
      "PLAYER 1: \n",
      "PLAYER 2: \n",
      "PLAYER 1: \n",
      "PLAYER 2: \n",
      "PLAYER 1: \n",
      " ___\n",
      "|xxx|\n",
      "| o |\n",
      "|oxo|\n",
      " ---\n"
     ]
    },
    {
     "name": "stderr",
     "output_type": "stream",
     "text": [
      "Score as white: 21:  50%|█████     | 50/100 [00:07<00:07,  7.12it/s]"
     ]
    },
    {
     "name": "stdout",
     "output_type": "stream",
     "text": [
      "PLAYER 1: \n",
      "PLAYER 2: \n",
      "PLAYER 1: \n",
      "PLAYER 2: \n",
      "PLAYER 1: \n",
      "PLAYER 2: \n",
      "PLAYER 1: \n",
      "PLAYER 2: \n",
      " ___\n",
      "|xo |\n",
      "|oox|\n",
      "|xox|\n",
      " ---\n"
     ]
    },
    {
     "name": "stderr",
     "output_type": "stream",
     "text": [
      "Score as white: 20:  51%|█████     | 51/100 [00:07<00:07,  6.96it/s]"
     ]
    },
    {
     "name": "stdout",
     "output_type": "stream",
     "text": [
      "PLAYER 1: \n",
      "PLAYER 2: \n",
      "PLAYER 1: \n",
      "PLAYER 2: \n",
      "PLAYER 1: \n",
      "PLAYER 2: \n",
      "PLAYER 1: \n",
      " ___\n",
      "|xoo|\n",
      "|xxx|\n",
      "| o |\n",
      " ---\n"
     ]
    },
    {
     "name": "stderr",
     "output_type": "stream",
     "text": [
      "Score as white: 21:  52%|█████▏    | 52/100 [00:07<00:06,  7.10it/s]"
     ]
    },
    {
     "name": "stdout",
     "output_type": "stream",
     "text": [
      "PLAYER 1: \n",
      "PLAYER 2: \n",
      "PLAYER 1: \n",
      "PLAYER 2: \n",
      "PLAYER 1: \n",
      " ___\n",
      "|  x|\n",
      "|ox |\n",
      "|x o|\n",
      " ---\n"
     ]
    },
    {
     "name": "stderr",
     "output_type": "stream",
     "text": [
      "Score as white: 22:  53%|█████▎    | 53/100 [00:07<00:06,  7.71it/s]"
     ]
    },
    {
     "name": "stdout",
     "output_type": "stream",
     "text": [
      "PLAYER 1: \n",
      "PLAYER 2: \n",
      "PLAYER 1: \n",
      "PLAYER 2: \n",
      "PLAYER 1: \n",
      "PLAYER 2: \n",
      "PLAYER 1: \n",
      "PLAYER 2: \n",
      "PLAYER 1: \n",
      " ___\n",
      "|xox|\n",
      "|oxx|\n",
      "|xoo|\n",
      " ---\n"
     ]
    },
    {
     "name": "stderr",
     "output_type": "stream",
     "text": [
      "Score as white: 23:  54%|█████▍    | 54/100 [00:07<00:06,  7.00it/s]"
     ]
    },
    {
     "name": "stdout",
     "output_type": "stream",
     "text": [
      "PLAYER 1: \n",
      "PLAYER 2: \n",
      "PLAYER 1: \n",
      "PLAYER 2: \n",
      "PLAYER 1: \n",
      "PLAYER 2: \n",
      "PLAYER 1: \n",
      "PLAYER 2: \n",
      "PLAYER 1: \n",
      " ___\n",
      "|oxo|\n",
      "|xoo|\n",
      "|xxx|\n",
      " ---\n"
     ]
    },
    {
     "name": "stderr",
     "output_type": "stream",
     "text": [
      "Score as white: 24:  55%|█████▌    | 55/100 [00:07<00:06,  6.54it/s]"
     ]
    },
    {
     "name": "stdout",
     "output_type": "stream",
     "text": [
      "PLAYER 1: \n",
      "PLAYER 2: \n",
      "PLAYER 1: \n",
      "PLAYER 2: \n",
      "PLAYER 1: \n",
      "PLAYER 2: \n",
      "PLAYER 1: \n",
      " ___\n",
      "| xo|\n",
      "|oxx|\n",
      "| xo|\n",
      " ---\n"
     ]
    },
    {
     "name": "stderr",
     "output_type": "stream",
     "text": [
      "Score as white: 25:  56%|█████▌    | 56/100 [00:08<00:06,  6.54it/s]"
     ]
    },
    {
     "name": "stdout",
     "output_type": "stream",
     "text": [
      "PLAYER 1: \n",
      "PLAYER 2: \n",
      "PLAYER 1: \n",
      "PLAYER 2: \n",
      "PLAYER 1: \n",
      "PLAYER 2: \n",
      "PLAYER 1: \n",
      "PLAYER 2: \n",
      "PLAYER 1: \n",
      " ___\n",
      "|xox|\n",
      "|oox|\n",
      "|xxo|\n",
      " ---\n"
     ]
    },
    {
     "name": "stderr",
     "output_type": "stream",
     "text": [
      "Score as white: 25:  57%|█████▋    | 57/100 [00:08<00:06,  6.14it/s]"
     ]
    },
    {
     "name": "stdout",
     "output_type": "stream",
     "text": [
      "PLAYER 1: \n",
      "PLAYER 2: \n",
      "PLAYER 1: \n",
      "PLAYER 2: \n",
      "PLAYER 1: \n",
      "PLAYER 2: \n",
      "PLAYER 1: \n",
      " ___\n",
      "|xo |\n",
      "|xx |\n",
      "|xoo|\n",
      " ---\n"
     ]
    },
    {
     "name": "stderr",
     "output_type": "stream",
     "text": [
      "Score as white: 26:  58%|█████▊    | 58/100 [00:08<00:06,  6.21it/s]"
     ]
    },
    {
     "name": "stdout",
     "output_type": "stream",
     "text": [
      "PLAYER 1: \n",
      "PLAYER 2: \n",
      "PLAYER 1: \n",
      "PLAYER 2: \n",
      "PLAYER 1: \n",
      "PLAYER 2: \n",
      "PLAYER 1: \n",
      "PLAYER 2: \n",
      "PLAYER 1: \n",
      " ___\n",
      "|xoo|\n",
      "|xox|\n",
      "|xxo|\n",
      " ---\n"
     ]
    },
    {
     "name": "stderr",
     "output_type": "stream",
     "text": [
      "Score as white: 27:  59%|█████▉    | 59/100 [00:08<00:07,  5.79it/s]"
     ]
    },
    {
     "name": "stdout",
     "output_type": "stream",
     "text": [
      "PLAYER 1: \n",
      "PLAYER 2: \n",
      "PLAYER 1: \n",
      "PLAYER 2: \n",
      "PLAYER 1: \n",
      "PLAYER 2: \n",
      "PLAYER 1: \n",
      "PLAYER 2: \n",
      "PLAYER 1: \n",
      " ___\n",
      "|xox|\n",
      "|xox|\n",
      "|oxo|\n",
      " ---\n"
     ]
    },
    {
     "name": "stderr",
     "output_type": "stream",
     "text": [
      "Score as white: 27:  60%|██████    | 60/100 [00:08<00:07,  5.63it/s]"
     ]
    },
    {
     "name": "stdout",
     "output_type": "stream",
     "text": [
      "PLAYER 1: \n",
      "PLAYER 2: \n",
      "PLAYER 1: \n",
      "PLAYER 2: \n",
      "PLAYER 1: \n",
      "PLAYER 2: \n",
      "PLAYER 1: \n",
      "PLAYER 2: \n",
      " ___\n",
      "|xxo|\n",
      "|xxo|\n",
      "| oo|\n",
      " ---\n"
     ]
    },
    {
     "name": "stderr",
     "output_type": "stream",
     "text": [
      "Score as white: 26:  61%|██████    | 61/100 [00:08<00:06,  5.72it/s]"
     ]
    },
    {
     "name": "stdout",
     "output_type": "stream",
     "text": [
      "PLAYER 1: \n",
      "PLAYER 2: \n",
      "PLAYER 1: \n",
      "PLAYER 2: \n",
      "PLAYER 1: \n",
      "PLAYER 2: \n",
      "PLAYER 1: \n",
      "PLAYER 2: \n",
      "PLAYER 1: \n",
      " ___\n",
      "|oxx|\n",
      "|xoo|\n",
      "|xox|\n",
      " ---\n"
     ]
    },
    {
     "name": "stderr",
     "output_type": "stream",
     "text": [
      "Score as white: 26:  62%|██████▏   | 62/100 [00:09<00:06,  5.63it/s]"
     ]
    },
    {
     "name": "stdout",
     "output_type": "stream",
     "text": [
      "PLAYER 1: \n",
      "PLAYER 2: \n",
      "PLAYER 1: \n",
      "PLAYER 2: \n",
      "PLAYER 1: \n",
      "PLAYER 2: \n",
      "PLAYER 1: \n",
      " ___\n",
      "|xox|\n",
      "|xo |\n",
      "|x o|\n",
      " ---\n"
     ]
    },
    {
     "name": "stderr",
     "output_type": "stream",
     "text": [
      "Score as white: 27:  63%|██████▎   | 63/100 [00:09<00:06,  5.92it/s]"
     ]
    },
    {
     "name": "stdout",
     "output_type": "stream",
     "text": [
      "PLAYER 1: \n",
      "PLAYER 2: \n",
      "PLAYER 1: \n",
      "PLAYER 2: \n",
      "PLAYER 1: \n",
      "PLAYER 2: \n",
      "PLAYER 1: \n",
      " ___\n",
      "|oxx|\n",
      "|oxo|\n",
      "|x  |\n",
      " ---\n"
     ]
    },
    {
     "name": "stderr",
     "output_type": "stream",
     "text": [
      "Score as white: 28:  64%|██████▍   | 64/100 [00:09<00:05,  6.22it/s]"
     ]
    },
    {
     "name": "stdout",
     "output_type": "stream",
     "text": [
      "PLAYER 1: \n",
      "PLAYER 2: \n",
      "PLAYER 1: \n",
      "PLAYER 2: \n",
      "PLAYER 1: \n",
      " ___\n",
      "|xxx|\n",
      "|o o|\n",
      "|   |\n",
      " ---\n"
     ]
    },
    {
     "name": "stderr",
     "output_type": "stream",
     "text": [
      "Score as white: 29:  65%|██████▌   | 65/100 [00:09<00:05,  7.00it/s]"
     ]
    },
    {
     "name": "stdout",
     "output_type": "stream",
     "text": [
      "PLAYER 1: \n",
      "PLAYER 2: \n",
      "PLAYER 1: \n",
      "PLAYER 2: \n",
      "PLAYER 1: \n",
      " ___\n",
      "| xo|\n",
      "|ox |\n",
      "| x |\n",
      " ---\n"
     ]
    },
    {
     "name": "stderr",
     "output_type": "stream",
     "text": [
      "Score as white: 30:  66%|██████▌   | 66/100 [00:09<00:04,  7.48it/s]"
     ]
    },
    {
     "name": "stdout",
     "output_type": "stream",
     "text": [
      "PLAYER 1: \n",
      "PLAYER 2: \n",
      "PLAYER 1: \n",
      "PLAYER 2: \n",
      "PLAYER 1: \n",
      "PLAYER 2: \n",
      "PLAYER 1: \n",
      " ___\n",
      "|xoo|\n",
      "|x  |\n",
      "|xox|\n",
      " ---\n"
     ]
    },
    {
     "name": "stderr",
     "output_type": "stream",
     "text": [
      "Score as white: 31:  67%|██████▋   | 67/100 [00:09<00:04,  7.33it/s]"
     ]
    },
    {
     "name": "stdout",
     "output_type": "stream",
     "text": [
      "PLAYER 1: \n",
      "PLAYER 2: \n",
      "PLAYER 1: \n",
      "PLAYER 2: \n",
      "PLAYER 1: \n",
      "PLAYER 2: \n",
      "PLAYER 1: \n",
      "PLAYER 2: \n",
      "PLAYER 1: \n",
      " ___\n",
      "|oox|\n",
      "|oxx|\n",
      "|xox|\n",
      " ---\n"
     ]
    },
    {
     "name": "stderr",
     "output_type": "stream",
     "text": [
      "Score as white: 32:  68%|██████▊   | 68/100 [00:09<00:04,  6.74it/s]"
     ]
    },
    {
     "name": "stdout",
     "output_type": "stream",
     "text": [
      "PLAYER 1: \n",
      "PLAYER 2: \n",
      "PLAYER 1: \n",
      "PLAYER 2: \n",
      "PLAYER 1: \n",
      "PLAYER 2: \n",
      "PLAYER 1: \n",
      "PLAYER 2: \n",
      "PLAYER 1: \n",
      " ___\n",
      "|xox|\n",
      "|oxo|\n",
      "|xxo|\n",
      " ---\n"
     ]
    },
    {
     "name": "stderr",
     "output_type": "stream",
     "text": [
      "Score as white: 33:  69%|██████▉   | 69/100 [00:10<00:05,  6.07it/s]"
     ]
    },
    {
     "name": "stdout",
     "output_type": "stream",
     "text": [
      "PLAYER 1: \n",
      "PLAYER 2: \n",
      "PLAYER 1: \n",
      "PLAYER 2: \n",
      "PLAYER 1: \n",
      "PLAYER 2: \n",
      "PLAYER 1: \n",
      "PLAYER 2: \n",
      " ___\n",
      "|xxo|\n",
      "|oox|\n",
      "|ox |\n",
      " ---\n"
     ]
    },
    {
     "name": "stderr",
     "output_type": "stream",
     "text": [
      "Score as white: 32:  70%|███████   | 70/100 [00:10<00:04,  6.13it/s]"
     ]
    },
    {
     "name": "stdout",
     "output_type": "stream",
     "text": [
      "PLAYER 1: \n",
      "PLAYER 2: \n",
      "PLAYER 1: \n",
      "PLAYER 2: \n",
      "PLAYER 1: \n",
      "PLAYER 2: \n",
      "PLAYER 1: \n",
      "PLAYER 2: \n",
      "PLAYER 1: \n",
      " ___\n",
      "|oxo|\n",
      "|xxx|\n",
      "|oox|\n",
      " ---\n"
     ]
    },
    {
     "name": "stderr",
     "output_type": "stream",
     "text": [
      "Score as white: 33:  71%|███████   | 71/100 [00:10<00:04,  6.05it/s]"
     ]
    },
    {
     "name": "stdout",
     "output_type": "stream",
     "text": [
      "PLAYER 1: \n",
      "PLAYER 2: \n",
      "PLAYER 1: \n",
      "PLAYER 2: \n",
      "PLAYER 1: \n",
      "PLAYER 2: \n",
      " ___\n",
      "|x o|\n",
      "|xxo|\n",
      "|  o|\n",
      " ---\n"
     ]
    },
    {
     "name": "stderr",
     "output_type": "stream",
     "text": [
      "Score as white: 32:  72%|███████▏  | 72/100 [00:10<00:04,  6.43it/s]"
     ]
    },
    {
     "name": "stdout",
     "output_type": "stream",
     "text": [
      "PLAYER 1: \n",
      "PLAYER 2: \n",
      "PLAYER 1: \n",
      "PLAYER 2: \n",
      "PLAYER 1: \n",
      "PLAYER 2: \n",
      "PLAYER 1: \n",
      " ___\n",
      "|oox|\n",
      "| ox|\n",
      "|x x|\n",
      " ---\n"
     ]
    },
    {
     "name": "stderr",
     "output_type": "stream",
     "text": [
      "Score as white: 33:  73%|███████▎  | 73/100 [00:10<00:04,  6.66it/s]"
     ]
    },
    {
     "name": "stdout",
     "output_type": "stream",
     "text": [
      "PLAYER 1: \n",
      "PLAYER 2: \n",
      "PLAYER 1: \n",
      "PLAYER 2: \n",
      "PLAYER 1: \n",
      "PLAYER 2: \n",
      "PLAYER 1: \n",
      "PLAYER 2: \n",
      "PLAYER 1: \n",
      " ___\n",
      "|oox|\n",
      "|xxo|\n",
      "|xox|\n",
      " ---\n"
     ]
    },
    {
     "name": "stderr",
     "output_type": "stream",
     "text": [
      "Score as white: 34:  74%|███████▍  | 74/100 [00:10<00:04,  6.11it/s]"
     ]
    },
    {
     "name": "stdout",
     "output_type": "stream",
     "text": [
      "PLAYER 1: \n",
      "PLAYER 2: \n",
      "PLAYER 1: \n",
      "PLAYER 2: \n",
      "PLAYER 1: \n",
      "PLAYER 2: \n",
      "PLAYER 1: \n",
      " ___\n",
      "|xo |\n",
      "|ox |\n",
      "|xox|\n",
      " ---\n"
     ]
    },
    {
     "name": "stderr",
     "output_type": "stream",
     "text": [
      "Score as white: 35:  75%|███████▌  | 75/100 [00:11<00:03,  6.27it/s]"
     ]
    },
    {
     "name": "stdout",
     "output_type": "stream",
     "text": [
      "PLAYER 1: \n",
      "PLAYER 2: \n",
      "PLAYER 1: \n",
      "PLAYER 2: \n",
      "PLAYER 1: \n",
      "PLAYER 2: \n",
      "PLAYER 1: \n",
      "PLAYER 2: \n",
      "PLAYER 1: \n",
      " ___\n",
      "|oox|\n",
      "|xxo|\n",
      "|xxo|\n",
      " ---\n"
     ]
    },
    {
     "name": "stderr",
     "output_type": "stream",
     "text": [
      "Score as white: 36:  76%|███████▌  | 76/100 [00:11<00:04,  5.83it/s]"
     ]
    },
    {
     "name": "stdout",
     "output_type": "stream",
     "text": [
      "PLAYER 1: \n",
      "PLAYER 2: \n",
      "PLAYER 1: \n",
      "PLAYER 2: \n",
      "PLAYER 1: \n",
      "PLAYER 2: \n",
      "PLAYER 1: \n",
      " ___\n",
      "|x o|\n",
      "|xoo|\n",
      "|x x|\n",
      " ---\n"
     ]
    },
    {
     "name": "stderr",
     "output_type": "stream",
     "text": [
      "Score as white: 37:  77%|███████▋  | 77/100 [00:11<00:03,  6.06it/s]"
     ]
    },
    {
     "name": "stdout",
     "output_type": "stream",
     "text": [
      "PLAYER 1: \n",
      "PLAYER 2: \n",
      "PLAYER 1: \n",
      "PLAYER 2: \n",
      "PLAYER 1: \n",
      " ___\n",
      "| x |\n",
      "| x |\n",
      "|oxo|\n",
      " ---\n"
     ]
    },
    {
     "name": "stderr",
     "output_type": "stream",
     "text": [
      "\r",
      "Score as white: 38:  77%|███████▋  | 77/100 [00:11<00:03,  6.06it/s]"
     ]
    },
    {
     "name": "stdout",
     "output_type": "stream",
     "text": [
      "PLAYER 1: \n",
      "PLAYER 2: \n",
      "PLAYER 1: \n",
      "PLAYER 2: \n",
      "PLAYER 1: \n",
      "PLAYER 2: \n",
      "PLAYER 1: \n",
      " ___\n",
      "|xoo|\n",
      "|xo |\n",
      "|x x|\n",
      " ---\n"
     ]
    },
    {
     "name": "stderr",
     "output_type": "stream",
     "text": [
      "Score as white: 39:  79%|███████▉  | 79/100 [00:11<00:03,  6.54it/s]"
     ]
    },
    {
     "name": "stdout",
     "output_type": "stream",
     "text": [
      "PLAYER 1: \n",
      "PLAYER 2: \n",
      "PLAYER 1: \n",
      "PLAYER 2: \n",
      "PLAYER 1: \n",
      "PLAYER 2: \n",
      "PLAYER 1: \n",
      "PLAYER 2: \n",
      "PLAYER 1: \n",
      " ___\n",
      "|oxo|\n",
      "|oox|\n",
      "|xxx|\n",
      " ---\n"
     ]
    },
    {
     "name": "stderr",
     "output_type": "stream",
     "text": [
      "Score as white: 40:  80%|████████  | 80/100 [00:11<00:03,  6.16it/s]"
     ]
    },
    {
     "name": "stdout",
     "output_type": "stream",
     "text": [
      "PLAYER 1: \n",
      "PLAYER 2: \n",
      "PLAYER 1: \n",
      "PLAYER 2: \n",
      "PLAYER 1: \n",
      "PLAYER 2: \n",
      "PLAYER 1: \n",
      "PLAYER 2: \n",
      " ___\n",
      "|oxx|\n",
      "|xx |\n",
      "|ooo|\n",
      " ---\n"
     ]
    },
    {
     "name": "stderr",
     "output_type": "stream",
     "text": [
      "Score as white: 39:  81%|████████  | 81/100 [00:12<00:03,  5.99it/s]"
     ]
    },
    {
     "name": "stdout",
     "output_type": "stream",
     "text": [
      "PLAYER 1: \n",
      "PLAYER 2: \n",
      "PLAYER 1: \n",
      "PLAYER 2: \n",
      "PLAYER 1: \n",
      "PLAYER 2: \n",
      "PLAYER 1: \n",
      "PLAYER 2: \n",
      "PLAYER 1: \n",
      " ___\n",
      "|oxo|\n",
      "|oox|\n",
      "|xxx|\n",
      " ---\n"
     ]
    },
    {
     "name": "stderr",
     "output_type": "stream",
     "text": [
      "Score as white: 40:  82%|████████▏ | 82/100 [00:12<00:03,  5.67it/s]"
     ]
    },
    {
     "name": "stdout",
     "output_type": "stream",
     "text": [
      "PLAYER 1: \n",
      "PLAYER 2: \n",
      "PLAYER 1: \n",
      "PLAYER 2: \n",
      "PLAYER 1: \n",
      " ___\n",
      "| x |\n",
      "|ox |\n",
      "| xo|\n",
      " ---\n"
     ]
    },
    {
     "name": "stderr",
     "output_type": "stream",
     "text": [
      "Score as white: 41:  83%|████████▎ | 83/100 [00:12<00:02,  6.45it/s]"
     ]
    },
    {
     "name": "stdout",
     "output_type": "stream",
     "text": [
      "PLAYER 1: \n",
      "PLAYER 2: \n",
      "PLAYER 1: \n",
      "PLAYER 2: \n",
      "PLAYER 1: \n",
      "PLAYER 2: \n",
      "PLAYER 1: \n",
      "PLAYER 2: \n",
      " ___\n",
      "|xxo|\n",
      "|ooo|\n",
      "|xx |\n",
      " ---\n"
     ]
    },
    {
     "name": "stderr",
     "output_type": "stream",
     "text": [
      "Score as white: 40:  84%|████████▍ | 84/100 [00:12<00:02,  6.29it/s]"
     ]
    },
    {
     "name": "stdout",
     "output_type": "stream",
     "text": [
      "PLAYER 1: \n",
      "PLAYER 2: \n",
      "PLAYER 1: \n",
      "PLAYER 2: \n",
      "PLAYER 1: \n",
      "PLAYER 2: \n",
      "PLAYER 1: \n",
      "PLAYER 2: \n",
      "PLAYER 1: \n",
      " ___\n",
      "|oox|\n",
      "|xxo|\n",
      "|xxo|\n",
      " ---\n"
     ]
    },
    {
     "name": "stderr",
     "output_type": "stream",
     "text": [
      "Score as white: 41:  85%|████████▌ | 85/100 [00:12<00:02,  6.03it/s]"
     ]
    },
    {
     "name": "stdout",
     "output_type": "stream",
     "text": [
      "PLAYER 1: \n",
      "PLAYER 2: \n",
      "PLAYER 1: \n",
      "PLAYER 2: \n",
      "PLAYER 1: \n",
      "PLAYER 2: \n",
      "PLAYER 1: \n",
      "PLAYER 2: \n",
      "PLAYER 1: \n",
      " ___\n",
      "|oox|\n",
      "|oox|\n",
      "|xxx|\n",
      " ---\n"
     ]
    },
    {
     "name": "stderr",
     "output_type": "stream",
     "text": [
      "Score as white: 42:  86%|████████▌ | 86/100 [00:12<00:02,  6.02it/s]"
     ]
    },
    {
     "name": "stdout",
     "output_type": "stream",
     "text": [
      "PLAYER 1: \n",
      "PLAYER 2: \n",
      "PLAYER 1: \n",
      "PLAYER 2: \n",
      "PLAYER 1: \n",
      "PLAYER 2: \n",
      "PLAYER 1: \n",
      " ___\n",
      "|oxo|\n",
      "| xx|\n",
      "| xo|\n",
      " ---\n"
     ]
    },
    {
     "name": "stderr",
     "output_type": "stream",
     "text": [
      "Score as white: 43:  87%|████████▋ | 87/100 [00:13<00:02,  6.36it/s]"
     ]
    },
    {
     "name": "stdout",
     "output_type": "stream",
     "text": [
      "PLAYER 1: \n",
      "PLAYER 2: \n",
      "PLAYER 1: \n",
      "PLAYER 2: \n",
      "PLAYER 1: \n",
      "PLAYER 2: \n",
      "PLAYER 1: \n",
      "PLAYER 2: \n",
      "PLAYER 1: \n",
      " ___\n",
      "|xxx|\n",
      "|xoo|\n",
      "|oox|\n",
      " ---\n"
     ]
    },
    {
     "name": "stderr",
     "output_type": "stream",
     "text": [
      "Score as white: 44:  88%|████████▊ | 88/100 [00:13<00:01,  6.18it/s]"
     ]
    },
    {
     "name": "stdout",
     "output_type": "stream",
     "text": [
      "PLAYER 1: \n",
      "PLAYER 2: \n",
      "PLAYER 1: \n",
      "PLAYER 2: \n",
      "PLAYER 1: \n",
      "PLAYER 2: \n",
      "PLAYER 1: \n",
      " ___\n",
      "| oo|\n",
      "|xo |\n",
      "|xxx|\n",
      " ---\n"
     ]
    },
    {
     "name": "stderr",
     "output_type": "stream",
     "text": [
      "Score as white: 45:  89%|████████▉ | 89/100 [00:13<00:01,  6.46it/s]"
     ]
    },
    {
     "name": "stdout",
     "output_type": "stream",
     "text": [
      "PLAYER 1: \n",
      "PLAYER 2: \n",
      "PLAYER 1: \n",
      "PLAYER 2: \n",
      "PLAYER 1: \n",
      " ___\n",
      "| o |\n",
      "|  o|\n",
      "|xxx|\n",
      " ---\n"
     ]
    },
    {
     "name": "stderr",
     "output_type": "stream",
     "text": [
      "\r",
      "Score as white: 46:  89%|████████▉ | 89/100 [00:13<00:01,  6.46it/s]"
     ]
    },
    {
     "name": "stdout",
     "output_type": "stream",
     "text": [
      "PLAYER 1: \n",
      "PLAYER 2: \n",
      "PLAYER 1: \n",
      "PLAYER 2: \n",
      "PLAYER 1: \n",
      "PLAYER 2: \n",
      "PLAYER 1: \n",
      " ___\n",
      "|xoo|\n",
      "|xx |\n",
      "|x o|\n",
      " ---\n"
     ]
    },
    {
     "name": "stderr",
     "output_type": "stream",
     "text": [
      "Score as white: 47:  91%|█████████ | 91/100 [00:13<00:01,  6.95it/s]"
     ]
    },
    {
     "name": "stdout",
     "output_type": "stream",
     "text": [
      "PLAYER 1: \n",
      "PLAYER 2: \n",
      "PLAYER 1: \n",
      "PLAYER 2: \n",
      "PLAYER 1: \n",
      "PLAYER 2: \n",
      "PLAYER 1: \n",
      "PLAYER 2: \n",
      "PLAYER 1: \n",
      " ___\n",
      "|xxo|\n",
      "|oxo|\n",
      "|oxx|\n",
      " ---\n"
     ]
    },
    {
     "name": "stderr",
     "output_type": "stream",
     "text": [
      "Score as white: 48:  92%|█████████▏| 92/100 [00:13<00:01,  6.60it/s]"
     ]
    },
    {
     "name": "stdout",
     "output_type": "stream",
     "text": [
      "PLAYER 1: \n",
      "PLAYER 2: \n",
      "PLAYER 1: \n",
      "PLAYER 2: \n",
      "PLAYER 1: \n",
      "PLAYER 2: \n",
      "PLAYER 1: \n",
      "PLAYER 2: \n",
      " ___\n",
      "|ox |\n",
      "|xoo|\n",
      "|xxo|\n",
      " ---\n"
     ]
    },
    {
     "name": "stderr",
     "output_type": "stream",
     "text": [
      "Score as white: 47:  93%|█████████▎| 93/100 [00:13<00:01,  6.33it/s]"
     ]
    },
    {
     "name": "stdout",
     "output_type": "stream",
     "text": [
      "PLAYER 1: \n",
      "PLAYER 2: \n",
      "PLAYER 1: \n",
      "PLAYER 2: \n",
      "PLAYER 1: \n",
      "PLAYER 2: \n",
      "PLAYER 1: \n",
      "PLAYER 2: \n",
      "PLAYER 1: \n",
      " ___\n",
      "|oxx|\n",
      "|xoo|\n",
      "|xox|\n",
      " ---\n"
     ]
    },
    {
     "name": "stderr",
     "output_type": "stream",
     "text": [
      "Score as white: 47:  94%|█████████▍| 94/100 [00:14<00:00,  6.03it/s]"
     ]
    },
    {
     "name": "stdout",
     "output_type": "stream",
     "text": [
      "PLAYER 1: \n",
      "PLAYER 2: \n",
      "PLAYER 1: \n",
      "PLAYER 2: \n",
      "PLAYER 1: \n",
      "PLAYER 2: \n",
      "PLAYER 1: \n",
      " ___\n",
      "| oo|\n",
      "|xxx|\n",
      "|ox |\n",
      " ---\n"
     ]
    },
    {
     "name": "stderr",
     "output_type": "stream",
     "text": [
      "Score as white: 48:  95%|█████████▌| 95/100 [00:14<00:00,  6.22it/s]"
     ]
    },
    {
     "name": "stdout",
     "output_type": "stream",
     "text": [
      "PLAYER 1: \n",
      "PLAYER 2: \n",
      "PLAYER 1: \n",
      "PLAYER 2: \n",
      "PLAYER 1: \n",
      "PLAYER 2: \n",
      "PLAYER 1: \n",
      " ___\n",
      "| xx|\n",
      "|ox |\n",
      "|oxo|\n",
      " ---\n"
     ]
    },
    {
     "name": "stderr",
     "output_type": "stream",
     "text": [
      "Score as white: 49:  96%|█████████▌| 96/100 [00:14<00:00,  6.29it/s]"
     ]
    },
    {
     "name": "stdout",
     "output_type": "stream",
     "text": [
      "PLAYER 1: \n",
      "PLAYER 2: \n",
      "PLAYER 1: \n",
      "PLAYER 2: \n",
      "PLAYER 1: \n",
      "PLAYER 2: \n",
      " ___\n",
      "|  x|\n",
      "|ooo|\n",
      "|x x|\n",
      " ---\n"
     ]
    },
    {
     "name": "stderr",
     "output_type": "stream",
     "text": [
      "Score as white: 48:  97%|█████████▋| 97/100 [00:14<00:00,  6.76it/s]"
     ]
    },
    {
     "name": "stdout",
     "output_type": "stream",
     "text": [
      "PLAYER 1: \n",
      "PLAYER 2: \n",
      "PLAYER 1: \n",
      "PLAYER 2: \n",
      "PLAYER 1: \n",
      " ___\n",
      "|xo |\n",
      "|xo |\n",
      "|x  |\n",
      " ---\n"
     ]
    },
    {
     "name": "stderr",
     "output_type": "stream",
     "text": [
      "Score as white: 49:  98%|█████████▊| 98/100 [00:14<00:00,  7.39it/s]"
     ]
    },
    {
     "name": "stdout",
     "output_type": "stream",
     "text": [
      "PLAYER 1: \n",
      "PLAYER 2: \n",
      "PLAYER 1: \n",
      "PLAYER 2: \n",
      "PLAYER 1: \n",
      "PLAYER 2: \n",
      "PLAYER 1: \n",
      "PLAYER 2: \n",
      " ___\n",
      "|ooo|\n",
      "|xx |\n",
      "|xox|\n",
      " ---\n"
     ]
    },
    {
     "name": "stderr",
     "output_type": "stream",
     "text": [
      "Score as white: 48:  99%|█████████▉| 99/100 [00:14<00:00,  6.97it/s]"
     ]
    },
    {
     "name": "stdout",
     "output_type": "stream",
     "text": [
      "PLAYER 1: \n",
      "PLAYER 2: \n",
      "PLAYER 1: \n",
      "PLAYER 2: \n",
      "PLAYER 1: \n",
      "PLAYER 2: \n",
      "PLAYER 1: \n",
      "PLAYER 2: \n",
      "PLAYER 1: \n",
      " ___\n",
      "|xxx|\n",
      "|oxo|\n",
      "|xoo|\n",
      " ---\n"
     ]
    },
    {
     "name": "stderr",
     "output_type": "stream",
     "text": [
      "Score as white: 49: 100%|██████████| 100/100 [00:14<00:00,  6.67it/s]\n",
      "  0%|          | 0/100 [00:00<?, ?it/s]"
     ]
    },
    {
     "name": "stdout",
     "output_type": "stream",
     "text": [
      "PLAYER 1: \n",
      "PLAYER 2: \n",
      "PLAYER 1: \n",
      "PLAYER 2: \n",
      "PLAYER 1: \n",
      "PLAYER 2: \n",
      "PLAYER 1: \n",
      " ___\n",
      "|xo |\n",
      "|x o|\n",
      "|xxo|\n",
      " ---\n"
     ]
    },
    {
     "name": "stderr",
     "output_type": "stream",
     "text": [
      "Score as black: -1:   1%|          | 1/100 [00:00<00:14,  6.84it/s]"
     ]
    },
    {
     "name": "stdout",
     "output_type": "stream",
     "text": [
      "PLAYER 1: \n",
      "PLAYER 2: \n",
      "PLAYER 1: \n",
      "PLAYER 2: \n",
      "PLAYER 1: \n",
      "PLAYER 2: \n",
      " ___\n",
      "| xx|\n",
      "| x |\n",
      "|ooo|\n",
      " ---\n"
     ]
    },
    {
     "name": "stderr",
     "output_type": "stream",
     "text": [
      "Score as black: 0:   2%|▏         | 2/100 [00:00<00:13,  7.12it/s] "
     ]
    },
    {
     "name": "stdout",
     "output_type": "stream",
     "text": [
      "PLAYER 1: \n",
      "PLAYER 2: \n",
      "PLAYER 1: \n",
      "PLAYER 2: \n",
      "PLAYER 1: \n",
      "PLAYER 2: \n",
      "PLAYER 1: \n",
      " ___\n",
      "|xxx|\n",
      "|xoo|\n",
      "|o  |\n",
      " ---\n"
     ]
    },
    {
     "name": "stderr",
     "output_type": "stream",
     "text": [
      "Score as black: -1:   3%|▎         | 3/100 [00:00<00:13,  7.26it/s]"
     ]
    },
    {
     "name": "stdout",
     "output_type": "stream",
     "text": [
      "PLAYER 1: \n",
      "PLAYER 2: \n",
      "PLAYER 1: \n",
      "PLAYER 2: \n",
      "PLAYER 1: \n",
      "PLAYER 2: \n",
      "PLAYER 1: \n",
      "PLAYER 2: \n",
      "PLAYER 1: \n",
      " ___\n",
      "|xox|\n",
      "|oxo|\n",
      "|xxo|\n",
      " ---\n"
     ]
    },
    {
     "name": "stderr",
     "output_type": "stream",
     "text": [
      "Score as black: -2:   4%|▍         | 4/100 [00:00<00:14,  6.59it/s]"
     ]
    },
    {
     "name": "stdout",
     "output_type": "stream",
     "text": [
      "PLAYER 1: \n",
      "PLAYER 2: \n",
      "PLAYER 1: \n",
      "PLAYER 2: \n",
      "PLAYER 1: \n",
      "PLAYER 2: \n",
      "PLAYER 1: \n",
      " ___\n",
      "|xx |\n",
      "|x o|\n",
      "|xoo|\n",
      " ---\n"
     ]
    },
    {
     "name": "stderr",
     "output_type": "stream",
     "text": [
      "Score as black: -3:   5%|▌         | 5/100 [00:00<00:14,  6.58it/s]"
     ]
    },
    {
     "name": "stdout",
     "output_type": "stream",
     "text": [
      "PLAYER 1: \n",
      "PLAYER 2: \n",
      "PLAYER 1: \n",
      "PLAYER 2: \n",
      "PLAYER 1: \n",
      "PLAYER 2: \n",
      "PLAYER 1: \n",
      "PLAYER 2: \n",
      " ___\n",
      "|xxo|\n",
      "|oxo|\n",
      "|x o|\n",
      " ---\n"
     ]
    },
    {
     "name": "stderr",
     "output_type": "stream",
     "text": [
      "Score as black: -2:   6%|▌         | 6/100 [00:00<00:14,  6.29it/s]"
     ]
    },
    {
     "name": "stdout",
     "output_type": "stream",
     "text": [
      "PLAYER 1: \n",
      "PLAYER 2: \n",
      "PLAYER 1: \n",
      "PLAYER 2: \n",
      "PLAYER 1: \n",
      "PLAYER 2: \n",
      "PLAYER 1: \n",
      " ___\n",
      "|oo |\n",
      "| xo|\n",
      "|xxx|\n",
      " ---\n"
     ]
    },
    {
     "name": "stderr",
     "output_type": "stream",
     "text": [
      "Score as black: -3:   7%|▋         | 7/100 [00:01<00:14,  6.27it/s]"
     ]
    },
    {
     "name": "stdout",
     "output_type": "stream",
     "text": [
      "PLAYER 1: \n",
      "PLAYER 2: \n",
      "PLAYER 1: \n",
      "PLAYER 2: \n",
      "PLAYER 1: \n",
      "PLAYER 2: \n",
      "PLAYER 1: \n",
      " ___\n",
      "|xo |\n",
      "|o o|\n",
      "|xxx|\n",
      " ---\n"
     ]
    },
    {
     "name": "stderr",
     "output_type": "stream",
     "text": [
      "Score as black: -4:   8%|▊         | 8/100 [00:01<00:14,  6.42it/s]"
     ]
    },
    {
     "name": "stdout",
     "output_type": "stream",
     "text": [
      "PLAYER 1: \n",
      "PLAYER 2: \n",
      "PLAYER 1: \n",
      "PLAYER 2: \n",
      "PLAYER 1: \n",
      "PLAYER 2: \n",
      " ___\n",
      "|x x|\n",
      "|  x|\n",
      "|ooo|\n",
      " ---\n"
     ]
    },
    {
     "name": "stderr",
     "output_type": "stream",
     "text": [
      "Score as black: -3:   9%|▉         | 9/100 [00:01<00:13,  6.73it/s]"
     ]
    },
    {
     "name": "stdout",
     "output_type": "stream",
     "text": [
      "PLAYER 1: \n",
      "PLAYER 2: \n",
      "PLAYER 1: \n",
      "PLAYER 2: \n",
      "PLAYER 1: \n",
      "PLAYER 2: \n",
      "PLAYER 1: \n",
      " ___\n",
      "|o x|\n",
      "|oxo|\n",
      "|xx |\n",
      " ---\n"
     ]
    },
    {
     "name": "stderr",
     "output_type": "stream",
     "text": [
      "Score as black: -4:  10%|█         | 10/100 [00:01<00:13,  6.89it/s]"
     ]
    },
    {
     "name": "stdout",
     "output_type": "stream",
     "text": [
      "PLAYER 1: \n",
      "PLAYER 2: \n",
      "PLAYER 1: \n",
      "PLAYER 2: \n",
      "PLAYER 1: \n",
      "PLAYER 2: \n",
      "PLAYER 1: \n",
      " ___\n",
      "| ox|\n",
      "|xxo|\n",
      "|x o|\n",
      " ---\n"
     ]
    },
    {
     "name": "stderr",
     "output_type": "stream",
     "text": [
      "Score as black: -5:  11%|█         | 11/100 [00:01<00:12,  6.96it/s]"
     ]
    },
    {
     "name": "stdout",
     "output_type": "stream",
     "text": [
      "PLAYER 1: \n",
      "PLAYER 2: \n",
      "PLAYER 1: \n",
      "PLAYER 2: \n",
      "PLAYER 1: \n",
      "PLAYER 2: \n",
      "PLAYER 1: \n",
      "PLAYER 2: \n",
      " ___\n",
      "|oxo|\n",
      "|xxo|\n",
      "|x o|\n",
      " ---\n"
     ]
    },
    {
     "name": "stderr",
     "output_type": "stream",
     "text": [
      "Score as black: -4:  12%|█▏        | 12/100 [00:01<00:13,  6.67it/s]"
     ]
    },
    {
     "name": "stdout",
     "output_type": "stream",
     "text": [
      "PLAYER 1: \n",
      "PLAYER 2: \n",
      "PLAYER 1: \n",
      "PLAYER 2: \n",
      "PLAYER 1: \n",
      "PLAYER 2: \n",
      "PLAYER 1: \n",
      "PLAYER 2: \n",
      "PLAYER 1: \n",
      " ___\n",
      "|oxx|\n",
      "|xoo|\n",
      "|xox|\n",
      " ---\n"
     ]
    },
    {
     "name": "stderr",
     "output_type": "stream",
     "text": [
      "Score as black: -4:  13%|█▎        | 13/100 [00:02<00:14,  5.96it/s]"
     ]
    },
    {
     "name": "stdout",
     "output_type": "stream",
     "text": [
      "PLAYER 1: \n",
      "PLAYER 2: \n",
      "PLAYER 1: \n",
      "PLAYER 2: \n",
      "PLAYER 1: \n",
      "PLAYER 2: \n",
      "PLAYER 1: \n",
      " ___\n",
      "|xo |\n",
      "| oo|\n",
      "|xxx|\n",
      " ---\n"
     ]
    },
    {
     "name": "stderr",
     "output_type": "stream",
     "text": [
      "Score as black: -5:  14%|█▍        | 14/100 [00:02<00:13,  6.24it/s]"
     ]
    },
    {
     "name": "stdout",
     "output_type": "stream",
     "text": [
      "PLAYER 1: \n",
      "PLAYER 2: \n",
      "PLAYER 1: \n",
      "PLAYER 2: \n",
      "PLAYER 1: \n",
      "PLAYER 2: \n",
      "PLAYER 1: \n",
      " ___\n",
      "| ox|\n",
      "|xxx|\n",
      "|oo |\n",
      " ---\n"
     ]
    },
    {
     "name": "stderr",
     "output_type": "stream",
     "text": [
      "Score as black: -6:  15%|█▌        | 15/100 [00:02<00:13,  6.21it/s]"
     ]
    },
    {
     "name": "stdout",
     "output_type": "stream",
     "text": [
      "PLAYER 1: \n",
      "PLAYER 2: \n",
      "PLAYER 1: \n",
      "PLAYER 2: \n",
      "PLAYER 1: \n",
      "PLAYER 2: \n",
      "PLAYER 1: \n",
      "PLAYER 2: \n",
      "PLAYER 1: \n",
      " ___\n",
      "|oxx|\n",
      "|xoo|\n",
      "|oxx|\n",
      " ---\n"
     ]
    },
    {
     "name": "stderr",
     "output_type": "stream",
     "text": [
      "Score as black: -6:  16%|█▌        | 16/100 [00:02<00:14,  5.69it/s]"
     ]
    },
    {
     "name": "stdout",
     "output_type": "stream",
     "text": [
      "PLAYER 1: \n",
      "PLAYER 2: \n",
      "PLAYER 1: \n",
      "PLAYER 2: \n",
      "PLAYER 1: \n",
      "PLAYER 2: \n",
      " ___\n",
      "| x |\n",
      "|ooo|\n",
      "|x x|\n",
      " ---\n"
     ]
    },
    {
     "name": "stderr",
     "output_type": "stream",
     "text": [
      "Score as black: -5:  17%|█▋        | 17/100 [00:02<00:13,  6.17it/s]"
     ]
    },
    {
     "name": "stdout",
     "output_type": "stream",
     "text": [
      "PLAYER 1: \n",
      "PLAYER 2: \n",
      "PLAYER 1: \n",
      "PLAYER 2: \n",
      "PLAYER 1: \n",
      "PLAYER 2: \n",
      "PLAYER 1: \n",
      " ___\n",
      "|o o|\n",
      "|xxx|\n",
      "| ox|\n",
      " ---\n"
     ]
    },
    {
     "name": "stderr",
     "output_type": "stream",
     "text": [
      "Score as black: -6:  18%|█▊        | 18/100 [00:02<00:12,  6.42it/s]"
     ]
    },
    {
     "name": "stdout",
     "output_type": "stream",
     "text": [
      "PLAYER 1: \n",
      "PLAYER 2: \n",
      "PLAYER 1: \n",
      "PLAYER 2: \n",
      "PLAYER 1: \n",
      "PLAYER 2: \n",
      "PLAYER 1: \n",
      "PLAYER 2: \n",
      " ___\n",
      "|xox|\n",
      "|xo |\n",
      "|oox|\n",
      " ---\n"
     ]
    },
    {
     "name": "stderr",
     "output_type": "stream",
     "text": [
      "Score as black: -5:  19%|█▉        | 19/100 [00:02<00:12,  6.45it/s]"
     ]
    },
    {
     "name": "stdout",
     "output_type": "stream",
     "text": [
      "PLAYER 1: \n",
      "PLAYER 2: \n",
      "PLAYER 1: \n",
      "PLAYER 2: \n",
      "PLAYER 1: \n",
      "PLAYER 2: \n",
      "PLAYER 1: \n",
      " ___\n",
      "|xo |\n",
      "|x o|\n",
      "|xxo|\n",
      " ---\n"
     ]
    },
    {
     "name": "stderr",
     "output_type": "stream",
     "text": [
      "Score as black: -6:  20%|██        | 20/100 [00:03<00:12,  6.40it/s]"
     ]
    },
    {
     "name": "stdout",
     "output_type": "stream",
     "text": [
      "PLAYER 1: \n",
      "PLAYER 2: \n",
      "PLAYER 1: \n",
      "PLAYER 2: \n",
      "PLAYER 1: \n",
      "PLAYER 2: \n",
      "PLAYER 1: \n",
      "PLAYER 2: \n",
      " ___\n",
      "|xxo|\n",
      "|xxo|\n",
      "| oo|\n",
      " ---\n"
     ]
    },
    {
     "name": "stderr",
     "output_type": "stream",
     "text": [
      "Score as black: -5:  21%|██        | 21/100 [00:03<00:12,  6.19it/s]"
     ]
    },
    {
     "name": "stdout",
     "output_type": "stream",
     "text": [
      "PLAYER 1: \n",
      "PLAYER 2: \n",
      "PLAYER 1: \n",
      "PLAYER 2: \n",
      "PLAYER 1: \n",
      "PLAYER 2: \n",
      " ___\n",
      "|  x|\n",
      "|ooo|\n",
      "| xx|\n",
      " ---\n"
     ]
    },
    {
     "name": "stderr",
     "output_type": "stream",
     "text": [
      "Score as black: -4:  22%|██▏       | 22/100 [00:03<00:11,  6.61it/s]"
     ]
    },
    {
     "name": "stdout",
     "output_type": "stream",
     "text": [
      "PLAYER 1: \n",
      "PLAYER 2: \n",
      "PLAYER 1: \n",
      "PLAYER 2: \n",
      "PLAYER 1: \n",
      "PLAYER 2: \n",
      "PLAYER 1: \n",
      " ___\n",
      "|ox |\n",
      "|xx |\n",
      "|oxo|\n",
      " ---\n"
     ]
    },
    {
     "name": "stderr",
     "output_type": "stream",
     "text": [
      "Score as black: -5:  23%|██▎       | 23/100 [00:03<00:11,  6.57it/s]"
     ]
    },
    {
     "name": "stdout",
     "output_type": "stream",
     "text": [
      "PLAYER 1: \n",
      "PLAYER 2: \n",
      "PLAYER 1: \n",
      "PLAYER 2: \n",
      "PLAYER 1: \n",
      "PLAYER 2: \n",
      "PLAYER 1: \n",
      "PLAYER 2: \n",
      "PLAYER 1: \n",
      " ___\n",
      "|oox|\n",
      "|xxo|\n",
      "|xox|\n",
      " ---\n"
     ]
    },
    {
     "name": "stderr",
     "output_type": "stream",
     "text": [
      "Score as black: -6:  24%|██▍       | 24/100 [00:03<00:12,  6.04it/s]"
     ]
    },
    {
     "name": "stdout",
     "output_type": "stream",
     "text": [
      "PLAYER 1: \n",
      "PLAYER 2: \n",
      "PLAYER 1: \n",
      "PLAYER 2: \n",
      "PLAYER 1: \n",
      "PLAYER 2: \n",
      "PLAYER 1: \n",
      " ___\n",
      "|xo |\n",
      "|xxx|\n",
      "| oo|\n",
      " ---\n"
     ]
    },
    {
     "name": "stderr",
     "output_type": "stream",
     "text": [
      "Score as black: -7:  25%|██▌       | 25/100 [00:03<00:11,  6.39it/s]"
     ]
    },
    {
     "name": "stdout",
     "output_type": "stream",
     "text": [
      "PLAYER 1: \n",
      "PLAYER 2: \n",
      "PLAYER 1: \n",
      "PLAYER 2: \n",
      "PLAYER 1: \n",
      "PLAYER 2: \n",
      "PLAYER 1: \n",
      " ___\n",
      "|o x|\n",
      "|oo |\n",
      "|xxx|\n",
      " ---\n"
     ]
    },
    {
     "name": "stderr",
     "output_type": "stream",
     "text": [
      "Score as black: -8:  26%|██▌       | 26/100 [00:04<00:11,  6.62it/s]"
     ]
    },
    {
     "name": "stdout",
     "output_type": "stream",
     "text": [
      "PLAYER 1: \n",
      "PLAYER 2: \n",
      "PLAYER 1: \n",
      "PLAYER 2: \n",
      "PLAYER 1: \n",
      "PLAYER 2: \n",
      " ___\n",
      "|o x|\n",
      "|oxx|\n",
      "|o  |\n",
      " ---\n"
     ]
    },
    {
     "name": "stderr",
     "output_type": "stream",
     "text": [
      "Score as black: -7:  27%|██▋       | 27/100 [00:04<00:10,  7.02it/s]"
     ]
    },
    {
     "name": "stdout",
     "output_type": "stream",
     "text": [
      "PLAYER 1: \n",
      "PLAYER 2: \n",
      "PLAYER 1: \n",
      "PLAYER 2: \n",
      "PLAYER 1: \n",
      "PLAYER 2: \n",
      "PLAYER 1: \n",
      "PLAYER 2: \n",
      "PLAYER 1: \n",
      " ___\n",
      "|oxo|\n",
      "|oxx|\n",
      "|xox|\n",
      " ---\n"
     ]
    },
    {
     "name": "stderr",
     "output_type": "stream",
     "text": [
      "Score as black: -7:  28%|██▊       | 28/100 [00:04<00:10,  6.59it/s]"
     ]
    },
    {
     "name": "stdout",
     "output_type": "stream",
     "text": [
      "PLAYER 1: \n",
      "PLAYER 2: \n",
      "PLAYER 1: \n",
      "PLAYER 2: \n",
      "PLAYER 1: \n",
      " ___\n",
      "| xo|\n",
      "| xo|\n",
      "| x |\n",
      " ---\n"
     ]
    },
    {
     "name": "stderr",
     "output_type": "stream",
     "text": [
      "Score as black: -8:  29%|██▉       | 29/100 [00:04<00:09,  7.24it/s]"
     ]
    },
    {
     "name": "stdout",
     "output_type": "stream",
     "text": [
      "PLAYER 1: \n",
      "PLAYER 2: \n",
      "PLAYER 1: \n",
      "PLAYER 2: \n",
      "PLAYER 1: \n",
      "PLAYER 2: \n",
      "PLAYER 1: \n",
      "PLAYER 2: \n",
      "PLAYER 1: \n",
      " ___\n",
      "|oxx|\n",
      "|xxo|\n",
      "|oox|\n",
      " ---\n"
     ]
    },
    {
     "name": "stderr",
     "output_type": "stream",
     "text": [
      "Score as black: -8:  30%|███       | 30/100 [00:04<00:10,  6.61it/s]"
     ]
    },
    {
     "name": "stdout",
     "output_type": "stream",
     "text": [
      "PLAYER 1: \n",
      "PLAYER 2: \n",
      "PLAYER 1: \n",
      "PLAYER 2: \n",
      "PLAYER 1: \n",
      "PLAYER 2: \n",
      "PLAYER 1: \n",
      " ___\n",
      "|x o|\n",
      "|xxx|\n",
      "| oo|\n",
      " ---\n"
     ]
    },
    {
     "name": "stderr",
     "output_type": "stream",
     "text": [
      "Score as black: -9:  31%|███       | 31/100 [00:04<00:10,  6.55it/s]"
     ]
    },
    {
     "name": "stdout",
     "output_type": "stream",
     "text": [
      "PLAYER 1: \n",
      "PLAYER 2: \n",
      "PLAYER 1: \n",
      "PLAYER 2: \n",
      "PLAYER 1: \n",
      "PLAYER 2: \n",
      " ___\n",
      "|o  |\n",
      "|oxx|\n",
      "|ox |\n",
      " ---\n"
     ]
    },
    {
     "name": "stderr",
     "output_type": "stream",
     "text": [
      "Score as black: -8:  32%|███▏      | 32/100 [00:04<00:10,  6.70it/s]"
     ]
    },
    {
     "name": "stdout",
     "output_type": "stream",
     "text": [
      "PLAYER 1: \n",
      "PLAYER 2: \n",
      "PLAYER 1: \n",
      "PLAYER 2: \n",
      "PLAYER 1: \n",
      "PLAYER 2: \n",
      "PLAYER 1: \n",
      "PLAYER 2: \n",
      " ___\n",
      "|xx |\n",
      "|ooo|\n",
      "|oxx|\n",
      " ---\n"
     ]
    },
    {
     "name": "stderr",
     "output_type": "stream",
     "text": [
      "Score as black: -7:  33%|███▎      | 33/100 [00:05<00:10,  6.53it/s]"
     ]
    },
    {
     "name": "stdout",
     "output_type": "stream",
     "text": [
      "PLAYER 1: \n",
      "PLAYER 2: \n",
      "PLAYER 1: \n",
      "PLAYER 2: \n",
      "PLAYER 1: \n",
      "PLAYER 2: \n",
      "PLAYER 1: \n",
      "PLAYER 2: \n",
      " ___\n",
      "|x x|\n",
      "|xxo|\n",
      "|ooo|\n",
      " ---\n"
     ]
    },
    {
     "name": "stderr",
     "output_type": "stream",
     "text": [
      "Score as black: -6:  34%|███▍      | 34/100 [00:05<00:10,  6.37it/s]"
     ]
    },
    {
     "name": "stdout",
     "output_type": "stream",
     "text": [
      "PLAYER 1: \n",
      "PLAYER 2: \n",
      "PLAYER 1: \n",
      "PLAYER 2: \n",
      "PLAYER 1: \n",
      "PLAYER 2: \n",
      "PLAYER 1: \n",
      "PLAYER 2: \n",
      " ___\n",
      "|oxx|\n",
      "|oox|\n",
      "| xo|\n",
      " ---\n"
     ]
    },
    {
     "name": "stderr",
     "output_type": "stream",
     "text": [
      "Score as black: -5:  35%|███▌      | 35/100 [00:05<00:10,  6.22it/s]"
     ]
    },
    {
     "name": "stdout",
     "output_type": "stream",
     "text": [
      "PLAYER 1: \n",
      "PLAYER 2: \n",
      "PLAYER 1: \n",
      "PLAYER 2: \n",
      "PLAYER 1: \n",
      "PLAYER 2: \n",
      "PLAYER 1: \n",
      " ___\n",
      "|xxx|\n",
      "| oo|\n",
      "| ox|\n",
      " ---\n"
     ]
    },
    {
     "name": "stderr",
     "output_type": "stream",
     "text": [
      "Score as black: -6:  36%|███▌      | 36/100 [00:05<00:10,  6.32it/s]"
     ]
    },
    {
     "name": "stdout",
     "output_type": "stream",
     "text": [
      "PLAYER 1: \n",
      "PLAYER 2: \n",
      "PLAYER 1: \n",
      "PLAYER 2: \n",
      "PLAYER 1: \n",
      "PLAYER 2: \n",
      "PLAYER 1: \n",
      " ___\n",
      "|o o|\n",
      "| xo|\n",
      "|xxx|\n",
      " ---\n"
     ]
    },
    {
     "name": "stderr",
     "output_type": "stream",
     "text": [
      "Score as black: -7:  37%|███▋      | 37/100 [00:05<00:09,  6.34it/s]"
     ]
    },
    {
     "name": "stdout",
     "output_type": "stream",
     "text": [
      "PLAYER 1: \n",
      "PLAYER 2: \n",
      "PLAYER 1: \n",
      "PLAYER 2: \n",
      "PLAYER 1: \n",
      "PLAYER 2: \n",
      "PLAYER 1: \n",
      " ___\n",
      "|x x|\n",
      "|oxo|\n",
      "|o x|\n",
      " ---\n"
     ]
    },
    {
     "name": "stderr",
     "output_type": "stream",
     "text": [
      "Score as black: -8:  38%|███▊      | 38/100 [00:05<00:09,  6.50it/s]"
     ]
    },
    {
     "name": "stdout",
     "output_type": "stream",
     "text": [
      "PLAYER 1: \n",
      "PLAYER 2: \n",
      "PLAYER 1: \n",
      "PLAYER 2: \n",
      "PLAYER 1: \n",
      " ___\n",
      "|   |\n",
      "|oo |\n",
      "|xxx|\n",
      " ---\n"
     ]
    },
    {
     "name": "stderr",
     "output_type": "stream",
     "text": [
      "\r",
      "Score as black: -9:  38%|███▊      | 38/100 [00:05<00:09,  6.50it/s]"
     ]
    },
    {
     "name": "stdout",
     "output_type": "stream",
     "text": [
      "PLAYER 1: \n",
      "PLAYER 2: \n",
      "PLAYER 1: \n",
      "PLAYER 2: \n",
      "PLAYER 1: \n",
      "PLAYER 2: \n",
      "PLAYER 1: \n",
      "PLAYER 2: \n",
      " ___\n",
      "|oxx|\n",
      "|oox|\n",
      "| xo|\n",
      " ---\n"
     ]
    },
    {
     "name": "stderr",
     "output_type": "stream",
     "text": [
      "Score as black: -8:  40%|████      | 40/100 [00:06<00:08,  6.81it/s]"
     ]
    },
    {
     "name": "stdout",
     "output_type": "stream",
     "text": [
      "PLAYER 1: \n",
      "PLAYER 2: \n",
      "PLAYER 1: \n",
      "PLAYER 2: \n",
      "PLAYER 1: \n",
      "PLAYER 2: \n",
      "PLAYER 1: \n",
      " ___\n",
      "|oox|\n",
      "|x x|\n",
      "|o x|\n",
      " ---\n"
     ]
    },
    {
     "name": "stderr",
     "output_type": "stream",
     "text": [
      "Score as black: -9:  41%|████      | 41/100 [00:06<00:08,  6.93it/s]"
     ]
    },
    {
     "name": "stdout",
     "output_type": "stream",
     "text": [
      "PLAYER 1: \n",
      "PLAYER 2: \n",
      "PLAYER 1: \n",
      "PLAYER 2: \n",
      "PLAYER 1: \n",
      "PLAYER 2: \n",
      "PLAYER 1: \n",
      "PLAYER 2: \n",
      "PLAYER 1: \n",
      " ___\n",
      "|oxx|\n",
      "|oox|\n",
      "|xox|\n",
      " ---\n"
     ]
    },
    {
     "name": "stderr",
     "output_type": "stream",
     "text": [
      "Score as black: -10:  42%|████▏     | 42/100 [00:06<00:09,  6.30it/s]"
     ]
    },
    {
     "name": "stdout",
     "output_type": "stream",
     "text": [
      "PLAYER 1: \n",
      "PLAYER 2: \n",
      "PLAYER 1: \n",
      "PLAYER 2: \n",
      "PLAYER 1: \n",
      "PLAYER 2: \n",
      "PLAYER 1: \n",
      " ___\n",
      "| oo|\n",
      "|xxx|\n",
      "|x o|\n",
      " ---\n"
     ]
    },
    {
     "name": "stderr",
     "output_type": "stream",
     "text": [
      "Score as black: -11:  43%|████▎     | 43/100 [00:06<00:08,  6.47it/s]"
     ]
    },
    {
     "name": "stdout",
     "output_type": "stream",
     "text": [
      "PLAYER 1: \n",
      "PLAYER 2: \n",
      "PLAYER 1: \n",
      "PLAYER 2: \n",
      "PLAYER 1: \n",
      "PLAYER 2: \n",
      "PLAYER 1: \n",
      "PLAYER 2: \n",
      "PLAYER 1: \n",
      " ___\n",
      "|xoo|\n",
      "|oxx|\n",
      "|oxx|\n",
      " ---\n"
     ]
    },
    {
     "name": "stderr",
     "output_type": "stream",
     "text": [
      "Score as black: -12:  44%|████▍     | 44/100 [00:06<00:09,  6.04it/s]"
     ]
    },
    {
     "name": "stdout",
     "output_type": "stream",
     "text": [
      "PLAYER 1: \n",
      "PLAYER 2: \n",
      "PLAYER 1: \n",
      "PLAYER 2: \n",
      "PLAYER 1: \n",
      "PLAYER 2: \n",
      "PLAYER 1: \n",
      "PLAYER 2: \n",
      "PLAYER 1: \n",
      " ___\n",
      "|oox|\n",
      "|xoo|\n",
      "|xxx|\n",
      " ---\n"
     ]
    },
    {
     "name": "stderr",
     "output_type": "stream",
     "text": [
      "Score as black: -13:  45%|████▌     | 45/100 [00:06<00:09,  5.68it/s]"
     ]
    },
    {
     "name": "stdout",
     "output_type": "stream",
     "text": [
      "PLAYER 1: \n",
      "PLAYER 2: \n",
      "PLAYER 1: \n",
      "PLAYER 2: \n",
      "PLAYER 1: \n",
      "PLAYER 2: \n",
      "PLAYER 1: \n",
      "PLAYER 2: \n",
      "PLAYER 1: \n",
      " ___\n",
      "|xxo|\n",
      "|xoo|\n",
      "|xox|\n",
      " ---\n"
     ]
    },
    {
     "name": "stderr",
     "output_type": "stream",
     "text": [
      "Score as black: -14:  46%|████▌     | 46/100 [00:07<00:09,  5.57it/s]"
     ]
    },
    {
     "name": "stdout",
     "output_type": "stream",
     "text": [
      "PLAYER 1: \n",
      "PLAYER 2: \n",
      "PLAYER 1: \n",
      "PLAYER 2: \n",
      "PLAYER 1: \n",
      "PLAYER 2: \n",
      "PLAYER 1: \n",
      " ___\n",
      "| xx|\n",
      "|oxo|\n",
      "| xo|\n",
      " ---\n"
     ]
    },
    {
     "name": "stderr",
     "output_type": "stream",
     "text": [
      "Score as black: -15:  47%|████▋     | 47/100 [00:07<00:08,  5.93it/s]"
     ]
    },
    {
     "name": "stdout",
     "output_type": "stream",
     "text": [
      "PLAYER 1: \n",
      "PLAYER 2: \n",
      "PLAYER 1: \n",
      "PLAYER 2: \n",
      "PLAYER 1: \n",
      "PLAYER 2: \n",
      "PLAYER 1: \n",
      "PLAYER 2: \n",
      " ___\n",
      "|xx |\n",
      "|ooo|\n",
      "|xox|\n",
      " ---\n"
     ]
    },
    {
     "name": "stderr",
     "output_type": "stream",
     "text": [
      "Score as black: -14:  48%|████▊     | 48/100 [00:07<00:08,  5.92it/s]"
     ]
    },
    {
     "name": "stdout",
     "output_type": "stream",
     "text": [
      "PLAYER 1: \n",
      "PLAYER 2: \n",
      "PLAYER 1: \n",
      "PLAYER 2: \n",
      "PLAYER 1: \n",
      " ___\n",
      "|o  |\n",
      "|xxx|\n",
      "|  o|\n",
      " ---\n"
     ]
    },
    {
     "name": "stderr",
     "output_type": "stream",
     "text": [
      "Score as black: -15:  49%|████▉     | 49/100 [00:07<00:07,  6.58it/s]"
     ]
    },
    {
     "name": "stdout",
     "output_type": "stream",
     "text": [
      "PLAYER 1: \n",
      "PLAYER 2: \n",
      "PLAYER 1: \n",
      "PLAYER 2: \n",
      "PLAYER 1: \n",
      "PLAYER 2: \n",
      " ___\n",
      "|o  |\n",
      "| ox|\n",
      "|xxo|\n",
      " ---\n"
     ]
    },
    {
     "name": "stderr",
     "output_type": "stream",
     "text": [
      "Score as black: -14:  50%|█████     | 50/100 [00:07<00:07,  6.86it/s]"
     ]
    },
    {
     "name": "stdout",
     "output_type": "stream",
     "text": [
      "PLAYER 1: \n",
      "PLAYER 2: \n",
      "PLAYER 1: \n",
      "PLAYER 2: \n",
      "PLAYER 1: \n",
      "PLAYER 2: \n",
      "PLAYER 1: \n",
      "PLAYER 2: \n",
      " ___\n",
      "| xo|\n",
      "|xoo|\n",
      "|xxo|\n",
      " ---\n"
     ]
    },
    {
     "name": "stderr",
     "output_type": "stream",
     "text": [
      "Score as black: -13:  51%|█████     | 51/100 [00:07<00:07,  6.59it/s]"
     ]
    },
    {
     "name": "stdout",
     "output_type": "stream",
     "text": [
      "PLAYER 1: \n",
      "PLAYER 2: \n",
      "PLAYER 1: \n",
      "PLAYER 2: \n",
      "PLAYER 1: \n",
      "PLAYER 2: \n",
      "PLAYER 1: \n",
      "PLAYER 2: \n",
      " ___\n",
      "|xx |\n",
      "|ooo|\n",
      "|xxo|\n",
      " ---\n"
     ]
    },
    {
     "name": "stderr",
     "output_type": "stream",
     "text": [
      "Score as black: -12:  52%|█████▏    | 52/100 [00:08<00:07,  6.48it/s]"
     ]
    },
    {
     "name": "stdout",
     "output_type": "stream",
     "text": [
      "PLAYER 1: \n",
      "PLAYER 2: \n",
      "PLAYER 1: \n",
      "PLAYER 2: \n",
      "PLAYER 1: \n",
      "PLAYER 2: \n",
      "PLAYER 1: \n",
      "PLAYER 2: \n",
      " ___\n",
      "|oxx|\n",
      "|xox|\n",
      "| oo|\n",
      " ---\n"
     ]
    },
    {
     "name": "stderr",
     "output_type": "stream",
     "text": [
      "Score as black: -11:  53%|█████▎    | 53/100 [00:08<00:07,  6.24it/s]"
     ]
    },
    {
     "name": "stdout",
     "output_type": "stream",
     "text": [
      "PLAYER 1: \n",
      "PLAYER 2: \n",
      "PLAYER 1: \n",
      "PLAYER 2: \n",
      "PLAYER 1: \n",
      "PLAYER 2: \n",
      "PLAYER 1: \n",
      "PLAYER 2: \n",
      "PLAYER 1: \n",
      " ___\n",
      "|xox|\n",
      "|oxo|\n",
      "|xxo|\n",
      " ---\n"
     ]
    },
    {
     "name": "stderr",
     "output_type": "stream",
     "text": [
      "Score as black: -12:  54%|█████▍    | 54/100 [00:08<00:07,  5.83it/s]"
     ]
    },
    {
     "name": "stdout",
     "output_type": "stream",
     "text": [
      "PLAYER 1: \n",
      "PLAYER 2: \n",
      "PLAYER 1: \n",
      "PLAYER 2: \n",
      "PLAYER 1: \n",
      " ___\n",
      "|x  |\n",
      "|ox |\n",
      "|o x|\n",
      " ---\n"
     ]
    },
    {
     "name": "stderr",
     "output_type": "stream",
     "text": [
      "Score as black: -13:  55%|█████▌    | 55/100 [00:08<00:06,  6.61it/s]"
     ]
    },
    {
     "name": "stdout",
     "output_type": "stream",
     "text": [
      "PLAYER 1: \n",
      "PLAYER 2: \n",
      "PLAYER 1: \n",
      "PLAYER 2: \n",
      "PLAYER 1: \n",
      "PLAYER 2: \n",
      "PLAYER 1: \n",
      " ___\n",
      "|ox |\n",
      "| oo|\n",
      "|xxx|\n",
      " ---\n"
     ]
    },
    {
     "name": "stderr",
     "output_type": "stream",
     "text": [
      "Score as black: -14:  56%|█████▌    | 56/100 [00:08<00:06,  6.69it/s]"
     ]
    },
    {
     "name": "stdout",
     "output_type": "stream",
     "text": [
      "PLAYER 1: \n",
      "PLAYER 2: \n",
      "PLAYER 1: \n",
      "PLAYER 2: \n",
      "PLAYER 1: \n",
      "PLAYER 2: \n",
      "PLAYER 1: \n",
      " ___\n",
      "|xox|\n",
      "|oxo|\n",
      "|x  |\n",
      " ---\n"
     ]
    },
    {
     "name": "stderr",
     "output_type": "stream",
     "text": [
      "Score as black: -15:  57%|█████▋    | 57/100 [00:08<00:06,  6.77it/s]"
     ]
    },
    {
     "name": "stdout",
     "output_type": "stream",
     "text": [
      "PLAYER 1: \n",
      "PLAYER 2: \n",
      "PLAYER 1: \n",
      "PLAYER 2: \n",
      "PLAYER 1: \n",
      "PLAYER 2: \n",
      "PLAYER 1: \n",
      " ___\n",
      "|oox|\n",
      "| ox|\n",
      "| xx|\n",
      " ---\n"
     ]
    },
    {
     "name": "stderr",
     "output_type": "stream",
     "text": [
      "Score as black: -16:  58%|█████▊    | 58/100 [00:08<00:06,  6.83it/s]"
     ]
    },
    {
     "name": "stdout",
     "output_type": "stream",
     "text": [
      "PLAYER 1: \n",
      "PLAYER 2: \n",
      "PLAYER 1: \n",
      "PLAYER 2: \n",
      "PLAYER 1: \n",
      "PLAYER 2: \n",
      "PLAYER 1: \n",
      " ___\n",
      "|  x|\n",
      "|xox|\n",
      "|oox|\n",
      " ---\n"
     ]
    },
    {
     "name": "stderr",
     "output_type": "stream",
     "text": [
      "Score as black: -17:  59%|█████▉    | 59/100 [00:09<00:06,  6.81it/s]"
     ]
    },
    {
     "name": "stdout",
     "output_type": "stream",
     "text": [
      "PLAYER 1: \n",
      "PLAYER 2: \n",
      "PLAYER 1: \n",
      "PLAYER 2: \n",
      "PLAYER 1: \n",
      "PLAYER 2: \n",
      "PLAYER 1: \n",
      " ___\n",
      "|o x|\n",
      "|xxx|\n",
      "|oo |\n",
      " ---\n"
     ]
    },
    {
     "name": "stderr",
     "output_type": "stream",
     "text": [
      "Score as black: -18:  60%|██████    | 60/100 [00:09<00:05,  6.69it/s]"
     ]
    },
    {
     "name": "stdout",
     "output_type": "stream",
     "text": [
      "PLAYER 1: \n",
      "PLAYER 2: \n",
      "PLAYER 1: \n",
      "PLAYER 2: \n",
      "PLAYER 1: \n",
      "PLAYER 2: \n",
      "PLAYER 1: \n",
      " ___\n",
      "| xx|\n",
      "|oox|\n",
      "|o x|\n",
      " ---\n"
     ]
    },
    {
     "name": "stderr",
     "output_type": "stream",
     "text": [
      "Score as black: -19:  61%|██████    | 61/100 [00:09<00:05,  6.74it/s]"
     ]
    },
    {
     "name": "stdout",
     "output_type": "stream",
     "text": [
      "PLAYER 1: \n",
      "PLAYER 2: \n",
      "PLAYER 1: \n",
      "PLAYER 2: \n",
      "PLAYER 1: \n",
      "PLAYER 2: \n",
      "PLAYER 1: \n",
      " ___\n",
      "| ox|\n",
      "| xo|\n",
      "|xxo|\n",
      " ---\n"
     ]
    },
    {
     "name": "stderr",
     "output_type": "stream",
     "text": [
      "Score as black: -20:  62%|██████▏   | 62/100 [00:09<00:05,  6.64it/s]"
     ]
    },
    {
     "name": "stdout",
     "output_type": "stream",
     "text": [
      "PLAYER 1: \n",
      "PLAYER 2: \n",
      "PLAYER 1: \n",
      "PLAYER 2: \n",
      "PLAYER 1: \n",
      "PLAYER 2: \n",
      "PLAYER 1: \n",
      " ___\n",
      "|x  |\n",
      "|oxo|\n",
      "|xox|\n",
      " ---\n"
     ]
    },
    {
     "name": "stderr",
     "output_type": "stream",
     "text": [
      "Score as black: -21:  63%|██████▎   | 63/100 [00:09<00:05,  6.69it/s]"
     ]
    },
    {
     "name": "stdout",
     "output_type": "stream",
     "text": [
      "PLAYER 1: \n",
      "PLAYER 2: \n",
      "PLAYER 1: \n",
      "PLAYER 2: \n",
      "PLAYER 1: \n",
      "PLAYER 2: \n",
      "PLAYER 1: \n",
      "PLAYER 2: \n",
      "PLAYER 1: \n",
      " ___\n",
      "|xxx|\n",
      "|xoo|\n",
      "|oox|\n",
      " ---\n"
     ]
    },
    {
     "name": "stderr",
     "output_type": "stream",
     "text": [
      "Score as black: -22:  64%|██████▍   | 64/100 [00:09<00:05,  6.12it/s]"
     ]
    },
    {
     "name": "stdout",
     "output_type": "stream",
     "text": [
      "PLAYER 1: \n",
      "PLAYER 2: \n",
      "PLAYER 1: \n",
      "PLAYER 2: \n",
      "PLAYER 1: \n",
      " ___\n",
      "|xoo|\n",
      "| x |\n",
      "|  x|\n",
      " ---\n"
     ]
    },
    {
     "name": "stderr",
     "output_type": "stream",
     "text": [
      "Score as black: -23:  65%|██████▌   | 65/100 [00:10<00:05,  6.77it/s]"
     ]
    },
    {
     "name": "stdout",
     "output_type": "stream",
     "text": [
      "PLAYER 1: \n",
      "PLAYER 2: \n",
      "PLAYER 1: \n",
      "PLAYER 2: \n",
      "PLAYER 1: \n",
      "PLAYER 2: \n",
      "PLAYER 1: \n",
      " ___\n",
      "|oox|\n",
      "|ox |\n",
      "|x x|\n",
      " ---\n"
     ]
    },
    {
     "name": "stderr",
     "output_type": "stream",
     "text": [
      "Score as black: -24:  66%|██████▌   | 66/100 [00:10<00:05,  6.57it/s]"
     ]
    },
    {
     "name": "stdout",
     "output_type": "stream",
     "text": [
      "PLAYER 1: \n",
      "PLAYER 2: \n",
      "PLAYER 1: \n",
      "PLAYER 2: \n",
      "PLAYER 1: \n",
      "PLAYER 2: \n",
      "PLAYER 1: \n",
      "PLAYER 2: \n",
      "PLAYER 1: \n",
      " ___\n",
      "|xox|\n",
      "|xxo|\n",
      "|oxo|\n",
      " ---\n"
     ]
    },
    {
     "name": "stderr",
     "output_type": "stream",
     "text": [
      "Score as black: -24:  67%|██████▋   | 67/100 [00:10<00:05,  6.14it/s]"
     ]
    },
    {
     "name": "stdout",
     "output_type": "stream",
     "text": [
      "PLAYER 1: \n",
      "PLAYER 2: \n",
      "PLAYER 1: \n",
      "PLAYER 2: \n",
      "PLAYER 1: \n",
      " ___\n",
      "|xxx|\n",
      "| oo|\n",
      "|   |\n",
      " ---\n"
     ]
    },
    {
     "name": "stderr",
     "output_type": "stream",
     "text": [
      "Score as black: -25:  68%|██████▊   | 68/100 [00:10<00:04,  6.84it/s]"
     ]
    },
    {
     "name": "stdout",
     "output_type": "stream",
     "text": [
      "PLAYER 1: \n",
      "PLAYER 2: \n",
      "PLAYER 1: \n",
      "PLAYER 2: \n",
      "PLAYER 1: \n",
      "PLAYER 2: \n",
      "PLAYER 1: \n",
      "PLAYER 2: \n",
      "PLAYER 1: \n",
      " ___\n",
      "|xoo|\n",
      "|xxo|\n",
      "|oxx|\n",
      " ---\n"
     ]
    },
    {
     "name": "stderr",
     "output_type": "stream",
     "text": [
      "Score as black: -26:  69%|██████▉   | 69/100 [00:10<00:05,  6.12it/s]"
     ]
    },
    {
     "name": "stdout",
     "output_type": "stream",
     "text": [
      "PLAYER 1: \n",
      "PLAYER 2: \n",
      "PLAYER 1: \n",
      "PLAYER 2: \n",
      "PLAYER 1: \n",
      "PLAYER 2: \n",
      "PLAYER 1: \n",
      "PLAYER 2: \n",
      " ___\n",
      "|oxx|\n",
      "|ooo|\n",
      "|xx |\n",
      " ---\n"
     ]
    },
    {
     "name": "stderr",
     "output_type": "stream",
     "text": [
      "Score as black: -25:  70%|███████   | 70/100 [00:10<00:04,  6.23it/s]"
     ]
    },
    {
     "name": "stdout",
     "output_type": "stream",
     "text": [
      "PLAYER 1: \n",
      "PLAYER 2: \n",
      "PLAYER 1: \n",
      "PLAYER 2: \n",
      "PLAYER 1: \n",
      "PLAYER 2: \n",
      "PLAYER 1: \n",
      "PLAYER 2: \n",
      " ___\n",
      "|xo |\n",
      "|xox|\n",
      "|oox|\n",
      " ---\n"
     ]
    },
    {
     "name": "stderr",
     "output_type": "stream",
     "text": [
      "Score as black: -24:  71%|███████   | 71/100 [00:11<00:04,  6.11it/s]"
     ]
    },
    {
     "name": "stdout",
     "output_type": "stream",
     "text": [
      "PLAYER 1: \n",
      "PLAYER 2: \n",
      "PLAYER 1: \n",
      "PLAYER 2: \n",
      "PLAYER 1: \n",
      "PLAYER 2: \n",
      "PLAYER 1: \n",
      "PLAYER 2: \n",
      "PLAYER 1: \n",
      " ___\n",
      "|oxx|\n",
      "|oox|\n",
      "|xox|\n",
      " ---\n"
     ]
    },
    {
     "name": "stderr",
     "output_type": "stream",
     "text": [
      "Score as black: -25:  72%|███████▏  | 72/100 [00:11<00:04,  5.96it/s]"
     ]
    },
    {
     "name": "stdout",
     "output_type": "stream",
     "text": [
      "PLAYER 1: \n",
      "PLAYER 2: \n",
      "PLAYER 1: \n",
      "PLAYER 2: \n",
      "PLAYER 1: \n",
      "PLAYER 2: \n",
      "PLAYER 1: \n",
      "PLAYER 2: \n",
      "PLAYER 1: \n",
      " ___\n",
      "|oxo|\n",
      "|xxx|\n",
      "|oox|\n",
      " ---\n"
     ]
    },
    {
     "name": "stderr",
     "output_type": "stream",
     "text": [
      "Score as black: -26:  73%|███████▎  | 73/100 [00:11<00:04,  5.77it/s]"
     ]
    },
    {
     "name": "stdout",
     "output_type": "stream",
     "text": [
      "PLAYER 1: \n",
      "PLAYER 2: \n",
      "PLAYER 1: \n",
      "PLAYER 2: \n",
      "PLAYER 1: \n",
      "PLAYER 2: \n",
      "PLAYER 1: \n",
      "PLAYER 2: \n",
      "PLAYER 1: \n",
      " ___\n",
      "|oxx|\n",
      "|oox|\n",
      "|xox|\n",
      " ---\n"
     ]
    },
    {
     "name": "stderr",
     "output_type": "stream",
     "text": [
      "Score as black: -27:  74%|███████▍  | 74/100 [00:11<00:04,  5.46it/s]"
     ]
    },
    {
     "name": "stdout",
     "output_type": "stream",
     "text": [
      "PLAYER 1: \n",
      "PLAYER 2: \n",
      "PLAYER 1: \n",
      "PLAYER 2: \n",
      "PLAYER 1: \n",
      "PLAYER 2: \n",
      "PLAYER 1: \n",
      " ___\n",
      "|x x|\n",
      "|ox |\n",
      "|oox|\n",
      " ---\n"
     ]
    },
    {
     "name": "stderr",
     "output_type": "stream",
     "text": [
      "Score as black: -28:  75%|███████▌  | 75/100 [00:11<00:04,  5.71it/s]"
     ]
    },
    {
     "name": "stdout",
     "output_type": "stream",
     "text": [
      "PLAYER 1: \n",
      "PLAYER 2: \n",
      "PLAYER 1: \n",
      "PLAYER 2: \n",
      "PLAYER 1: \n",
      "PLAYER 2: \n",
      " ___\n",
      "| xo|\n",
      "| ox|\n",
      "|o x|\n",
      " ---\n"
     ]
    },
    {
     "name": "stderr",
     "output_type": "stream",
     "text": [
      "Score as black: -27:  76%|███████▌  | 76/100 [00:11<00:03,  6.36it/s]"
     ]
    },
    {
     "name": "stdout",
     "output_type": "stream",
     "text": [
      "PLAYER 1: \n",
      "PLAYER 2: \n",
      "PLAYER 1: \n",
      "PLAYER 2: \n",
      "PLAYER 1: \n",
      "PLAYER 2: \n",
      "PLAYER 1: \n",
      "PLAYER 2: \n",
      "PLAYER 1: \n",
      " ___\n",
      "|xox|\n",
      "|oxx|\n",
      "|xoo|\n",
      " ---\n"
     ]
    },
    {
     "name": "stderr",
     "output_type": "stream",
     "text": [
      "Score as black: -28:  77%|███████▋  | 77/100 [00:12<00:03,  6.15it/s]"
     ]
    },
    {
     "name": "stdout",
     "output_type": "stream",
     "text": [
      "PLAYER 1: \n",
      "PLAYER 2: \n",
      "PLAYER 1: \n",
      "PLAYER 2: \n",
      "PLAYER 1: \n",
      " ___\n",
      "|o x|\n",
      "| xo|\n",
      "|x  |\n",
      " ---\n"
     ]
    },
    {
     "name": "stderr",
     "output_type": "stream",
     "text": [
      "Score as black: -29:  78%|███████▊  | 78/100 [00:12<00:03,  6.89it/s]"
     ]
    },
    {
     "name": "stdout",
     "output_type": "stream",
     "text": [
      "PLAYER 1: \n",
      "PLAYER 2: \n",
      "PLAYER 1: \n",
      "PLAYER 2: \n",
      "PLAYER 1: \n",
      "PLAYER 2: \n",
      "PLAYER 1: \n",
      "PLAYER 2: \n",
      " ___\n",
      "| ox|\n",
      "|xox|\n",
      "|xoo|\n",
      " ---\n"
     ]
    },
    {
     "name": "stderr",
     "output_type": "stream",
     "text": [
      "Score as black: -28:  79%|███████▉  | 79/100 [00:12<00:03,  6.30it/s]"
     ]
    },
    {
     "name": "stdout",
     "output_type": "stream",
     "text": [
      "PLAYER 1: \n",
      "PLAYER 2: \n",
      "PLAYER 1: \n",
      "PLAYER 2: \n",
      "PLAYER 1: \n",
      "PLAYER 2: \n",
      "PLAYER 1: \n",
      "PLAYER 2: \n",
      "PLAYER 1: \n",
      " ___\n",
      "|xxx|\n",
      "|xoo|\n",
      "|oox|\n",
      " ---\n"
     ]
    },
    {
     "name": "stderr",
     "output_type": "stream",
     "text": [
      "Score as black: -29:  80%|████████  | 80/100 [00:12<00:03,  5.91it/s]"
     ]
    },
    {
     "name": "stdout",
     "output_type": "stream",
     "text": [
      "PLAYER 1: \n",
      "PLAYER 2: \n",
      "PLAYER 1: \n",
      "PLAYER 2: \n",
      "PLAYER 1: \n",
      "PLAYER 2: \n",
      "PLAYER 1: \n",
      "PLAYER 2: \n",
      "PLAYER 1: \n",
      " ___\n",
      "|oox|\n",
      "|oxx|\n",
      "|xxo|\n",
      " ---\n"
     ]
    },
    {
     "name": "stderr",
     "output_type": "stream",
     "text": [
      "Score as black: -30:  81%|████████  | 81/100 [00:12<00:03,  5.65it/s]"
     ]
    },
    {
     "name": "stdout",
     "output_type": "stream",
     "text": [
      "PLAYER 1: \n",
      "PLAYER 2: \n",
      "PLAYER 1: \n",
      "PLAYER 2: \n",
      "PLAYER 1: \n",
      "PLAYER 2: \n",
      "PLAYER 1: \n",
      " ___\n",
      "|xoo|\n",
      "|xo |\n",
      "|x x|\n",
      " ---\n"
     ]
    },
    {
     "name": "stderr",
     "output_type": "stream",
     "text": [
      "Score as black: -31:  82%|████████▏ | 82/100 [00:12<00:03,  5.91it/s]"
     ]
    },
    {
     "name": "stdout",
     "output_type": "stream",
     "text": [
      "PLAYER 1: \n",
      "PLAYER 2: \n",
      "PLAYER 1: \n",
      "PLAYER 2: \n",
      "PLAYER 1: \n",
      "PLAYER 2: \n",
      "PLAYER 1: \n",
      "PLAYER 2: \n",
      "PLAYER 1: \n",
      " ___\n",
      "|oxo|\n",
      "|oxx|\n",
      "|xox|\n",
      " ---\n"
     ]
    },
    {
     "name": "stderr",
     "output_type": "stream",
     "text": [
      "Score as black: -31:  83%|████████▎ | 83/100 [00:13<00:03,  5.39it/s]"
     ]
    },
    {
     "name": "stdout",
     "output_type": "stream",
     "text": [
      "PLAYER 1: \n",
      "PLAYER 2: \n",
      "PLAYER 1: \n",
      "PLAYER 2: \n",
      "PLAYER 1: \n",
      "PLAYER 2: \n",
      "PLAYER 1: \n",
      "PLAYER 2: \n",
      " ___\n",
      "|xoo|\n",
      "| ox|\n",
      "|oxx|\n",
      " ---\n"
     ]
    },
    {
     "name": "stderr",
     "output_type": "stream",
     "text": [
      "Score as black: -30:  84%|████████▍ | 84/100 [00:13<00:02,  5.55it/s]"
     ]
    },
    {
     "name": "stdout",
     "output_type": "stream",
     "text": [
      "PLAYER 1: \n",
      "PLAYER 2: \n",
      "PLAYER 1: \n",
      "PLAYER 2: \n",
      "PLAYER 1: \n",
      "PLAYER 2: \n",
      "PLAYER 1: \n",
      " ___\n",
      "|xxx|\n",
      "| xo|\n",
      "|o o|\n",
      " ---\n"
     ]
    },
    {
     "name": "stderr",
     "output_type": "stream",
     "text": [
      "Score as black: -31:  85%|████████▌ | 85/100 [00:13<00:02,  5.71it/s]"
     ]
    },
    {
     "name": "stdout",
     "output_type": "stream",
     "text": [
      "PLAYER 1: \n",
      "PLAYER 2: \n",
      "PLAYER 1: \n",
      "PLAYER 2: \n",
      "PLAYER 1: \n",
      "PLAYER 2: \n",
      "PLAYER 1: \n",
      "PLAYER 2: \n",
      " ___\n",
      "|xxo|\n",
      "|xo |\n",
      "|oxo|\n",
      " ---\n"
     ]
    },
    {
     "name": "stderr",
     "output_type": "stream",
     "text": [
      "Score as black: -30:  86%|████████▌ | 86/100 [00:13<00:02,  5.65it/s]"
     ]
    },
    {
     "name": "stdout",
     "output_type": "stream",
     "text": [
      "PLAYER 1: \n",
      "PLAYER 2: \n",
      "PLAYER 1: \n",
      "PLAYER 2: \n",
      "PLAYER 1: \n",
      "PLAYER 2: \n",
      "PLAYER 1: \n",
      "PLAYER 2: \n",
      "PLAYER 1: \n",
      " ___\n",
      "|xxo|\n",
      "|oxo|\n",
      "|xox|\n",
      " ---\n"
     ]
    },
    {
     "name": "stderr",
     "output_type": "stream",
     "text": [
      "Score as black: -31:  87%|████████▋ | 87/100 [00:13<00:02,  5.54it/s]"
     ]
    },
    {
     "name": "stdout",
     "output_type": "stream",
     "text": [
      "PLAYER 1: \n",
      "PLAYER 2: \n",
      "PLAYER 1: \n",
      "PLAYER 2: \n",
      "PLAYER 1: \n",
      "PLAYER 2: \n",
      "PLAYER 1: \n",
      "PLAYER 2: \n",
      " ___\n",
      "|oxo|\n",
      "|xox|\n",
      "|o x|\n",
      " ---\n"
     ]
    },
    {
     "name": "stderr",
     "output_type": "stream",
     "text": [
      "Score as black: -30:  88%|████████▊ | 88/100 [00:13<00:02,  5.53it/s]"
     ]
    },
    {
     "name": "stdout",
     "output_type": "stream",
     "text": [
      "PLAYER 1: \n",
      "PLAYER 2: \n",
      "PLAYER 1: \n",
      "PLAYER 2: \n",
      "PLAYER 1: \n",
      "PLAYER 2: \n",
      "PLAYER 1: \n",
      "PLAYER 2: \n",
      "PLAYER 1: \n",
      " ___\n",
      "|xox|\n",
      "|oox|\n",
      "|xxo|\n",
      " ---\n"
     ]
    },
    {
     "name": "stderr",
     "output_type": "stream",
     "text": [
      "Score as black: -30:  89%|████████▉ | 89/100 [00:14<00:02,  5.43it/s]"
     ]
    },
    {
     "name": "stdout",
     "output_type": "stream",
     "text": [
      "PLAYER 1: \n",
      "PLAYER 2: \n",
      "PLAYER 1: \n",
      "PLAYER 2: \n",
      "PLAYER 1: \n",
      "PLAYER 2: \n",
      "PLAYER 1: \n",
      "PLAYER 2: \n",
      "PLAYER 1: \n",
      " ___\n",
      "|oxx|\n",
      "|xxo|\n",
      "|xoo|\n",
      " ---\n"
     ]
    },
    {
     "name": "stderr",
     "output_type": "stream",
     "text": [
      "Score as black: -31:  90%|█████████ | 90/100 [00:14<00:01,  5.52it/s]"
     ]
    },
    {
     "name": "stdout",
     "output_type": "stream",
     "text": [
      "PLAYER 1: \n",
      "PLAYER 2: \n",
      "PLAYER 1: \n",
      "PLAYER 2: \n",
      "PLAYER 1: \n",
      "PLAYER 2: \n",
      "PLAYER 1: \n",
      " ___\n",
      "|xxx|\n",
      "|o  |\n",
      "|oox|\n",
      " ---\n"
     ]
    },
    {
     "name": "stderr",
     "output_type": "stream",
     "text": [
      "Score as black: -32:  91%|█████████ | 91/100 [00:14<00:01,  5.72it/s]"
     ]
    },
    {
     "name": "stdout",
     "output_type": "stream",
     "text": [
      "PLAYER 1: \n",
      "PLAYER 2: \n",
      "PLAYER 1: \n",
      "PLAYER 2: \n",
      "PLAYER 1: \n",
      "PLAYER 2: \n",
      "PLAYER 1: \n",
      "PLAYER 2: \n",
      "PLAYER 1: \n",
      " ___\n",
      "|oxx|\n",
      "|oxo|\n",
      "|xox|\n",
      " ---\n"
     ]
    },
    {
     "name": "stderr",
     "output_type": "stream",
     "text": [
      "Score as black: -33:  92%|█████████▏| 92/100 [00:14<00:01,  5.65it/s]"
     ]
    },
    {
     "name": "stdout",
     "output_type": "stream",
     "text": [
      "PLAYER 1: \n",
      "PLAYER 2: \n",
      "PLAYER 1: \n",
      "PLAYER 2: \n",
      "PLAYER 1: \n",
      " ___\n",
      "|xoo|\n",
      "|x  |\n",
      "|x  |\n",
      " ---\n"
     ]
    },
    {
     "name": "stderr",
     "output_type": "stream",
     "text": [
      "Score as black: -34:  93%|█████████▎| 93/100 [00:14<00:01,  6.27it/s]"
     ]
    },
    {
     "name": "stdout",
     "output_type": "stream",
     "text": [
      "PLAYER 1: \n",
      "PLAYER 2: \n",
      "PLAYER 1: \n",
      "PLAYER 2: \n",
      "PLAYER 1: \n",
      "PLAYER 2: \n",
      "PLAYER 1: \n",
      " ___\n",
      "|xoo|\n",
      "|xx |\n",
      "|xo |\n",
      " ---\n"
     ]
    },
    {
     "name": "stderr",
     "output_type": "stream",
     "text": [
      "Score as black: -35:  94%|█████████▍| 94/100 [00:14<00:00,  6.24it/s]"
     ]
    },
    {
     "name": "stdout",
     "output_type": "stream",
     "text": [
      "PLAYER 1: \n",
      "PLAYER 2: \n",
      "PLAYER 1: \n",
      "PLAYER 2: \n",
      "PLAYER 1: \n",
      "PLAYER 2: \n",
      "PLAYER 1: \n",
      "PLAYER 2: \n",
      "PLAYER 1: \n",
      " ___\n",
      "|xxx|\n",
      "|oox|\n",
      "|oox|\n",
      " ---\n"
     ]
    },
    {
     "name": "stderr",
     "output_type": "stream",
     "text": [
      "Score as black: -36:  95%|█████████▌| 95/100 [00:15<00:00,  5.85it/s]"
     ]
    },
    {
     "name": "stdout",
     "output_type": "stream",
     "text": [
      "PLAYER 1: \n",
      "PLAYER 2: \n",
      "PLAYER 1: \n",
      "PLAYER 2: \n",
      "PLAYER 1: \n",
      "PLAYER 2: \n",
      "PLAYER 1: \n",
      "PLAYER 2: \n",
      "PLAYER 1: \n",
      " ___\n",
      "|xox|\n",
      "|oxx|\n",
      "|oxo|\n",
      " ---\n"
     ]
    },
    {
     "name": "stderr",
     "output_type": "stream",
     "text": [
      "Score as black: -36:  96%|█████████▌| 96/100 [00:15<00:00,  5.49it/s]"
     ]
    },
    {
     "name": "stdout",
     "output_type": "stream",
     "text": [
      "PLAYER 1: \n",
      "PLAYER 2: \n",
      "PLAYER 1: \n",
      "PLAYER 2: \n",
      "PLAYER 1: \n",
      "PLAYER 2: \n",
      "PLAYER 1: \n",
      " ___\n",
      "| ox|\n",
      "|o x|\n",
      "|xox|\n",
      " ---\n"
     ]
    },
    {
     "name": "stderr",
     "output_type": "stream",
     "text": [
      "Score as black: -37:  97%|█████████▋| 97/100 [00:15<00:00,  5.74it/s]"
     ]
    },
    {
     "name": "stdout",
     "output_type": "stream",
     "text": [
      "PLAYER 1: \n",
      "PLAYER 2: \n",
      "PLAYER 1: \n",
      "PLAYER 2: \n",
      "PLAYER 1: \n",
      "PLAYER 2: \n",
      "PLAYER 1: \n",
      "PLAYER 2: \n",
      "PLAYER 1: \n",
      " ___\n",
      "|oxo|\n",
      "|oox|\n",
      "|xxx|\n",
      " ---\n"
     ]
    },
    {
     "name": "stderr",
     "output_type": "stream",
     "text": [
      "Score as black: -38:  98%|█████████▊| 98/100 [00:15<00:00,  5.39it/s]"
     ]
    },
    {
     "name": "stdout",
     "output_type": "stream",
     "text": [
      "PLAYER 1: \n",
      "PLAYER 2: \n",
      "PLAYER 1: \n",
      "PLAYER 2: \n",
      "PLAYER 1: \n",
      "PLAYER 2: \n",
      "PLAYER 1: \n",
      " ___\n",
      "|ox |\n",
      "|ox |\n",
      "|xxo|\n",
      " ---\n"
     ]
    },
    {
     "name": "stderr",
     "output_type": "stream",
     "text": [
      "Score as black: -39:  99%|█████████▉| 99/100 [00:15<00:00,  5.24it/s]"
     ]
    },
    {
     "name": "stdout",
     "output_type": "stream",
     "text": [
      "PLAYER 1: \n",
      "PLAYER 2: \n",
      "PLAYER 1: \n",
      "PLAYER 2: \n",
      "PLAYER 1: \n",
      "PLAYER 2: \n",
      "PLAYER 1: \n",
      "PLAYER 2: \n",
      "PLAYER 1: \n",
      " ___\n",
      "|xoo|\n",
      "|xox|\n",
      "|xxo|\n",
      " ---\n"
     ]
    },
    {
     "name": "stderr",
     "output_type": "stream",
     "text": [
      "Score as black: -40: 100%|██████████| 100/100 [00:16<00:00,  6.17it/s]"
     ]
    },
    {
     "name": "stdout",
     "output_type": "stream",
     "text": [
      "Final Scores = W: 49 / B: -40 over 100 games\n"
     ]
    },
    {
     "name": "stderr",
     "output_type": "stream",
     "text": [
      "\n"
     ]
    }
   ],
   "source": [
    "#random agent vs random\n",
    "np.random.seed(my_seed)\n",
    "\n",
    "net1 = Network(TicTacToe.num_observations)\n",
    "net1.load('models/random.ptc')\n",
    "\n",
    "net2 = Network(TicTacToe.num_observations)\n",
    "net2.load('models/random.ptc')\n",
    "\n",
    "\n",
    "with torch.no_grad():\n",
    "    player = Tree(net1, game)\n",
    "    random = Tree(net2, game)\n",
    "\n",
    "with torch.no_grad():\n",
    "    score_white_b = 0\n",
    "    for g in (t:=trange(nb_games)):\n",
    "        score_white_b += play_a_game(player, random)\n",
    "        t.set_description(f\"Score as white: {score_white_b}\")\n",
    "\n",
    "with torch.no_grad():\n",
    "    score_black_b = 0\n",
    "    for g in (t:=trange(nb_games)):\n",
    "        score_black_b -= play_a_game(random, player)\n",
    "        t.set_description(f\"Score as black: {score_black_b}\")\n",
    "\n",
    "print(f'Final Scores = W: {score_white_b} / B: {score_black_b} over {nb_games} games')"
   ]
  },
  {
   "cell_type": "code",
   "execution_count": 9,
   "metadata": {},
   "outputs": [
    {
     "name": "stderr",
     "output_type": "stream",
     "text": [
      "\r",
      "  0%|          | 0/100 [00:00<?, ?it/s]"
     ]
    },
    {
     "name": "stdout",
     "output_type": "stream",
     "text": [
      "PLAYER 1: \n",
      "PLAYER 2: \n",
      "PLAYER 1: \n",
      "PLAYER 2: \n",
      "PLAYER 1: \n",
      "PLAYER 2: \n",
      "PLAYER 1: \n",
      "PLAYER 2: \n",
      " ___\n",
      "| xo|\n",
      "|xox|\n",
      "|oxo|\n",
      " ---\n"
     ]
    },
    {
     "name": "stderr",
     "output_type": "stream",
     "text": [
      "Score as white: -1:   1%|          | 1/100 [00:00<00:19,  5.10it/s]"
     ]
    },
    {
     "name": "stdout",
     "output_type": "stream",
     "text": [
      "PLAYER 1: \n",
      "PLAYER 2: \n",
      "PLAYER 1: \n",
      "PLAYER 2: \n",
      "PLAYER 1: \n",
      "PLAYER 2: \n",
      "PLAYER 1: \n",
      "PLAYER 2: \n",
      "PLAYER 1: \n",
      " ___\n",
      "|oox|\n",
      "|oxx|\n",
      "|xxo|\n",
      " ---\n"
     ]
    },
    {
     "name": "stderr",
     "output_type": "stream",
     "text": [
      "Score as white: 0:   2%|▏         | 2/100 [00:00<00:19,  5.04it/s] "
     ]
    },
    {
     "name": "stdout",
     "output_type": "stream",
     "text": [
      "PLAYER 1: \n",
      "PLAYER 2: \n",
      "PLAYER 1: \n",
      "PLAYER 2: \n",
      "PLAYER 1: \n",
      "PLAYER 2: \n",
      "PLAYER 1: \n",
      "PLAYER 2: \n",
      " ___\n",
      "|ox |\n",
      "|oox|\n",
      "|xxo|\n",
      " ---\n"
     ]
    },
    {
     "name": "stderr",
     "output_type": "stream",
     "text": [
      "Score as white: -1:   3%|▎         | 3/100 [00:00<00:19,  5.10it/s]"
     ]
    },
    {
     "name": "stdout",
     "output_type": "stream",
     "text": [
      "PLAYER 1: \n",
      "PLAYER 2: \n",
      "PLAYER 1: \n",
      "PLAYER 2: \n",
      "PLAYER 1: \n",
      "PLAYER 2: \n",
      "PLAYER 1: \n",
      " ___\n",
      "|  o|\n",
      "|xxx|\n",
      "|oxo|\n",
      " ---\n"
     ]
    },
    {
     "name": "stderr",
     "output_type": "stream",
     "text": [
      "Score as white: 0:   4%|▍         | 4/100 [00:00<00:17,  5.46it/s] "
     ]
    },
    {
     "name": "stdout",
     "output_type": "stream",
     "text": [
      "PLAYER 1: \n",
      "PLAYER 2: \n",
      "PLAYER 1: \n",
      "PLAYER 2: \n",
      "PLAYER 1: \n",
      "PLAYER 2: \n",
      "PLAYER 1: \n",
      "PLAYER 2: \n",
      " ___\n",
      "|ooo|\n",
      "|oxx|\n",
      "| xx|\n",
      " ---\n"
     ]
    },
    {
     "name": "stderr",
     "output_type": "stream",
     "text": [
      "Score as white: -1:   5%|▌         | 5/100 [00:00<00:17,  5.49it/s]"
     ]
    },
    {
     "name": "stdout",
     "output_type": "stream",
     "text": [
      "PLAYER 1: \n",
      "PLAYER 2: \n",
      "PLAYER 1: \n",
      "PLAYER 2: \n",
      "PLAYER 1: \n",
      "PLAYER 2: \n",
      "PLAYER 1: \n",
      "PLAYER 2: \n",
      "PLAYER 1: \n",
      " ___\n",
      "|xox|\n",
      "|oox|\n",
      "|oxx|\n",
      " ---\n"
     ]
    },
    {
     "name": "stderr",
     "output_type": "stream",
     "text": [
      "Score as white: 0:   6%|▌         | 6/100 [00:01<00:17,  5.26it/s] "
     ]
    },
    {
     "name": "stdout",
     "output_type": "stream",
     "text": [
      "PLAYER 1: \n",
      "PLAYER 2: \n",
      "PLAYER 1: \n",
      "PLAYER 2: \n",
      "PLAYER 1: \n",
      "PLAYER 2: \n",
      "PLAYER 1: \n",
      "PLAYER 2: \n",
      "PLAYER 1: \n",
      " ___\n",
      "|oox|\n",
      "|oxx|\n",
      "|xox|\n",
      " ---\n"
     ]
    },
    {
     "name": "stderr",
     "output_type": "stream",
     "text": [
      "Score as white: 1:   7%|▋         | 7/100 [00:01<00:17,  5.21it/s]"
     ]
    },
    {
     "name": "stdout",
     "output_type": "stream",
     "text": [
      "PLAYER 1: \n",
      "PLAYER 2: \n",
      "PLAYER 1: \n",
      "PLAYER 2: \n",
      "PLAYER 1: \n",
      "PLAYER 2: \n",
      "PLAYER 1: \n",
      " ___\n",
      "|xxo|\n",
      "| xo|\n",
      "|o x|\n",
      " ---\n"
     ]
    },
    {
     "name": "stderr",
     "output_type": "stream",
     "text": [
      "Score as white: 2:   8%|▊         | 8/100 [00:01<00:16,  5.51it/s]"
     ]
    },
    {
     "name": "stdout",
     "output_type": "stream",
     "text": [
      "PLAYER 1: \n",
      "PLAYER 2: \n",
      "PLAYER 1: \n",
      "PLAYER 2: \n",
      "PLAYER 1: \n",
      "PLAYER 2: \n",
      "PLAYER 1: \n",
      " ___\n",
      "|oxx|\n",
      "|  x|\n",
      "|oox|\n",
      " ---\n"
     ]
    },
    {
     "name": "stderr",
     "output_type": "stream",
     "text": [
      "Score as white: 3:   9%|▉         | 9/100 [00:01<00:15,  5.83it/s]"
     ]
    },
    {
     "name": "stdout",
     "output_type": "stream",
     "text": [
      "PLAYER 1: \n",
      "PLAYER 2: \n",
      "PLAYER 1: \n",
      "PLAYER 2: \n",
      "PLAYER 1: \n",
      "PLAYER 2: \n",
      "PLAYER 1: \n",
      "PLAYER 2: \n",
      "PLAYER 1: \n",
      " ___\n",
      "|xxo|\n",
      "|oxx|\n",
      "|xoo|\n",
      " ---\n"
     ]
    },
    {
     "name": "stderr",
     "output_type": "stream",
     "text": [
      "Score as white: 3:  10%|█         | 10/100 [00:01<00:16,  5.48it/s]"
     ]
    },
    {
     "name": "stdout",
     "output_type": "stream",
     "text": [
      "PLAYER 1: \n",
      "PLAYER 2: \n",
      "PLAYER 1: \n",
      "PLAYER 2: \n",
      "PLAYER 1: \n",
      "PLAYER 2: \n",
      " ___\n",
      "|o  |\n",
      "|oxx|\n",
      "|ox |\n",
      " ---\n"
     ]
    },
    {
     "name": "stderr",
     "output_type": "stream",
     "text": [
      "Score as white: 2:  11%|█         | 11/100 [00:01<00:15,  5.76it/s]"
     ]
    },
    {
     "name": "stdout",
     "output_type": "stream",
     "text": [
      "PLAYER 1: \n",
      "PLAYER 2: \n",
      "PLAYER 1: \n",
      "PLAYER 2: \n",
      "PLAYER 1: \n",
      "PLAYER 2: \n",
      "PLAYER 1: \n",
      " ___\n",
      "|oxo|\n",
      "|xxx|\n",
      "| o |\n",
      " ---\n"
     ]
    },
    {
     "name": "stderr",
     "output_type": "stream",
     "text": [
      "Score as white: 3:  12%|█▏        | 12/100 [00:02<00:15,  5.75it/s]"
     ]
    },
    {
     "name": "stdout",
     "output_type": "stream",
     "text": [
      "PLAYER 1: \n",
      "PLAYER 2: \n",
      "PLAYER 1: \n",
      "PLAYER 2: \n",
      "PLAYER 1: \n",
      "PLAYER 2: \n",
      "PLAYER 1: \n",
      "PLAYER 2: \n",
      "PLAYER 1: \n",
      " ___\n",
      "|xxo|\n",
      "|oox|\n",
      "|xox|\n",
      " ---\n"
     ]
    },
    {
     "name": "stderr",
     "output_type": "stream",
     "text": [
      "Score as white: 3:  13%|█▎        | 13/100 [00:02<00:15,  5.52it/s]"
     ]
    },
    {
     "name": "stdout",
     "output_type": "stream",
     "text": [
      "PLAYER 1: \n",
      "PLAYER 2: \n",
      "PLAYER 1: \n",
      "PLAYER 2: \n",
      "PLAYER 1: \n",
      "PLAYER 2: \n",
      "PLAYER 1: \n",
      "PLAYER 2: \n",
      " ___\n",
      "|xx |\n",
      "|ooo|\n",
      "|xxo|\n",
      " ---\n"
     ]
    },
    {
     "name": "stderr",
     "output_type": "stream",
     "text": [
      "Score as white: 2:  14%|█▍        | 14/100 [00:02<00:15,  5.46it/s]"
     ]
    },
    {
     "name": "stdout",
     "output_type": "stream",
     "text": [
      "PLAYER 1: \n",
      "PLAYER 2: \n",
      "PLAYER 1: \n",
      "PLAYER 2: \n",
      "PLAYER 1: \n",
      "PLAYER 2: \n",
      "PLAYER 1: \n",
      "PLAYER 2: \n",
      "PLAYER 1: \n",
      " ___\n",
      "|oox|\n",
      "|xxo|\n",
      "|oxx|\n",
      " ---\n"
     ]
    },
    {
     "name": "stderr",
     "output_type": "stream",
     "text": [
      "Score as white: 2:  15%|█▌        | 15/100 [00:02<00:16,  5.28it/s]"
     ]
    },
    {
     "name": "stdout",
     "output_type": "stream",
     "text": [
      "PLAYER 1: \n",
      "PLAYER 2: \n",
      "PLAYER 1: \n",
      "PLAYER 2: \n",
      "PLAYER 1: \n",
      "PLAYER 2: \n",
      "PLAYER 1: \n",
      "PLAYER 2: \n",
      " ___\n",
      "|xxo|\n",
      "|xox|\n",
      "|oo |\n",
      " ---\n"
     ]
    },
    {
     "name": "stderr",
     "output_type": "stream",
     "text": [
      "Score as white: 1:  16%|█▌        | 16/100 [00:02<00:15,  5.41it/s]"
     ]
    },
    {
     "name": "stdout",
     "output_type": "stream",
     "text": [
      "PLAYER 1: \n",
      "PLAYER 2: \n",
      "PLAYER 1: \n",
      "PLAYER 2: \n",
      "PLAYER 1: \n",
      "PLAYER 2: \n",
      "PLAYER 1: \n",
      "PLAYER 2: \n",
      " ___\n",
      "|oxx|\n",
      "| xx|\n",
      "|ooo|\n",
      " ---\n"
     ]
    },
    {
     "name": "stderr",
     "output_type": "stream",
     "text": [
      "Score as white: 0:  17%|█▋        | 17/100 [00:03<00:15,  5.38it/s]"
     ]
    },
    {
     "name": "stdout",
     "output_type": "stream",
     "text": [
      "PLAYER 1: \n",
      "PLAYER 2: \n",
      "PLAYER 1: \n",
      "PLAYER 2: \n",
      "PLAYER 1: \n",
      "PLAYER 2: \n",
      " ___\n",
      "| ox|\n",
      "|xox|\n",
      "| o |\n",
      " ---\n"
     ]
    },
    {
     "name": "stderr",
     "output_type": "stream",
     "text": [
      "Score as white: -1:  18%|█▊        | 18/100 [00:03<00:13,  5.96it/s]"
     ]
    },
    {
     "name": "stdout",
     "output_type": "stream",
     "text": [
      "PLAYER 1: \n",
      "PLAYER 2: \n",
      "PLAYER 1: \n",
      "PLAYER 2: \n",
      "PLAYER 1: \n",
      "PLAYER 2: \n",
      "PLAYER 1: \n",
      "PLAYER 2: \n",
      "PLAYER 1: \n",
      " ___\n",
      "|xoo|\n",
      "|xoo|\n",
      "|xxx|\n",
      " ---\n"
     ]
    },
    {
     "name": "stderr",
     "output_type": "stream",
     "text": [
      "Score as white: 0:  19%|█▉        | 19/100 [00:03<00:14,  5.56it/s] "
     ]
    },
    {
     "name": "stdout",
     "output_type": "stream",
     "text": [
      "PLAYER 1: \n",
      "PLAYER 2: \n",
      "PLAYER 1: \n",
      "PLAYER 2: \n",
      "PLAYER 1: \n",
      "PLAYER 2: \n",
      "PLAYER 1: \n",
      " ___\n",
      "| oo|\n",
      "| xo|\n",
      "|xxx|\n",
      " ---\n"
     ]
    },
    {
     "name": "stderr",
     "output_type": "stream",
     "text": [
      "Score as white: 1:  20%|██        | 20/100 [00:03<00:13,  5.87it/s]"
     ]
    },
    {
     "name": "stdout",
     "output_type": "stream",
     "text": [
      "PLAYER 1: \n",
      "PLAYER 2: \n",
      "PLAYER 1: \n",
      "PLAYER 2: \n",
      "PLAYER 1: \n",
      "PLAYER 2: \n",
      "PLAYER 1: \n",
      " ___\n",
      "|ox |\n",
      "|oxx|\n",
      "| xo|\n",
      " ---\n"
     ]
    },
    {
     "name": "stderr",
     "output_type": "stream",
     "text": [
      "Score as white: 2:  21%|██        | 21/100 [00:03<00:13,  5.68it/s]"
     ]
    },
    {
     "name": "stdout",
     "output_type": "stream",
     "text": [
      "PLAYER 1: \n",
      "PLAYER 2: \n",
      "PLAYER 1: \n",
      "PLAYER 2: \n",
      "PLAYER 1: \n",
      "PLAYER 2: \n",
      "PLAYER 1: \n",
      "PLAYER 2: \n",
      " ___\n",
      "|ox |\n",
      "|xox|\n",
      "|xoo|\n",
      " ---\n"
     ]
    },
    {
     "name": "stderr",
     "output_type": "stream",
     "text": [
      "Score as white: 1:  22%|██▏       | 22/100 [00:03<00:14,  5.40it/s]"
     ]
    },
    {
     "name": "stdout",
     "output_type": "stream",
     "text": [
      "PLAYER 1: \n",
      "PLAYER 2: \n",
      "PLAYER 1: \n",
      "PLAYER 2: \n",
      "PLAYER 1: \n",
      "PLAYER 2: \n",
      " ___\n",
      "|ox |\n",
      "|o x|\n",
      "|ox |\n",
      " ---\n"
     ]
    },
    {
     "name": "stderr",
     "output_type": "stream",
     "text": [
      "Score as white: 0:  23%|██▎       | 23/100 [00:04<00:13,  5.74it/s]"
     ]
    },
    {
     "name": "stdout",
     "output_type": "stream",
     "text": [
      "PLAYER 1: \n",
      "PLAYER 2: \n",
      "PLAYER 1: \n",
      "PLAYER 2: \n",
      "PLAYER 1: \n",
      "PLAYER 2: \n",
      "PLAYER 1: \n",
      "PLAYER 2: \n",
      " ___\n",
      "|o x|\n",
      "|xox|\n",
      "|oxo|\n",
      " ---\n"
     ]
    },
    {
     "name": "stderr",
     "output_type": "stream",
     "text": [
      "Score as white: -1:  24%|██▍       | 24/100 [00:04<00:13,  5.51it/s]"
     ]
    },
    {
     "name": "stdout",
     "output_type": "stream",
     "text": [
      "PLAYER 1: \n",
      "PLAYER 2: \n",
      "PLAYER 1: \n",
      "PLAYER 2: \n",
      "PLAYER 1: \n",
      "PLAYER 2: \n",
      "PLAYER 1: \n",
      "PLAYER 2: \n",
      "PLAYER 1: \n",
      " ___\n",
      "|xxx|\n",
      "|oxo|\n",
      "|oxo|\n",
      " ---\n"
     ]
    },
    {
     "name": "stderr",
     "output_type": "stream",
     "text": [
      "Score as white: 0:  25%|██▌       | 25/100 [00:04<00:14,  5.20it/s] "
     ]
    },
    {
     "name": "stdout",
     "output_type": "stream",
     "text": [
      "PLAYER 1: \n",
      "PLAYER 2: \n",
      "PLAYER 1: \n",
      "PLAYER 2: \n",
      "PLAYER 1: \n",
      "PLAYER 2: \n",
      "PLAYER 1: \n",
      "PLAYER 2: \n",
      "PLAYER 1: \n",
      " ___\n",
      "|oxo|\n",
      "|xxx|\n",
      "|xoo|\n",
      " ---\n"
     ]
    },
    {
     "name": "stderr",
     "output_type": "stream",
     "text": [
      "Score as white: 1:  26%|██▌       | 26/100 [00:04<00:14,  5.02it/s]"
     ]
    },
    {
     "name": "stdout",
     "output_type": "stream",
     "text": [
      "PLAYER 1: \n",
      "PLAYER 2: \n",
      "PLAYER 1: \n",
      "PLAYER 2: \n",
      "PLAYER 1: \n",
      "PLAYER 2: \n",
      "PLAYER 1: \n",
      "PLAYER 2: \n",
      " ___\n",
      "|o o|\n",
      "|xox|\n",
      "|oxx|\n",
      " ---\n"
     ]
    },
    {
     "name": "stderr",
     "output_type": "stream",
     "text": [
      "Score as white: 0:  27%|██▋       | 27/100 [00:04<00:14,  5.08it/s]"
     ]
    },
    {
     "name": "stdout",
     "output_type": "stream",
     "text": [
      "PLAYER 1: \n",
      "PLAYER 2: \n",
      "PLAYER 1: \n",
      "PLAYER 2: \n",
      "PLAYER 1: \n",
      "PLAYER 2: \n",
      "PLAYER 1: \n",
      "PLAYER 2: \n",
      " ___\n",
      "|oxx|\n",
      "| ox|\n",
      "|oxo|\n",
      " ---\n"
     ]
    },
    {
     "name": "stderr",
     "output_type": "stream",
     "text": [
      "Score as white: -1:  28%|██▊       | 28/100 [00:05<00:14,  4.97it/s]"
     ]
    },
    {
     "name": "stdout",
     "output_type": "stream",
     "text": [
      "PLAYER 1: \n",
      "PLAYER 2: \n",
      "PLAYER 1: \n",
      "PLAYER 2: \n",
      "PLAYER 1: \n",
      "PLAYER 2: \n",
      "PLAYER 1: \n",
      "PLAYER 2: \n",
      " ___\n",
      "|oxx|\n",
      "|o o|\n",
      "|oxx|\n",
      " ---\n"
     ]
    },
    {
     "name": "stderr",
     "output_type": "stream",
     "text": [
      "Score as white: -2:  29%|██▉       | 29/100 [00:05<00:14,  4.90it/s]"
     ]
    },
    {
     "name": "stdout",
     "output_type": "stream",
     "text": [
      "PLAYER 1: \n",
      "PLAYER 2: \n",
      "PLAYER 1: \n",
      "PLAYER 2: \n",
      "PLAYER 1: \n",
      "PLAYER 2: \n",
      "PLAYER 1: \n",
      "PLAYER 2: \n",
      " ___\n",
      "|oxx|\n",
      "| xx|\n",
      "|ooo|\n",
      " ---\n"
     ]
    },
    {
     "name": "stderr",
     "output_type": "stream",
     "text": [
      "Score as white: -3:  30%|███       | 30/100 [00:05<00:14,  4.97it/s]"
     ]
    },
    {
     "name": "stdout",
     "output_type": "stream",
     "text": [
      "PLAYER 1: \n",
      "PLAYER 2: \n",
      "PLAYER 1: \n",
      "PLAYER 2: \n",
      "PLAYER 1: \n",
      " ___\n",
      "|   |\n",
      "|o o|\n",
      "|xxx|\n",
      " ---\n"
     ]
    },
    {
     "name": "stderr",
     "output_type": "stream",
     "text": [
      "Score as white: -2:  31%|███       | 31/100 [00:05<00:12,  5.54it/s]"
     ]
    },
    {
     "name": "stdout",
     "output_type": "stream",
     "text": [
      "PLAYER 1: \n",
      "PLAYER 2: \n",
      "PLAYER 1: \n",
      "PLAYER 2: \n",
      "PLAYER 1: \n",
      "PLAYER 2: \n",
      "PLAYER 1: \n",
      " ___\n",
      "|x o|\n",
      "|xox|\n",
      "|x o|\n",
      " ---\n"
     ]
    },
    {
     "name": "stderr",
     "output_type": "stream",
     "text": [
      "Score as white: -1:  32%|███▏      | 32/100 [00:05<00:12,  5.47it/s]"
     ]
    },
    {
     "name": "stdout",
     "output_type": "stream",
     "text": [
      "PLAYER 1: \n",
      "PLAYER 2: \n",
      "PLAYER 1: \n",
      "PLAYER 2: \n",
      "PLAYER 1: \n",
      "PLAYER 2: \n",
      "PLAYER 1: \n",
      " ___\n",
      "|oox|\n",
      "|xxx|\n",
      "|o  |\n",
      " ---\n"
     ]
    },
    {
     "name": "stderr",
     "output_type": "stream",
     "text": [
      "Score as white: 0:  33%|███▎      | 33/100 [00:06<00:12,  5.44it/s] "
     ]
    },
    {
     "name": "stdout",
     "output_type": "stream",
     "text": [
      "PLAYER 1: \n",
      "PLAYER 2: \n",
      "PLAYER 1: \n",
      "PLAYER 2: \n",
      "PLAYER 1: \n",
      "PLAYER 2: \n",
      "PLAYER 1: \n",
      "PLAYER 2: \n",
      " ___\n",
      "|oxo|\n",
      "|xox|\n",
      "|x o|\n",
      " ---\n"
     ]
    },
    {
     "name": "stderr",
     "output_type": "stream",
     "text": [
      "Score as white: -1:  34%|███▍      | 34/100 [00:06<00:12,  5.18it/s]"
     ]
    },
    {
     "name": "stdout",
     "output_type": "stream",
     "text": [
      "PLAYER 1: \n",
      "PLAYER 2: \n",
      "PLAYER 1: \n",
      "PLAYER 2: \n",
      "PLAYER 1: \n",
      "PLAYER 2: \n",
      "PLAYER 1: \n",
      "PLAYER 2: \n",
      " ___\n",
      "|o o|\n",
      "|xox|\n",
      "|xxo|\n",
      " ---\n"
     ]
    },
    {
     "name": "stderr",
     "output_type": "stream",
     "text": [
      "Score as white: -2:  35%|███▌      | 35/100 [00:06<00:13,  4.99it/s]"
     ]
    },
    {
     "name": "stdout",
     "output_type": "stream",
     "text": [
      "PLAYER 1: \n",
      "PLAYER 2: \n",
      "PLAYER 1: \n",
      "PLAYER 2: \n",
      "PLAYER 1: \n",
      "PLAYER 2: \n",
      "PLAYER 1: \n",
      "PLAYER 2: \n",
      "PLAYER 1: \n",
      " ___\n",
      "|oxo|\n",
      "|xxo|\n",
      "|xox|\n",
      " ---\n"
     ]
    },
    {
     "name": "stderr",
     "output_type": "stream",
     "text": [
      "Score as white: -2:  36%|███▌      | 36/100 [00:06<00:13,  4.76it/s]"
     ]
    },
    {
     "name": "stdout",
     "output_type": "stream",
     "text": [
      "PLAYER 1: \n",
      "PLAYER 2: \n",
      "PLAYER 1: \n",
      "PLAYER 2: \n",
      "PLAYER 1: \n",
      "PLAYER 2: \n",
      "PLAYER 1: \n",
      " ___\n",
      "|o x|\n",
      "| xo|\n",
      "|xxo|\n",
      " ---\n"
     ]
    },
    {
     "name": "stderr",
     "output_type": "stream",
     "text": [
      "Score as white: -1:  37%|███▋      | 37/100 [00:06<00:12,  5.18it/s]"
     ]
    },
    {
     "name": "stdout",
     "output_type": "stream",
     "text": [
      "PLAYER 1: \n",
      "PLAYER 2: \n",
      "PLAYER 1: \n",
      "PLAYER 2: \n",
      "PLAYER 1: \n",
      " ___\n",
      "|o x|\n",
      "| xo|\n",
      "|x  |\n",
      " ---\n"
     ]
    },
    {
     "name": "stderr",
     "output_type": "stream",
     "text": [
      "Score as white: 0:  38%|███▊      | 38/100 [00:07<00:10,  5.81it/s] "
     ]
    },
    {
     "name": "stdout",
     "output_type": "stream",
     "text": [
      "PLAYER 1: \n",
      "PLAYER 2: \n",
      "PLAYER 1: \n",
      "PLAYER 2: \n",
      "PLAYER 1: \n",
      "PLAYER 2: \n",
      "PLAYER 1: \n",
      "PLAYER 2: \n",
      " ___\n",
      "|xxo|\n",
      "|xoo|\n",
      "| xo|\n",
      " ---\n"
     ]
    },
    {
     "name": "stderr",
     "output_type": "stream",
     "text": [
      "Score as white: -1:  39%|███▉      | 39/100 [00:07<00:11,  5.52it/s]"
     ]
    },
    {
     "name": "stdout",
     "output_type": "stream",
     "text": [
      "PLAYER 1: \n",
      "PLAYER 2: \n",
      "PLAYER 1: \n",
      "PLAYER 2: \n",
      "PLAYER 1: \n",
      "PLAYER 2: \n",
      "PLAYER 1: \n",
      " ___\n",
      "| o |\n",
      "|xoo|\n",
      "|xxx|\n",
      " ---\n"
     ]
    },
    {
     "name": "stderr",
     "output_type": "stream",
     "text": [
      "Score as white: 0:  40%|████      | 40/100 [00:07<00:10,  5.71it/s] "
     ]
    },
    {
     "name": "stdout",
     "output_type": "stream",
     "text": [
      "PLAYER 1: \n",
      "PLAYER 2: \n",
      "PLAYER 1: \n",
      "PLAYER 2: \n",
      "PLAYER 1: \n",
      "PLAYER 2: \n",
      "PLAYER 1: \n",
      "PLAYER 2: \n",
      "PLAYER 1: \n",
      " ___\n",
      "|oxo|\n",
      "|oxx|\n",
      "|xxo|\n",
      " ---\n"
     ]
    },
    {
     "name": "stderr",
     "output_type": "stream",
     "text": [
      "Score as white: 1:  41%|████      | 41/100 [00:07<00:11,  5.04it/s]"
     ]
    },
    {
     "name": "stdout",
     "output_type": "stream",
     "text": [
      "PLAYER 1: \n",
      "PLAYER 2: \n",
      "PLAYER 1: \n",
      "PLAYER 2: \n",
      "PLAYER 1: \n",
      "PLAYER 2: \n",
      "PLAYER 1: \n",
      "PLAYER 2: \n",
      "PLAYER 1: \n",
      " ___\n",
      "|oox|\n",
      "|xxo|\n",
      "|oxx|\n",
      " ---\n"
     ]
    },
    {
     "name": "stderr",
     "output_type": "stream",
     "text": [
      "Score as white: 1:  42%|████▏     | 42/100 [00:07<00:12,  4.68it/s]"
     ]
    },
    {
     "name": "stdout",
     "output_type": "stream",
     "text": [
      "PLAYER 1: \n",
      "PLAYER 2: \n",
      "PLAYER 1: \n",
      "PLAYER 2: \n",
      "PLAYER 1: \n",
      "PLAYER 2: \n",
      "PLAYER 1: \n",
      " ___\n",
      "|xoo|\n",
      "|x o|\n",
      "|xx |\n",
      " ---\n"
     ]
    },
    {
     "name": "stderr",
     "output_type": "stream",
     "text": [
      "Score as white: 2:  43%|████▎     | 43/100 [00:08<00:11,  4.91it/s]"
     ]
    },
    {
     "name": "stdout",
     "output_type": "stream",
     "text": [
      "PLAYER 1: \n",
      "PLAYER 2: \n",
      "PLAYER 1: \n",
      "PLAYER 2: \n",
      "PLAYER 1: \n",
      "PLAYER 2: \n",
      "PLAYER 1: \n",
      "PLAYER 2: \n",
      "PLAYER 1: \n",
      " ___\n",
      "|xoo|\n",
      "|xxx|\n",
      "|oxo|\n",
      " ---\n"
     ]
    },
    {
     "name": "stderr",
     "output_type": "stream",
     "text": [
      "Score as white: 3:  44%|████▍     | 44/100 [00:08<00:12,  4.65it/s]"
     ]
    },
    {
     "name": "stdout",
     "output_type": "stream",
     "text": [
      "PLAYER 1: \n",
      "PLAYER 2: \n",
      "PLAYER 1: \n",
      "PLAYER 2: \n",
      "PLAYER 1: \n",
      "PLAYER 2: \n",
      " ___\n",
      "|xo |\n",
      "| ox|\n",
      "| ox|\n",
      " ---\n"
     ]
    },
    {
     "name": "stderr",
     "output_type": "stream",
     "text": [
      "Score as white: 2:  45%|████▌     | 45/100 [00:08<00:10,  5.04it/s]"
     ]
    },
    {
     "name": "stdout",
     "output_type": "stream",
     "text": [
      "PLAYER 1: \n",
      "PLAYER 2: \n",
      "PLAYER 1: \n",
      "PLAYER 2: \n",
      "PLAYER 1: \n",
      "PLAYER 2: \n",
      "PLAYER 1: \n",
      " ___\n",
      "| xx|\n",
      "| ox|\n",
      "|oox|\n",
      " ---\n"
     ]
    },
    {
     "name": "stderr",
     "output_type": "stream",
     "text": [
      "Score as white: 3:  46%|████▌     | 46/100 [00:08<00:10,  5.19it/s]"
     ]
    },
    {
     "name": "stdout",
     "output_type": "stream",
     "text": [
      "PLAYER 1: \n",
      "PLAYER 2: \n",
      "PLAYER 1: \n",
      "PLAYER 2: \n",
      "PLAYER 1: \n",
      "PLAYER 2: \n",
      "PLAYER 1: \n",
      "PLAYER 2: \n",
      "PLAYER 1: \n",
      " ___\n",
      "|xoo|\n",
      "|xox|\n",
      "|xxo|\n",
      " ---\n"
     ]
    },
    {
     "name": "stderr",
     "output_type": "stream",
     "text": [
      "Score as white: 4:  47%|████▋     | 47/100 [00:08<00:11,  4.81it/s]"
     ]
    },
    {
     "name": "stdout",
     "output_type": "stream",
     "text": [
      "PLAYER 1: \n",
      "PLAYER 2: \n",
      "PLAYER 1: \n",
      "PLAYER 2: \n",
      "PLAYER 1: \n",
      "PLAYER 2: \n",
      "PLAYER 1: \n",
      "PLAYER 2: \n",
      " ___\n",
      "|xxo|\n",
      "|xxo|\n",
      "| oo|\n",
      " ---\n"
     ]
    },
    {
     "name": "stderr",
     "output_type": "stream",
     "text": [
      "Score as white: 3:  48%|████▊     | 48/100 [00:09<00:10,  4.82it/s]"
     ]
    },
    {
     "name": "stdout",
     "output_type": "stream",
     "text": [
      "PLAYER 1: \n",
      "PLAYER 2: \n",
      "PLAYER 1: \n",
      "PLAYER 2: \n",
      "PLAYER 1: \n",
      "PLAYER 2: \n",
      "PLAYER 1: \n",
      "PLAYER 2: \n",
      "PLAYER 1: \n",
      " ___\n",
      "|oxx|\n",
      "|xxo|\n",
      "|oox|\n",
      " ---\n"
     ]
    },
    {
     "name": "stderr",
     "output_type": "stream",
     "text": [
      "Score as white: 3:  49%|████▉     | 49/100 [00:09<00:11,  4.48it/s]"
     ]
    },
    {
     "name": "stdout",
     "output_type": "stream",
     "text": [
      "PLAYER 1: \n",
      "PLAYER 2: \n",
      "PLAYER 1: \n",
      "PLAYER 2: \n",
      "PLAYER 1: \n",
      "PLAYER 2: \n",
      "PLAYER 1: \n",
      "PLAYER 2: \n",
      " ___\n",
      "|ox |\n",
      "|oxx|\n",
      "|oox|\n",
      " ---\n"
     ]
    },
    {
     "name": "stderr",
     "output_type": "stream",
     "text": [
      "Score as white: 2:  50%|█████     | 50/100 [00:09<00:10,  4.62it/s]"
     ]
    },
    {
     "name": "stdout",
     "output_type": "stream",
     "text": [
      "PLAYER 1: \n",
      "PLAYER 2: \n",
      "PLAYER 1: \n",
      "PLAYER 2: \n",
      "PLAYER 1: \n",
      "PLAYER 2: \n",
      "PLAYER 1: \n",
      "PLAYER 2: \n",
      "PLAYER 1: \n",
      " ___\n",
      "|oox|\n",
      "|oox|\n",
      "|xxx|\n",
      " ---\n"
     ]
    },
    {
     "name": "stderr",
     "output_type": "stream",
     "text": [
      "Score as white: 3:  51%|█████     | 51/100 [00:09<00:10,  4.51it/s]"
     ]
    },
    {
     "name": "stdout",
     "output_type": "stream",
     "text": [
      "PLAYER 1: \n",
      "PLAYER 2: \n",
      "PLAYER 1: \n",
      "PLAYER 2: \n",
      "PLAYER 1: \n",
      " ___\n",
      "|  x|\n",
      "|oxo|\n",
      "|x  |\n",
      " ---\n"
     ]
    },
    {
     "name": "stderr",
     "output_type": "stream",
     "text": [
      "Score as white: 4:  52%|█████▏    | 52/100 [00:09<00:09,  5.13it/s]"
     ]
    },
    {
     "name": "stdout",
     "output_type": "stream",
     "text": [
      "PLAYER 1: \n",
      "PLAYER 2: \n",
      "PLAYER 1: \n",
      "PLAYER 2: \n",
      "PLAYER 1: \n",
      "PLAYER 2: \n",
      "PLAYER 1: \n",
      " ___\n",
      "| ox|\n",
      "|x x|\n",
      "|oox|\n",
      " ---\n"
     ]
    },
    {
     "name": "stderr",
     "output_type": "stream",
     "text": [
      "Score as white: 5:  53%|█████▎    | 53/100 [00:10<00:08,  5.35it/s]"
     ]
    },
    {
     "name": "stdout",
     "output_type": "stream",
     "text": [
      "PLAYER 1: \n",
      "PLAYER 2: \n",
      "PLAYER 1: \n",
      "PLAYER 2: \n",
      "PLAYER 1: \n",
      "PLAYER 2: \n",
      " ___\n",
      "|o  |\n",
      "|xox|\n",
      "| xo|\n",
      " ---\n"
     ]
    },
    {
     "name": "stderr",
     "output_type": "stream",
     "text": [
      "Score as white: 4:  54%|█████▍    | 54/100 [00:10<00:08,  5.63it/s]"
     ]
    },
    {
     "name": "stdout",
     "output_type": "stream",
     "text": [
      "PLAYER 1: \n",
      "PLAYER 2: \n",
      "PLAYER 1: \n",
      "PLAYER 2: \n",
      "PLAYER 1: \n",
      "PLAYER 2: \n",
      "PLAYER 1: \n",
      "PLAYER 2: \n",
      "PLAYER 1: \n",
      " ___\n",
      "|xxo|\n",
      "|oxo|\n",
      "|xox|\n",
      " ---\n"
     ]
    },
    {
     "name": "stderr",
     "output_type": "stream",
     "text": [
      "Score as white: 5:  55%|█████▌    | 55/100 [00:10<00:08,  5.21it/s]"
     ]
    },
    {
     "name": "stdout",
     "output_type": "stream",
     "text": [
      "PLAYER 1: \n",
      "PLAYER 2: \n",
      "PLAYER 1: \n",
      "PLAYER 2: \n",
      "PLAYER 1: \n",
      "PLAYER 2: \n",
      "PLAYER 1: \n",
      " ___\n",
      "|oox|\n",
      "|oxx|\n",
      "|x  |\n",
      " ---\n"
     ]
    },
    {
     "name": "stderr",
     "output_type": "stream",
     "text": [
      "Score as white: 6:  56%|█████▌    | 56/100 [00:10<00:08,  5.34it/s]"
     ]
    },
    {
     "name": "stdout",
     "output_type": "stream",
     "text": [
      "PLAYER 1: \n",
      "PLAYER 2: \n",
      "PLAYER 1: \n",
      "PLAYER 2: \n",
      "PLAYER 1: \n",
      "PLAYER 2: \n",
      "PLAYER 1: \n",
      "PLAYER 2: \n",
      " ___\n",
      "|xxo|\n",
      "|ooo|\n",
      "|xx |\n",
      " ---\n"
     ]
    },
    {
     "name": "stderr",
     "output_type": "stream",
     "text": [
      "Score as white: 5:  57%|█████▋    | 57/100 [00:10<00:08,  5.22it/s]"
     ]
    },
    {
     "name": "stdout",
     "output_type": "stream",
     "text": [
      "PLAYER 1: \n",
      "PLAYER 2: \n",
      "PLAYER 1: \n",
      "PLAYER 2: \n",
      "PLAYER 1: \n",
      "PLAYER 2: \n",
      "PLAYER 1: \n",
      " ___\n",
      "| o |\n",
      "|oox|\n",
      "|xxx|\n",
      " ---\n"
     ]
    },
    {
     "name": "stderr",
     "output_type": "stream",
     "text": [
      "Score as white: 6:  58%|█████▊    | 58/100 [00:11<00:07,  5.32it/s]"
     ]
    },
    {
     "name": "stdout",
     "output_type": "stream",
     "text": [
      "PLAYER 1: \n",
      "PLAYER 2: \n",
      "PLAYER 1: \n",
      "PLAYER 2: \n",
      "PLAYER 1: \n",
      "PLAYER 2: \n",
      "PLAYER 1: \n",
      "PLAYER 2: \n",
      "PLAYER 1: \n",
      " ___\n",
      "|xxo|\n",
      "|oxx|\n",
      "|xoo|\n",
      " ---\n"
     ]
    },
    {
     "name": "stderr",
     "output_type": "stream",
     "text": [
      "Score as white: 6:  59%|█████▉    | 59/100 [00:11<00:08,  4.90it/s]"
     ]
    },
    {
     "name": "stdout",
     "output_type": "stream",
     "text": [
      "PLAYER 1: \n",
      "PLAYER 2: \n",
      "PLAYER 1: \n",
      "PLAYER 2: \n",
      "PLAYER 1: \n",
      "PLAYER 2: \n",
      "PLAYER 1: \n",
      "PLAYER 2: \n",
      " ___\n",
      "|xxo|\n",
      "|oox|\n",
      "|o x|\n",
      " ---\n"
     ]
    },
    {
     "name": "stderr",
     "output_type": "stream",
     "text": [
      "Score as white: 5:  60%|██████    | 60/100 [00:11<00:08,  4.97it/s]"
     ]
    },
    {
     "name": "stdout",
     "output_type": "stream",
     "text": [
      "PLAYER 1: \n",
      "PLAYER 2: \n",
      "PLAYER 1: \n",
      "PLAYER 2: \n",
      "PLAYER 1: \n",
      "PLAYER 2: \n",
      "PLAYER 1: \n",
      " ___\n",
      "|x o|\n",
      "|oxx|\n",
      "| ox|\n",
      " ---\n"
     ]
    },
    {
     "name": "stderr",
     "output_type": "stream",
     "text": [
      "Score as white: 6:  61%|██████    | 61/100 [00:11<00:07,  5.15it/s]"
     ]
    },
    {
     "name": "stdout",
     "output_type": "stream",
     "text": [
      "PLAYER 1: \n",
      "PLAYER 2: \n",
      "PLAYER 1: \n",
      "PLAYER 2: \n",
      "PLAYER 1: \n",
      "PLAYER 2: \n",
      "PLAYER 1: \n",
      "PLAYER 2: \n",
      " ___\n",
      "|x o|\n",
      "|oox|\n",
      "|oxx|\n",
      " ---\n"
     ]
    },
    {
     "name": "stderr",
     "output_type": "stream",
     "text": [
      "Score as white: 5:  62%|██████▏   | 62/100 [00:11<00:07,  5.07it/s]"
     ]
    },
    {
     "name": "stdout",
     "output_type": "stream",
     "text": [
      "PLAYER 1: \n",
      "PLAYER 2: \n",
      "PLAYER 1: \n",
      "PLAYER 2: \n",
      "PLAYER 1: \n",
      "PLAYER 2: \n",
      "PLAYER 1: \n",
      " ___\n",
      "|ox |\n",
      "|oxo|\n",
      "| xx|\n",
      " ---\n"
     ]
    },
    {
     "name": "stderr",
     "output_type": "stream",
     "text": [
      "Score as white: 6:  63%|██████▎   | 63/100 [00:12<00:06,  5.30it/s]"
     ]
    },
    {
     "name": "stdout",
     "output_type": "stream",
     "text": [
      "PLAYER 1: \n",
      "PLAYER 2: \n",
      "PLAYER 1: \n",
      "PLAYER 2: \n",
      "PLAYER 1: \n",
      "PLAYER 2: \n",
      "PLAYER 1: \n",
      "PLAYER 2: \n",
      "PLAYER 1: \n",
      " ___\n",
      "|xxo|\n",
      "|xox|\n",
      "|xoo|\n",
      " ---\n"
     ]
    },
    {
     "name": "stderr",
     "output_type": "stream",
     "text": [
      "Score as white: 7:  64%|██████▍   | 64/100 [00:12<00:07,  4.97it/s]"
     ]
    },
    {
     "name": "stdout",
     "output_type": "stream",
     "text": [
      "PLAYER 1: \n",
      "PLAYER 2: \n",
      "PLAYER 1: \n",
      "PLAYER 2: \n",
      "PLAYER 1: \n",
      "PLAYER 2: \n",
      "PLAYER 1: \n",
      " ___\n",
      "|x x|\n",
      "|xoo|\n",
      "|xo |\n",
      " ---\n"
     ]
    },
    {
     "name": "stderr",
     "output_type": "stream",
     "text": [
      "Score as white: 8:  65%|██████▌   | 65/100 [00:12<00:06,  5.29it/s]"
     ]
    },
    {
     "name": "stdout",
     "output_type": "stream",
     "text": [
      "PLAYER 1: \n",
      "PLAYER 2: \n",
      "PLAYER 1: \n",
      "PLAYER 2: \n",
      "PLAYER 1: \n",
      "PLAYER 2: \n",
      "PLAYER 1: \n",
      "PLAYER 2: \n",
      "PLAYER 1: \n",
      " ___\n",
      "|xxo|\n",
      "|oox|\n",
      "|xxo|\n",
      " ---\n"
     ]
    },
    {
     "name": "stderr",
     "output_type": "stream",
     "text": [
      "Score as white: 8:  66%|██████▌   | 66/100 [00:12<00:06,  5.08it/s]"
     ]
    },
    {
     "name": "stdout",
     "output_type": "stream",
     "text": [
      "PLAYER 1: \n",
      "PLAYER 2: \n",
      "PLAYER 1: \n",
      "PLAYER 2: \n",
      "PLAYER 1: \n",
      "PLAYER 2: \n",
      "PLAYER 1: \n",
      "PLAYER 2: \n",
      "PLAYER 1: \n",
      " ___\n",
      "|xxo|\n",
      "|oox|\n",
      "|xxo|\n",
      " ---\n"
     ]
    },
    {
     "name": "stderr",
     "output_type": "stream",
     "text": [
      "Score as white: 8:  67%|██████▋   | 67/100 [00:12<00:07,  4.66it/s]"
     ]
    },
    {
     "name": "stdout",
     "output_type": "stream",
     "text": [
      "PLAYER 1: \n",
      "PLAYER 2: \n",
      "PLAYER 1: \n",
      "PLAYER 2: \n",
      "PLAYER 1: \n",
      "PLAYER 2: \n",
      " ___\n",
      "|ooo|\n",
      "|  x|\n",
      "|x x|\n",
      " ---\n"
     ]
    },
    {
     "name": "stderr",
     "output_type": "stream",
     "text": [
      "Score as white: 7:  68%|██████▊   | 68/100 [00:13<00:06,  4.97it/s]"
     ]
    },
    {
     "name": "stdout",
     "output_type": "stream",
     "text": [
      "PLAYER 1: \n",
      "PLAYER 2: \n",
      "PLAYER 1: \n",
      "PLAYER 2: \n",
      "PLAYER 1: \n",
      "PLAYER 2: \n",
      "PLAYER 1: \n",
      " ___\n",
      "|oox|\n",
      "|oxx|\n",
      "|  x|\n",
      " ---\n"
     ]
    },
    {
     "name": "stderr",
     "output_type": "stream",
     "text": [
      "Score as white: 8:  69%|██████▉   | 69/100 [00:13<00:06,  5.15it/s]"
     ]
    },
    {
     "name": "stdout",
     "output_type": "stream",
     "text": [
      "PLAYER 1: \n",
      "PLAYER 2: \n",
      "PLAYER 1: \n",
      "PLAYER 2: \n",
      "PLAYER 1: \n",
      "PLAYER 2: \n",
      "PLAYER 1: \n",
      "PLAYER 2: \n",
      " ___\n",
      "|ooo|\n",
      "|xox|\n",
      "| xx|\n",
      " ---\n"
     ]
    },
    {
     "name": "stderr",
     "output_type": "stream",
     "text": [
      "Score as white: 7:  70%|███████   | 70/100 [00:13<00:05,  5.13it/s]"
     ]
    },
    {
     "name": "stdout",
     "output_type": "stream",
     "text": [
      "PLAYER 1: \n",
      "PLAYER 2: \n",
      "PLAYER 1: \n",
      "PLAYER 2: \n",
      "PLAYER 1: \n",
      "PLAYER 2: \n",
      " ___\n",
      "|oxx|\n",
      "|o x|\n",
      "|o  |\n",
      " ---\n"
     ]
    },
    {
     "name": "stderr",
     "output_type": "stream",
     "text": [
      "Score as white: 6:  71%|███████   | 71/100 [00:13<00:05,  5.46it/s]"
     ]
    },
    {
     "name": "stdout",
     "output_type": "stream",
     "text": [
      "PLAYER 1: \n",
      "PLAYER 2: \n",
      "PLAYER 1: \n",
      "PLAYER 2: \n",
      "PLAYER 1: \n",
      "PLAYER 2: \n",
      "PLAYER 1: \n",
      "PLAYER 2: \n",
      "PLAYER 1: \n",
      " ___\n",
      "|oxo|\n",
      "|xox|\n",
      "|xox|\n",
      " ---\n"
     ]
    },
    {
     "name": "stderr",
     "output_type": "stream",
     "text": [
      "Score as white: 6:  72%|███████▏  | 72/100 [00:13<00:05,  5.03it/s]"
     ]
    },
    {
     "name": "stdout",
     "output_type": "stream",
     "text": [
      "PLAYER 1: \n",
      "PLAYER 2: \n",
      "PLAYER 1: \n",
      "PLAYER 2: \n",
      "PLAYER 1: \n",
      "PLAYER 2: \n",
      "PLAYER 1: \n",
      "PLAYER 2: \n",
      "PLAYER 1: \n",
      " ___\n",
      "|xoo|\n",
      "|xox|\n",
      "|xxo|\n",
      " ---\n"
     ]
    },
    {
     "name": "stderr",
     "output_type": "stream",
     "text": [
      "Score as white: 7:  73%|███████▎  | 73/100 [00:14<00:05,  4.75it/s]"
     ]
    },
    {
     "name": "stdout",
     "output_type": "stream",
     "text": [
      "PLAYER 1: \n",
      "PLAYER 2: \n",
      "PLAYER 1: \n",
      "PLAYER 2: \n",
      "PLAYER 1: \n",
      "PLAYER 2: \n",
      "PLAYER 1: \n",
      "PLAYER 2: \n",
      "PLAYER 1: \n",
      " ___\n",
      "|xox|\n",
      "|xxo|\n",
      "|oox|\n",
      " ---\n"
     ]
    },
    {
     "name": "stderr",
     "output_type": "stream",
     "text": [
      "Score as white: 8:  74%|███████▍  | 74/100 [00:14<00:05,  4.70it/s]"
     ]
    },
    {
     "name": "stdout",
     "output_type": "stream",
     "text": [
      "PLAYER 1: \n",
      "PLAYER 2: \n",
      "PLAYER 1: \n",
      "PLAYER 2: \n",
      "PLAYER 1: \n",
      "PLAYER 2: \n",
      "PLAYER 1: \n",
      "PLAYER 2: \n",
      "PLAYER 1: \n",
      " ___\n",
      "|oxx|\n",
      "|oox|\n",
      "|xox|\n",
      " ---\n"
     ]
    },
    {
     "name": "stderr",
     "output_type": "stream",
     "text": [
      "Score as white: 9:  75%|███████▌  | 75/100 [00:14<00:05,  4.61it/s]"
     ]
    },
    {
     "name": "stdout",
     "output_type": "stream",
     "text": [
      "PLAYER 1: \n",
      "PLAYER 2: \n",
      "PLAYER 1: \n",
      "PLAYER 2: \n",
      "PLAYER 1: \n",
      "PLAYER 2: \n",
      "PLAYER 1: \n",
      "PLAYER 2: \n",
      " ___\n",
      "|xox|\n",
      "|ooo|\n",
      "|x x|\n",
      " ---\n"
     ]
    },
    {
     "name": "stderr",
     "output_type": "stream",
     "text": [
      "Score as white: 8:  76%|███████▌  | 76/100 [00:14<00:05,  4.67it/s]"
     ]
    },
    {
     "name": "stdout",
     "output_type": "stream",
     "text": [
      "PLAYER 1: \n",
      "PLAYER 2: \n",
      "PLAYER 1: \n",
      "PLAYER 2: \n",
      "PLAYER 1: \n",
      "PLAYER 2: \n",
      "PLAYER 1: \n",
      "PLAYER 2: \n",
      "PLAYER 1: \n",
      " ___\n",
      "|oxo|\n",
      "|oox|\n",
      "|xxx|\n",
      " ---\n"
     ]
    },
    {
     "name": "stderr",
     "output_type": "stream",
     "text": [
      "Score as white: 9:  77%|███████▋  | 77/100 [00:14<00:05,  4.55it/s]"
     ]
    },
    {
     "name": "stdout",
     "output_type": "stream",
     "text": [
      "PLAYER 1: \n",
      "PLAYER 2: \n",
      "PLAYER 1: \n",
      "PLAYER 2: \n",
      "PLAYER 1: \n",
      "PLAYER 2: \n",
      "PLAYER 1: \n",
      "PLAYER 2: \n",
      "PLAYER 1: \n",
      " ___\n",
      "|xox|\n",
      "|oox|\n",
      "|xxo|\n",
      " ---\n"
     ]
    },
    {
     "name": "stderr",
     "output_type": "stream",
     "text": [
      "Score as white: 9:  78%|███████▊  | 78/100 [00:15<00:04,  4.50it/s]"
     ]
    },
    {
     "name": "stdout",
     "output_type": "stream",
     "text": [
      "PLAYER 1: \n",
      "PLAYER 2: \n",
      "PLAYER 1: \n",
      "PLAYER 2: \n",
      "PLAYER 1: \n",
      "PLAYER 2: \n",
      "PLAYER 1: \n",
      "PLAYER 2: \n",
      "PLAYER 1: \n",
      " ___\n",
      "|oxo|\n",
      "|xxx|\n",
      "|oxo|\n",
      " ---\n"
     ]
    },
    {
     "name": "stderr",
     "output_type": "stream",
     "text": [
      "Score as white: 10:  79%|███████▉  | 79/100 [00:15<00:04,  4.44it/s]"
     ]
    },
    {
     "name": "stdout",
     "output_type": "stream",
     "text": [
      "PLAYER 1: \n",
      "PLAYER 2: \n",
      "PLAYER 1: \n",
      "PLAYER 2: \n",
      "PLAYER 1: \n",
      "PLAYER 2: \n",
      "PLAYER 1: \n",
      "PLAYER 2: \n",
      " ___\n",
      "|o o|\n",
      "|oxx|\n",
      "|oxx|\n",
      " ---\n"
     ]
    },
    {
     "name": "stderr",
     "output_type": "stream",
     "text": [
      "Score as white: 9:  80%|████████  | 80/100 [00:15<00:04,  4.62it/s] "
     ]
    },
    {
     "name": "stdout",
     "output_type": "stream",
     "text": [
      "PLAYER 1: \n",
      "PLAYER 2: \n",
      "PLAYER 1: \n",
      "PLAYER 2: \n",
      "PLAYER 1: \n",
      "PLAYER 2: \n",
      "PLAYER 1: \n",
      " ___\n",
      "|xoo|\n",
      "|x x|\n",
      "|xo |\n",
      " ---\n"
     ]
    },
    {
     "name": "stderr",
     "output_type": "stream",
     "text": [
      "Score as white: 10:  81%|████████  | 81/100 [00:15<00:03,  4.78it/s]"
     ]
    },
    {
     "name": "stdout",
     "output_type": "stream",
     "text": [
      "PLAYER 1: \n",
      "PLAYER 2: \n",
      "PLAYER 1: \n",
      "PLAYER 2: \n",
      "PLAYER 1: \n",
      "PLAYER 2: \n",
      "PLAYER 1: \n",
      "PLAYER 2: \n",
      "PLAYER 1: \n",
      " ___\n",
      "|xox|\n",
      "|oxo|\n",
      "|xxo|\n",
      " ---\n"
     ]
    },
    {
     "name": "stderr",
     "output_type": "stream",
     "text": [
      "Score as white: 11:  82%|████████▏ | 82/100 [00:16<00:03,  4.65it/s]"
     ]
    },
    {
     "name": "stdout",
     "output_type": "stream",
     "text": [
      "PLAYER 1: \n",
      "PLAYER 2: \n",
      "PLAYER 1: \n",
      "PLAYER 2: \n",
      "PLAYER 1: \n",
      "PLAYER 2: \n",
      "PLAYER 1: \n",
      " ___\n",
      "|o x|\n",
      "|xxx|\n",
      "| oo|\n",
      " ---\n"
     ]
    },
    {
     "name": "stderr",
     "output_type": "stream",
     "text": [
      "Score as white: 12:  83%|████████▎ | 83/100 [00:16<00:03,  4.80it/s]"
     ]
    },
    {
     "name": "stdout",
     "output_type": "stream",
     "text": [
      "PLAYER 1: \n",
      "PLAYER 2: \n",
      "PLAYER 1: \n",
      "PLAYER 2: \n",
      "PLAYER 1: \n",
      "PLAYER 2: \n",
      "PLAYER 1: \n",
      "PLAYER 2: \n",
      " ___\n",
      "| xo|\n",
      "|xoo|\n",
      "|xxo|\n",
      " ---\n"
     ]
    },
    {
     "name": "stderr",
     "output_type": "stream",
     "text": [
      "Score as white: 11:  84%|████████▍ | 84/100 [00:16<00:03,  4.75it/s]"
     ]
    },
    {
     "name": "stdout",
     "output_type": "stream",
     "text": [
      "PLAYER 1: \n",
      "PLAYER 2: \n",
      "PLAYER 1: \n",
      "PLAYER 2: \n",
      "PLAYER 1: \n",
      "PLAYER 2: \n",
      "PLAYER 1: \n",
      "PLAYER 2: \n",
      " ___\n",
      "|ooo|\n",
      "|oxx|\n",
      "|x x|\n",
      " ---\n"
     ]
    },
    {
     "name": "stderr",
     "output_type": "stream",
     "text": [
      "Score as white: 10:  85%|████████▌ | 85/100 [00:16<00:03,  4.74it/s]"
     ]
    },
    {
     "name": "stdout",
     "output_type": "stream",
     "text": [
      "PLAYER 1: \n",
      "PLAYER 2: \n",
      "PLAYER 1: \n",
      "PLAYER 2: \n",
      "PLAYER 1: \n",
      "PLAYER 2: \n",
      "PLAYER 1: \n",
      "PLAYER 2: \n",
      "PLAYER 1: \n",
      " ___\n",
      "|oox|\n",
      "|oox|\n",
      "|xxx|\n",
      " ---\n"
     ]
    },
    {
     "name": "stderr",
     "output_type": "stream",
     "text": [
      "Score as white: 11:  86%|████████▌ | 86/100 [00:16<00:03,  4.62it/s]"
     ]
    },
    {
     "name": "stdout",
     "output_type": "stream",
     "text": [
      "PLAYER 1: \n",
      "PLAYER 2: \n",
      "PLAYER 1: \n",
      "PLAYER 2: \n",
      "PLAYER 1: \n",
      "PLAYER 2: \n",
      "PLAYER 1: \n",
      " ___\n",
      "|xo |\n",
      "|x o|\n",
      "|xox|\n",
      " ---\n"
     ]
    },
    {
     "name": "stderr",
     "output_type": "stream",
     "text": [
      "Score as white: 12:  87%|████████▋ | 87/100 [00:17<00:02,  4.72it/s]"
     ]
    },
    {
     "name": "stdout",
     "output_type": "stream",
     "text": [
      "PLAYER 1: \n",
      "PLAYER 2: \n",
      "PLAYER 1: \n",
      "PLAYER 2: \n",
      "PLAYER 1: \n",
      " ___\n",
      "|  x|\n",
      "| xo|\n",
      "|x o|\n",
      " ---\n"
     ]
    },
    {
     "name": "stderr",
     "output_type": "stream",
     "text": [
      "Score as white: 13:  88%|████████▊ | 88/100 [00:17<00:02,  5.35it/s]"
     ]
    },
    {
     "name": "stdout",
     "output_type": "stream",
     "text": [
      "PLAYER 1: \n",
      "PLAYER 2: \n",
      "PLAYER 1: \n",
      "PLAYER 2: \n",
      "PLAYER 1: \n",
      "PLAYER 2: \n",
      "PLAYER 1: \n",
      " ___\n",
      "|xxx|\n",
      "|xoo|\n",
      "|  o|\n",
      " ---\n"
     ]
    },
    {
     "name": "stderr",
     "output_type": "stream",
     "text": [
      "Score as white: 14:  89%|████████▉ | 89/100 [00:17<00:02,  5.16it/s]"
     ]
    },
    {
     "name": "stdout",
     "output_type": "stream",
     "text": [
      "PLAYER 1: \n",
      "PLAYER 2: \n",
      "PLAYER 1: \n",
      "PLAYER 2: \n",
      "PLAYER 1: \n",
      "PLAYER 2: \n",
      "PLAYER 1: \n",
      "PLAYER 2: \n",
      " ___\n",
      "|x x|\n",
      "|ooo|\n",
      "|xox|\n",
      " ---\n"
     ]
    },
    {
     "name": "stderr",
     "output_type": "stream",
     "text": [
      "Score as white: 13:  90%|█████████ | 90/100 [00:17<00:01,  5.06it/s]"
     ]
    },
    {
     "name": "stdout",
     "output_type": "stream",
     "text": [
      "PLAYER 1: \n",
      "PLAYER 2: \n",
      "PLAYER 1: \n",
      "PLAYER 2: \n",
      "PLAYER 1: \n",
      "PLAYER 2: \n",
      "PLAYER 1: \n",
      "PLAYER 2: \n",
      "PLAYER 1: \n",
      " ___\n",
      "|xoo|\n",
      "|oxx|\n",
      "|xxo|\n",
      " ---\n"
     ]
    },
    {
     "name": "stderr",
     "output_type": "stream",
     "text": [
      "Score as white: 13:  91%|█████████ | 91/100 [00:17<00:01,  4.82it/s]"
     ]
    },
    {
     "name": "stdout",
     "output_type": "stream",
     "text": [
      "PLAYER 1: \n",
      "PLAYER 2: \n",
      "PLAYER 1: \n",
      "PLAYER 2: \n",
      "PLAYER 1: \n",
      "PLAYER 2: \n",
      "PLAYER 1: \n",
      "PLAYER 2: \n",
      " ___\n",
      "|o o|\n",
      "|oxx|\n",
      "|oxx|\n",
      " ---\n"
     ]
    },
    {
     "name": "stderr",
     "output_type": "stream",
     "text": [
      "Score as white: 12:  92%|█████████▏| 92/100 [00:18<00:01,  4.80it/s]"
     ]
    },
    {
     "name": "stdout",
     "output_type": "stream",
     "text": [
      "PLAYER 1: \n",
      "PLAYER 2: \n",
      "PLAYER 1: \n",
      "PLAYER 2: \n",
      "PLAYER 1: \n",
      "PLAYER 2: \n",
      "PLAYER 1: \n",
      "PLAYER 2: \n",
      "PLAYER 1: \n",
      " ___\n",
      "|xox|\n",
      "|oxx|\n",
      "|oxo|\n",
      " ---\n"
     ]
    },
    {
     "name": "stderr",
     "output_type": "stream",
     "text": [
      "Score as white: 12:  93%|█████████▎| 93/100 [00:18<00:01,  4.47it/s]"
     ]
    },
    {
     "name": "stdout",
     "output_type": "stream",
     "text": [
      "PLAYER 1: \n",
      "PLAYER 2: \n",
      "PLAYER 1: \n",
      "PLAYER 2: \n",
      "PLAYER 1: \n",
      "PLAYER 2: \n",
      "PLAYER 1: \n",
      "PLAYER 2: \n",
      " ___\n",
      "|xox|\n",
      "|xox|\n",
      "|oo |\n",
      " ---\n"
     ]
    },
    {
     "name": "stderr",
     "output_type": "stream",
     "text": [
      "Score as white: 11:  94%|█████████▍| 94/100 [00:18<00:01,  4.60it/s]"
     ]
    },
    {
     "name": "stdout",
     "output_type": "stream",
     "text": [
      "PLAYER 1: \n",
      "PLAYER 2: \n",
      "PLAYER 1: \n",
      "PLAYER 2: \n",
      "PLAYER 1: \n",
      "PLAYER 2: \n",
      "PLAYER 1: \n",
      " ___\n",
      "|  x|\n",
      "|oxo|\n",
      "|xox|\n",
      " ---\n"
     ]
    },
    {
     "name": "stderr",
     "output_type": "stream",
     "text": [
      "Score as white: 12:  95%|█████████▌| 95/100 [00:18<00:01,  4.78it/s]"
     ]
    },
    {
     "name": "stdout",
     "output_type": "stream",
     "text": [
      "PLAYER 1: \n",
      "PLAYER 2: \n",
      "PLAYER 1: \n",
      "PLAYER 2: \n",
      "PLAYER 1: \n",
      "PLAYER 2: \n",
      "PLAYER 1: \n",
      "PLAYER 2: \n",
      "PLAYER 1: \n",
      " ___\n",
      "|xoo|\n",
      "|xox|\n",
      "|xxo|\n",
      " ---\n"
     ]
    },
    {
     "name": "stderr",
     "output_type": "stream",
     "text": [
      "Score as white: 13:  96%|█████████▌| 96/100 [00:18<00:00,  4.67it/s]"
     ]
    },
    {
     "name": "stdout",
     "output_type": "stream",
     "text": [
      "PLAYER 1: \n",
      "PLAYER 2: \n",
      "PLAYER 1: \n",
      "PLAYER 2: \n",
      "PLAYER 1: \n",
      "PLAYER 2: \n",
      "PLAYER 1: \n",
      "PLAYER 2: \n",
      "PLAYER 1: \n",
      " ___\n",
      "|xox|\n",
      "|oxo|\n",
      "|xxo|\n",
      " ---\n"
     ]
    },
    {
     "name": "stderr",
     "output_type": "stream",
     "text": [
      "Score as white: 14:  97%|█████████▋| 97/100 [00:19<00:00,  4.56it/s]"
     ]
    },
    {
     "name": "stdout",
     "output_type": "stream",
     "text": [
      "PLAYER 1: \n",
      "PLAYER 2: \n",
      "PLAYER 1: \n",
      "PLAYER 2: \n",
      "PLAYER 1: \n",
      "PLAYER 2: \n",
      "PLAYER 1: \n",
      "PLAYER 2: \n",
      " ___\n",
      "|xxo|\n",
      "| ox|\n",
      "|oxo|\n",
      " ---\n"
     ]
    },
    {
     "name": "stderr",
     "output_type": "stream",
     "text": [
      "Score as white: 13:  98%|█████████▊| 98/100 [00:19<00:00,  4.66it/s]"
     ]
    },
    {
     "name": "stdout",
     "output_type": "stream",
     "text": [
      "PLAYER 1: \n",
      "PLAYER 2: \n",
      "PLAYER 1: \n",
      "PLAYER 2: \n",
      "PLAYER 1: \n",
      "PLAYER 2: \n",
      " ___\n",
      "|x x|\n",
      "|ooo|\n",
      "|x  |\n",
      " ---\n"
     ]
    },
    {
     "name": "stderr",
     "output_type": "stream",
     "text": [
      "Score as white: 12:  99%|█████████▉| 99/100 [00:19<00:00,  5.11it/s]"
     ]
    },
    {
     "name": "stdout",
     "output_type": "stream",
     "text": [
      "PLAYER 1: \n",
      "PLAYER 2: \n",
      "PLAYER 1: \n",
      "PLAYER 2: \n",
      "PLAYER 1: \n",
      "PLAYER 2: \n",
      "PLAYER 1: \n",
      "PLAYER 2: \n",
      " ___\n",
      "|xoo|\n",
      "| ox|\n",
      "|xox|\n",
      " ---\n"
     ]
    },
    {
     "name": "stderr",
     "output_type": "stream",
     "text": [
      "Score as white: 11: 100%|██████████| 100/100 [00:19<00:00,  5.07it/s]\n",
      "  0%|          | 0/100 [00:00<?, ?it/s]"
     ]
    },
    {
     "name": "stdout",
     "output_type": "stream",
     "text": [
      "PLAYER 1: \n",
      "PLAYER 2: \n",
      "PLAYER 1: \n",
      "PLAYER 2: \n",
      "PLAYER 1: \n",
      "PLAYER 2: \n",
      "PLAYER 1: \n",
      "PLAYER 2: \n",
      " ___\n",
      "|xo |\n",
      "|xox|\n",
      "|oox|\n",
      " ---\n"
     ]
    },
    {
     "name": "stderr",
     "output_type": "stream",
     "text": [
      "Score as black: 1:   1%|          | 1/100 [00:00<00:20,  4.94it/s]"
     ]
    },
    {
     "name": "stdout",
     "output_type": "stream",
     "text": [
      "PLAYER 1: \n",
      "PLAYER 2: \n",
      "PLAYER 1: \n",
      "PLAYER 2: \n",
      "PLAYER 1: \n",
      "PLAYER 2: \n",
      " ___\n",
      "|x x|\n",
      "|ooo|\n",
      "|x  |\n",
      " ---\n"
     ]
    },
    {
     "name": "stderr",
     "output_type": "stream",
     "text": [
      "Score as black: 2:   2%|▏         | 2/100 [00:00<00:18,  5.23it/s]"
     ]
    },
    {
     "name": "stdout",
     "output_type": "stream",
     "text": [
      "PLAYER 1: \n",
      "PLAYER 2: \n",
      "PLAYER 1: \n",
      "PLAYER 2: \n",
      "PLAYER 1: \n",
      "PLAYER 2: \n",
      "PLAYER 1: \n",
      " ___\n",
      "|xo |\n",
      "|oxo|\n",
      "|x x|\n",
      " ---\n"
     ]
    },
    {
     "name": "stderr",
     "output_type": "stream",
     "text": [
      "Score as black: 1:   3%|▎         | 3/100 [00:00<00:18,  5.32it/s]"
     ]
    },
    {
     "name": "stdout",
     "output_type": "stream",
     "text": [
      "PLAYER 1: \n",
      "PLAYER 2: \n",
      "PLAYER 1: \n",
      "PLAYER 2: \n",
      "PLAYER 1: \n",
      "PLAYER 2: \n",
      "PLAYER 1: \n",
      "PLAYER 2: \n",
      "PLAYER 1: \n",
      " ___\n",
      "|xxo|\n",
      "|xxo|\n",
      "|oox|\n",
      " ---\n"
     ]
    },
    {
     "name": "stderr",
     "output_type": "stream",
     "text": [
      "Score as black: 0:   4%|▍         | 4/100 [00:00<00:19,  4.99it/s]"
     ]
    },
    {
     "name": "stdout",
     "output_type": "stream",
     "text": [
      "PLAYER 1: \n",
      "PLAYER 2: \n",
      "PLAYER 1: \n",
      "PLAYER 2: \n",
      "PLAYER 1: \n",
      "PLAYER 2: \n",
      "PLAYER 1: \n",
      " ___\n",
      "|oxo|\n",
      "| xx|\n",
      "|ox |\n",
      " ---\n"
     ]
    },
    {
     "name": "stderr",
     "output_type": "stream",
     "text": [
      "Score as black: -1:   5%|▌         | 5/100 [00:00<00:18,  5.19it/s]"
     ]
    },
    {
     "name": "stdout",
     "output_type": "stream",
     "text": [
      "PLAYER 1: \n",
      "PLAYER 2: \n",
      "PLAYER 1: \n",
      "PLAYER 2: \n",
      "PLAYER 1: \n",
      "PLAYER 2: \n",
      "PLAYER 1: \n",
      "PLAYER 2: \n",
      "PLAYER 1: \n",
      " ___\n",
      "|xox|\n",
      "|oxx|\n",
      "|oxo|\n",
      " ---\n"
     ]
    },
    {
     "name": "stderr",
     "output_type": "stream",
     "text": [
      "Score as black: -1:   6%|▌         | 6/100 [00:01<00:19,  4.87it/s]"
     ]
    },
    {
     "name": "stdout",
     "output_type": "stream",
     "text": [
      "PLAYER 1: \n",
      "PLAYER 2: \n",
      "PLAYER 1: \n",
      "PLAYER 2: \n",
      "PLAYER 1: \n",
      "PLAYER 2: \n",
      "PLAYER 1: \n",
      "PLAYER 2: \n",
      "PLAYER 1: \n",
      " ___\n",
      "|xoo|\n",
      "|oox|\n",
      "|xxx|\n",
      " ---\n"
     ]
    },
    {
     "name": "stderr",
     "output_type": "stream",
     "text": [
      "Score as black: -2:   7%|▋         | 7/100 [00:01<00:19,  4.69it/s]"
     ]
    },
    {
     "name": "stdout",
     "output_type": "stream",
     "text": [
      "PLAYER 1: \n",
      "PLAYER 2: \n",
      "PLAYER 1: \n",
      "PLAYER 2: \n",
      "PLAYER 1: \n",
      "PLAYER 2: \n",
      "PLAYER 1: \n",
      "PLAYER 2: \n",
      "PLAYER 1: \n",
      " ___\n",
      "|xxx|\n",
      "|xoo|\n",
      "|oox|\n",
      " ---\n"
     ]
    },
    {
     "name": "stderr",
     "output_type": "stream",
     "text": [
      "Score as black: -3:   8%|▊         | 8/100 [00:01<00:20,  4.56it/s]"
     ]
    },
    {
     "name": "stdout",
     "output_type": "stream",
     "text": [
      "PLAYER 1: \n",
      "PLAYER 2: \n",
      "PLAYER 1: \n",
      "PLAYER 2: \n",
      "PLAYER 1: \n",
      " ___\n",
      "|xxx|\n",
      "|o o|\n",
      "|   |\n",
      " ---\n"
     ]
    },
    {
     "name": "stderr",
     "output_type": "stream",
     "text": [
      "Score as black: -4:   9%|▉         | 9/100 [00:01<00:17,  5.12it/s]"
     ]
    },
    {
     "name": "stdout",
     "output_type": "stream",
     "text": [
      "PLAYER 1: \n",
      "PLAYER 2: \n",
      "PLAYER 1: \n",
      "PLAYER 2: \n",
      "PLAYER 1: \n",
      "PLAYER 2: \n",
      "PLAYER 1: \n",
      " ___\n",
      "|xxx|\n",
      "|o x|\n",
      "| oo|\n",
      " ---\n"
     ]
    },
    {
     "name": "stderr",
     "output_type": "stream",
     "text": [
      "Score as black: -5:  10%|█         | 10/100 [00:01<00:17,  5.19it/s]"
     ]
    },
    {
     "name": "stdout",
     "output_type": "stream",
     "text": [
      "PLAYER 1: \n",
      "PLAYER 2: \n",
      "PLAYER 1: \n",
      "PLAYER 2: \n",
      "PLAYER 1: \n",
      "PLAYER 2: \n",
      "PLAYER 1: \n",
      "PLAYER 2: \n",
      "PLAYER 1: \n",
      " ___\n",
      "|oxo|\n",
      "|xxx|\n",
      "|oox|\n",
      " ---\n"
     ]
    },
    {
     "name": "stderr",
     "output_type": "stream",
     "text": [
      "Score as black: -6:  11%|█         | 11/100 [00:02<00:18,  4.77it/s]"
     ]
    },
    {
     "name": "stdout",
     "output_type": "stream",
     "text": [
      "PLAYER 1: \n",
      "PLAYER 2: \n",
      "PLAYER 1: \n",
      "PLAYER 2: \n",
      "PLAYER 1: \n",
      " ___\n",
      "|  x|\n",
      "| ox|\n",
      "|o x|\n",
      " ---\n"
     ]
    },
    {
     "name": "stderr",
     "output_type": "stream",
     "text": [
      "Score as black: -7:  12%|█▏        | 12/100 [00:02<00:16,  5.36it/s]"
     ]
    },
    {
     "name": "stdout",
     "output_type": "stream",
     "text": [
      "PLAYER 1: \n",
      "PLAYER 2: \n",
      "PLAYER 1: \n",
      "PLAYER 2: \n",
      "PLAYER 1: \n",
      "PLAYER 2: \n",
      "PLAYER 1: \n",
      "PLAYER 2: \n",
      "PLAYER 1: \n",
      " ___\n",
      "|xox|\n",
      "|oox|\n",
      "|xxo|\n",
      " ---\n"
     ]
    },
    {
     "name": "stderr",
     "output_type": "stream",
     "text": [
      "Score as black: -7:  13%|█▎        | 13/100 [00:02<00:17,  5.02it/s]"
     ]
    },
    {
     "name": "stdout",
     "output_type": "stream",
     "text": [
      "PLAYER 1: \n",
      "PLAYER 2: \n",
      "PLAYER 1: \n",
      "PLAYER 2: \n",
      "PLAYER 1: \n",
      "PLAYER 2: \n",
      "PLAYER 1: \n",
      "PLAYER 2: \n",
      "PLAYER 1: \n",
      " ___\n",
      "|oxo|\n",
      "|oxo|\n",
      "|xxx|\n",
      " ---\n"
     ]
    },
    {
     "name": "stderr",
     "output_type": "stream",
     "text": [
      "Score as black: -8:  14%|█▍        | 14/100 [00:02<00:18,  4.76it/s]"
     ]
    },
    {
     "name": "stdout",
     "output_type": "stream",
     "text": [
      "PLAYER 1: \n",
      "PLAYER 2: \n",
      "PLAYER 1: \n",
      "PLAYER 2: \n",
      "PLAYER 1: \n",
      "PLAYER 2: \n",
      "PLAYER 1: \n",
      " ___\n",
      "| x |\n",
      "|xxo|\n",
      "|oxo|\n",
      " ---\n"
     ]
    },
    {
     "name": "stderr",
     "output_type": "stream",
     "text": [
      "Score as black: -9:  15%|█▌        | 15/100 [00:03<00:17,  4.90it/s]"
     ]
    },
    {
     "name": "stdout",
     "output_type": "stream",
     "text": [
      "PLAYER 1: \n",
      "PLAYER 2: \n",
      "PLAYER 1: \n",
      "PLAYER 2: \n",
      "PLAYER 1: \n",
      " ___\n",
      "|xo |\n",
      "|x o|\n",
      "|x  |\n",
      " ---\n"
     ]
    },
    {
     "name": "stderr",
     "output_type": "stream",
     "text": [
      "Score as black: -10:  16%|█▌        | 16/100 [00:03<00:15,  5.34it/s]"
     ]
    },
    {
     "name": "stdout",
     "output_type": "stream",
     "text": [
      "PLAYER 1: \n",
      "PLAYER 2: \n",
      "PLAYER 1: \n",
      "PLAYER 2: \n",
      "PLAYER 1: \n",
      "PLAYER 2: \n",
      "PLAYER 1: \n",
      "PLAYER 2: \n",
      " ___\n",
      "|oxx|\n",
      "|oxx|\n",
      "|o o|\n",
      " ---\n"
     ]
    },
    {
     "name": "stderr",
     "output_type": "stream",
     "text": [
      "Score as black: -9:  17%|█▋        | 17/100 [00:03<00:16,  5.12it/s] "
     ]
    },
    {
     "name": "stdout",
     "output_type": "stream",
     "text": [
      "PLAYER 1: \n",
      "PLAYER 2: \n",
      "PLAYER 1: \n",
      "PLAYER 2: \n",
      "PLAYER 1: \n",
      "PLAYER 2: \n",
      "PLAYER 1: \n",
      " ___\n",
      "|oxx|\n",
      "|o x|\n",
      "| ox|\n",
      " ---\n"
     ]
    },
    {
     "name": "stderr",
     "output_type": "stream",
     "text": [
      "Score as black: -10:  18%|█▊        | 18/100 [00:03<00:15,  5.24it/s]"
     ]
    },
    {
     "name": "stdout",
     "output_type": "stream",
     "text": [
      "PLAYER 1: \n",
      "PLAYER 2: \n",
      "PLAYER 1: \n",
      "PLAYER 2: \n",
      "PLAYER 1: \n",
      "PLAYER 2: \n",
      "PLAYER 1: \n",
      "PLAYER 2: \n",
      " ___\n",
      "|x x|\n",
      "|oxx|\n",
      "|ooo|\n",
      " ---\n"
     ]
    },
    {
     "name": "stderr",
     "output_type": "stream",
     "text": [
      "Score as black: -9:  19%|█▉        | 19/100 [00:03<00:16,  4.92it/s] "
     ]
    },
    {
     "name": "stdout",
     "output_type": "stream",
     "text": [
      "PLAYER 1: \n",
      "PLAYER 2: \n",
      "PLAYER 1: \n",
      "PLAYER 2: \n",
      "PLAYER 1: \n",
      " ___\n",
      "|o x|\n",
      "|  x|\n",
      "| ox|\n",
      " ---\n"
     ]
    },
    {
     "name": "stderr",
     "output_type": "stream",
     "text": [
      "Score as black: -10:  20%|██        | 20/100 [00:03<00:14,  5.35it/s]"
     ]
    },
    {
     "name": "stdout",
     "output_type": "stream",
     "text": [
      "PLAYER 1: \n",
      "PLAYER 2: \n",
      "PLAYER 1: \n",
      "PLAYER 2: \n",
      "PLAYER 1: \n",
      "PLAYER 2: \n",
      "PLAYER 1: \n",
      "PLAYER 2: \n",
      "PLAYER 1: \n",
      " ___\n",
      "|xox|\n",
      "|xoo|\n",
      "|oxx|\n",
      " ---\n"
     ]
    },
    {
     "name": "stderr",
     "output_type": "stream",
     "text": [
      "Score as black: -10:  21%|██        | 21/100 [00:04<00:16,  4.88it/s]"
     ]
    },
    {
     "name": "stdout",
     "output_type": "stream",
     "text": [
      "PLAYER 1: \n",
      "PLAYER 2: \n",
      "PLAYER 1: \n",
      "PLAYER 2: \n",
      "PLAYER 1: \n",
      "PLAYER 2: \n",
      "PLAYER 1: \n",
      "PLAYER 2: \n",
      " ___\n",
      "|x x|\n",
      "|ooo|\n",
      "|xox|\n",
      " ---\n"
     ]
    },
    {
     "name": "stderr",
     "output_type": "stream",
     "text": [
      "Score as black: -9:  22%|██▏       | 22/100 [00:04<00:15,  4.89it/s] "
     ]
    },
    {
     "name": "stdout",
     "output_type": "stream",
     "text": [
      "PLAYER 1: \n",
      "PLAYER 2: \n",
      "PLAYER 1: \n",
      "PLAYER 2: \n",
      "PLAYER 1: \n",
      "PLAYER 2: \n",
      "PLAYER 1: \n",
      "PLAYER 2: \n",
      " ___\n",
      "|oxo|\n",
      "|oxx|\n",
      "|o x|\n",
      " ---\n"
     ]
    },
    {
     "name": "stderr",
     "output_type": "stream",
     "text": [
      "Score as black: -8:  23%|██▎       | 23/100 [00:04<00:16,  4.75it/s]"
     ]
    },
    {
     "name": "stdout",
     "output_type": "stream",
     "text": [
      "PLAYER 1: \n",
      "PLAYER 2: \n",
      "PLAYER 1: \n",
      "PLAYER 2: \n",
      "PLAYER 1: \n",
      "PLAYER 2: \n",
      "PLAYER 1: \n",
      "PLAYER 2: \n",
      "PLAYER 1: \n",
      " ___\n",
      "|oxo|\n",
      "|oxx|\n",
      "|xox|\n",
      " ---\n"
     ]
    },
    {
     "name": "stderr",
     "output_type": "stream",
     "text": [
      "Score as black: -8:  24%|██▍       | 24/100 [00:04<00:16,  4.51it/s]"
     ]
    },
    {
     "name": "stdout",
     "output_type": "stream",
     "text": [
      "PLAYER 1: \n",
      "PLAYER 2: \n",
      "PLAYER 1: \n",
      "PLAYER 2: \n",
      "PLAYER 1: \n",
      "PLAYER 2: \n",
      "PLAYER 1: \n",
      "PLAYER 2: \n",
      " ___\n",
      "|xox|\n",
      "| xx|\n",
      "|ooo|\n",
      " ---\n"
     ]
    },
    {
     "name": "stderr",
     "output_type": "stream",
     "text": [
      "Score as black: -7:  25%|██▌       | 25/100 [00:05<00:16,  4.54it/s]"
     ]
    },
    {
     "name": "stdout",
     "output_type": "stream",
     "text": [
      "PLAYER 1: \n",
      "PLAYER 2: \n",
      "PLAYER 1: \n",
      "PLAYER 2: \n",
      "PLAYER 1: \n",
      "PLAYER 2: \n",
      "PLAYER 1: \n",
      "PLAYER 2: \n",
      "PLAYER 1: \n",
      " ___\n",
      "|xxx|\n",
      "|oox|\n",
      "|xoo|\n",
      " ---\n"
     ]
    },
    {
     "name": "stderr",
     "output_type": "stream",
     "text": [
      "Score as black: -8:  26%|██▌       | 26/100 [00:05<00:16,  4.43it/s]"
     ]
    },
    {
     "name": "stdout",
     "output_type": "stream",
     "text": [
      "PLAYER 1: \n",
      "PLAYER 2: \n",
      "PLAYER 1: \n",
      "PLAYER 2: \n",
      "PLAYER 1: \n",
      "PLAYER 2: \n",
      "PLAYER 1: \n",
      "PLAYER 2: \n",
      "PLAYER 1: \n",
      " ___\n",
      "|oox|\n",
      "|xoo|\n",
      "|xxx|\n",
      " ---\n"
     ]
    },
    {
     "name": "stderr",
     "output_type": "stream",
     "text": [
      "Score as black: -9:  27%|██▋       | 27/100 [00:05<00:17,  4.25it/s]"
     ]
    },
    {
     "name": "stdout",
     "output_type": "stream",
     "text": [
      "PLAYER 1: \n",
      "PLAYER 2: \n",
      "PLAYER 1: \n",
      "PLAYER 2: \n",
      "PLAYER 1: \n",
      "PLAYER 2: \n",
      "PLAYER 1: \n",
      " ___\n",
      "|o x|\n",
      "| xx|\n",
      "|oox|\n",
      " ---\n"
     ]
    },
    {
     "name": "stderr",
     "output_type": "stream",
     "text": [
      "Score as black: -10:  28%|██▊       | 28/100 [00:05<00:15,  4.61it/s]"
     ]
    },
    {
     "name": "stdout",
     "output_type": "stream",
     "text": [
      "PLAYER 1: \n",
      "PLAYER 2: \n",
      "PLAYER 1: \n",
      "PLAYER 2: \n",
      "PLAYER 1: \n",
      "PLAYER 2: \n",
      " ___\n",
      "|ooo|\n",
      "|x x|\n",
      "|  x|\n",
      " ---\n"
     ]
    },
    {
     "name": "stderr",
     "output_type": "stream",
     "text": [
      "Score as black: -9:  29%|██▉       | 29/100 [00:05<00:14,  4.97it/s] "
     ]
    },
    {
     "name": "stdout",
     "output_type": "stream",
     "text": [
      "PLAYER 1: \n",
      "PLAYER 2: \n",
      "PLAYER 1: \n",
      "PLAYER 2: \n",
      "PLAYER 1: \n",
      "PLAYER 2: \n",
      "PLAYER 1: \n",
      "PLAYER 2: \n",
      "PLAYER 1: \n",
      " ___\n",
      "|xxx|\n",
      "|oox|\n",
      "|oox|\n",
      " ---\n"
     ]
    },
    {
     "name": "stderr",
     "output_type": "stream",
     "text": [
      "Score as black: -10:  30%|███       | 30/100 [00:06<00:14,  4.75it/s]"
     ]
    },
    {
     "name": "stdout",
     "output_type": "stream",
     "text": [
      "PLAYER 1: \n",
      "PLAYER 2: \n",
      "PLAYER 1: \n",
      "PLAYER 2: \n",
      "PLAYER 1: \n",
      "PLAYER 2: \n",
      "PLAYER 1: \n",
      "PLAYER 2: \n",
      "PLAYER 1: \n",
      " ___\n",
      "|oxo|\n",
      "|xxx|\n",
      "|oxo|\n",
      " ---\n"
     ]
    },
    {
     "name": "stderr",
     "output_type": "stream",
     "text": [
      "Score as black: -11:  31%|███       | 31/100 [00:06<00:15,  4.57it/s]"
     ]
    },
    {
     "name": "stdout",
     "output_type": "stream",
     "text": [
      "PLAYER 1: \n",
      "PLAYER 2: \n",
      "PLAYER 1: \n",
      "PLAYER 2: \n",
      "PLAYER 1: \n",
      " ___\n",
      "| ox|\n",
      "| ox|\n",
      "|  x|\n",
      " ---\n"
     ]
    },
    {
     "name": "stderr",
     "output_type": "stream",
     "text": [
      "Score as black: -12:  32%|███▏      | 32/100 [00:06<00:13,  5.21it/s]"
     ]
    },
    {
     "name": "stdout",
     "output_type": "stream",
     "text": [
      "PLAYER 1: \n",
      "PLAYER 2: \n",
      "PLAYER 1: \n",
      "PLAYER 2: \n",
      "PLAYER 1: \n",
      "PLAYER 2: \n",
      "PLAYER 1: \n",
      "PLAYER 2: \n",
      " ___\n",
      "|ooo|\n",
      "|oxx|\n",
      "|xx |\n",
      " ---\n"
     ]
    },
    {
     "name": "stderr",
     "output_type": "stream",
     "text": [
      "Score as black: -11:  33%|███▎      | 33/100 [00:06<00:13,  5.04it/s]"
     ]
    },
    {
     "name": "stdout",
     "output_type": "stream",
     "text": [
      "PLAYER 1: \n",
      "PLAYER 2: \n",
      "PLAYER 1: \n",
      "PLAYER 2: \n",
      "PLAYER 1: \n",
      "PLAYER 2: \n",
      "PLAYER 1: \n",
      "PLAYER 2: \n",
      " ___\n",
      "|oxx|\n",
      "|oox|\n",
      "|ox |\n",
      " ---\n"
     ]
    },
    {
     "name": "stderr",
     "output_type": "stream",
     "text": [
      "Score as black: -10:  34%|███▍      | 34/100 [00:06<00:13,  4.82it/s]"
     ]
    },
    {
     "name": "stdout",
     "output_type": "stream",
     "text": [
      "PLAYER 1: \n",
      "PLAYER 2: \n",
      "PLAYER 1: \n",
      "PLAYER 2: \n",
      "PLAYER 1: \n",
      "PLAYER 2: \n",
      "PLAYER 1: \n",
      "PLAYER 2: \n",
      " ___\n",
      "|xoo|\n",
      "| ox|\n",
      "|xox|\n",
      " ---\n"
     ]
    },
    {
     "name": "stderr",
     "output_type": "stream",
     "text": [
      "Score as black: -9:  35%|███▌      | 35/100 [00:07<00:13,  4.65it/s] "
     ]
    },
    {
     "name": "stdout",
     "output_type": "stream",
     "text": [
      "PLAYER 1: \n",
      "PLAYER 2: \n",
      "PLAYER 1: \n",
      "PLAYER 2: \n",
      "PLAYER 1: \n",
      "PLAYER 2: \n",
      "PLAYER 1: \n",
      "PLAYER 2: \n",
      "PLAYER 1: \n",
      " ___\n",
      "|oxx|\n",
      "|oox|\n",
      "|xox|\n",
      " ---\n"
     ]
    },
    {
     "name": "stderr",
     "output_type": "stream",
     "text": [
      "Score as black: -10:  36%|███▌      | 36/100 [00:07<00:14,  4.43it/s]"
     ]
    },
    {
     "name": "stdout",
     "output_type": "stream",
     "text": [
      "PLAYER 1: \n",
      "PLAYER 2: \n",
      "PLAYER 1: \n",
      "PLAYER 2: \n",
      "PLAYER 1: \n",
      "PLAYER 2: \n",
      "PLAYER 1: \n",
      "PLAYER 2: \n",
      "PLAYER 1: \n",
      " ___\n",
      "|xxo|\n",
      "|oox|\n",
      "|xox|\n",
      " ---\n"
     ]
    },
    {
     "name": "stderr",
     "output_type": "stream",
     "text": [
      "Score as black: -10:  37%|███▋      | 37/100 [00:07<00:14,  4.31it/s]"
     ]
    },
    {
     "name": "stdout",
     "output_type": "stream",
     "text": [
      "PLAYER 1: \n",
      "PLAYER 2: \n",
      "PLAYER 1: \n",
      "PLAYER 2: \n",
      "PLAYER 1: \n",
      "PLAYER 2: \n",
      "PLAYER 1: \n",
      "PLAYER 2: \n",
      "PLAYER 1: \n",
      " ___\n",
      "|oxx|\n",
      "|xoo|\n",
      "|oxx|\n",
      " ---\n"
     ]
    },
    {
     "name": "stderr",
     "output_type": "stream",
     "text": [
      "Score as black: -10:  38%|███▊      | 38/100 [00:07<00:14,  4.27it/s]"
     ]
    },
    {
     "name": "stdout",
     "output_type": "stream",
     "text": [
      "PLAYER 1: \n",
      "PLAYER 2: \n",
      "PLAYER 1: \n",
      "PLAYER 2: \n",
      "PLAYER 1: \n",
      "PLAYER 2: \n",
      "PLAYER 1: \n",
      "PLAYER 2: \n",
      " ___\n",
      "|ooo|\n",
      "|oxx|\n",
      "|x x|\n",
      " ---\n"
     ]
    },
    {
     "name": "stderr",
     "output_type": "stream",
     "text": [
      "Score as black: -9:  39%|███▉      | 39/100 [00:08<00:13,  4.39it/s] "
     ]
    },
    {
     "name": "stdout",
     "output_type": "stream",
     "text": [
      "PLAYER 1: \n",
      "PLAYER 2: \n",
      "PLAYER 1: \n",
      "PLAYER 2: \n",
      "PLAYER 1: \n",
      "PLAYER 2: \n",
      "PLAYER 1: \n",
      " ___\n",
      "|xxo|\n",
      "| xo|\n",
      "| ox|\n",
      " ---\n"
     ]
    },
    {
     "name": "stderr",
     "output_type": "stream",
     "text": [
      "Score as black: -10:  40%|████      | 40/100 [00:08<00:13,  4.61it/s]"
     ]
    },
    {
     "name": "stdout",
     "output_type": "stream",
     "text": [
      "PLAYER 1: \n",
      "PLAYER 2: \n",
      "PLAYER 1: \n",
      "PLAYER 2: \n",
      "PLAYER 1: \n",
      "PLAYER 2: \n",
      "PLAYER 1: \n",
      " ___\n",
      "|oox|\n",
      "|xxx|\n",
      "| o |\n",
      " ---\n"
     ]
    },
    {
     "name": "stderr",
     "output_type": "stream",
     "text": [
      "Score as black: -11:  41%|████      | 41/100 [00:08<00:12,  4.81it/s]"
     ]
    },
    {
     "name": "stdout",
     "output_type": "stream",
     "text": [
      "PLAYER 1: \n",
      "PLAYER 2: \n",
      "PLAYER 1: \n",
      "PLAYER 2: \n",
      "PLAYER 1: \n",
      "PLAYER 2: \n",
      "PLAYER 1: \n",
      "PLAYER 2: \n",
      "PLAYER 1: \n",
      " ___\n",
      "|xoo|\n",
      "|oxx|\n",
      "|xxo|\n",
      " ---\n"
     ]
    },
    {
     "name": "stderr",
     "output_type": "stream",
     "text": [
      "Score as black: -11:  42%|████▏     | 42/100 [00:08<00:12,  4.54it/s]"
     ]
    },
    {
     "name": "stdout",
     "output_type": "stream",
     "text": [
      "PLAYER 1: \n",
      "PLAYER 2: \n",
      "PLAYER 1: \n",
      "PLAYER 2: \n",
      "PLAYER 1: \n",
      "PLAYER 2: \n",
      "PLAYER 1: \n",
      "PLAYER 2: \n",
      "PLAYER 1: \n",
      " ___\n",
      "|xox|\n",
      "|oxx|\n",
      "|xoo|\n",
      " ---\n"
     ]
    },
    {
     "name": "stderr",
     "output_type": "stream",
     "text": [
      "Score as black: -12:  43%|████▎     | 43/100 [00:09<00:13,  4.36it/s]"
     ]
    },
    {
     "name": "stdout",
     "output_type": "stream",
     "text": [
      "PLAYER 1: \n",
      "PLAYER 2: \n",
      "PLAYER 1: \n",
      "PLAYER 2: \n",
      "PLAYER 1: \n",
      "PLAYER 2: \n",
      "PLAYER 1: \n",
      " ___\n",
      "| ox|\n",
      "|o x|\n",
      "|xox|\n",
      " ---\n"
     ]
    },
    {
     "name": "stderr",
     "output_type": "stream",
     "text": [
      "Score as black: -13:  44%|████▍     | 44/100 [00:09<00:11,  4.68it/s]"
     ]
    },
    {
     "name": "stdout",
     "output_type": "stream",
     "text": [
      "PLAYER 1: \n",
      "PLAYER 2: \n",
      "PLAYER 1: \n",
      "PLAYER 2: \n",
      "PLAYER 1: \n",
      "PLAYER 2: \n",
      "PLAYER 1: \n",
      "PLAYER 2: \n",
      "PLAYER 1: \n",
      " ___\n",
      "|xox|\n",
      "|xoo|\n",
      "|oxx|\n",
      " ---\n"
     ]
    },
    {
     "name": "stderr",
     "output_type": "stream",
     "text": [
      "Score as black: -13:  45%|████▌     | 45/100 [00:09<00:12,  4.40it/s]"
     ]
    },
    {
     "name": "stdout",
     "output_type": "stream",
     "text": [
      "PLAYER 1: \n",
      "PLAYER 2: \n",
      "PLAYER 1: \n",
      "PLAYER 2: \n",
      "PLAYER 1: \n",
      "PLAYER 2: \n",
      "PLAYER 1: \n",
      "PLAYER 2: \n",
      "PLAYER 1: \n",
      " ___\n",
      "|xox|\n",
      "|xxo|\n",
      "|oxo|\n",
      " ---\n"
     ]
    },
    {
     "name": "stderr",
     "output_type": "stream",
     "text": [
      "Score as black: -13:  46%|████▌     | 46/100 [00:09<00:12,  4.27it/s]"
     ]
    },
    {
     "name": "stdout",
     "output_type": "stream",
     "text": [
      "PLAYER 1: \n",
      "PLAYER 2: \n",
      "PLAYER 1: \n",
      "PLAYER 2: \n",
      "PLAYER 1: \n",
      "PLAYER 2: \n",
      "PLAYER 1: \n",
      " ___\n",
      "|o  |\n",
      "|xxx|\n",
      "|oox|\n",
      " ---\n"
     ]
    },
    {
     "name": "stderr",
     "output_type": "stream",
     "text": [
      "Score as black: -14:  47%|████▋     | 47/100 [00:09<00:11,  4.47it/s]"
     ]
    },
    {
     "name": "stdout",
     "output_type": "stream",
     "text": [
      "PLAYER 1: \n",
      "PLAYER 2: \n",
      "PLAYER 1: \n",
      "PLAYER 2: \n",
      "PLAYER 1: \n",
      "PLAYER 2: \n",
      " ___\n",
      "|ooo|\n",
      "| xx|\n",
      "|  x|\n",
      " ---\n"
     ]
    },
    {
     "name": "stderr",
     "output_type": "stream",
     "text": [
      "Score as black: -13:  48%|████▊     | 48/100 [00:10<00:10,  4.75it/s]"
     ]
    },
    {
     "name": "stdout",
     "output_type": "stream",
     "text": [
      "PLAYER 1: \n",
      "PLAYER 2: \n",
      "PLAYER 1: \n",
      "PLAYER 2: \n",
      "PLAYER 1: \n",
      "PLAYER 2: \n",
      "PLAYER 1: \n",
      "PLAYER 2: \n",
      "PLAYER 1: \n",
      " ___\n",
      "|oox|\n",
      "|xox|\n",
      "|oxx|\n",
      " ---\n"
     ]
    },
    {
     "name": "stderr",
     "output_type": "stream",
     "text": [
      "Score as black: -14:  49%|████▉     | 49/100 [00:10<00:11,  4.47it/s]"
     ]
    },
    {
     "name": "stdout",
     "output_type": "stream",
     "text": [
      "PLAYER 1: \n",
      "PLAYER 2: \n",
      "PLAYER 1: \n",
      "PLAYER 2: \n",
      "PLAYER 1: \n",
      "PLAYER 2: \n",
      "PLAYER 1: \n",
      " ___\n",
      "|xoo|\n",
      "|x o|\n",
      "|xx |\n",
      " ---\n"
     ]
    },
    {
     "name": "stderr",
     "output_type": "stream",
     "text": [
      "Score as black: -15:  50%|█████     | 50/100 [00:10<00:11,  4.36it/s]"
     ]
    },
    {
     "name": "stdout",
     "output_type": "stream",
     "text": [
      "PLAYER 1: \n",
      "PLAYER 2: \n",
      "PLAYER 1: \n",
      "PLAYER 2: \n",
      "PLAYER 1: \n",
      "PLAYER 2: \n",
      "PLAYER 1: \n",
      "PLAYER 2: \n",
      "PLAYER 1: \n",
      " ___\n",
      "|oox|\n",
      "|xxx|\n",
      "|oxo|\n",
      " ---\n"
     ]
    },
    {
     "name": "stderr",
     "output_type": "stream",
     "text": [
      "Score as black: -16:  51%|█████     | 51/100 [00:10<00:12,  3.93it/s]"
     ]
    },
    {
     "name": "stdout",
     "output_type": "stream",
     "text": [
      "PLAYER 1: \n",
      "PLAYER 2: \n",
      "PLAYER 1: \n",
      "PLAYER 2: \n",
      "PLAYER 1: \n",
      "PLAYER 2: \n",
      "PLAYER 1: \n",
      "PLAYER 2: \n",
      "PLAYER 1: \n",
      " ___\n",
      "|oxo|\n",
      "|oxx|\n",
      "|xxo|\n",
      " ---\n"
     ]
    },
    {
     "name": "stderr",
     "output_type": "stream",
     "text": [
      "Score as black: -17:  52%|█████▏    | 52/100 [00:11<00:12,  3.85it/s]"
     ]
    },
    {
     "name": "stdout",
     "output_type": "stream",
     "text": [
      "PLAYER 1: \n",
      "PLAYER 2: \n",
      "PLAYER 1: \n",
      "PLAYER 2: \n",
      "PLAYER 1: \n",
      "PLAYER 2: \n",
      "PLAYER 1: \n",
      "PLAYER 2: \n",
      " ___\n",
      "|xxo|\n",
      "|ooo|\n",
      "| xx|\n",
      " ---\n"
     ]
    },
    {
     "name": "stderr",
     "output_type": "stream",
     "text": [
      "Score as black: -16:  53%|█████▎    | 53/100 [00:11<00:11,  4.07it/s]"
     ]
    },
    {
     "name": "stdout",
     "output_type": "stream",
     "text": [
      "PLAYER 1: \n",
      "PLAYER 2: \n",
      "PLAYER 1: \n",
      "PLAYER 2: \n",
      "PLAYER 1: \n",
      "PLAYER 2: \n",
      "PLAYER 1: \n",
      "PLAYER 2: \n",
      "PLAYER 1: \n",
      " ___\n",
      "|xoo|\n",
      "|xox|\n",
      "|xxo|\n",
      " ---\n"
     ]
    },
    {
     "name": "stderr",
     "output_type": "stream",
     "text": [
      "Score as black: -17:  54%|█████▍    | 54/100 [00:11<00:11,  4.03it/s]"
     ]
    },
    {
     "name": "stdout",
     "output_type": "stream",
     "text": [
      "PLAYER 1: \n",
      "PLAYER 2: \n",
      "PLAYER 1: \n",
      "PLAYER 2: \n",
      "PLAYER 1: \n",
      "PLAYER 2: \n",
      "PLAYER 1: \n",
      "PLAYER 2: \n",
      "PLAYER 1: \n",
      " ___\n",
      "|oxo|\n",
      "|oxx|\n",
      "|xox|\n",
      " ---\n"
     ]
    },
    {
     "name": "stderr",
     "output_type": "stream",
     "text": [
      "Score as black: -17:  55%|█████▌    | 55/100 [00:11<00:11,  4.08it/s]"
     ]
    },
    {
     "name": "stdout",
     "output_type": "stream",
     "text": [
      "PLAYER 1: \n",
      "PLAYER 2: \n",
      "PLAYER 1: \n",
      "PLAYER 2: \n",
      "PLAYER 1: \n",
      "PLAYER 2: \n",
      "PLAYER 1: \n",
      " ___\n",
      "|oo |\n",
      "|xxx|\n",
      "| ox|\n",
      " ---\n"
     ]
    },
    {
     "name": "stderr",
     "output_type": "stream",
     "text": [
      "Score as black: -18:  56%|█████▌    | 56/100 [00:12<00:10,  4.37it/s]"
     ]
    },
    {
     "name": "stdout",
     "output_type": "stream",
     "text": [
      "PLAYER 1: \n",
      "PLAYER 2: \n",
      "PLAYER 1: \n",
      "PLAYER 2: \n",
      "PLAYER 1: \n",
      "PLAYER 2: \n",
      "PLAYER 1: \n",
      "PLAYER 2: \n",
      " ___\n",
      "|xxo|\n",
      "| ox|\n",
      "|oox|\n",
      " ---\n"
     ]
    },
    {
     "name": "stderr",
     "output_type": "stream",
     "text": [
      "Score as black: -17:  57%|█████▋    | 57/100 [00:12<00:09,  4.46it/s]"
     ]
    },
    {
     "name": "stdout",
     "output_type": "stream",
     "text": [
      "PLAYER 1: \n",
      "PLAYER 2: \n",
      "PLAYER 1: \n",
      "PLAYER 2: \n",
      "PLAYER 1: \n",
      " ___\n",
      "| xo|\n",
      "| xo|\n",
      "| x |\n",
      " ---\n"
     ]
    },
    {
     "name": "stderr",
     "output_type": "stream",
     "text": [
      "Score as black: -18:  58%|█████▊    | 58/100 [00:12<00:08,  5.04it/s]"
     ]
    },
    {
     "name": "stdout",
     "output_type": "stream",
     "text": [
      "PLAYER 1: \n",
      "PLAYER 2: \n",
      "PLAYER 1: \n",
      "PLAYER 2: \n",
      "PLAYER 1: \n",
      "PLAYER 2: \n",
      "PLAYER 1: \n",
      "PLAYER 2: \n",
      "PLAYER 1: \n",
      " ___\n",
      "|xxo|\n",
      "|xox|\n",
      "|xoo|\n",
      " ---\n"
     ]
    },
    {
     "name": "stderr",
     "output_type": "stream",
     "text": [
      "Score as black: -19:  59%|█████▉    | 59/100 [00:12<00:08,  4.73it/s]"
     ]
    },
    {
     "name": "stdout",
     "output_type": "stream",
     "text": [
      "PLAYER 1: \n",
      "PLAYER 2: \n",
      "PLAYER 1: \n",
      "PLAYER 2: \n",
      "PLAYER 1: \n",
      "PLAYER 2: \n",
      "PLAYER 1: \n",
      "PLAYER 2: \n",
      " ___\n",
      "|xxo|\n",
      "|x x|\n",
      "|ooo|\n",
      " ---\n"
     ]
    },
    {
     "name": "stderr",
     "output_type": "stream",
     "text": [
      "Score as black: -18:  60%|██████    | 60/100 [00:12<00:08,  4.70it/s]"
     ]
    },
    {
     "name": "stdout",
     "output_type": "stream",
     "text": [
      "PLAYER 1: \n",
      "PLAYER 2: \n",
      "PLAYER 1: \n",
      "PLAYER 2: \n",
      "PLAYER 1: \n",
      "PLAYER 2: \n",
      " ___\n",
      "|ox |\n",
      "| ox|\n",
      "|x o|\n",
      " ---\n"
     ]
    },
    {
     "name": "stderr",
     "output_type": "stream",
     "text": [
      "Score as black: -17:  61%|██████    | 61/100 [00:13<00:07,  5.08it/s]"
     ]
    },
    {
     "name": "stdout",
     "output_type": "stream",
     "text": [
      "PLAYER 1: \n",
      "PLAYER 2: \n",
      "PLAYER 1: \n",
      "PLAYER 2: \n",
      "PLAYER 1: \n",
      "PLAYER 2: \n",
      "PLAYER 1: \n",
      "PLAYER 2: \n",
      "PLAYER 1: \n",
      " ___\n",
      "|xxx|\n",
      "|xoo|\n",
      "|oox|\n",
      " ---\n"
     ]
    },
    {
     "name": "stderr",
     "output_type": "stream",
     "text": [
      "Score as black: -18:  62%|██████▏   | 62/100 [00:13<00:08,  4.71it/s]"
     ]
    },
    {
     "name": "stdout",
     "output_type": "stream",
     "text": [
      "PLAYER 1: \n",
      "PLAYER 2: \n",
      "PLAYER 1: \n",
      "PLAYER 2: \n",
      "PLAYER 1: \n",
      "PLAYER 2: \n",
      " ___\n",
      "|o  |\n",
      "|oxx|\n",
      "|ox |\n",
      " ---\n"
     ]
    },
    {
     "name": "stderr",
     "output_type": "stream",
     "text": [
      "Score as black: -17:  63%|██████▎   | 63/100 [00:13<00:07,  5.11it/s]"
     ]
    },
    {
     "name": "stdout",
     "output_type": "stream",
     "text": [
      "PLAYER 1: \n",
      "PLAYER 2: \n",
      "PLAYER 1: \n",
      "PLAYER 2: \n",
      "PLAYER 1: \n",
      "PLAYER 2: \n",
      "PLAYER 1: \n",
      "PLAYER 2: \n",
      " ___\n",
      "|xox|\n",
      "| xx|\n",
      "|ooo|\n",
      " ---\n"
     ]
    },
    {
     "name": "stderr",
     "output_type": "stream",
     "text": [
      "Score as black: -16:  64%|██████▍   | 64/100 [00:13<00:07,  4.92it/s]"
     ]
    },
    {
     "name": "stdout",
     "output_type": "stream",
     "text": [
      "PLAYER 1: \n",
      "PLAYER 2: \n",
      "PLAYER 1: \n",
      "PLAYER 2: \n",
      "PLAYER 1: \n",
      "PLAYER 2: \n",
      "PLAYER 1: \n",
      "PLAYER 2: \n",
      " ___\n",
      "|xox|\n",
      "| ox|\n",
      "|xoo|\n",
      " ---\n"
     ]
    },
    {
     "name": "stderr",
     "output_type": "stream",
     "text": [
      "Score as black: -15:  65%|██████▌   | 65/100 [00:13<00:07,  4.80it/s]"
     ]
    },
    {
     "name": "stdout",
     "output_type": "stream",
     "text": [
      "PLAYER 1: \n",
      "PLAYER 2: \n",
      "PLAYER 1: \n",
      "PLAYER 2: \n",
      "PLAYER 1: \n",
      "PLAYER 2: \n",
      "PLAYER 1: \n",
      " ___\n",
      "|x  |\n",
      "|oxx|\n",
      "|oox|\n",
      " ---\n"
     ]
    },
    {
     "name": "stderr",
     "output_type": "stream",
     "text": [
      "Score as black: -16:  66%|██████▌   | 66/100 [00:14<00:06,  4.87it/s]"
     ]
    },
    {
     "name": "stdout",
     "output_type": "stream",
     "text": [
      "PLAYER 1: \n",
      "PLAYER 2: \n",
      "PLAYER 1: \n",
      "PLAYER 2: \n",
      "PLAYER 1: \n",
      "PLAYER 2: \n",
      "PLAYER 1: \n",
      "PLAYER 2: \n",
      " ___\n",
      "|ooo|\n",
      "| xx|\n",
      "|xox|\n",
      " ---\n"
     ]
    },
    {
     "name": "stderr",
     "output_type": "stream",
     "text": [
      "Score as black: -15:  67%|██████▋   | 67/100 [00:14<00:07,  4.69it/s]"
     ]
    },
    {
     "name": "stdout",
     "output_type": "stream",
     "text": [
      "PLAYER 1: \n",
      "PLAYER 2: \n",
      "PLAYER 1: \n",
      "PLAYER 2: \n",
      "PLAYER 1: \n",
      "PLAYER 2: \n",
      "PLAYER 1: \n",
      " ___\n",
      "| ox|\n",
      "|xxx|\n",
      "|o o|\n",
      " ---\n"
     ]
    },
    {
     "name": "stderr",
     "output_type": "stream",
     "text": [
      "Score as black: -16:  68%|██████▊   | 68/100 [00:14<00:06,  4.86it/s]"
     ]
    },
    {
     "name": "stdout",
     "output_type": "stream",
     "text": [
      "PLAYER 1: \n",
      "PLAYER 2: \n",
      "PLAYER 1: \n",
      "PLAYER 2: \n",
      "PLAYER 1: \n",
      "PLAYER 2: \n",
      "PLAYER 1: \n",
      " ___\n",
      "|o x|\n",
      "| xx|\n",
      "|xoo|\n",
      " ---\n"
     ]
    },
    {
     "name": "stderr",
     "output_type": "stream",
     "text": [
      "Score as black: -17:  69%|██████▉   | 69/100 [00:14<00:06,  5.00it/s]"
     ]
    },
    {
     "name": "stdout",
     "output_type": "stream",
     "text": [
      "PLAYER 1: \n",
      "PLAYER 2: \n",
      "PLAYER 1: \n",
      "PLAYER 2: \n",
      "PLAYER 1: \n",
      "PLAYER 2: \n",
      "PLAYER 1: \n",
      "PLAYER 2: \n",
      " ___\n",
      "| oo|\n",
      "|xxo|\n",
      "|xxo|\n",
      " ---\n"
     ]
    },
    {
     "name": "stderr",
     "output_type": "stream",
     "text": [
      "Score as black: -16:  70%|███████   | 70/100 [00:14<00:06,  4.91it/s]"
     ]
    },
    {
     "name": "stdout",
     "output_type": "stream",
     "text": [
      "PLAYER 1: \n",
      "PLAYER 2: \n",
      "PLAYER 1: \n",
      "PLAYER 2: \n",
      "PLAYER 1: \n",
      " ___\n",
      "|x  |\n",
      "| xo|\n",
      "| ox|\n",
      " ---\n"
     ]
    },
    {
     "name": "stderr",
     "output_type": "stream",
     "text": [
      "Score as black: -17:  71%|███████   | 71/100 [00:15<00:05,  5.46it/s]"
     ]
    },
    {
     "name": "stdout",
     "output_type": "stream",
     "text": [
      "PLAYER 1: \n",
      "PLAYER 2: \n",
      "PLAYER 1: \n",
      "PLAYER 2: \n",
      "PLAYER 1: \n",
      " ___\n",
      "|oo |\n",
      "|xxx|\n",
      "|   |\n",
      " ---\n"
     ]
    },
    {
     "name": "stderr",
     "output_type": "stream",
     "text": [
      "Score as black: -18:  72%|███████▏  | 72/100 [00:15<00:04,  5.95it/s]"
     ]
    },
    {
     "name": "stdout",
     "output_type": "stream",
     "text": [
      "PLAYER 1: \n",
      "PLAYER 2: \n",
      "PLAYER 1: \n",
      "PLAYER 2: \n",
      "PLAYER 1: \n",
      " ___\n",
      "|   |\n",
      "|xxx|\n",
      "| oo|\n",
      " ---\n"
     ]
    },
    {
     "name": "stderr",
     "output_type": "stream",
     "text": [
      "Score as black: -19:  73%|███████▎  | 73/100 [00:15<00:04,  6.32it/s]"
     ]
    },
    {
     "name": "stdout",
     "output_type": "stream",
     "text": [
      "PLAYER 1: \n",
      "PLAYER 2: \n",
      "PLAYER 1: \n",
      "PLAYER 2: \n",
      "PLAYER 1: \n",
      "PLAYER 2: \n",
      "PLAYER 1: \n",
      "PLAYER 2: \n",
      "PLAYER 1: \n",
      " ___\n",
      "|xox|\n",
      "|oxo|\n",
      "|oxx|\n",
      " ---\n"
     ]
    },
    {
     "name": "stderr",
     "output_type": "stream",
     "text": [
      "Score as black: -20:  74%|███████▍  | 74/100 [00:15<00:04,  5.40it/s]"
     ]
    },
    {
     "name": "stdout",
     "output_type": "stream",
     "text": [
      "PLAYER 1: \n",
      "PLAYER 2: \n",
      "PLAYER 1: \n",
      "PLAYER 2: \n",
      "PLAYER 1: \n",
      "PLAYER 2: \n",
      "PLAYER 1: \n",
      "PLAYER 2: \n",
      "PLAYER 1: \n",
      " ___\n",
      "|xxx|\n",
      "|oox|\n",
      "|oxo|\n",
      " ---\n"
     ]
    },
    {
     "name": "stderr",
     "output_type": "stream",
     "text": [
      "Score as black: -21:  75%|███████▌  | 75/100 [00:15<00:05,  4.92it/s]"
     ]
    },
    {
     "name": "stdout",
     "output_type": "stream",
     "text": [
      "PLAYER 1: \n",
      "PLAYER 2: \n",
      "PLAYER 1: \n",
      "PLAYER 2: \n",
      "PLAYER 1: \n",
      "PLAYER 2: \n",
      "PLAYER 1: \n",
      "PLAYER 2: \n",
      "PLAYER 1: \n",
      " ___\n",
      "|xxo|\n",
      "|oxx|\n",
      "|oxo|\n",
      " ---\n"
     ]
    },
    {
     "name": "stderr",
     "output_type": "stream",
     "text": [
      "Score as black: -22:  76%|███████▌  | 76/100 [00:16<00:05,  4.59it/s]"
     ]
    },
    {
     "name": "stdout",
     "output_type": "stream",
     "text": [
      "PLAYER 1: \n",
      "PLAYER 2: \n",
      "PLAYER 1: \n",
      "PLAYER 2: \n",
      "PLAYER 1: \n",
      "PLAYER 2: \n",
      "PLAYER 1: \n",
      " ___\n",
      "|ox |\n",
      "| xo|\n",
      "|oxx|\n",
      " ---\n"
     ]
    },
    {
     "name": "stderr",
     "output_type": "stream",
     "text": [
      "Score as black: -23:  77%|███████▋  | 77/100 [00:16<00:04,  4.79it/s]"
     ]
    },
    {
     "name": "stdout",
     "output_type": "stream",
     "text": [
      "PLAYER 1: \n",
      "PLAYER 2: \n",
      "PLAYER 1: \n",
      "PLAYER 2: \n",
      "PLAYER 1: \n",
      "PLAYER 2: \n",
      "PLAYER 1: \n",
      "PLAYER 2: \n",
      "PLAYER 1: \n",
      " ___\n",
      "|xox|\n",
      "|oox|\n",
      "|xxo|\n",
      " ---\n"
     ]
    },
    {
     "name": "stderr",
     "output_type": "stream",
     "text": [
      "Score as black: -23:  78%|███████▊  | 78/100 [00:16<00:04,  4.46it/s]"
     ]
    },
    {
     "name": "stdout",
     "output_type": "stream",
     "text": [
      "PLAYER 1: \n",
      "PLAYER 2: \n",
      "PLAYER 1: \n",
      "PLAYER 2: \n",
      "PLAYER 1: \n",
      "PLAYER 2: \n",
      "PLAYER 1: \n",
      "PLAYER 2: \n",
      " ___\n",
      "|oxx|\n",
      "| ox|\n",
      "|xoo|\n",
      " ---\n"
     ]
    },
    {
     "name": "stderr",
     "output_type": "stream",
     "text": [
      "Score as black: -22:  79%|███████▉  | 79/100 [00:16<00:04,  4.49it/s]"
     ]
    },
    {
     "name": "stdout",
     "output_type": "stream",
     "text": [
      "PLAYER 1: \n",
      "PLAYER 2: \n",
      "PLAYER 1: \n",
      "PLAYER 2: \n",
      "PLAYER 1: \n",
      "PLAYER 2: \n",
      "PLAYER 1: \n",
      " ___\n",
      "|xxx|\n",
      "|oxo|\n",
      "|  o|\n",
      " ---\n"
     ]
    },
    {
     "name": "stderr",
     "output_type": "stream",
     "text": [
      "Score as black: -23:  80%|████████  | 80/100 [00:16<00:04,  4.67it/s]"
     ]
    },
    {
     "name": "stdout",
     "output_type": "stream",
     "text": [
      "PLAYER 1: \n",
      "PLAYER 2: \n",
      "PLAYER 1: \n",
      "PLAYER 2: \n",
      "PLAYER 1: \n",
      "PLAYER 2: \n",
      "PLAYER 1: \n",
      " ___\n",
      "|oxx|\n",
      "| ox|\n",
      "| ox|\n",
      " ---\n"
     ]
    },
    {
     "name": "stderr",
     "output_type": "stream",
     "text": [
      "Score as black: -24:  81%|████████  | 81/100 [00:17<00:03,  4.90it/s]"
     ]
    },
    {
     "name": "stdout",
     "output_type": "stream",
     "text": [
      "PLAYER 1: \n",
      "PLAYER 2: \n",
      "PLAYER 1: \n",
      "PLAYER 2: \n",
      "PLAYER 1: \n",
      "PLAYER 2: \n",
      "PLAYER 1: \n",
      " ___\n",
      "|xxx|\n",
      "|o x|\n",
      "|o o|\n",
      " ---\n"
     ]
    },
    {
     "name": "stderr",
     "output_type": "stream",
     "text": [
      "Score as black: -25:  82%|████████▏ | 82/100 [00:17<00:03,  5.04it/s]"
     ]
    },
    {
     "name": "stdout",
     "output_type": "stream",
     "text": [
      "PLAYER 1: \n",
      "PLAYER 2: \n",
      "PLAYER 1: \n",
      "PLAYER 2: \n",
      "PLAYER 1: \n",
      "PLAYER 2: \n",
      " ___\n",
      "|o  |\n",
      "| ox|\n",
      "|xxo|\n",
      " ---\n"
     ]
    },
    {
     "name": "stderr",
     "output_type": "stream",
     "text": [
      "Score as black: -24:  83%|████████▎ | 83/100 [00:17<00:03,  5.35it/s]"
     ]
    },
    {
     "name": "stdout",
     "output_type": "stream",
     "text": [
      "PLAYER 1: \n",
      "PLAYER 2: \n",
      "PLAYER 1: \n",
      "PLAYER 2: \n",
      "PLAYER 1: \n",
      "PLAYER 2: \n",
      "PLAYER 1: \n",
      "PLAYER 2: \n",
      " ___\n",
      "|oxx|\n",
      "|oox|\n",
      "|x o|\n",
      " ---\n"
     ]
    },
    {
     "name": "stderr",
     "output_type": "stream",
     "text": [
      "Score as black: -23:  84%|████████▍ | 84/100 [00:17<00:03,  5.08it/s]"
     ]
    },
    {
     "name": "stdout",
     "output_type": "stream",
     "text": [
      "PLAYER 1: \n",
      "PLAYER 2: \n",
      "PLAYER 1: \n",
      "PLAYER 2: \n",
      "PLAYER 1: \n",
      "PLAYER 2: \n",
      "PLAYER 1: \n",
      "PLAYER 2: \n",
      "PLAYER 1: \n",
      " ___\n",
      "|oxx|\n",
      "|xxo|\n",
      "|oox|\n",
      " ---\n"
     ]
    },
    {
     "name": "stderr",
     "output_type": "stream",
     "text": [
      "Score as black: -23:  85%|████████▌ | 85/100 [00:17<00:03,  4.80it/s]"
     ]
    },
    {
     "name": "stdout",
     "output_type": "stream",
     "text": [
      "PLAYER 1: \n",
      "PLAYER 2: \n",
      "PLAYER 1: \n",
      "PLAYER 2: \n",
      "PLAYER 1: \n",
      "PLAYER 2: \n",
      "PLAYER 1: \n",
      " ___\n",
      "|xox|\n",
      "|oox|\n",
      "|  x|\n",
      " ---\n"
     ]
    },
    {
     "name": "stderr",
     "output_type": "stream",
     "text": [
      "Score as black: -24:  86%|████████▌ | 86/100 [00:18<00:02,  4.87it/s]"
     ]
    },
    {
     "name": "stdout",
     "output_type": "stream",
     "text": [
      "PLAYER 1: \n",
      "PLAYER 2: \n",
      "PLAYER 1: \n",
      "PLAYER 2: \n",
      "PLAYER 1: \n",
      "PLAYER 2: \n",
      "PLAYER 1: \n",
      "PLAYER 2: \n",
      "PLAYER 1: \n",
      " ___\n",
      "|oox|\n",
      "|xxx|\n",
      "|oxo|\n",
      " ---\n"
     ]
    },
    {
     "name": "stderr",
     "output_type": "stream",
     "text": [
      "Score as black: -25:  87%|████████▋ | 87/100 [00:18<00:02,  4.61it/s]"
     ]
    },
    {
     "name": "stdout",
     "output_type": "stream",
     "text": [
      "PLAYER 1: \n",
      "PLAYER 2: \n",
      "PLAYER 1: \n",
      "PLAYER 2: \n",
      "PLAYER 1: \n",
      "PLAYER 2: \n",
      "PLAYER 1: \n",
      "PLAYER 2: \n",
      "PLAYER 1: \n",
      " ___\n",
      "|xxx|\n",
      "|oox|\n",
      "|oox|\n",
      " ---\n"
     ]
    },
    {
     "name": "stderr",
     "output_type": "stream",
     "text": [
      "Score as black: -26:  88%|████████▊ | 88/100 [00:18<00:02,  4.49it/s]"
     ]
    },
    {
     "name": "stdout",
     "output_type": "stream",
     "text": [
      "PLAYER 1: \n",
      "PLAYER 2: \n",
      "PLAYER 1: \n",
      "PLAYER 2: \n",
      "PLAYER 1: \n",
      "PLAYER 2: \n",
      "PLAYER 1: \n",
      " ___\n",
      "|xxx|\n",
      "| ox|\n",
      "|o o|\n",
      " ---\n"
     ]
    },
    {
     "name": "stderr",
     "output_type": "stream",
     "text": [
      "Score as black: -27:  89%|████████▉ | 89/100 [00:18<00:02,  4.66it/s]"
     ]
    },
    {
     "name": "stdout",
     "output_type": "stream",
     "text": [
      "PLAYER 1: \n",
      "PLAYER 2: \n",
      "PLAYER 1: \n",
      "PLAYER 2: \n",
      "PLAYER 1: \n",
      "PLAYER 2: \n",
      "PLAYER 1: \n",
      "PLAYER 2: \n",
      "PLAYER 1: \n",
      " ___\n",
      "|xox|\n",
      "|oxo|\n",
      "|xxo|\n",
      " ---\n"
     ]
    },
    {
     "name": "stderr",
     "output_type": "stream",
     "text": [
      "Score as black: -28:  90%|█████████ | 90/100 [00:18<00:02,  4.47it/s]"
     ]
    },
    {
     "name": "stdout",
     "output_type": "stream",
     "text": [
      "PLAYER 1: \n",
      "PLAYER 2: \n",
      "PLAYER 1: \n",
      "PLAYER 2: \n",
      "PLAYER 1: \n",
      "PLAYER 2: \n",
      "PLAYER 1: \n",
      "PLAYER 2: \n",
      "PLAYER 1: \n",
      " ___\n",
      "|xox|\n",
      "|xox|\n",
      "|oxo|\n",
      " ---\n"
     ]
    },
    {
     "name": "stderr",
     "output_type": "stream",
     "text": [
      "Score as black: -28:  91%|█████████ | 91/100 [00:19<00:02,  4.31it/s]"
     ]
    },
    {
     "name": "stdout",
     "output_type": "stream",
     "text": [
      "PLAYER 1: \n",
      "PLAYER 2: \n",
      "PLAYER 1: \n",
      "PLAYER 2: \n",
      "PLAYER 1: \n",
      "PLAYER 2: \n",
      "PLAYER 1: \n",
      "PLAYER 2: \n",
      "PLAYER 1: \n",
      " ___\n",
      "|oxo|\n",
      "|xxx|\n",
      "|oox|\n",
      " ---\n"
     ]
    },
    {
     "name": "stderr",
     "output_type": "stream",
     "text": [
      "Score as black: -29:  92%|█████████▏| 92/100 [00:19<00:01,  4.16it/s]"
     ]
    },
    {
     "name": "stdout",
     "output_type": "stream",
     "text": [
      "PLAYER 1: \n",
      "PLAYER 2: \n",
      "PLAYER 1: \n",
      "PLAYER 2: \n",
      "PLAYER 1: \n",
      "PLAYER 2: \n",
      "PLAYER 1: \n",
      "PLAYER 2: \n",
      " ___\n",
      "|ox |\n",
      "|xox|\n",
      "|oxo|\n",
      " ---\n"
     ]
    },
    {
     "name": "stderr",
     "output_type": "stream",
     "text": [
      "Score as black: -28:  93%|█████████▎| 93/100 [00:19<00:01,  4.28it/s]"
     ]
    },
    {
     "name": "stdout",
     "output_type": "stream",
     "text": [
      "PLAYER 1: \n",
      "PLAYER 2: \n",
      "PLAYER 1: \n",
      "PLAYER 2: \n",
      "PLAYER 1: \n",
      "PLAYER 2: \n",
      "PLAYER 1: \n",
      " ___\n",
      "|o x|\n",
      "|x x|\n",
      "|oox|\n",
      " ---\n"
     ]
    },
    {
     "name": "stderr",
     "output_type": "stream",
     "text": [
      "Score as black: -29:  94%|█████████▍| 94/100 [00:19<00:01,  4.52it/s]"
     ]
    },
    {
     "name": "stdout",
     "output_type": "stream",
     "text": [
      "PLAYER 1: \n",
      "PLAYER 2: \n",
      "PLAYER 1: \n",
      "PLAYER 2: \n",
      "PLAYER 1: \n",
      "PLAYER 2: \n",
      "PLAYER 1: \n",
      "PLAYER 2: \n",
      "PLAYER 1: \n",
      " ___\n",
      "|oxo|\n",
      "|xxx|\n",
      "|oox|\n",
      " ---\n"
     ]
    },
    {
     "name": "stderr",
     "output_type": "stream",
     "text": [
      "Score as black: -30:  95%|█████████▌| 95/100 [00:20<00:01,  4.39it/s]"
     ]
    },
    {
     "name": "stdout",
     "output_type": "stream",
     "text": [
      "PLAYER 1: \n",
      "PLAYER 2: \n",
      "PLAYER 1: \n",
      "PLAYER 2: \n",
      "PLAYER 1: \n",
      "PLAYER 2: \n",
      "PLAYER 1: \n",
      "PLAYER 2: \n",
      "PLAYER 1: \n",
      " ___\n",
      "|xxo|\n",
      "|oox|\n",
      "|xox|\n",
      " ---\n"
     ]
    },
    {
     "name": "stderr",
     "output_type": "stream",
     "text": [
      "Score as black: -30:  96%|█████████▌| 96/100 [00:20<00:00,  4.28it/s]"
     ]
    },
    {
     "name": "stdout",
     "output_type": "stream",
     "text": [
      "PLAYER 1: \n",
      "PLAYER 2: \n",
      "PLAYER 1: \n",
      "PLAYER 2: \n",
      "PLAYER 1: \n",
      "PLAYER 2: \n",
      "PLAYER 1: \n",
      " ___\n",
      "|xox|\n",
      "|xoo|\n",
      "|x  |\n",
      " ---\n"
     ]
    },
    {
     "name": "stderr",
     "output_type": "stream",
     "text": [
      "Score as black: -31:  97%|█████████▋| 97/100 [00:20<00:00,  4.57it/s]"
     ]
    },
    {
     "name": "stdout",
     "output_type": "stream",
     "text": [
      "PLAYER 1: \n",
      "PLAYER 2: \n",
      "PLAYER 1: \n",
      "PLAYER 2: \n",
      "PLAYER 1: \n",
      "PLAYER 2: \n",
      "PLAYER 1: \n",
      "PLAYER 2: \n",
      "PLAYER 1: \n",
      " ___\n",
      "|oxo|\n",
      "|xxx|\n",
      "|xoo|\n",
      " ---\n"
     ]
    },
    {
     "name": "stderr",
     "output_type": "stream",
     "text": [
      "Score as black: -32:  98%|█████████▊| 98/100 [00:20<00:00,  4.42it/s]"
     ]
    },
    {
     "name": "stdout",
     "output_type": "stream",
     "text": [
      "PLAYER 1: \n",
      "PLAYER 2: \n",
      "PLAYER 1: \n",
      "PLAYER 2: \n",
      "PLAYER 1: \n",
      "PLAYER 2: \n",
      "PLAYER 1: \n",
      "PLAYER 2: \n",
      "PLAYER 1: \n",
      " ___\n",
      "|xoo|\n",
      "|xxx|\n",
      "|oxo|\n",
      " ---\n"
     ]
    },
    {
     "name": "stderr",
     "output_type": "stream",
     "text": [
      "Score as black: -33:  99%|█████████▉| 99/100 [00:21<00:00,  4.33it/s]"
     ]
    },
    {
     "name": "stdout",
     "output_type": "stream",
     "text": [
      "PLAYER 1: \n",
      "PLAYER 2: \n",
      "PLAYER 1: \n",
      "PLAYER 2: \n",
      "PLAYER 1: \n",
      "PLAYER 2: \n",
      "PLAYER 1: \n",
      "PLAYER 2: \n",
      "PLAYER 1: \n",
      " ___\n",
      "|xxo|\n",
      "|oox|\n",
      "|xxo|\n",
      " ---\n"
     ]
    },
    {
     "name": "stderr",
     "output_type": "stream",
     "text": [
      "Score as black: -33: 100%|██████████| 100/100 [00:21<00:00,  4.69it/s]"
     ]
    },
    {
     "name": "stdout",
     "output_type": "stream",
     "text": [
      "Final Scores = W: 11 / B: -33 over 100 games\n"
     ]
    },
    {
     "name": "stderr",
     "output_type": "stream",
     "text": [
      "\n"
     ]
    }
   ],
   "source": [
    "#MuZ vs MuZ\n",
    "np.random.seed(my_seed)\n",
    "\n",
    "net1 = Network(TicTacToe.num_observations)\n",
    "net1.load('models/ttt_candidate1.ptc')\n",
    "\n",
    "net2 = Network(TicTacToe.num_observations)\n",
    "net2.load('models/ttt_candidate1.ptc')\n",
    "\n",
    "with torch.no_grad():\n",
    "    player = Tree(net1, game)\n",
    "    random = Tree(net2, game)\n",
    "\n",
    "with torch.no_grad():\n",
    "    score_white_c = 0\n",
    "    for g in (t:=trange(nb_games)):\n",
    "        score_white_c += play_a_game(player, random)\n",
    "        t.set_description(f\"Score as white: {score_white_c}\")\n",
    "\n",
    "with torch.no_grad():\n",
    "    score_black_c = 0\n",
    "    for g in (t:=trange(nb_games)):\n",
    "        score_black_c -= play_a_game(random, player)\n",
    "        t.set_description(f\"Score as black: {score_black_c}\")\n",
    "\n",
    "print(f'Final Scores = W: {score_white_c} / B: {score_black_c} over {nb_games} games')"
   ]
  },
  {
   "cell_type": "code",
   "execution_count": 10,
   "metadata": {},
   "outputs": [
    {
     "name": "stdout",
     "output_type": "stream",
     "text": [
      "Score comparison over 100 games \n",
      " MuZero vs Random = W: 17 & B: -38 \n",
      " Random vs Random = W: 49 & B: -40 \n",
      " MuZero vs MuZero = W: 11 & B: -33\n"
     ]
    }
   ],
   "source": [
    "print(f\"Score comparison over {nb_games} games \\n MuZero vs Random = W: {score_white_a} & B: {score_black_a} \\n Random vs Random = W: {score_white_b} & B: {score_black_b} \\n MuZero vs MuZero = W: {score_white_c} & B: {score_black_c}\")"
   ]
  },
  {
   "cell_type": "code",
   "execution_count": null,
   "metadata": {},
   "outputs": [],
   "source": []
  }
 ],
 "metadata": {
  "kernelspec": {
   "display_name": "Python 3",
   "language": "python",
   "name": "python3"
  },
  "language_info": {
   "codemirror_mode": {
    "name": "ipython",
    "version": 3
   },
   "file_extension": ".py",
   "mimetype": "text/x-python",
   "name": "python",
   "nbconvert_exporter": "python",
   "pygments_lexer": "ipython3",
   "version": "3.8.3"
  }
 },
 "nbformat": 4,
 "nbformat_minor": 4
}
